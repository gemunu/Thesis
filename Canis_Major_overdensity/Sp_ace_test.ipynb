{
 "cells": [
  {
   "cell_type": "code",
   "execution_count": 1,
   "metadata": {
    "collapsed": false
   },
   "outputs": [
    {
     "name": "stdout",
     "output_type": "stream",
     "text": [
      "Sp_ace_download.py             paras.dat                      paras_full_v2.dat\r\n",
      "Sp_ace_test.ipynb              paras_bright_abdon.dat         paras_indo_us.dat\r\n",
      "Untitled.ipynb                 paras_faint.dat                paras_indo_us_abdon.dat\r\n",
      "canis_full.dat                 paras_faint1_abdon.dat         paras_indo_us_nosmo_abdon.dat\r\n",
      "indo_us_test.ipynb             paras_faint2_abdon.dat         paras_paka.dat\r\n",
      "\u001b[34miso\u001b[m\u001b[m/                           paras_faint_2.dat              \u001b[34mspecs\u001b[m\u001b[m/\r\n",
      "output.png                     paras_faint_copy.dat           \u001b[34mspecs1\u001b[m\u001b[m/\r\n",
      "paka                           paras_full.dat\r\n"
     ]
    }
   ],
   "source": [
    "ls"
   ]
  },
  {
   "cell_type": "code",
   "execution_count": 2,
   "metadata": {
    "collapsed": true
   },
   "outputs": [],
   "source": [
    "import pandas as pd"
   ]
  },
  {
   "cell_type": "code",
   "execution_count": 3,
   "metadata": {
    "collapsed": true
   },
   "outputs": [],
   "source": [
    "faint1=pd.read_csv('paras_faint.dat',header=None,sep=' ')\n",
    "faint1_abd=pd.read_csv('paras_faint1_abdon.dat',header=None,sep=' ')\n",
    "indo_sm=pd.read_csv('paras_indo_us_abdon.dat',header=None,sep=' ')\n",
    "indo_nosmo=pd.read_csv('paras_indo_us_nosmo_abdon.dat',header=None,sep=' ')\n",
    "faint2=pd.read_csv('paras_faint_2.dat',header=None,sep=' ')\n",
    "faint2_abd=pd.read_csv('paras_faint2_abdon.dat',header=None,sep=' ')\n",
    "bright1=pd.read_csv('paras.dat',header=None,sep=' ')\n",
    "bright_abd=pd.read_csv('paras_bright_abdon.dat',header=None,sep=' ')"
   ]
  },
  {
   "cell_type": "code",
   "execution_count": 4,
   "metadata": {
    "collapsed": false
   },
   "outputs": [],
   "source": [
    "indo_sm[0] = indo_sm[0].map(lambda x: x.rstrip('.s.dat'))\n",
    "indo_nosmo[0] = indo_nosmo[0].map(lambda x: x.rstrip('.c.dat'))"
   ]
  },
  {
   "cell_type": "code",
   "execution_count": 5,
   "metadata": {
    "collapsed": false
   },
   "outputs": [
    {
     "data": {
      "text/html": [
       "<div>\n",
       "<table border=\"1\" class=\"dataframe\">\n",
       "  <thead>\n",
       "    <tr style=\"text-align: right;\">\n",
       "      <th></th>\n",
       "      <th>0</th>\n",
       "      <th>1</th>\n",
       "      <th>2</th>\n",
       "      <th>3</th>\n",
       "      <th>4</th>\n",
       "      <th>5</th>\n",
       "      <th>6</th>\n",
       "      <th>7</th>\n",
       "      <th>8</th>\n",
       "      <th>9</th>\n",
       "      <th>10</th>\n",
       "      <th>11</th>\n",
       "      <th>12</th>\n",
       "      <th>13</th>\n",
       "    </tr>\n",
       "  </thead>\n",
       "  <tbody>\n",
       "    <tr>\n",
       "      <th>0</th>\n",
       "      <td>vnSt01812.dft</td>\n",
       "      <td>3857</td>\n",
       "      <td>3779.0</td>\n",
       "      <td>3935</td>\n",
       "      <td>3.93</td>\n",
       "      <td>3.79</td>\n",
       "      <td>4.04</td>\n",
       "      <td>-0.52</td>\n",
       "      <td>-0.55</td>\n",
       "      <td>-0.48</td>\n",
       "      <td>-6.4</td>\n",
       "      <td>5.21</td>\n",
       "      <td>50.2</td>\n",
       "      <td>1.40</td>\n",
       "    </tr>\n",
       "    <tr>\n",
       "      <th>1</th>\n",
       "      <td>vnSt01925.dft</td>\n",
       "      <td>4784</td>\n",
       "      <td>4671.0</td>\n",
       "      <td>4925</td>\n",
       "      <td>2.99</td>\n",
       "      <td>2.60</td>\n",
       "      <td>3.19</td>\n",
       "      <td>-0.89</td>\n",
       "      <td>-0.99</td>\n",
       "      <td>-0.79</td>\n",
       "      <td>-26.7</td>\n",
       "      <td>4.36</td>\n",
       "      <td>55.5</td>\n",
       "      <td>2.01</td>\n",
       "    </tr>\n",
       "    <tr>\n",
       "      <th>2</th>\n",
       "      <td>vnSt04173.dft</td>\n",
       "      <td>4053</td>\n",
       "      <td>3914.0</td>\n",
       "      <td>4180</td>\n",
       "      <td>3.83</td>\n",
       "      <td>3.57</td>\n",
       "      <td>4.08</td>\n",
       "      <td>-0.65</td>\n",
       "      <td>-0.74</td>\n",
       "      <td>-0.55</td>\n",
       "      <td>-68.1</td>\n",
       "      <td>5.07</td>\n",
       "      <td>36.1</td>\n",
       "      <td>0.78</td>\n",
       "    </tr>\n",
       "    <tr>\n",
       "      <th>3</th>\n",
       "      <td>vnSt03225.dft</td>\n",
       "      <td>4652</td>\n",
       "      <td>4584.0</td>\n",
       "      <td>4747</td>\n",
       "      <td>4.26</td>\n",
       "      <td>4.17</td>\n",
       "      <td>4.52</td>\n",
       "      <td>0.26</td>\n",
       "      <td>0.21</td>\n",
       "      <td>0.28</td>\n",
       "      <td>-48.4</td>\n",
       "      <td>5.54</td>\n",
       "      <td>59.1</td>\n",
       "      <td>1.38</td>\n",
       "    </tr>\n",
       "    <tr>\n",
       "      <th>4</th>\n",
       "      <td>vnSt01985.dft</td>\n",
       "      <td>4758</td>\n",
       "      <td>4636.0</td>\n",
       "      <td>4933</td>\n",
       "      <td>2.96</td>\n",
       "      <td>2.59</td>\n",
       "      <td>3.24</td>\n",
       "      <td>-0.47</td>\n",
       "      <td>-0.60</td>\n",
       "      <td>-0.32</td>\n",
       "      <td>-51.2</td>\n",
       "      <td>5.08</td>\n",
       "      <td>65.1</td>\n",
       "      <td>0.49</td>\n",
       "    </tr>\n",
       "  </tbody>\n",
       "</table>\n",
       "</div>"
      ],
      "text/plain": [
       "              0     1       2     3     4     5     6     7     8     9   \\\n",
       "0  vnSt01812.dft  3857  3779.0  3935  3.93  3.79  4.04 -0.52 -0.55 -0.48   \n",
       "1  vnSt01925.dft  4784  4671.0  4925  2.99  2.60  3.19 -0.89 -0.99 -0.79   \n",
       "2  vnSt04173.dft  4053  3914.0  4180  3.83  3.57  4.08 -0.65 -0.74 -0.55   \n",
       "3  vnSt03225.dft  4652  4584.0  4747  4.26  4.17  4.52  0.26  0.21  0.28   \n",
       "4  vnSt01985.dft  4758  4636.0  4933  2.96  2.59  3.24 -0.47 -0.60 -0.32   \n",
       "\n",
       "     10    11    12    13  \n",
       "0  -6.4  5.21  50.2  1.40  \n",
       "1 -26.7  4.36  55.5  2.01  \n",
       "2 -68.1  5.07  36.1  0.78  \n",
       "3 -48.4  5.54  59.1  1.38  \n",
       "4 -51.2  5.08  65.1  0.49  "
      ]
     },
     "execution_count": 5,
     "metadata": {},
     "output_type": "execute_result"
    }
   ],
   "source": [
    "faint2_abd.head()"
   ]
  },
  {
   "cell_type": "code",
   "execution_count": 6,
   "metadata": {
    "collapsed": false
   },
   "outputs": [],
   "source": [
    "faint=pd.merge(faint1,faint1_abd,left_on=[0],right_on=[0])\n",
    "indo=pd.merge(indo_sm,indo_nosmo,left_on=[0],right_on=[0])\n",
    "faint_2=pd.merge(faint2,faint2_abd,left_on=[0],right_on=[0])\n",
    "bright=pd.merge(bright1,bright_abd,left_on=[0],right_on=[0])"
   ]
  },
  {
   "cell_type": "code",
   "execution_count": 7,
   "metadata": {
    "collapsed": false
   },
   "outputs": [
    {
     "data": {
      "text/html": [
       "<div>\n",
       "<table border=\"1\" class=\"dataframe\">\n",
       "  <thead>\n",
       "    <tr style=\"text-align: right;\">\n",
       "      <th></th>\n",
       "      <th>0</th>\n",
       "      <th>1_x</th>\n",
       "      <th>2_x</th>\n",
       "      <th>3_x</th>\n",
       "      <th>4_x</th>\n",
       "      <th>5_x</th>\n",
       "      <th>6_x</th>\n",
       "      <th>7_x</th>\n",
       "      <th>8_x</th>\n",
       "      <th>9_x</th>\n",
       "      <th>...</th>\n",
       "      <th>4_y</th>\n",
       "      <th>5_y</th>\n",
       "      <th>6_y</th>\n",
       "      <th>7_y</th>\n",
       "      <th>8_y</th>\n",
       "      <th>9_y</th>\n",
       "      <th>10_y</th>\n",
       "      <th>11_y</th>\n",
       "      <th>12_y</th>\n",
       "      <th>13_y</th>\n",
       "    </tr>\n",
       "  </thead>\n",
       "  <tbody>\n",
       "    <tr>\n",
       "      <th>0</th>\n",
       "      <td>vnSt00755.dft</td>\n",
       "      <td>5345</td>\n",
       "      <td>5259</td>\n",
       "      <td>5426</td>\n",
       "      <td>3.11</td>\n",
       "      <td>2.96</td>\n",
       "      <td>3.41</td>\n",
       "      <td>-0.52</td>\n",
       "      <td>-0.59</td>\n",
       "      <td>-0.41</td>\n",
       "      <td>...</td>\n",
       "      <td>3.22</td>\n",
       "      <td>3.05</td>\n",
       "      <td>3.48</td>\n",
       "      <td>-0.44</td>\n",
       "      <td>-0.48</td>\n",
       "      <td>-0.34</td>\n",
       "      <td>-29.4</td>\n",
       "      <td>4.91</td>\n",
       "      <td>101.0</td>\n",
       "      <td>1.27</td>\n",
       "    </tr>\n",
       "    <tr>\n",
       "      <th>1</th>\n",
       "      <td>vnSt01301.dft</td>\n",
       "      <td>5091</td>\n",
       "      <td>4865</td>\n",
       "      <td>5196</td>\n",
       "      <td>3.30</td>\n",
       "      <td>2.88</td>\n",
       "      <td>3.6</td>\n",
       "      <td>-0.57</td>\n",
       "      <td>-0.77</td>\n",
       "      <td>-0.45</td>\n",
       "      <td>...</td>\n",
       "      <td>3.23</td>\n",
       "      <td>2.88</td>\n",
       "      <td>3.59</td>\n",
       "      <td>-0.57</td>\n",
       "      <td>-0.72</td>\n",
       "      <td>-0.41</td>\n",
       "      <td>-22.3</td>\n",
       "      <td>5.50</td>\n",
       "      <td>63.1</td>\n",
       "      <td>0.88</td>\n",
       "    </tr>\n",
       "    <tr>\n",
       "      <th>2</th>\n",
       "      <td>vnSt00673.dft</td>\n",
       "      <td>4599</td>\n",
       "      <td>4545</td>\n",
       "      <td>4930</td>\n",
       "      <td>2.90</td>\n",
       "      <td>2.35</td>\n",
       "      <td>3.45</td>\n",
       "      <td>-0.33</td>\n",
       "      <td>-0.43</td>\n",
       "      <td>-0.01</td>\n",
       "      <td>...</td>\n",
       "      <td>2.92</td>\n",
       "      <td>2.51</td>\n",
       "      <td>3.27</td>\n",
       "      <td>-0.21</td>\n",
       "      <td>-0.29</td>\n",
       "      <td>-0.03</td>\n",
       "      <td>-40.0</td>\n",
       "      <td>5.45</td>\n",
       "      <td>72.5</td>\n",
       "      <td>0.47</td>\n",
       "    </tr>\n",
       "    <tr>\n",
       "      <th>3</th>\n",
       "      <td>vnSt00635.dft</td>\n",
       "      <td>4486</td>\n",
       "      <td>4469</td>\n",
       "      <td>4586</td>\n",
       "      <td>2.88</td>\n",
       "      <td>2.75</td>\n",
       "      <td>3.13</td>\n",
       "      <td>-0.05</td>\n",
       "      <td>-0.08</td>\n",
       "      <td>0.03</td>\n",
       "      <td>...</td>\n",
       "      <td>2.91</td>\n",
       "      <td>2.79</td>\n",
       "      <td>3.13</td>\n",
       "      <td>0.13</td>\n",
       "      <td>0.10</td>\n",
       "      <td>0.22</td>\n",
       "      <td>-63.7</td>\n",
       "      <td>5.35</td>\n",
       "      <td>73.2</td>\n",
       "      <td>1.30</td>\n",
       "    </tr>\n",
       "    <tr>\n",
       "      <th>4</th>\n",
       "      <td>vnSt01105.dft</td>\n",
       "      <td>4851</td>\n",
       "      <td>4677</td>\n",
       "      <td>5081</td>\n",
       "      <td>3.10</td>\n",
       "      <td>2.65</td>\n",
       "      <td>3.46</td>\n",
       "      <td>-0.93</td>\n",
       "      <td>-1.09</td>\n",
       "      <td>-0.75</td>\n",
       "      <td>...</td>\n",
       "      <td>3.08</td>\n",
       "      <td>2.63</td>\n",
       "      <td>3.42</td>\n",
       "      <td>-0.93</td>\n",
       "      <td>-1.07</td>\n",
       "      <td>-0.75</td>\n",
       "      <td>-12.6</td>\n",
       "      <td>6.07</td>\n",
       "      <td>76.9</td>\n",
       "      <td>0.86</td>\n",
       "    </tr>\n",
       "  </tbody>\n",
       "</table>\n",
       "<p>5 rows × 27 columns</p>\n",
       "</div>"
      ],
      "text/plain": [
       "               0   1_x   2_x   3_x   4_x   5_x   6_x   7_x   8_x   9_x  ...   \\\n",
       "0  vnSt00755.dft  5345  5259  5426  3.11  2.96  3.41 -0.52 -0.59 -0.41  ...    \n",
       "1  vnSt01301.dft  5091  4865  5196  3.30  2.88   3.6 -0.57 -0.77 -0.45  ...    \n",
       "2  vnSt00673.dft  4599  4545  4930  2.90  2.35  3.45 -0.33 -0.43 -0.01  ...    \n",
       "3  vnSt00635.dft  4486  4469  4586  2.88  2.75  3.13 -0.05 -0.08  0.03  ...    \n",
       "4  vnSt01105.dft  4851  4677  5081  3.10  2.65  3.46 -0.93 -1.09 -0.75  ...    \n",
       "\n",
       "    4_y   5_y   6_y   7_y   8_y    9_y  10_y  11_y   12_y  13_y  \n",
       "0  3.22  3.05  3.48 -0.44 -0.48  -0.34 -29.4  4.91  101.0  1.27  \n",
       "1  3.23  2.88  3.59 -0.57 -0.72  -0.41 -22.3  5.50   63.1  0.88  \n",
       "2  2.92  2.51  3.27 -0.21 -0.29  -0.03 -40.0  5.45   72.5  0.47  \n",
       "3  2.91  2.79  3.13  0.13  0.10   0.22 -63.7  5.35   73.2  1.30  \n",
       "4  3.08  2.63  3.42 -0.93 -1.07  -0.75 -12.6  6.07   76.9  0.86  \n",
       "\n",
       "[5 rows x 27 columns]"
      ]
     },
     "execution_count": 7,
     "metadata": {},
     "output_type": "execute_result"
    }
   ],
   "source": [
    "bright.head()"
   ]
  },
  {
   "cell_type": "code",
   "execution_count": 8,
   "metadata": {
    "collapsed": true
   },
   "outputs": [],
   "source": [
    "import seaborn as sns"
   ]
  },
  {
   "cell_type": "code",
   "execution_count": 9,
   "metadata": {
    "collapsed": true
   },
   "outputs": [],
   "source": [
    "%matplotlib inline"
   ]
  },
  {
   "cell_type": "code",
   "execution_count": 10,
   "metadata": {
    "collapsed": true
   },
   "outputs": [],
   "source": [
    "import matplotlib.pyplot as plt"
   ]
  },
  {
   "cell_type": "markdown",
   "metadata": {},
   "source": [
    "# Following plots comapare the old parameter values(without 'ABD_loop' ,in red) to new values (with 'ABD_loop' on, in blue). Order is bright,faint1 and faint2"
   ]
  },
  {
   "cell_type": "markdown",
   "metadata": {},
   "source": [
    "bright sample"
   ]
  },
  {
   "cell_type": "code",
   "execution_count": 11,
   "metadata": {
    "collapsed": false,
    "scrolled": true
   },
   "outputs": [
    {
     "data": {
      "text/plain": [
       "<seaborn.axisgrid.JointGrid at 0x10b18c128>"
      ]
     },
     "execution_count": 11,
     "metadata": {},
     "output_type": "execute_result"
    },
    {
     "data": {
      "image/png": "[encoded data removed]",
      "text/plain": [
       "<matplotlib.figure.Figure at 0x10b18c160>"
      ]
     },
     "metadata": {},
     "output_type": "display_data"
    }
   ],
   "source": [
    "graph = sns.jointplot(bright['1_x'],bright['4_x'], color='r',ylim=(5.5,1.0),xlim=(6500,3500),stat_func=None,size=8)\n",
    "graph.x=bright['1_y']\n",
    "graph.y=bright['4_y']\n",
    "graph.set_axis_labels(xlabel='Temp',ylabel='log g')\n",
    "graph.plot_joint(plt.scatter)"
   ]
  },
  {
   "cell_type": "code",
   "execution_count": 12,
   "metadata": {
    "collapsed": false
   },
   "outputs": [
    {
     "data": {
      "text/plain": [
       "<seaborn.axisgrid.JointGrid at 0x10b18ca58>"
      ]
     },
     "execution_count": 12,
     "metadata": {},
     "output_type": "execute_result"
    },
    {
     "data": {
      "image/png": "[encoded data removed]",
      "text/plain": [
       "<matplotlib.figure.Figure at 0x10b54f2e8>"
      ]
     },
     "metadata": {},
     "output_type": "display_data"
    }
   ],
   "source": [
    "graph = sns.jointplot(faint['1_x'],faint['4_x'], color='r',ylim=(5.5,1.5),xlim=(6500,3000),stat_func=None,size=8)\n",
    "graph.x=faint['1_y']\n",
    "graph.y=faint['4_y']\n",
    "graph.set_axis_labels(xlabel='Temp',ylabel='log g')\n",
    "graph.plot_joint(plt.scatter)"
   ]
  },
  {
   "cell_type": "code",
   "execution_count": 13,
   "metadata": {
    "collapsed": false
   },
   "outputs": [
    {
     "data": {
      "text/plain": [
       "<seaborn.axisgrid.JointGrid at 0x10b786160>"
      ]
     },
     "execution_count": 13,
     "metadata": {},
     "output_type": "execute_result"
    },
    {
     "data": {
      "image/png": "[encoded data removed]",
      "text/plain": [
       "<matplotlib.figure.Figure at 0x10b783d68>"
      ]
     },
     "metadata": {},
     "output_type": "display_data"
    }
   ],
   "source": [
    "graph = sns.jointplot(faint_2['1_x'],faint_2['4_x'], color='r',ylim=(5.5,1.5),xlim=(6500,3000),stat_func=None,size=8)\n",
    "graph.x=faint_2['1_y']\n",
    "graph.y=faint_2['4_y']\n",
    "graph.set_axis_labels(xlabel='Temp',ylabel='log g')\n",
    "graph.plot_joint(plt.scatter)"
   ]
  },
  {
   "cell_type": "markdown",
   "metadata": {},
   "source": [
    "# This plot comapre the two resolutions for INDO-US spectra.Blue is high resolution."
   ]
  },
  {
   "cell_type": "code",
   "execution_count": 14,
   "metadata": {
    "collapsed": false
   },
   "outputs": [
    {
     "data": {
      "text/plain": [
       "<seaborn.axisgrid.JointGrid at 0x10b323ac8>"
      ]
     },
     "execution_count": 14,
     "metadata": {},
     "output_type": "execute_result"
    },
    {
     "data": {
      "image/png": "[encoded data removed]",
      "text/plain": [
       "<matplotlib.figure.Figure at 0x10bb9b0b8>"
      ]
     },
     "metadata": {},
     "output_type": "display_data"
    }
   ],
   "source": [
    "graph = sns.jointplot(indo['1_x'],indo['4_x'], color='r',ylim=(5.5,1.5),xlim=(7000,4000),stat_func=None,size=8)\n",
    "graph.x=indo['1_y']\n",
    "graph.y=indo['4_y']\n",
    "graph.set_axis_labels(xlabel='Temp',ylabel='log g')\n",
    "graph.plot_joint(plt.scatter)"
   ]
  },
  {
   "cell_type": "code",
   "execution_count": 15,
   "metadata": {
    "collapsed": true
   },
   "outputs": [],
   "source": [
    "full=faint1_abd.append([faint2_abd,bright_abd],ignore_index=True)"
   ]
  },
  {
   "cell_type": "code",
   "execution_count": 16,
   "metadata": {
    "collapsed": false
   },
   "outputs": [
    {
     "data": {
      "text/plain": [
       "<seaborn.axisgrid.JointGrid at 0x10b181860>"
      ]
     },
     "execution_count": 16,
     "metadata": {},
     "output_type": "execute_result"
    },
    {
     "data": {
      "image/png": "[encoded data removed]",
      "text/plain": [
       "<matplotlib.figure.Figure at 0x10b181668>"
      ]
     },
     "metadata": {},
     "output_type": "display_data"
    }
   ],
   "source": [
    "sns.jointplot(full[1],full[4], color='r',ylim=(5.5,1.5),xlim=(7000,4000),stat_func=None,size=8)"
   ]
  },
  {
   "cell_type": "code",
   "execution_count": 17,
   "metadata": {
    "collapsed": true
   },
   "outputs": [],
   "source": [
    "import numpy as np"
   ]
  },
  {
   "cell_type": "code",
   "execution_count": 18,
   "metadata": {
    "collapsed": false
   },
   "outputs": [],
   "source": [
    "np.savetxt('canis_full.dat',full,fmt='%s')"
   ]
  },
  {
   "cell_type": "code",
   "execution_count": 19,
   "metadata": {
    "collapsed": true
   },
   "outputs": [],
   "source": [
    "import os"
   ]
  },
  {
   "cell_type": "code",
   "execution_count": 20,
   "metadata": {
    "collapsed": false
   },
   "outputs": [],
   "source": [
    "fold= os.listdir(\"/Users/gemunu/Research/canis13/isochrones/all/\")\n",
    "puka=[]\n",
    "for eachfile in fold:\n",
    "    if not eachfile.startswith('.') and os.path.isfile(os.path.join(\"/Users/gemunu/Research/canis13/isochrones/all/\", eachfile)):\n",
    "        new_rsr,modelw,modelflux,modelogw = [],[],[],[]\n",
    "        with open(\"/Users/gemunu/Research/canis13/isochrones/all/\"+eachfile, 'r') as Src1:\n",
    "            for line in Src1:\n",
    "                c=line.split()\n",
    "                new_rsr.append(c[0])\n",
    "                modelw.append(c[1])\n",
    "        puka.append((eachfile,new_rsr,modelw))\n",
    "        "
   ]
  },
  {
   "cell_type": "code",
   "execution_count": 21,
   "metadata": {
    "collapsed": false
   },
   "outputs": [
    {
     "data": {
      "text/plain": [
       "<matplotlib.axes._subplots.AxesSubplot at 0x10c662be0>"
      ]
     },
     "execution_count": 21,
     "metadata": {},
     "output_type": "execute_result"
    },
    {
     "data": {
      "image/png": "[encoded data removed]",
      "text/plain": [
       "<matplotlib.figure.Figure at 0x10c6d3e48>"
      ]
     },
     "metadata": {},
     "output_type": "display_data"
    }
   ],
   "source": [
    "sns.distplot(pd.Series(puka[1][2]).astype(float))"
   ]
  },
  {
   "cell_type": "code",
   "execution_count": 22,
   "metadata": {
    "collapsed": false
   },
   "outputs": [
    {
     "name": "stderr",
     "output_type": "stream",
     "text": [
      "/Library/Frameworks/Python.framework/Versions/3.5/lib/python3.5/site-packages/ipykernel/__main__.py:1: FutureWarning: convert_objects is deprecated.  Use the data-type specific converters pd.to_datetime, pd.to_timedelta and pd.to_numeric.\n",
      "  if __name__ == '__main__':\n"
     ]
    }
   ],
   "source": [
    "full=full.convert_objects(convert_numeric=True)"
   ]
  },
  {
   "cell_type": "code",
   "execution_count": 23,
   "metadata": {
    "collapsed": false
   },
   "outputs": [],
   "source": [
    "flg=full.loc[(full[4] < 3.5)]\n",
    "fhg=full.loc[(full[4] > 3.5)]\n"
   ]
  },
  {
   "cell_type": "code",
   "execution_count": 24,
   "metadata": {
    "collapsed": true
   },
   "outputs": [],
   "source": [
    "fold= os.listdir(\"./iso/m026_v2/\")\n",
    "paka179=[]\n",
    "for eachfile in fold:\n",
    "    if not eachfile.startswith('.') and os.path.isfile(os.path.join(\"./iso/m026_v2/\", eachfile)):\n",
    "        new_rsr,modelw,modelflux,modelogw = [],[],[],[]\n",
    "        with open(\"./iso/m026_v2/\"+eachfile, 'r') as Src1:\n",
    "            for line in Src1:\n",
    "                c=line.split()\n",
    "                new_rsr.append(float(c[4]))\n",
    "                modelw.append(10 ** (float(c[3])))\n",
    "        paka179.append((eachfile,new_rsr,modelw))\n",
    "        "
   ]
  },
  {
   "cell_type": "code",
   "execution_count": 42,
   "metadata": {
    "collapsed": true
   },
   "outputs": [],
   "source": [
    "fold= os.listdir(\"./iso/m006_v2/\")\n",
    "paka006=[]\n",
    "for eachfile in fold:\n",
    "    if not eachfile.startswith('.') and os.path.isfile(os.path.join(\"./iso/m006_v2/\", eachfile)):\n",
    "        new_rsr,modelw,modelflux,modelogw = [],[],[],[]\n",
    "        with open(\"./iso/m006_v2/\"+eachfile, 'r') as Src1:\n",
    "            for line in Src1:\n",
    "                c=line.split()\n",
    "                new_rsr.append(float(c[4]))\n",
    "                modelw.append(10 ** (float(c[3])))\n",
    "        paka006.append((eachfile,new_rsr,modelw))\n",
    "        "
   ]
  },
  {
   "cell_type": "code",
   "execution_count": 26,
   "metadata": {
    "collapsed": true
   },
   "outputs": [],
   "source": [
    "coo=[]\n",
    "with open('../coolstars', 'r') as f:\n",
    "    for line in f:\n",
    "        c=line.split()\n",
    "        coo.append(c)\n",
    "coo=pd.DataFrame(coo)"
   ]
  },
  {
   "cell_type": "code",
   "execution_count": 27,
   "metadata": {
    "collapsed": true
   },
   "outputs": [],
   "source": [
    "indo=pd.read_csv('paras_indo_us_nosmo_abdon.dat',header=None,sep=' ')"
   ]
  },
  {
   "cell_type": "code",
   "execution_count": 56,
   "metadata": {
    "collapsed": false,
    "scrolled": false
   },
   "outputs": [
    {
     "data": {
      "text/plain": [
       "<seaborn.axisgrid.JointGrid at 0x115d37978>"
      ]
     },
     "execution_count": 56,
     "metadata": {},
     "output_type": "execute_result"
    },
    {
     "data": {
      "image/png": "[encoded data removed]",
      "text/plain": [
       "<matplotlib.figure.Figure at 0x115d37128>"
      ]
     },
     "metadata": {},
     "output_type": "display_data"
    }
   ],
   "source": [
    "nn=sns.jointplot(fhg[1],fhg[4],color='r',ylim=(5.5,1.5),xlim=(6000,4000),size=7,zorder=1000,)\n",
    "nn.xlabel='sdd'\n",
    "# nn.x=pd.Series(paka[25][2]).astype(float)\n",
    "# nn.y=pd.Series(paka[25][1]).astype(float)\n",
    "# nn.plot_joint(plt.scatter,)\n",
    "# nn.x=pd.Series(paka[9][2]).astype(float)\n",
    "# nn.y=pd.Series(paka[9][1]).astype(float)\n",
    "# nn.plot_joint(plt.scatter)\n",
    "#nn.x=pd.Series(paka66[4][2]).astype(float)\n",
    "#nn.y=pd.Series(paka66[4][1]).astype(float)\n",
    "#nn.plot_joint(plt.scatter)\n",
    "# for i in range(len(paka179)):\n",
    "#     nn.x=pd.Series(paka179[i][2]).astype(float)\n",
    "#     nn.y=pd.Series(paka179[i][1]).astype(float)\n",
    "#     nn.plot_joint(plt.scatter,color='w') \n",
    "for i in range(len(paka006)):\n",
    "    nn.x=pd.Series(paka006[i][2]).astype(float)\n",
    "    nn.y=pd.Series(paka006[i][1]).astype(float)\n",
    "    nn.plot_joint(plt.scatter,color='grey')\n",
    "# nn.x=pd.Series(indo[1]).astype(float)\n",
    "# nn.y=pd.Series(indo[5]).astype(float)\n",
    "# nn.plot_joint(plt.scatter)\n",
    "# nn.x=pd.Series(coo[5]).astype(float)\n",
    "# nn.y=pd.Series(coo[6]).astype(float)\n",
    "# nn.plot_joint(plt.scatter,color='y')\n",
    "nn.x=flg[1]-107\n",
    "nn.y=flg[4]\n",
    "nn.plot_joint(plt.scatter,color='r')"
   ]
  },
  {
   "cell_type": "code",
   "execution_count": 29,
   "metadata": {
    "collapsed": false
   },
   "outputs": [
    {
     "data": {
      "text/html": [
       "<div>\n",
       "<table border=\"1\" class=\"dataframe\">\n",
       "  <thead>\n",
       "    <tr style=\"text-align: right;\">\n",
       "      <th></th>\n",
       "      <th>0</th>\n",
       "      <th>1</th>\n",
       "      <th>2</th>\n",
       "      <th>3</th>\n",
       "      <th>4</th>\n",
       "      <th>5</th>\n",
       "      <th>6</th>\n",
       "      <th>7</th>\n",
       "      <th>8</th>\n",
       "      <th>9</th>\n",
       "      <th>10</th>\n",
       "      <th>11</th>\n",
       "      <th>12</th>\n",
       "      <th>13</th>\n",
       "    </tr>\n",
       "  </thead>\n",
       "  <tbody>\n",
       "    <tr>\n",
       "      <th>0</th>\n",
       "      <td>vnSt02801.dft</td>\n",
       "      <td>4916</td>\n",
       "      <td>4815</td>\n",
       "      <td>5036</td>\n",
       "      <td>3.37</td>\n",
       "      <td>3.19</td>\n",
       "      <td>3.56</td>\n",
       "      <td>-0.62</td>\n",
       "      <td>-0.71</td>\n",
       "      <td>-0.54</td>\n",
       "      <td>-33.4</td>\n",
       "      <td>4.90</td>\n",
       "      <td>77.3</td>\n",
       "      <td>1.36</td>\n",
       "    </tr>\n",
       "    <tr>\n",
       "      <th>1</th>\n",
       "      <td>vnSt01928.dft</td>\n",
       "      <td>4661</td>\n",
       "      <td>4594</td>\n",
       "      <td>4816</td>\n",
       "      <td>2.82</td>\n",
       "      <td>2.49</td>\n",
       "      <td>3.19</td>\n",
       "      <td>-0.38</td>\n",
       "      <td>-0.45</td>\n",
       "      <td>-0.21</td>\n",
       "      <td>-17.4</td>\n",
       "      <td>5.59</td>\n",
       "      <td>70.4</td>\n",
       "      <td>0.63</td>\n",
       "    </tr>\n",
       "    <tr>\n",
       "      <th>2</th>\n",
       "      <td>vnSt02231.dft</td>\n",
       "      <td>4398</td>\n",
       "      <td>4316</td>\n",
       "      <td>4507</td>\n",
       "      <td>4.07</td>\n",
       "      <td>3.86</td>\n",
       "      <td>4.33</td>\n",
       "      <td>-0.07</td>\n",
       "      <td>-0.14</td>\n",
       "      <td>-0.01</td>\n",
       "      <td>13.8</td>\n",
       "      <td>5.13</td>\n",
       "      <td>53.3</td>\n",
       "      <td>0.48</td>\n",
       "    </tr>\n",
       "    <tr>\n",
       "      <th>3</th>\n",
       "      <td>vnSt02796.dft</td>\n",
       "      <td>4194</td>\n",
       "      <td>4097</td>\n",
       "      <td>4307</td>\n",
       "      <td>3.90</td>\n",
       "      <td>3.68</td>\n",
       "      <td>4.15</td>\n",
       "      <td>-0.36</td>\n",
       "      <td>-0.43</td>\n",
       "      <td>-0.29</td>\n",
       "      <td>14.5</td>\n",
       "      <td>4.90</td>\n",
       "      <td>55.1</td>\n",
       "      <td>0.53</td>\n",
       "    </tr>\n",
       "  </tbody>\n",
       "</table>\n",
       "</div>"
      ],
      "text/plain": [
       "              0     1     2     3     4     5     6     7     8     9     10  \\\n",
       "0  vnSt02801.dft  4916  4815  5036  3.37  3.19  3.56 -0.62 -0.71 -0.54 -33.4   \n",
       "1  vnSt01928.dft  4661  4594  4816  2.82  2.49  3.19 -0.38 -0.45 -0.21 -17.4   \n",
       "2  vnSt02231.dft  4398  4316  4507  4.07  3.86  4.33 -0.07 -0.14 -0.01  13.8   \n",
       "3  vnSt02796.dft  4194  4097  4307  3.90  3.68  4.15 -0.36 -0.43 -0.29  14.5   \n",
       "\n",
       "     11    12    13  \n",
       "0  4.90  77.3  1.36  \n",
       "1  5.59  70.4  0.63  \n",
       "2  5.13  53.3  0.48  \n",
       "3  4.90  55.1  0.53  "
      ]
     },
     "execution_count": 29,
     "metadata": {},
     "output_type": "execute_result"
    }
   ],
   "source": [
    "full.head(4)"
   ]
  },
  {
   "cell_type": "code",
   "execution_count": 30,
   "metadata": {
    "collapsed": false
   },
   "outputs": [
    {
     "data": {
      "text/plain": [
       "<matplotlib.axes._subplots.AxesSubplot at 0x10fbfc5c0>"
      ]
     },
     "execution_count": 30,
     "metadata": {},
     "output_type": "execute_result"
    },
    {
     "data": {
      "image/png": "[encoded data removed]",
      "text/plain": [
       "<matplotlib.figure.Figure at 0x11007a6a0>"
      ]
     },
     "metadata": {},
     "output_type": "display_data"
    }
   ],
   "source": [
    "sns.distplot(full[7])"
   ]
  },
  {
   "cell_type": "code",
   "execution_count": 31,
   "metadata": {
    "collapsed": false
   },
   "outputs": [
    {
     "data": {
      "text/plain": [
       "count    355.000000\n",
       "mean      -0.400282\n",
       "std        0.287508\n",
       "min       -1.820000\n",
       "25%       -0.560000\n",
       "50%       -0.410000\n",
       "75%       -0.230000\n",
       "max        0.360000\n",
       "Name: 7, dtype: float64"
      ]
     },
     "execution_count": 31,
     "metadata": {},
     "output_type": "execute_result"
    }
   ],
   "source": [
    "full[7].describe()"
   ]
  },
  {
   "cell_type": "code",
   "execution_count": 32,
   "metadata": {
    "collapsed": false
   },
   "outputs": [
    {
     "data": {
      "text/plain": [
       "'/Users/gemunu/Research/canis/canis/Sp_ace'"
      ]
     },
     "execution_count": 32,
     "metadata": {},
     "output_type": "execute_result"
    }
   ],
   "source": [
    "pwd"
   ]
  },
  {
   "cell_type": "code",
   "execution_count": 33,
   "metadata": {
    "collapsed": false
   },
   "outputs": [
    {
     "data": {
      "text/html": [
       "<div>\n",
       "<table border=\"1\" class=\"dataframe\">\n",
       "  <thead>\n",
       "    <tr style=\"text-align: right;\">\n",
       "      <th></th>\n",
       "      <th>0</th>\n",
       "      <th>1</th>\n",
       "      <th>2</th>\n",
       "      <th>3</th>\n",
       "      <th>4</th>\n",
       "      <th>5</th>\n",
       "      <th>6</th>\n",
       "      <th>7</th>\n",
       "      <th>8</th>\n",
       "      <th>9</th>\n",
       "      <th>10</th>\n",
       "      <th>11</th>\n",
       "      <th>12</th>\n",
       "      <th>13</th>\n",
       "    </tr>\n",
       "  </thead>\n",
       "  <tbody>\n",
       "    <tr>\n",
       "      <th>0</th>\n",
       "      <td>vnSt02801.dft</td>\n",
       "      <td>4916</td>\n",
       "      <td>4815</td>\n",
       "      <td>5036</td>\n",
       "      <td>3.37</td>\n",
       "      <td>3.19</td>\n",
       "      <td>3.56</td>\n",
       "      <td>-0.62</td>\n",
       "      <td>-0.71</td>\n",
       "      <td>-0.54</td>\n",
       "      <td>-33.4</td>\n",
       "      <td>4.90</td>\n",
       "      <td>77.3</td>\n",
       "      <td>1.36</td>\n",
       "    </tr>\n",
       "    <tr>\n",
       "      <th>1</th>\n",
       "      <td>vnSt01928.dft</td>\n",
       "      <td>4661</td>\n",
       "      <td>4594</td>\n",
       "      <td>4816</td>\n",
       "      <td>2.82</td>\n",
       "      <td>2.49</td>\n",
       "      <td>3.19</td>\n",
       "      <td>-0.38</td>\n",
       "      <td>-0.45</td>\n",
       "      <td>-0.21</td>\n",
       "      <td>-17.4</td>\n",
       "      <td>5.59</td>\n",
       "      <td>70.4</td>\n",
       "      <td>0.63</td>\n",
       "    </tr>\n",
       "    <tr>\n",
       "      <th>2</th>\n",
       "      <td>vnSt02231.dft</td>\n",
       "      <td>4398</td>\n",
       "      <td>4316</td>\n",
       "      <td>4507</td>\n",
       "      <td>4.07</td>\n",
       "      <td>3.86</td>\n",
       "      <td>4.33</td>\n",
       "      <td>-0.07</td>\n",
       "      <td>-0.14</td>\n",
       "      <td>-0.01</td>\n",
       "      <td>13.8</td>\n",
       "      <td>5.13</td>\n",
       "      <td>53.3</td>\n",
       "      <td>0.48</td>\n",
       "    </tr>\n",
       "    <tr>\n",
       "      <th>3</th>\n",
       "      <td>vnSt02796.dft</td>\n",
       "      <td>4194</td>\n",
       "      <td>4097</td>\n",
       "      <td>4307</td>\n",
       "      <td>3.90</td>\n",
       "      <td>3.68</td>\n",
       "      <td>4.15</td>\n",
       "      <td>-0.36</td>\n",
       "      <td>-0.43</td>\n",
       "      <td>-0.29</td>\n",
       "      <td>14.5</td>\n",
       "      <td>4.90</td>\n",
       "      <td>55.1</td>\n",
       "      <td>0.53</td>\n",
       "    </tr>\n",
       "    <tr>\n",
       "      <th>4</th>\n",
       "      <td>vnSt02478.dft</td>\n",
       "      <td>4577</td>\n",
       "      <td>4564</td>\n",
       "      <td>4655</td>\n",
       "      <td>3.64</td>\n",
       "      <td>3.57</td>\n",
       "      <td>3.79</td>\n",
       "      <td>-0.14</td>\n",
       "      <td>-0.16</td>\n",
       "      <td>-0.09</td>\n",
       "      <td>-16.3</td>\n",
       "      <td>4.78</td>\n",
       "      <td>64.8</td>\n",
       "      <td>1.54</td>\n",
       "    </tr>\n",
       "  </tbody>\n",
       "</table>\n",
       "</div>"
      ],
      "text/plain": [
       "              0     1     2     3     4     5     6     7     8     9     10  \\\n",
       "0  vnSt02801.dft  4916  4815  5036  3.37  3.19  3.56 -0.62 -0.71 -0.54 -33.4   \n",
       "1  vnSt01928.dft  4661  4594  4816  2.82  2.49  3.19 -0.38 -0.45 -0.21 -17.4   \n",
       "2  vnSt02231.dft  4398  4316  4507  4.07  3.86  4.33 -0.07 -0.14 -0.01  13.8   \n",
       "3  vnSt02796.dft  4194  4097  4307  3.90  3.68  4.15 -0.36 -0.43 -0.29  14.5   \n",
       "4  vnSt02478.dft  4577  4564  4655  3.64  3.57  3.79 -0.14 -0.16 -0.09 -16.3   \n",
       "\n",
       "     11    12    13  \n",
       "0  4.90  77.3  1.36  \n",
       "1  5.59  70.4  0.63  \n",
       "2  5.13  53.3  0.48  \n",
       "3  4.90  55.1  0.53  \n",
       "4  4.78  64.8  1.54  "
      ]
     },
     "execution_count": 33,
     "metadata": {},
     "output_type": "execute_result"
    }
   ],
   "source": [
    "full.head()"
   ]
  },
  {
   "cell_type": "code",
   "execution_count": 34,
   "metadata": {
    "collapsed": true
   },
   "outputs": [],
   "source": [
    "paras_full_v2=pd.DataFrame([full[0],full[1],(full[3]-full[2])/2,full[4],(full[6]-full[5])/2,full[7],(full[9]-full[8])/2]).T"
   ]
  },
  {
   "cell_type": "code",
   "execution_count": 35,
   "metadata": {
    "collapsed": false
   },
   "outputs": [],
   "source": [
    "paras_full_v2.rename(columns={'Unnamed 0':'errt','Unnamed 1':'errg','Unnamed 2':'errf'},inplace=True)"
   ]
  },
  {
   "cell_type": "code",
   "execution_count": 36,
   "metadata": {
    "collapsed": true
   },
   "outputs": [],
   "source": [
    "paras_full_v2['errg']=paras_full_v2.errg.astype(float).round(decimals=2)\n",
    "paras_full_v2['errf']=paras_full_v2.errf.astype(float).round(decimals=2)"
   ]
  },
  {
   "cell_type": "code",
   "execution_count": 37,
   "metadata": {
    "collapsed": false
   },
   "outputs": [],
   "source": [
    "np.savetxt('paras_full_v2.dat',paras_full_v2,fmt='%s')"
   ]
  },
  {
   "cell_type": "code",
   "execution_count": 38,
   "metadata": {
    "collapsed": false
   },
   "outputs": [
    {
     "data": {
      "text/html": [
       "<div>\n",
       "<table border=\"1\" class=\"dataframe\">\n",
       "  <thead>\n",
       "    <tr style=\"text-align: right;\">\n",
       "      <th></th>\n",
       "      <th>0</th>\n",
       "      <th>1</th>\n",
       "      <th>errt</th>\n",
       "      <th>4</th>\n",
       "      <th>errg</th>\n",
       "      <th>7</th>\n",
       "      <th>errf</th>\n",
       "    </tr>\n",
       "  </thead>\n",
       "  <tbody>\n",
       "    <tr>\n",
       "      <th>0</th>\n",
       "      <td>vnSt02801.dft</td>\n",
       "      <td>4916</td>\n",
       "      <td>110.5</td>\n",
       "      <td>3.37</td>\n",
       "      <td>0.19</td>\n",
       "      <td>-0.62</td>\n",
       "      <td>0.08</td>\n",
       "    </tr>\n",
       "    <tr>\n",
       "      <th>1</th>\n",
       "      <td>vnSt01928.dft</td>\n",
       "      <td>4661</td>\n",
       "      <td>111</td>\n",
       "      <td>2.82</td>\n",
       "      <td>0.35</td>\n",
       "      <td>-0.38</td>\n",
       "      <td>0.12</td>\n",
       "    </tr>\n",
       "    <tr>\n",
       "      <th>2</th>\n",
       "      <td>vnSt02231.dft</td>\n",
       "      <td>4398</td>\n",
       "      <td>95.5</td>\n",
       "      <td>4.07</td>\n",
       "      <td>0.24</td>\n",
       "      <td>-0.07</td>\n",
       "      <td>0.06</td>\n",
       "    </tr>\n",
       "    <tr>\n",
       "      <th>3</th>\n",
       "      <td>vnSt02796.dft</td>\n",
       "      <td>4194</td>\n",
       "      <td>105</td>\n",
       "      <td>3.9</td>\n",
       "      <td>0.24</td>\n",
       "      <td>-0.36</td>\n",
       "      <td>0.07</td>\n",
       "    </tr>\n",
       "    <tr>\n",
       "      <th>4</th>\n",
       "      <td>vnSt02478.dft</td>\n",
       "      <td>4577</td>\n",
       "      <td>45.5</td>\n",
       "      <td>3.64</td>\n",
       "      <td>0.11</td>\n",
       "      <td>-0.14</td>\n",
       "      <td>0.04</td>\n",
       "    </tr>\n",
       "    <tr>\n",
       "      <th>5</th>\n",
       "      <td>vnSt01889.dft</td>\n",
       "      <td>4792</td>\n",
       "      <td>62.5</td>\n",
       "      <td>2.23</td>\n",
       "      <td>0.26</td>\n",
       "      <td>-0.76</td>\n",
       "      <td>0.06</td>\n",
       "    </tr>\n",
       "    <tr>\n",
       "      <th>6</th>\n",
       "      <td>vnSt02219.dft</td>\n",
       "      <td>5144</td>\n",
       "      <td>87</td>\n",
       "      <td>2.94</td>\n",
       "      <td>0.21</td>\n",
       "      <td>-0.58</td>\n",
       "      <td>0.09</td>\n",
       "    </tr>\n",
       "    <tr>\n",
       "      <th>7</th>\n",
       "      <td>vnSt03096.dft</td>\n",
       "      <td>4769</td>\n",
       "      <td>190</td>\n",
       "      <td>2.74</td>\n",
       "      <td>0.46</td>\n",
       "      <td>-0.95</td>\n",
       "      <td>0.13</td>\n",
       "    </tr>\n",
       "    <tr>\n",
       "      <th>8</th>\n",
       "      <td>vnSt03156.dft</td>\n",
       "      <td>4277</td>\n",
       "      <td>118</td>\n",
       "      <td>1.76</td>\n",
       "      <td>0.59</td>\n",
       "      <td>-1.36</td>\n",
       "      <td>0.15</td>\n",
       "    </tr>\n",
       "    <tr>\n",
       "      <th>9</th>\n",
       "      <td>vnSt02707.dft</td>\n",
       "      <td>4360</td>\n",
       "      <td>62</td>\n",
       "      <td>3.76</td>\n",
       "      <td>0.12</td>\n",
       "      <td>-0.43</td>\n",
       "      <td>0.05</td>\n",
       "    </tr>\n",
       "    <tr>\n",
       "      <th>10</th>\n",
       "      <td>vnSt01762.dft</td>\n",
       "      <td>4524</td>\n",
       "      <td>97</td>\n",
       "      <td>3.84</td>\n",
       "      <td>0.22</td>\n",
       "      <td>-0.42</td>\n",
       "      <td>0.09</td>\n",
       "    </tr>\n",
       "    <tr>\n",
       "      <th>11</th>\n",
       "      <td>vnSt02634.dft</td>\n",
       "      <td>5002</td>\n",
       "      <td>171.5</td>\n",
       "      <td>3.18</td>\n",
       "      <td>0.28</td>\n",
       "      <td>-0.86</td>\n",
       "      <td>0.12</td>\n",
       "    </tr>\n",
       "    <tr>\n",
       "      <th>12</th>\n",
       "      <td>vnSt04115.dft</td>\n",
       "      <td>4356</td>\n",
       "      <td>156</td>\n",
       "      <td>2.95</td>\n",
       "      <td>0.34</td>\n",
       "      <td>-0.36</td>\n",
       "      <td>0.16</td>\n",
       "    </tr>\n",
       "    <tr>\n",
       "      <th>13</th>\n",
       "      <td>vnSt04200.dft</td>\n",
       "      <td>4306</td>\n",
       "      <td>68.5</td>\n",
       "      <td>3.77</td>\n",
       "      <td>0.14</td>\n",
       "      <td>-0.08</td>\n",
       "      <td>0.04</td>\n",
       "    </tr>\n",
       "    <tr>\n",
       "      <th>14</th>\n",
       "      <td>vnSt02153.dft</td>\n",
       "      <td>4809</td>\n",
       "      <td>90</td>\n",
       "      <td>2.57</td>\n",
       "      <td>0.23</td>\n",
       "      <td>-0.9</td>\n",
       "      <td>0.08</td>\n",
       "    </tr>\n",
       "    <tr>\n",
       "      <th>15</th>\n",
       "      <td>vnSt02504.dft</td>\n",
       "      <td>4177</td>\n",
       "      <td>96.5</td>\n",
       "      <td>4.13</td>\n",
       "      <td>0.22</td>\n",
       "      <td>-0.52</td>\n",
       "      <td>0.07</td>\n",
       "    </tr>\n",
       "    <tr>\n",
       "      <th>16</th>\n",
       "      <td>vnSt01841.dft</td>\n",
       "      <td>5383</td>\n",
       "      <td>83.5</td>\n",
       "      <td>3.31</td>\n",
       "      <td>0.12</td>\n",
       "      <td>-0.27</td>\n",
       "      <td>0.05</td>\n",
       "    </tr>\n",
       "    <tr>\n",
       "      <th>17</th>\n",
       "      <td>vnSt01694.dft</td>\n",
       "      <td>4863</td>\n",
       "      <td>65.5</td>\n",
       "      <td>2.88</td>\n",
       "      <td>0.18</td>\n",
       "      <td>-0.53</td>\n",
       "      <td>0.07</td>\n",
       "    </tr>\n",
       "    <tr>\n",
       "      <th>18</th>\n",
       "      <td>vnSt01948.dft</td>\n",
       "      <td>4982</td>\n",
       "      <td>71</td>\n",
       "      <td>2.88</td>\n",
       "      <td>0.18</td>\n",
       "      <td>-0.2</td>\n",
       "      <td>0.04</td>\n",
       "    </tr>\n",
       "    <tr>\n",
       "      <th>19</th>\n",
       "      <td>vnSt01680.dft</td>\n",
       "      <td>4512</td>\n",
       "      <td>106</td>\n",
       "      <td>4.21</td>\n",
       "      <td>0.24</td>\n",
       "      <td>-0.48</td>\n",
       "      <td>0.06</td>\n",
       "    </tr>\n",
       "    <tr>\n",
       "      <th>20</th>\n",
       "      <td>vnSt02293.dft</td>\n",
       "      <td>4541</td>\n",
       "      <td>26.5</td>\n",
       "      <td>4.18</td>\n",
       "      <td>0.08</td>\n",
       "      <td>-0.25</td>\n",
       "      <td>0.02</td>\n",
       "    </tr>\n",
       "    <tr>\n",
       "      <th>21</th>\n",
       "      <td>vnSt03198.dft</td>\n",
       "      <td>4816</td>\n",
       "      <td>195</td>\n",
       "      <td>2.95</td>\n",
       "      <td>0.42</td>\n",
       "      <td>-0.67</td>\n",
       "      <td>0.15</td>\n",
       "    </tr>\n",
       "    <tr>\n",
       "      <th>22</th>\n",
       "      <td>vnSt02715.dft</td>\n",
       "      <td>4934</td>\n",
       "      <td>207</td>\n",
       "      <td>3.11</td>\n",
       "      <td>0.39</td>\n",
       "      <td>-0.72</td>\n",
       "      <td>0.12</td>\n",
       "    </tr>\n",
       "    <tr>\n",
       "      <th>23</th>\n",
       "      <td>vnSt02761.dft</td>\n",
       "      <td>4061</td>\n",
       "      <td>109.5</td>\n",
       "      <td>3.8</td>\n",
       "      <td>0.23</td>\n",
       "      <td>-0.11</td>\n",
       "      <td>0.06</td>\n",
       "    </tr>\n",
       "    <tr>\n",
       "      <th>24</th>\n",
       "      <td>vnSt02664.dft</td>\n",
       "      <td>3808</td>\n",
       "      <td>73.5</td>\n",
       "      <td>4.2</td>\n",
       "      <td>0.19</td>\n",
       "      <td>-0.6</td>\n",
       "      <td>0.03</td>\n",
       "    </tr>\n",
       "    <tr>\n",
       "      <th>25</th>\n",
       "      <td>vnSt01931.dft</td>\n",
       "      <td>4879</td>\n",
       "      <td>171</td>\n",
       "      <td>3.26</td>\n",
       "      <td>0.30</td>\n",
       "      <td>-0.47</td>\n",
       "      <td>0.15</td>\n",
       "    </tr>\n",
       "    <tr>\n",
       "      <th>26</th>\n",
       "      <td>vnSt02890.dft</td>\n",
       "      <td>4138</td>\n",
       "      <td>100</td>\n",
       "      <td>3.82</td>\n",
       "      <td>0.23</td>\n",
       "      <td>-0.52</td>\n",
       "      <td>0.08</td>\n",
       "    </tr>\n",
       "    <tr>\n",
       "      <th>27</th>\n",
       "      <td>vnSt03761.dft</td>\n",
       "      <td>4532</td>\n",
       "      <td>101.5</td>\n",
       "      <td>4.07</td>\n",
       "      <td>0.21</td>\n",
       "      <td>-0.56</td>\n",
       "      <td>0.08</td>\n",
       "    </tr>\n",
       "    <tr>\n",
       "      <th>28</th>\n",
       "      <td>vnSt02918.dft</td>\n",
       "      <td>4241</td>\n",
       "      <td>93</td>\n",
       "      <td>3.73</td>\n",
       "      <td>0.23</td>\n",
       "      <td>-0.49</td>\n",
       "      <td>0.08</td>\n",
       "    </tr>\n",
       "    <tr>\n",
       "      <th>29</th>\n",
       "      <td>vnSt02862.dft</td>\n",
       "      <td>4675</td>\n",
       "      <td>226.5</td>\n",
       "      <td>2.3</td>\n",
       "      <td>0.53</td>\n",
       "      <td>-0.9</td>\n",
       "      <td>0.24</td>\n",
       "    </tr>\n",
       "    <tr>\n",
       "      <th>...</th>\n",
       "      <td>...</td>\n",
       "      <td>...</td>\n",
       "      <td>...</td>\n",
       "      <td>...</td>\n",
       "      <td>...</td>\n",
       "      <td>...</td>\n",
       "      <td>...</td>\n",
       "    </tr>\n",
       "    <tr>\n",
       "      <th>325</th>\n",
       "      <td>vnSt01565.dft</td>\n",
       "      <td>4516</td>\n",
       "      <td>64.5</td>\n",
       "      <td>2.42</td>\n",
       "      <td>0.21</td>\n",
       "      <td>-0.24</td>\n",
       "      <td>0.08</td>\n",
       "    </tr>\n",
       "    <tr>\n",
       "      <th>326</th>\n",
       "      <td>vnSt01352.dft</td>\n",
       "      <td>5116</td>\n",
       "      <td>181</td>\n",
       "      <td>3.29</td>\n",
       "      <td>0.34</td>\n",
       "      <td>-0.48</td>\n",
       "      <td>0.16</td>\n",
       "    </tr>\n",
       "    <tr>\n",
       "      <th>327</th>\n",
       "      <td>vnSt01534.dft</td>\n",
       "      <td>4447</td>\n",
       "      <td>98</td>\n",
       "      <td>4.18</td>\n",
       "      <td>0.24</td>\n",
       "      <td>-0.14</td>\n",
       "      <td>0.06</td>\n",
       "    </tr>\n",
       "    <tr>\n",
       "      <th>328</th>\n",
       "      <td>vnSt00935.dft</td>\n",
       "      <td>5162</td>\n",
       "      <td>90.5</td>\n",
       "      <td>3.51</td>\n",
       "      <td>0.19</td>\n",
       "      <td>-0.58</td>\n",
       "      <td>0.09</td>\n",
       "    </tr>\n",
       "    <tr>\n",
       "      <th>329</th>\n",
       "      <td>vnSt00970.dft</td>\n",
       "      <td>4720</td>\n",
       "      <td>71.5</td>\n",
       "      <td>2.49</td>\n",
       "      <td>0.24</td>\n",
       "      <td>-0.61</td>\n",
       "      <td>0.09</td>\n",
       "    </tr>\n",
       "    <tr>\n",
       "      <th>330</th>\n",
       "      <td>vnSt01211.dft</td>\n",
       "      <td>4858</td>\n",
       "      <td>164</td>\n",
       "      <td>2.83</td>\n",
       "      <td>0.36</td>\n",
       "      <td>-0.6</td>\n",
       "      <td>0.16</td>\n",
       "    </tr>\n",
       "    <tr>\n",
       "      <th>331</th>\n",
       "      <td>vnSt01348.dft</td>\n",
       "      <td>5472</td>\n",
       "      <td>149</td>\n",
       "      <td>3.25</td>\n",
       "      <td>0.25</td>\n",
       "      <td>-0.37</td>\n",
       "      <td>0.10</td>\n",
       "    </tr>\n",
       "    <tr>\n",
       "      <th>332</th>\n",
       "      <td>vnSt01215.dft</td>\n",
       "      <td>5151</td>\n",
       "      <td>113</td>\n",
       "      <td>3.19</td>\n",
       "      <td>0.26</td>\n",
       "      <td>-0.19</td>\n",
       "      <td>0.11</td>\n",
       "    </tr>\n",
       "    <tr>\n",
       "      <th>333</th>\n",
       "      <td>vnSt00764.dft</td>\n",
       "      <td>4026</td>\n",
       "      <td>116</td>\n",
       "      <td>3.94</td>\n",
       "      <td>0.23</td>\n",
       "      <td>-0.45</td>\n",
       "      <td>0.07</td>\n",
       "    </tr>\n",
       "    <tr>\n",
       "      <th>334</th>\n",
       "      <td>vnSt01300.dft</td>\n",
       "      <td>5021</td>\n",
       "      <td>134.5</td>\n",
       "      <td>4.19</td>\n",
       "      <td>0.21</td>\n",
       "      <td>-0.14</td>\n",
       "      <td>0.10</td>\n",
       "    </tr>\n",
       "    <tr>\n",
       "      <th>335</th>\n",
       "      <td>vnSt00809.dft</td>\n",
       "      <td>5447</td>\n",
       "      <td>167</td>\n",
       "      <td>3.71</td>\n",
       "      <td>0.30</td>\n",
       "      <td>-0.29</td>\n",
       "      <td>0.12</td>\n",
       "    </tr>\n",
       "    <tr>\n",
       "      <th>336</th>\n",
       "      <td>vnSt00881.dft</td>\n",
       "      <td>5158</td>\n",
       "      <td>94</td>\n",
       "      <td>3.22</td>\n",
       "      <td>0.23</td>\n",
       "      <td>-0.4</td>\n",
       "      <td>0.10</td>\n",
       "    </tr>\n",
       "    <tr>\n",
       "      <th>337</th>\n",
       "      <td>vnSt01678.dft</td>\n",
       "      <td>5222</td>\n",
       "      <td>99</td>\n",
       "      <td>3.22</td>\n",
       "      <td>0.23</td>\n",
       "      <td>-0.3</td>\n",
       "      <td>0.09</td>\n",
       "    </tr>\n",
       "    <tr>\n",
       "      <th>338</th>\n",
       "      <td>vnSt01545.dft</td>\n",
       "      <td>4826</td>\n",
       "      <td>116</td>\n",
       "      <td>3.14</td>\n",
       "      <td>0.26</td>\n",
       "      <td>-0.66</td>\n",
       "      <td>0.11</td>\n",
       "    </tr>\n",
       "    <tr>\n",
       "      <th>339</th>\n",
       "      <td>vnSt00772.dft</td>\n",
       "      <td>5383</td>\n",
       "      <td>99.5</td>\n",
       "      <td>3.67</td>\n",
       "      <td>0.15</td>\n",
       "      <td>-0.51</td>\n",
       "      <td>0.07</td>\n",
       "    </tr>\n",
       "    <tr>\n",
       "      <th>340</th>\n",
       "      <td>vnSt00992.dft</td>\n",
       "      <td>4749</td>\n",
       "      <td>126.5</td>\n",
       "      <td>2.63</td>\n",
       "      <td>0.36</td>\n",
       "      <td>-0.51</td>\n",
       "      <td>0.10</td>\n",
       "    </tr>\n",
       "    <tr>\n",
       "      <th>341</th>\n",
       "      <td>vnSt01345.dft</td>\n",
       "      <td>4945</td>\n",
       "      <td>92</td>\n",
       "      <td>2.89</td>\n",
       "      <td>0.14</td>\n",
       "      <td>-0.45</td>\n",
       "      <td>0.09</td>\n",
       "    </tr>\n",
       "    <tr>\n",
       "      <th>342</th>\n",
       "      <td>vnSt01157.dft</td>\n",
       "      <td>4843</td>\n",
       "      <td>59.5</td>\n",
       "      <td>2.64</td>\n",
       "      <td>0.20</td>\n",
       "      <td>-0.41</td>\n",
       "      <td>0.07</td>\n",
       "    </tr>\n",
       "    <tr>\n",
       "      <th>343</th>\n",
       "      <td>vnSt00986.dft</td>\n",
       "      <td>4996</td>\n",
       "      <td>75</td>\n",
       "      <td>2.71</td>\n",
       "      <td>0.23</td>\n",
       "      <td>-0.33</td>\n",
       "      <td>0.07</td>\n",
       "    </tr>\n",
       "    <tr>\n",
       "      <th>344</th>\n",
       "      <td>vnSt01808.dft</td>\n",
       "      <td>4670</td>\n",
       "      <td>75.5</td>\n",
       "      <td>2.72</td>\n",
       "      <td>0.25</td>\n",
       "      <td>-0.64</td>\n",
       "      <td>0.09</td>\n",
       "    </tr>\n",
       "    <tr>\n",
       "      <th>345</th>\n",
       "      <td>vnSt01073.dft</td>\n",
       "      <td>5132</td>\n",
       "      <td>162</td>\n",
       "      <td>3.76</td>\n",
       "      <td>0.26</td>\n",
       "      <td>-0.14</td>\n",
       "      <td>0.12</td>\n",
       "    </tr>\n",
       "    <tr>\n",
       "      <th>346</th>\n",
       "      <td>vnSt00582.dft</td>\n",
       "      <td>5136</td>\n",
       "      <td>111.5</td>\n",
       "      <td>3.26</td>\n",
       "      <td>0.27</td>\n",
       "      <td>-0.53</td>\n",
       "      <td>0.12</td>\n",
       "    </tr>\n",
       "    <tr>\n",
       "      <th>347</th>\n",
       "      <td>vnSt01549.dft</td>\n",
       "      <td>4919</td>\n",
       "      <td>137</td>\n",
       "      <td>2.83</td>\n",
       "      <td>0.36</td>\n",
       "      <td>-0.34</td>\n",
       "      <td>0.10</td>\n",
       "    </tr>\n",
       "    <tr>\n",
       "      <th>348</th>\n",
       "      <td>vnSt01122.dft</td>\n",
       "      <td>4807</td>\n",
       "      <td>85.5</td>\n",
       "      <td>2.63</td>\n",
       "      <td>0.26</td>\n",
       "      <td>-0.55</td>\n",
       "      <td>0.04</td>\n",
       "    </tr>\n",
       "    <tr>\n",
       "      <th>349</th>\n",
       "      <td>vnSt00965.dft</td>\n",
       "      <td>4900</td>\n",
       "      <td>131.5</td>\n",
       "      <td>3.5</td>\n",
       "      <td>0.29</td>\n",
       "      <td>-0.51</td>\n",
       "      <td>0.12</td>\n",
       "    </tr>\n",
       "    <tr>\n",
       "      <th>350</th>\n",
       "      <td>vnSt01095.dft</td>\n",
       "      <td>5112</td>\n",
       "      <td>196</td>\n",
       "      <td>3.01</td>\n",
       "      <td>0.38</td>\n",
       "      <td>-0.41</td>\n",
       "      <td>0.16</td>\n",
       "    </tr>\n",
       "    <tr>\n",
       "      <th>351</th>\n",
       "      <td>vnSt01076.dft</td>\n",
       "      <td>5496</td>\n",
       "      <td>114.5</td>\n",
       "      <td>2.89</td>\n",
       "      <td>0.31</td>\n",
       "      <td>-0.12</td>\n",
       "      <td>0.11</td>\n",
       "    </tr>\n",
       "    <tr>\n",
       "      <th>352</th>\n",
       "      <td>vnSt01138.dft</td>\n",
       "      <td>5483</td>\n",
       "      <td>224</td>\n",
       "      <td>3.62</td>\n",
       "      <td>0.31</td>\n",
       "      <td>-0.45</td>\n",
       "      <td>0.10</td>\n",
       "    </tr>\n",
       "    <tr>\n",
       "      <th>353</th>\n",
       "      <td>vnSt00642.dft</td>\n",
       "      <td>5055</td>\n",
       "      <td>171</td>\n",
       "      <td>3.53</td>\n",
       "      <td>0.30</td>\n",
       "      <td>-0.32</td>\n",
       "      <td>0.15</td>\n",
       "    </tr>\n",
       "    <tr>\n",
       "      <th>354</th>\n",
       "      <td>vnSt01056.dft</td>\n",
       "      <td>5041</td>\n",
       "      <td>201.5</td>\n",
       "      <td>3.46</td>\n",
       "      <td>0.37</td>\n",
       "      <td>-0.42</td>\n",
       "      <td>0.13</td>\n",
       "    </tr>\n",
       "  </tbody>\n",
       "</table>\n",
       "<p>355 rows × 7 columns</p>\n",
       "</div>"
      ],
      "text/plain": [
       "                 0     1   errt     4  errg     7  errf\n",
       "0    vnSt02801.dft  4916  110.5  3.37  0.19 -0.62  0.08\n",
       "1    vnSt01928.dft  4661    111  2.82  0.35 -0.38  0.12\n",
       "2    vnSt02231.dft  4398   95.5  4.07  0.24 -0.07  0.06\n",
       "3    vnSt02796.dft  4194    105   3.9  0.24 -0.36  0.07\n",
       "4    vnSt02478.dft  4577   45.5  3.64  0.11 -0.14  0.04\n",
       "5    vnSt01889.dft  4792   62.5  2.23  0.26 -0.76  0.06\n",
       "6    vnSt02219.dft  5144     87  2.94  0.21 -0.58  0.09\n",
       "7    vnSt03096.dft  4769    190  2.74  0.46 -0.95  0.13\n",
       "8    vnSt03156.dft  4277    118  1.76  0.59 -1.36  0.15\n",
       "9    vnSt02707.dft  4360     62  3.76  0.12 -0.43  0.05\n",
       "10   vnSt01762.dft  4524     97  3.84  0.22 -0.42  0.09\n",
       "11   vnSt02634.dft  5002  171.5  3.18  0.28 -0.86  0.12\n",
       "12   vnSt04115.dft  4356    156  2.95  0.34 -0.36  0.16\n",
       "13   vnSt04200.dft  4306   68.5  3.77  0.14 -0.08  0.04\n",
       "14   vnSt02153.dft  4809     90  2.57  0.23  -0.9  0.08\n",
       "15   vnSt02504.dft  4177   96.5  4.13  0.22 -0.52  0.07\n",
       "16   vnSt01841.dft  5383   83.5  3.31  0.12 -0.27  0.05\n",
       "17   vnSt01694.dft  4863   65.5  2.88  0.18 -0.53  0.07\n",
       "18   vnSt01948.dft  4982     71  2.88  0.18  -0.2  0.04\n",
       "19   vnSt01680.dft  4512    106  4.21  0.24 -0.48  0.06\n",
       "20   vnSt02293.dft  4541   26.5  4.18  0.08 -0.25  0.02\n",
       "21   vnSt03198.dft  4816    195  2.95  0.42 -0.67  0.15\n",
       "22   vnSt02715.dft  4934    207  3.11  0.39 -0.72  0.12\n",
       "23   vnSt02761.dft  4061  109.5   3.8  0.23 -0.11  0.06\n",
       "24   vnSt02664.dft  3808   73.5   4.2  0.19  -0.6  0.03\n",
       "25   vnSt01931.dft  4879    171  3.26  0.30 -0.47  0.15\n",
       "26   vnSt02890.dft  4138    100  3.82  0.23 -0.52  0.08\n",
       "27   vnSt03761.dft  4532  101.5  4.07  0.21 -0.56  0.08\n",
       "28   vnSt02918.dft  4241     93  3.73  0.23 -0.49  0.08\n",
       "29   vnSt02862.dft  4675  226.5   2.3  0.53  -0.9  0.24\n",
       "..             ...   ...    ...   ...   ...   ...   ...\n",
       "325  vnSt01565.dft  4516   64.5  2.42  0.21 -0.24  0.08\n",
       "326  vnSt01352.dft  5116    181  3.29  0.34 -0.48  0.16\n",
       "327  vnSt01534.dft  4447     98  4.18  0.24 -0.14  0.06\n",
       "328  vnSt00935.dft  5162   90.5  3.51  0.19 -0.58  0.09\n",
       "329  vnSt00970.dft  4720   71.5  2.49  0.24 -0.61  0.09\n",
       "330  vnSt01211.dft  4858    164  2.83  0.36  -0.6  0.16\n",
       "331  vnSt01348.dft  5472    149  3.25  0.25 -0.37  0.10\n",
       "332  vnSt01215.dft  5151    113  3.19  0.26 -0.19  0.11\n",
       "333  vnSt00764.dft  4026    116  3.94  0.23 -0.45  0.07\n",
       "334  vnSt01300.dft  5021  134.5  4.19  0.21 -0.14  0.10\n",
       "335  vnSt00809.dft  5447    167  3.71  0.30 -0.29  0.12\n",
       "336  vnSt00881.dft  5158     94  3.22  0.23  -0.4  0.10\n",
       "337  vnSt01678.dft  5222     99  3.22  0.23  -0.3  0.09\n",
       "338  vnSt01545.dft  4826    116  3.14  0.26 -0.66  0.11\n",
       "339  vnSt00772.dft  5383   99.5  3.67  0.15 -0.51  0.07\n",
       "340  vnSt00992.dft  4749  126.5  2.63  0.36 -0.51  0.10\n",
       "341  vnSt01345.dft  4945     92  2.89  0.14 -0.45  0.09\n",
       "342  vnSt01157.dft  4843   59.5  2.64  0.20 -0.41  0.07\n",
       "343  vnSt00986.dft  4996     75  2.71  0.23 -0.33  0.07\n",
       "344  vnSt01808.dft  4670   75.5  2.72  0.25 -0.64  0.09\n",
       "345  vnSt01073.dft  5132    162  3.76  0.26 -0.14  0.12\n",
       "346  vnSt00582.dft  5136  111.5  3.26  0.27 -0.53  0.12\n",
       "347  vnSt01549.dft  4919    137  2.83  0.36 -0.34  0.10\n",
       "348  vnSt01122.dft  4807   85.5  2.63  0.26 -0.55  0.04\n",
       "349  vnSt00965.dft  4900  131.5   3.5  0.29 -0.51  0.12\n",
       "350  vnSt01095.dft  5112    196  3.01  0.38 -0.41  0.16\n",
       "351  vnSt01076.dft  5496  114.5  2.89  0.31 -0.12  0.11\n",
       "352  vnSt01138.dft  5483    224  3.62  0.31 -0.45  0.10\n",
       "353  vnSt00642.dft  5055    171  3.53  0.30 -0.32  0.15\n",
       "354  vnSt01056.dft  5041  201.5  3.46  0.37 -0.42  0.13\n",
       "\n",
       "[355 rows x 7 columns]"
      ]
     },
     "execution_count": 38,
     "metadata": {},
     "output_type": "execute_result"
    }
   ],
   "source": [
    "paras_full_v2"
   ]
  },
  {
   "cell_type": "code",
   "execution_count": null,
   "metadata": {
    "collapsed": true
   },
   "outputs": [],
   "source": []
  }
 ],
 "metadata": {
  "kernelspec": {
   "display_name": "Python 3",
   "language": "python",
   "name": "python3"
  },
  "language_info": {
   "codemirror_mode": {
    "name": "ipython",
    "version": 3
   },
   "file_extension": ".py",
   "mimetype": "text/x-python",
   "name": "python",
   "nbconvert_exporter": "python",
   "pygments_lexer": "ipython3",
   "version": "3.5.1"
  }
 },
 "nbformat": 4,
 "nbformat_minor": 0
}
