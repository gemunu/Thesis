{
 "cells": [
  {
   "cell_type": "code",
   "execution_count": 1,
   "metadata": {
    "collapsed": false
   },
   "outputs": [],
   "source": [
    "import pandas as pd\n",
    "import zipfile\n",
    "from sklearn.preprocessing import LabelEncoder\n",
    "import seaborn as sns\n",
    "from scipy.interpolate import griddata\n",
    "from astroML.stats import binned_statistic_2d\n",
    "import numpy as np\n",
    "from astroML.plotting import hist\n",
    "%matplotlib inline"
   ]
  },
  {
   "cell_type": "code",
   "execution_count": 2,
   "metadata": {
    "collapsed": true
   },
   "outputs": [],
   "source": [
    "dats=pd.read_csv('ALL-2MASS-matched.csv')\n",
    "\n",
    "dats['Bmag']=dats['BmV']+dats['Vmag']\n",
    "dats['Umag']=dats['UmB']+dats['Bmag']\n",
    "dats['Rmag']=dats['Vmag']-dats['VmR']\n",
    "dats['Imag']=dats['Vmag']-dats['VmI']"
   ]
  },
  {
   "cell_type": "code",
   "execution_count": 4,
   "metadata": {
    "collapsed": false
   },
   "outputs": [
    {
     "data": {
      "text/html": [
       "<div>\n",
       "<table border=\"1\" class=\"dataframe\">\n",
       "  <thead>\n",
       "    <tr style=\"text-align: right;\">\n",
       "      <th></th>\n",
       "      <th>ID</th>\n",
       "      <th>Vmag</th>\n",
       "      <th>Vmag_ERR</th>\n",
       "      <th>UmB</th>\n",
       "      <th>UmB_ERR</th>\n",
       "      <th>BmV</th>\n",
       "      <th>BmV_ERR</th>\n",
       "      <th>VmR</th>\n",
       "      <th>VmR_ERR</th>\n",
       "      <th>VmI</th>\n",
       "      <th>...</th>\n",
       "      <th>j_m_stdap</th>\n",
       "      <th>j_msig_stdap</th>\n",
       "      <th>h_m_stdap</th>\n",
       "      <th>h_msig_stdap</th>\n",
       "      <th>k_m_stdap</th>\n",
       "      <th>k_msig_stdap</th>\n",
       "      <th>Bmag</th>\n",
       "      <th>Umag</th>\n",
       "      <th>Rmag</th>\n",
       "      <th>Imag</th>\n",
       "    </tr>\n",
       "  </thead>\n",
       "  <tbody>\n",
       "    <tr>\n",
       "      <th>0</th>\n",
       "      <td>1467</td>\n",
       "      <td>16.2973</td>\n",
       "      <td>0.0241</td>\n",
       "      <td>0.7610</td>\n",
       "      <td>0.0439</td>\n",
       "      <td>1.1621</td>\n",
       "      <td>0.0289</td>\n",
       "      <td>0.7236</td>\n",
       "      <td>0.0289</td>\n",
       "      <td>1.3530</td>\n",
       "      <td>...</td>\n",
       "      <td>14.068</td>\n",
       "      <td>0.038</td>\n",
       "      <td>13.613</td>\n",
       "      <td>0.036</td>\n",
       "      <td>13.339</td>\n",
       "      <td>0.083</td>\n",
       "      <td>17.4594</td>\n",
       "      <td>18.2204</td>\n",
       "      <td>15.5737</td>\n",
       "      <td>14.9443</td>\n",
       "    </tr>\n",
       "    <tr>\n",
       "      <th>1</th>\n",
       "      <td>1018</td>\n",
       "      <td>15.8624</td>\n",
       "      <td>0.0253</td>\n",
       "      <td>99.9999</td>\n",
       "      <td>99.9999</td>\n",
       "      <td>1.2095</td>\n",
       "      <td>0.0291</td>\n",
       "      <td>0.7678</td>\n",
       "      <td>0.0292</td>\n",
       "      <td>1.4067</td>\n",
       "      <td>...</td>\n",
       "      <td>13.464</td>\n",
       "      <td>0.037</td>\n",
       "      <td>12.844</td>\n",
       "      <td>0.039</td>\n",
       "      <td>12.824</td>\n",
       "      <td>0.033</td>\n",
       "      <td>17.0719</td>\n",
       "      <td>117.0718</td>\n",
       "      <td>15.0946</td>\n",
       "      <td>14.4557</td>\n",
       "    </tr>\n",
       "  </tbody>\n",
       "</table>\n",
       "<p>2 rows × 53 columns</p>\n",
       "</div>"
      ],
      "text/plain": [
       "     ID     Vmag  Vmag_ERR      UmB  UmB_ERR     BmV  BmV_ERR     VmR  \\\n",
       "0  1467  16.2973    0.0241   0.7610   0.0439  1.1621   0.0289  0.7236   \n",
       "1  1018  15.8624    0.0253  99.9999  99.9999  1.2095   0.0291  0.7678   \n",
       "\n",
       "   VmR_ERR     VmI   ...     j_m_stdap  j_msig_stdap  h_m_stdap  h_msig_stdap  \\\n",
       "0   0.0289  1.3530   ...        14.068         0.038     13.613         0.036   \n",
       "1   0.0292  1.4067   ...        13.464         0.037     12.844         0.039   \n",
       "\n",
       "   k_m_stdap  k_msig_stdap     Bmag      Umag     Rmag     Imag  \n",
       "0     13.339         0.083  17.4594   18.2204  15.5737  14.9443  \n",
       "1     12.824         0.033  17.0719  117.0718  15.0946  14.4557  \n",
       "\n",
       "[2 rows x 53 columns]"
      ]
     },
     "execution_count": 4,
     "metadata": {},
     "output_type": "execute_result"
    }
   ],
   "source": [
    "dats.head(2)"
   ]
  },
  {
   "cell_type": "code",
   "execution_count": 5,
   "metadata": {
    "collapsed": false
   },
   "outputs": [],
   "source": [
    "ebv_m3 = pd.read_csv('ebvs_m3_35l_stats.dat',header=None)"
   ]
  },
  {
   "cell_type": "code",
   "execution_count": 6,
   "metadata": {
    "collapsed": true
   },
   "outputs": [],
   "source": [
    "ebv_p1 = pd.read_csv('ebvs_p1_35l_stats.dat',header=None)"
   ]
  },
  {
   "cell_type": "code",
   "execution_count": 7,
   "metadata": {
    "collapsed": false
   },
   "outputs": [],
   "source": [
    "absv_m3 = pd.read_csv('canis_absVs.dat',sep='\\t',header=None)\n",
    "absv_p1 = pd.read_csv('canis_absVs_p1.dat',sep='\\t',header=None)\n"
   ]
  },
  {
   "cell_type": "code",
   "execution_count": 8,
   "metadata": {
    "collapsed": false
   },
   "outputs": [
    {
     "data": {
      "text/html": [
       "<div>\n",
       "<table border=\"1\" class=\"dataframe\">\n",
       "  <thead>\n",
       "    <tr style=\"text-align: right;\">\n",
       "      <th></th>\n",
       "      <th>0</th>\n",
       "      <th>1</th>\n",
       "      <th>2</th>\n",
       "    </tr>\n",
       "  </thead>\n",
       "  <tbody>\n",
       "    <tr>\n",
       "      <th>0</th>\n",
       "      <td>0.294290</td>\n",
       "      <td>0.050473</td>\n",
       "      <td>1928</td>\n",
       "    </tr>\n",
       "    <tr>\n",
       "      <th>1</th>\n",
       "      <td>0.284259</td>\n",
       "      <td>0.016337</td>\n",
       "      <td>1889</td>\n",
       "    </tr>\n",
       "    <tr>\n",
       "      <th>2</th>\n",
       "      <td>0.382576</td>\n",
       "      <td>0.067329</td>\n",
       "      <td>2219</td>\n",
       "    </tr>\n",
       "    <tr>\n",
       "      <th>3</th>\n",
       "      <td>0.257450</td>\n",
       "      <td>0.095184</td>\n",
       "      <td>3096</td>\n",
       "    </tr>\n",
       "    <tr>\n",
       "      <th>4</th>\n",
       "      <td>0.082414</td>\n",
       "      <td>0.037743</td>\n",
       "      <td>3156</td>\n",
       "    </tr>\n",
       "  </tbody>\n",
       "</table>\n",
       "</div>"
      ],
      "text/plain": [
       "          0         1     2\n",
       "0  0.294290  0.050473  1928\n",
       "1  0.284259  0.016337  1889\n",
       "2  0.382576  0.067329  2219\n",
       "3  0.257450  0.095184  3096\n",
       "4  0.082414  0.037743  3156"
      ]
     },
     "execution_count": 8,
     "metadata": {},
     "output_type": "execute_result"
    }
   ],
   "source": [
    "ebv_p1.head()"
   ]
  },
  {
   "cell_type": "code",
   "execution_count": 9,
   "metadata": {
    "collapsed": true
   },
   "outputs": [],
   "source": [
    "absv_m3[0] = absv_m3[0].map(lambda x: x.lstrip('vnSt').rstrip('.dft')).astype(int)"
   ]
  },
  {
   "cell_type": "code",
   "execution_count": 10,
   "metadata": {
    "collapsed": true
   },
   "outputs": [],
   "source": [
    "absv_p1[0] = absv_p1[0].map(lambda x: x.lstrip('vnSt').rstrip('.dft')).astype(int)"
   ]
  },
  {
   "cell_type": "code",
   "execution_count": 11,
   "metadata": {
    "collapsed": false
   },
   "outputs": [],
   "source": [
    "fullm3 = pd.merge(absv_m3,pd.merge(ebv_m3,dats,left_on=[2],right_on='ID'),left_on=[0],right_on='ID')\n",
    "fullp1 = pd.merge(absv_p1,pd.merge(ebv_p1,dats,left_on=[2],right_on='ID'),left_on=[0],right_on='ID')"
   ]
  },
  {
   "cell_type": "code",
   "execution_count": 12,
   "metadata": {
    "collapsed": false
   },
   "outputs": [
    {
     "data": {
      "text/html": [
       "<div>\n",
       "<table border=\"1\" class=\"dataframe\">\n",
       "  <thead>\n",
       "    <tr style=\"text-align: right;\">\n",
       "      <th></th>\n",
       "      <th>0</th>\n",
       "      <th>0_x</th>\n",
       "      <th>1_x</th>\n",
       "      <th>0_y</th>\n",
       "      <th>1_y</th>\n",
       "      <th>2</th>\n",
       "      <th>ID</th>\n",
       "      <th>Vmag</th>\n",
       "      <th>Vmag_ERR</th>\n",
       "      <th>UmB</th>\n",
       "      <th>...</th>\n",
       "      <th>j_m_stdap</th>\n",
       "      <th>j_msig_stdap</th>\n",
       "      <th>h_m_stdap</th>\n",
       "      <th>h_msig_stdap</th>\n",
       "      <th>k_m_stdap</th>\n",
       "      <th>k_msig_stdap</th>\n",
       "      <th>Bmag</th>\n",
       "      <th>Umag</th>\n",
       "      <th>Rmag</th>\n",
       "      <th>Imag</th>\n",
       "    </tr>\n",
       "  </thead>\n",
       "  <tbody>\n",
       "    <tr>\n",
       "      <th>0</th>\n",
       "      <td>1928</td>\n",
       "      <td>1928</td>\n",
       "      <td>1.721809</td>\n",
       "      <td>0.294290</td>\n",
       "      <td>0.050473</td>\n",
       "      <td>1928</td>\n",
       "      <td>1928</td>\n",
       "      <td>17.0384</td>\n",
       "      <td>0.0246</td>\n",
       "      <td>99.9999</td>\n",
       "      <td>...</td>\n",
       "      <td>14.057</td>\n",
       "      <td>0.034</td>\n",
       "      <td>13.525</td>\n",
       "      <td>0.047</td>\n",
       "      <td>13.419</td>\n",
       "      <td>0.052</td>\n",
       "      <td>18.0719</td>\n",
       "      <td>118.0718</td>\n",
       "      <td>15.8138</td>\n",
       "      <td>15.1439</td>\n",
       "    </tr>\n",
       "    <tr>\n",
       "      <th>1</th>\n",
       "      <td>1889</td>\n",
       "      <td>1889</td>\n",
       "      <td>0.439837</td>\n",
       "      <td>0.284259</td>\n",
       "      <td>0.016337</td>\n",
       "      <td>1889</td>\n",
       "      <td>1889</td>\n",
       "      <td>16.8150</td>\n",
       "      <td>0.0241</td>\n",
       "      <td>0.4688</td>\n",
       "      <td>...</td>\n",
       "      <td>14.458</td>\n",
       "      <td>0.060</td>\n",
       "      <td>13.858</td>\n",
       "      <td>0.016</td>\n",
       "      <td>13.766</td>\n",
       "      <td>0.133</td>\n",
       "      <td>18.0507</td>\n",
       "      <td>18.5195</td>\n",
       "      <td>16.0482</td>\n",
       "      <td>15.3769</td>\n",
       "    </tr>\n",
       "    <tr>\n",
       "      <th>2</th>\n",
       "      <td>2219</td>\n",
       "      <td>2219</td>\n",
       "      <td>1.927575</td>\n",
       "      <td>0.382576</td>\n",
       "      <td>0.067329</td>\n",
       "      <td>2219</td>\n",
       "      <td>2219</td>\n",
       "      <td>16.7786</td>\n",
       "      <td>0.0252</td>\n",
       "      <td>0.8611</td>\n",
       "      <td>...</td>\n",
       "      <td>14.496</td>\n",
       "      <td>0.027</td>\n",
       "      <td>13.988</td>\n",
       "      <td>0.043</td>\n",
       "      <td>13.835</td>\n",
       "      <td>0.180</td>\n",
       "      <td>17.9957</td>\n",
       "      <td>18.8568</td>\n",
       "      <td>16.0736</td>\n",
       "      <td>15.4306</td>\n",
       "    </tr>\n",
       "    <tr>\n",
       "      <th>3</th>\n",
       "      <td>3096</td>\n",
       "      <td>3096</td>\n",
       "      <td>1.356422</td>\n",
       "      <td>0.257450</td>\n",
       "      <td>0.095184</td>\n",
       "      <td>3096</td>\n",
       "      <td>3096</td>\n",
       "      <td>17.5759</td>\n",
       "      <td>0.0245</td>\n",
       "      <td>0.6155</td>\n",
       "      <td>...</td>\n",
       "      <td>15.363</td>\n",
       "      <td>0.087</td>\n",
       "      <td>14.706</td>\n",
       "      <td>0.056</td>\n",
       "      <td>14.403</td>\n",
       "      <td>0.062</td>\n",
       "      <td>18.8074</td>\n",
       "      <td>19.4229</td>\n",
       "      <td>16.8400</td>\n",
       "      <td>16.1925</td>\n",
       "    </tr>\n",
       "    <tr>\n",
       "      <th>4</th>\n",
       "      <td>3156</td>\n",
       "      <td>3156</td>\n",
       "      <td>-0.130629</td>\n",
       "      <td>0.082414</td>\n",
       "      <td>0.037743</td>\n",
       "      <td>3156</td>\n",
       "      <td>3156</td>\n",
       "      <td>17.5775</td>\n",
       "      <td>0.0246</td>\n",
       "      <td>99.9999</td>\n",
       "      <td>...</td>\n",
       "      <td>15.191</td>\n",
       "      <td>0.104</td>\n",
       "      <td>14.718</td>\n",
       "      <td>0.073</td>\n",
       "      <td>14.731</td>\n",
       "      <td>0.301</td>\n",
       "      <td>18.7464</td>\n",
       "      <td>118.7463</td>\n",
       "      <td>16.8488</td>\n",
       "      <td>16.1992</td>\n",
       "    </tr>\n",
       "  </tbody>\n",
       "</table>\n",
       "<p>5 rows × 59 columns</p>\n",
       "</div>"
      ],
      "text/plain": [
       "      0   0_x       1_x       0_y       1_y     2    ID     Vmag  Vmag_ERR  \\\n",
       "0  1928  1928  1.721809  0.294290  0.050473  1928  1928  17.0384    0.0246   \n",
       "1  1889  1889  0.439837  0.284259  0.016337  1889  1889  16.8150    0.0241   \n",
       "2  2219  2219  1.927575  0.382576  0.067329  2219  2219  16.7786    0.0252   \n",
       "3  3096  3096  1.356422  0.257450  0.095184  3096  3096  17.5759    0.0245   \n",
       "4  3156  3156 -0.130629  0.082414  0.037743  3156  3156  17.5775    0.0246   \n",
       "\n",
       "       UmB   ...     j_m_stdap  j_msig_stdap  h_m_stdap  h_msig_stdap  \\\n",
       "0  99.9999   ...        14.057         0.034     13.525         0.047   \n",
       "1   0.4688   ...        14.458         0.060     13.858         0.016   \n",
       "2   0.8611   ...        14.496         0.027     13.988         0.043   \n",
       "3   0.6155   ...        15.363         0.087     14.706         0.056   \n",
       "4  99.9999   ...        15.191         0.104     14.718         0.073   \n",
       "\n",
       "   k_m_stdap  k_msig_stdap     Bmag      Umag     Rmag     Imag  \n",
       "0     13.419         0.052  18.0719  118.0718  15.8138  15.1439  \n",
       "1     13.766         0.133  18.0507   18.5195  16.0482  15.3769  \n",
       "2     13.835         0.180  17.9957   18.8568  16.0736  15.4306  \n",
       "3     14.403         0.062  18.8074   19.4229  16.8400  16.1925  \n",
       "4     14.731         0.301  18.7464  118.7463  16.8488  16.1992  \n",
       "\n",
       "[5 rows x 59 columns]"
      ]
     },
     "execution_count": 12,
     "metadata": {},
     "output_type": "execute_result"
    }
   ],
   "source": [
    "fullp1.head()"
   ]
  },
  {
   "cell_type": "code",
   "execution_count": 13,
   "metadata": {
    "collapsed": false
   },
   "outputs": [],
   "source": [
    "dis_m3 = 10 **(((fullm3['Vmag']-fullm3['0_y']-fullm3['1_x'])+5)/5) /1000"
   ]
  },
  {
   "cell_type": "code",
   "execution_count": 14,
   "metadata": {
    "collapsed": false
   },
   "outputs": [],
   "source": [
    "dis_p1 = 10 **(((fullp1['Vmag']-fullp1['0_y']-fullp1['1_x'])+5)/5) /1000"
   ]
  },
  {
   "cell_type": "code",
   "execution_count": 15,
   "metadata": {
    "collapsed": true
   },
   "outputs": [],
   "source": [
    "fullp1['diserr'] = (10 **(((fullp1['Vmag']-fullp1['0_y']+0.7-fullp1['1_x'])+5)/5) /1000 -10 **(((fullp1['Vmag']-fullp1['0_y']-0.7-fullp1['1_x'])+5)/5) /1000)/2"
   ]
  },
  {
   "cell_type": "code",
   "execution_count": 16,
   "metadata": {
    "collapsed": true
   },
   "outputs": [],
   "source": [
    "fullm3['diserr'] = (10 **(((fullm3['Vmag']-fullm3['0_y']+0.7-fullm3['1_x'])+5)/5) /1000 -10 **(((fullm3['Vmag']-fullm3['0_y']-0.7-fullm3['1_x'])+5)/5) /1000)/2"
   ]
  },
  {
   "cell_type": "code",
   "execution_count": 17,
   "metadata": {
    "collapsed": false
   },
   "outputs": [
    {
     "name": "stdout",
     "output_type": "stream",
     "text": [
      "Populating the interactive namespace from numpy and matplotlib\n"
     ]
    },
    {
     "name": "stderr",
     "output_type": "stream",
     "text": [
      "WARNING: pylab import has clobbered these variables: ['hist', 'griddata']\n",
      "`%matplotlib` prevents importing * from pylab and numpy\n"
     ]
    },
    {
     "data": {
      "text/plain": [
       "<Container object of 3 artists>"
      ]
     },
     "execution_count": 17,
     "metadata": {},
     "output_type": "execute_result"
    },
    {
     "data": {
      "image/png": "[encoded data removed]",
      "text/plain": [
       "<matplotlib.figure.Figure at 0x10c542e48>"
      ]
     },
     "metadata": {},
     "output_type": "display_data"
    }
   ],
   "source": [
    "%pylab inline\n",
    "pylab.rcParams['figure.figsize']=(10.,7.5)\n",
    "axes=plt.gca()\n",
    "#axes.set_xlim([0,60])\n",
    "#sns.plt.errorbar(dis_m3,fullm3['0_y'],yerr=fullm3['1_y'],xerr=fullm3['diserr'],fmt='o')\n",
    "sns.plt.errorbar(dis_m3,fullm3['0_y'],fmt='o')"
   ]
  },
  {
   "cell_type": "code",
   "execution_count": 18,
   "metadata": {
    "collapsed": false
   },
   "outputs": [
    {
     "data": {
      "text/plain": [
       "237"
      ]
     },
     "execution_count": 18,
     "metadata": {},
     "output_type": "execute_result"
    }
   ],
   "source": [
    "len(dis_m3)"
   ]
  },
  {
   "cell_type": "code",
   "execution_count": 19,
   "metadata": {
    "collapsed": false
   },
   "outputs": [
    {
     "name": "stdout",
     "output_type": "stream",
     "text": [
      "Populating the interactive namespace from numpy and matplotlib\n"
     ]
    },
    {
     "name": "stderr",
     "output_type": "stream",
     "text": [
      "WARNING: pylab import has clobbered these variables: ['axes']\n",
      "`%matplotlib` prevents importing * from pylab and numpy\n"
     ]
    },
    {
     "data": {
      "text/plain": [
       "<Container object of 3 artists>"
      ]
     },
     "execution_count": 19,
     "metadata": {},
     "output_type": "execute_result"
    },
    {
     "data": {
      "image/png": "[encoded data removed]",
      "text/plain": [
       "<matplotlib.figure.Figure at 0x10ca3fa58>"
      ]
     },
     "metadata": {},
     "output_type": "display_data"
    }
   ],
   "source": [
    "%pylab inline\n",
    "pylab.rcParams['figure.figsize']=(8.,6.)\n",
    "sns.plt.errorbar(dis_p1,fullp1['0_y'],yerr=fullp1['1_y'],xerr=fullp1['diserr'],fmt='o',c='g')\n",
    "sns.plt.errorbar(dis_m3,fullm3['0_y'],yerr=fullm3['1_y'],fmt='o')"
   ]
  },
  {
   "cell_type": "code",
   "execution_count": 20,
   "metadata": {
    "collapsed": false
   },
   "outputs": [
    {
     "data": {
      "text/plain": [
       "count    176.000000\n",
       "mean       6.948704\n",
       "std        4.352630\n",
       "min        0.705310\n",
       "25%        4.239908\n",
       "50%        5.826749\n",
       "75%        8.274661\n",
       "max       33.507567\n",
       "dtype: float64"
      ]
     },
     "execution_count": 20,
     "metadata": {},
     "output_type": "execute_result"
    }
   ],
   "source": [
    "dis_p1.describe()"
   ]
  },
  {
   "cell_type": "code",
   "execution_count": 21,
   "metadata": {
    "collapsed": false
   },
   "outputs": [
    {
     "data": {
      "text/plain": [
       "count    233.000000\n",
       "mean       9.034890\n",
       "std        5.144381\n",
       "min        1.799529\n",
       "25%        5.470337\n",
       "50%        7.837892\n",
       "75%       11.186194\n",
       "max       44.813910\n",
       "dtype: float64"
      ]
     },
     "execution_count": 21,
     "metadata": {},
     "output_type": "execute_result"
    }
   ],
   "source": [
    "dis_m3.describe()"
   ]
  },
  {
   "cell_type": "code",
   "execution_count": 22,
   "metadata": {
    "collapsed": false
   },
   "outputs": [
    {
     "data": {
      "text/plain": [
       "count    178.000000\n",
       "mean       0.311560\n",
       "std        0.089483\n",
       "min        0.039066\n",
       "25%        0.255161\n",
       "50%        0.309103\n",
       "75%        0.367407\n",
       "max        0.599025\n",
       "Name: 0_y, dtype: float64"
      ]
     },
     "execution_count": 22,
     "metadata": {},
     "output_type": "execute_result"
    }
   ],
   "source": [
    "fullp1['0_y'].describe()"
   ]
  },
  {
   "cell_type": "code",
   "execution_count": 23,
   "metadata": {
    "collapsed": false
   },
   "outputs": [
    {
     "data": {
      "text/plain": [
       "count    237.000000\n",
       "mean       0.299691\n",
       "std        0.115228\n",
       "min        0.030407\n",
       "25%        0.235013\n",
       "50%        0.299973\n",
       "75%        0.362708\n",
       "max        0.779334\n",
       "Name: 0_y, dtype: float64"
      ]
     },
     "execution_count": 23,
     "metadata": {},
     "output_type": "execute_result"
    }
   ],
   "source": [
    "fullm3['0_y'].describe()"
   ]
  },
  {
   "cell_type": "code",
   "execution_count": 24,
   "metadata": {
    "collapsed": false
   },
   "outputs": [],
   "source": [
    "ll = (dis_m3.dropna(axis=0)-dis_p1.dropna(axis=0)).astype(float)"
   ]
  },
  {
   "cell_type": "code",
   "execution_count": 25,
   "metadata": {
    "collapsed": false
   },
   "outputs": [
    {
     "data": {
      "text/plain": [
       "count    173.000000\n",
       "mean       2.701698\n",
       "std        6.212591\n",
       "min      -21.985302\n",
       "25%       -0.233968\n",
       "50%        2.205752\n",
       "75%        5.873269\n",
       "max       35.991705\n",
       "dtype: float64"
      ]
     },
     "execution_count": 25,
     "metadata": {},
     "output_type": "execute_result"
    }
   ],
   "source": [
    "ll.describe()"
   ]
  },
  {
   "cell_type": "code",
   "execution_count": 26,
   "metadata": {
    "collapsed": false
   },
   "outputs": [
    {
     "data": {
      "text/plain": [
       "<matplotlib.axes._subplots.AxesSubplot at 0x10c7c4cc0>"
      ]
     },
     "execution_count": 26,
     "metadata": {},
     "output_type": "execute_result"
    },
    {
     "data": {
      "image/png": "[encoded data removed]",
      "text/plain": [
       "<matplotlib.figure.Figure at 0x10c7c2a58>"
      ]
     },
     "metadata": {},
     "output_type": "display_data"
    }
   ],
   "source": [
    "sns.distplot(ll.dropna(),kde=False)"
   ]
  },
  {
   "cell_type": "code",
   "execution_count": 27,
   "metadata": {
    "collapsed": false
   },
   "outputs": [],
   "source": [
    "l2 = (dis_m3.dropna(axis=0)-dis_p1.dropna(axis=0))/dis_m3.dropna(axis=0).astype(float).dropna(axis=0)"
   ]
  },
  {
   "cell_type": "code",
   "execution_count": 28,
   "metadata": {
    "collapsed": false
   },
   "outputs": [
    {
     "data": {
      "text/plain": [
       "<matplotlib.axes._subplots.AxesSubplot at 0x10c92d588>"
      ]
     },
     "execution_count": 28,
     "metadata": {},
     "output_type": "execute_result"
    },
    {
     "data": {
      "image/png": "[encoded data removed]",
      "text/plain": [
       "<matplotlib.figure.Figure at 0x10c983e48>"
      ]
     },
     "metadata": {},
     "output_type": "display_data"
    }
   ],
   "source": [
    "sns.distplot(l2.dropna(),kde=False)"
   ]
  },
  {
   "cell_type": "code",
   "execution_count": 29,
   "metadata": {
    "collapsed": false
   },
   "outputs": [
    {
     "data": {
      "text/plain": [
       "0.11357069887625947"
      ]
     },
     "execution_count": 29,
     "metadata": {},
     "output_type": "execute_result"
    }
   ],
   "source": [
    "l2.mean()"
   ]
  },
  {
   "cell_type": "code",
   "execution_count": 30,
   "metadata": {
    "collapsed": false
   },
   "outputs": [
    {
     "data": {
      "image/png": "[encoded data removed]",
      "text/plain": [
       "<matplotlib.figure.Figure at 0x10c9e0c88>"
      ]
     },
     "metadata": {},
     "output_type": "display_data"
    }
   ],
   "source": [
    "nn=sns.jointplot(dis_m3,ebv_m3[1],color='r',xlim=(1,20))\n",
    "# nn.x=dis_p1\n",
    "# nn.y=ebv_p1[1]\n",
    "# nn.plot_joint(plt.scatter,color='g')"
   ]
  },
  {
   "cell_type": "code",
   "execution_count": 31,
   "metadata": {
    "collapsed": false
   },
   "outputs": [
    {
     "data": {
      "text/plain": [
       "<matplotlib.collections.PathCollection at 0x10d41e470>"
      ]
     },
     "execution_count": 31,
     "metadata": {},
     "output_type": "execute_result"
    },
    {
     "data": {
      "image/png": "[encoded data removed]",
      "text/plain": [
       "<matplotlib.figure.Figure at 0x10d019208>"
      ]
     },
     "metadata": {},
     "output_type": "display_data"
    }
   ],
   "source": [
    "sns.plt.scatter(dis_p1,ebv_p1[1])"
   ]
  },
  {
   "cell_type": "code",
   "execution_count": 32,
   "metadata": {
    "collapsed": false
   },
   "outputs": [],
   "source": [
    "paras = pd.read_csv('Sp_ace/paras_full_v2.dat',header=None,sep=' ')"
   ]
  },
  {
   "cell_type": "code",
   "execution_count": 33,
   "metadata": {
    "collapsed": false
   },
   "outputs": [
    {
     "data": {
      "text/html": [
       "<div>\n",
       "<table border=\"1\" class=\"dataframe\">\n",
       "  <thead>\n",
       "    <tr style=\"text-align: right;\">\n",
       "      <th></th>\n",
       "      <th>0</th>\n",
       "      <th>1</th>\n",
       "      <th>2</th>\n",
       "      <th>3</th>\n",
       "      <th>4</th>\n",
       "      <th>5</th>\n",
       "      <th>6</th>\n",
       "    </tr>\n",
       "  </thead>\n",
       "  <tbody>\n",
       "    <tr>\n",
       "      <th>0</th>\n",
       "      <td>vnSt02801.dft</td>\n",
       "      <td>4916</td>\n",
       "      <td>110.5</td>\n",
       "      <td>3.37</td>\n",
       "      <td>0.19</td>\n",
       "      <td>-0.62</td>\n",
       "      <td>0.08</td>\n",
       "    </tr>\n",
       "    <tr>\n",
       "      <th>1</th>\n",
       "      <td>vnSt01928.dft</td>\n",
       "      <td>4661</td>\n",
       "      <td>111.0</td>\n",
       "      <td>2.82</td>\n",
       "      <td>0.35</td>\n",
       "      <td>-0.38</td>\n",
       "      <td>0.12</td>\n",
       "    </tr>\n",
       "  </tbody>\n",
       "</table>\n",
       "</div>"
      ],
      "text/plain": [
       "               0     1      2     3     4     5     6\n",
       "0  vnSt02801.dft  4916  110.5  3.37  0.19 -0.62  0.08\n",
       "1  vnSt01928.dft  4661  111.0  2.82  0.35 -0.38  0.12"
      ]
     },
     "execution_count": 33,
     "metadata": {},
     "output_type": "execute_result"
    }
   ],
   "source": [
    "paras.head(2)"
   ]
  },
  {
   "cell_type": "code",
   "execution_count": 34,
   "metadata": {
    "collapsed": true
   },
   "outputs": [],
   "source": [
    "paras[0] = paras[0].map(lambda x: x.lstrip('vnSt').rstrip('.dft')).astype(int)"
   ]
  },
  {
   "cell_type": "code",
   "execution_count": 35,
   "metadata": {
    "collapsed": true
   },
   "outputs": [],
   "source": [
    "fullm3 = pd.merge(fullm3,paras,left_on=[0],right_on=[0])"
   ]
  },
  {
   "cell_type": "code",
   "execution_count": 36,
   "metadata": {
    "collapsed": false
   },
   "outputs": [],
   "source": [
    "fullm3l = fullm3.loc[fullm3[3] <= 3.5]"
   ]
  },
  {
   "cell_type": "code",
   "execution_count": 37,
   "metadata": {
    "collapsed": false
   },
   "outputs": [],
   "source": [
    "dis_m3l = 10 **(((fullm3l['Vmag']-fullm3l['1_y']-fullm3l['1_x'])+5)/5) /1000"
   ]
  },
  {
   "cell_type": "code",
   "execution_count": 38,
   "metadata": {
    "collapsed": true
   },
   "outputs": [],
   "source": [
    "fullp1 = pd.merge(fullp1,paras,left_on=[0],right_on=[0])"
   ]
  },
  {
   "cell_type": "code",
   "execution_count": 39,
   "metadata": {
    "collapsed": true
   },
   "outputs": [],
   "source": [
    "fullp1l = fullp1.loc[fullp1[3] <= 3.5]"
   ]
  },
  {
   "cell_type": "code",
   "execution_count": 40,
   "metadata": {
    "collapsed": true
   },
   "outputs": [],
   "source": [
    "dis_p1l = 10 **(((fullp1l['Vmag']-fullp1l['1_y']-fullp1l['1_x'])+5)/5) /1000"
   ]
  },
  {
   "cell_type": "code",
   "execution_count": 41,
   "metadata": {
    "collapsed": true
   },
   "outputs": [],
   "source": [
    "ll2 = (dis_m3l.dropna(axis=0)-dis_p1l.dropna(axis=0)).astype(float)"
   ]
  },
  {
   "cell_type": "code",
   "execution_count": 42,
   "metadata": {
    "collapsed": false
   },
   "outputs": [
    {
     "data": {
      "text/plain": [
       "<matplotlib.axes._subplots.AxesSubplot at 0x10d32f048>"
      ]
     },
     "execution_count": 42,
     "metadata": {},
     "output_type": "execute_result"
    },
    {
     "data": {
      "image/png": "[encoded data removed]",
      "text/plain": [
       "<matplotlib.figure.Figure at 0x10d4567f0>"
      ]
     },
     "metadata": {},
     "output_type": "display_data"
    }
   ],
   "source": [
    "sns.distplot(ll2.dropna(),kde=False)"
   ]
  },
  {
   "cell_type": "code",
   "execution_count": 43,
   "metadata": {
    "collapsed": false
   },
   "outputs": [
    {
     "data": {
      "text/plain": [
       "<matplotlib.axes._subplots.AxesSubplot at 0x10d5749e8>"
      ]
     },
     "execution_count": 43,
     "metadata": {},
     "output_type": "execute_result"
    },
    {
     "data": {
      "image/png": "[encoded data removed]",
      "text/plain": [
       "<matplotlib.figure.Figure at 0x10d2efbe0>"
      ]
     },
     "metadata": {},
     "output_type": "display_data"
    }
   ],
   "source": [
    "sns.distplot(dis_m3l.dropna())\n",
    "sns.distplot(dis_p1l.dropna())"
   ]
  },
  {
   "cell_type": "code",
   "execution_count": 44,
   "metadata": {
    "collapsed": false
   },
   "outputs": [
    {
     "data": {
      "text/plain": [
       "count    161.000000\n",
       "mean       0.003118\n",
       "std        0.094445\n",
       "min       -0.317803\n",
       "25%       -0.027378\n",
       "50%       -0.001096\n",
       "75%        0.022684\n",
       "max        0.412440\n",
       "Name: 1, dtype: float64"
      ]
     },
     "execution_count": 44,
     "metadata": {},
     "output_type": "execute_result"
    }
   ],
   "source": [
    "(ebv_m3[1]-ebv_p1[1]).describe()"
   ]
  },
  {
   "cell_type": "code",
   "execution_count": 45,
   "metadata": {
    "collapsed": false
   },
   "outputs": [
    {
     "data": {
      "text/plain": [
       "(191, 191)"
      ]
     },
     "execution_count": 45,
     "metadata": {},
     "output_type": "execute_result"
    }
   ],
   "source": [
    "len(fullm3l),len(dis_m3l)"
   ]
  },
  {
   "cell_type": "code",
   "execution_count": 46,
   "metadata": {
    "collapsed": false
   },
   "outputs": [
    {
     "data": {
      "text/plain": [
       "<seaborn.axisgrid.JointGrid at 0x10d880390>"
      ]
     },
     "execution_count": 46,
     "metadata": {},
     "output_type": "execute_result"
    },
    {
     "data": {
      "image/png": "[encoded data removed]",
      "text/plain": [
       "<matplotlib.figure.Figure at 0x10d880ef0>"
      ]
     },
     "metadata": {},
     "output_type": "display_data"
    }
   ],
   "source": [
    "sns.jointplot(dis_m3l,fullm3l['1_y'],xlim=(2,20))"
   ]
  },
  {
   "cell_type": "code",
   "execution_count": 47,
   "metadata": {
    "collapsed": false
   },
   "outputs": [],
   "source": [
    "bright = pd.read_csv('Sp_ace/paras_bright_abdon.dat',sep=' ',header=None)"
   ]
  },
  {
   "cell_type": "code",
   "execution_count": 48,
   "metadata": {
    "collapsed": false
   },
   "outputs": [],
   "source": [
    "bright[0] = bright[0].map(lambda x: x.lstrip('vnSt').rstrip('.dft')).astype(int)"
   ]
  },
  {
   "cell_type": "code",
   "execution_count": 49,
   "metadata": {
    "collapsed": false
   },
   "outputs": [
    {
     "data": {
      "text/html": [
       "<div>\n",
       "<table border=\"1\" class=\"dataframe\">\n",
       "  <thead>\n",
       "    <tr style=\"text-align: right;\">\n",
       "      <th></th>\n",
       "      <th>0</th>\n",
       "      <th>1</th>\n",
       "      <th>2</th>\n",
       "      <th>3</th>\n",
       "      <th>4</th>\n",
       "      <th>5</th>\n",
       "      <th>6</th>\n",
       "      <th>7</th>\n",
       "      <th>8</th>\n",
       "      <th>9</th>\n",
       "      <th>10</th>\n",
       "      <th>11</th>\n",
       "      <th>12</th>\n",
       "      <th>13</th>\n",
       "    </tr>\n",
       "  </thead>\n",
       "  <tbody>\n",
       "    <tr>\n",
       "      <th>0</th>\n",
       "      <td>755</td>\n",
       "      <td>5397</td>\n",
       "      <td>5315</td>\n",
       "      <td>5473</td>\n",
       "      <td>3.22</td>\n",
       "      <td>3.05</td>\n",
       "      <td>3.48</td>\n",
       "      <td>-0.44</td>\n",
       "      <td>-0.48</td>\n",
       "      <td>-0.34</td>\n",
       "      <td>-29.4</td>\n",
       "      <td>4.91</td>\n",
       "      <td>101.0</td>\n",
       "      <td>1.27</td>\n",
       "    </tr>\n",
       "    <tr>\n",
       "      <th>1</th>\n",
       "      <td>1301</td>\n",
       "      <td>5042</td>\n",
       "      <td>4860</td>\n",
       "      <td>5232</td>\n",
       "      <td>3.23</td>\n",
       "      <td>2.88</td>\n",
       "      <td>3.59</td>\n",
       "      <td>-0.57</td>\n",
       "      <td>-0.72</td>\n",
       "      <td>-0.41</td>\n",
       "      <td>-22.3</td>\n",
       "      <td>5.50</td>\n",
       "      <td>63.1</td>\n",
       "      <td>0.88</td>\n",
       "    </tr>\n",
       "  </tbody>\n",
       "</table>\n",
       "</div>"
      ],
      "text/plain": [
       "     0     1     2     3     4     5     6     7     8      9     10    11  \\\n",
       "0   755  5397  5315  5473  3.22  3.05  3.48 -0.44 -0.48  -0.34 -29.4  4.91   \n",
       "1  1301  5042  4860  5232  3.23  2.88  3.59 -0.57 -0.72  -0.41 -22.3  5.50   \n",
       "\n",
       "      12    13  \n",
       "0  101.0  1.27  \n",
       "1   63.1  0.88  "
      ]
     },
     "execution_count": 49,
     "metadata": {},
     "output_type": "execute_result"
    }
   ],
   "source": [
    "bright.head(2)"
   ]
  },
  {
   "cell_type": "code",
   "execution_count": 50,
   "metadata": {
    "collapsed": false
   },
   "outputs": [
    {
     "data": {
      "text/html": [
       "<div>\n",
       "<table border=\"1\" class=\"dataframe\">\n",
       "  <thead>\n",
       "    <tr style=\"text-align: right;\">\n",
       "      <th></th>\n",
       "      <th>0</th>\n",
       "      <th>0_x</th>\n",
       "      <th>1_x</th>\n",
       "      <th>0_y</th>\n",
       "      <th>1_y</th>\n",
       "      <th>2_x</th>\n",
       "      <th>ID</th>\n",
       "      <th>Vmag</th>\n",
       "      <th>Vmag_ERR</th>\n",
       "      <th>UmB</th>\n",
       "      <th>...</th>\n",
       "      <th>Umag</th>\n",
       "      <th>Rmag</th>\n",
       "      <th>Imag</th>\n",
       "      <th>diserr</th>\n",
       "      <th>1</th>\n",
       "      <th>2_y</th>\n",
       "      <th>3</th>\n",
       "      <th>4</th>\n",
       "      <th>5</th>\n",
       "      <th>6</th>\n",
       "    </tr>\n",
       "  </thead>\n",
       "  <tbody>\n",
       "    <tr>\n",
       "      <th>0</th>\n",
       "      <td>2801</td>\n",
       "      <td>2801</td>\n",
       "      <td>1.981351</td>\n",
       "      <td>0.179640</td>\n",
       "      <td>0.057002</td>\n",
       "      <td>2801</td>\n",
       "      <td>2801</td>\n",
       "      <td>17.3668</td>\n",
       "      <td>0.0252</td>\n",
       "      <td>99.9999</td>\n",
       "      <td>...</td>\n",
       "      <td>118.4628</td>\n",
       "      <td>16.6741</td>\n",
       "      <td>16.0320</td>\n",
       "      <td>3.605799</td>\n",
       "      <td>4916</td>\n",
       "      <td>110.5</td>\n",
       "      <td>3.37</td>\n",
       "      <td>0.19</td>\n",
       "      <td>-0.62</td>\n",
       "      <td>0.08</td>\n",
       "    </tr>\n",
       "    <tr>\n",
       "      <th>1</th>\n",
       "      <td>1928</td>\n",
       "      <td>1928</td>\n",
       "      <td>0.796001</td>\n",
       "      <td>0.291773</td>\n",
       "      <td>0.050013</td>\n",
       "      <td>1928</td>\n",
       "      <td>1928</td>\n",
       "      <td>17.0384</td>\n",
       "      <td>0.0246</td>\n",
       "      <td>99.9999</td>\n",
       "      <td>...</td>\n",
       "      <td>118.0718</td>\n",
       "      <td>15.8138</td>\n",
       "      <td>15.1439</td>\n",
       "      <td>5.081183</td>\n",
       "      <td>4661</td>\n",
       "      <td>111.0</td>\n",
       "      <td>2.82</td>\n",
       "      <td>0.35</td>\n",
       "      <td>-0.38</td>\n",
       "      <td>0.12</td>\n",
       "    </tr>\n",
       "  </tbody>\n",
       "</table>\n",
       "<p>2 rows × 66 columns</p>\n",
       "</div>"
      ],
      "text/plain": [
       "      0   0_x       1_x       0_y       1_y   2_x    ID     Vmag  Vmag_ERR  \\\n",
       "0  2801  2801  1.981351  0.179640  0.057002  2801  2801  17.3668    0.0252   \n",
       "1  1928  1928  0.796001  0.291773  0.050013  1928  1928  17.0384    0.0246   \n",
       "\n",
       "       UmB  ...       Umag     Rmag     Imag    diserr     1    2_y     3  \\\n",
       "0  99.9999  ...   118.4628  16.6741  16.0320  3.605799  4916  110.5  3.37   \n",
       "1  99.9999  ...   118.0718  15.8138  15.1439  5.081183  4661  111.0  2.82   \n",
       "\n",
       "      4     5     6  \n",
       "0  0.19 -0.62  0.08  \n",
       "1  0.35 -0.38  0.12  \n",
       "\n",
       "[2 rows x 66 columns]"
      ]
     },
     "execution_count": 50,
     "metadata": {},
     "output_type": "execute_result"
    }
   ],
   "source": [
    "fullm3.head(2)"
   ]
  },
  {
   "cell_type": "code",
   "execution_count": 51,
   "metadata": {
    "collapsed": false
   },
   "outputs": [],
   "source": [
    "fullm3['dis'] = dis_m3"
   ]
  },
  {
   "cell_type": "code",
   "execution_count": 52,
   "metadata": {
    "collapsed": false
   },
   "outputs": [],
   "source": [
    "bright = pd.merge(bright,fullm3,left_on=[0],right_on=[0],suffixes=('y','z'))"
   ]
  },
  {
   "cell_type": "code",
   "execution_count": 53,
   "metadata": {
    "collapsed": false
   },
   "outputs": [
    {
     "data": {
      "text/plain": [
       "<Container object of 3 artists>"
      ]
     },
     "execution_count": 53,
     "metadata": {},
     "output_type": "execute_result"
    },
    {
     "data": {
      "image/png": "[encoded data removed]",
      "text/plain": [
       "<matplotlib.figure.Figure at 0x10df41400>"
      ]
     },
     "metadata": {},
     "output_type": "display_data"
    }
   ],
   "source": [
    "plt.errorbar(bright['dis'],bright['0_y'],yerr=bright['1_y'],fmt='o')"
   ]
  },
  {
   "cell_type": "code",
   "execution_count": 54,
   "metadata": {
    "collapsed": false,
    "scrolled": false
   },
   "outputs": [
    {
     "data": {
      "text/plain": [
       "<seaborn.axisgrid.JointGrid at 0x10de4c208>"
      ]
     },
     "execution_count": 54,
     "metadata": {},
     "output_type": "execute_result"
    },
    {
     "data": {
      "image/png": "[encoded data removed]",
      "text/plain": [
       "<matplotlib.figure.Figure at 0x10df9d128>"
      ]
     },
     "metadata": {},
     "output_type": "display_data"
    }
   ],
   "source": [
    "sns.jointplot(bright['dis'],bright['1_y'])"
   ]
  },
  {
   "cell_type": "code",
   "execution_count": 55,
   "metadata": {
    "collapsed": false
   },
   "outputs": [],
   "source": [
    "datas = pd.DataFrame([bright['GLAT'],bright['GLON'],bright['1_y']]).T"
   ]
  },
  {
   "cell_type": "code",
   "execution_count": 56,
   "metadata": {
    "collapsed": false
   },
   "outputs": [
    {
     "data": {
      "text/plain": [
       "array([ 0.04155259,  0.07275238,  0.04496189,  0.00505871,  0.04530458,\n",
       "        0.07369191,  0.03814038,  0.09477892,  0.04669327,  0.19566464,\n",
       "        0.05789374,  0.07323638,  0.0432759 ,  0.04286726,  0.03796842,\n",
       "        0.05297302,  0.05266048,  0.0607378 ,         nan,  0.05853684,\n",
       "        0.04507566,  0.05654342,  0.23914767,  0.04440378,  0.06758987,\n",
       "        0.22939969,  0.05490325,  0.03024535,  0.00259061,  0.04802452,\n",
       "        0.04721706,  0.0816944 ,  0.06663883,  0.04467916,  0.29068988,\n",
       "        0.05685933,         nan,  0.06295307,  0.04328676,  0.06366077,\n",
       "        0.048711  ,  0.06884502,  0.08517176,  0.04411788,         nan,\n",
       "        0.0430395 ,  0.04172331,         nan,  0.06111197,  0.04555758,\n",
       "        0.04728179,  0.00513572,  0.00119608,         nan,  0.00463283,\n",
       "        0.05090618,  0.0622752 ,  0.21194543,  0.00102395,  0.05434583,\n",
       "        0.05391761,  0.00680496,  0.04561947,  0.04777957,  0.05497912,\n",
       "        0.00608788,  0.0551683 ,  0.04466473,  0.0371491 ,  0.04054331,\n",
       "               nan,  0.00479567,  0.00064422,  0.04384455,  0.04445444,\n",
       "        0.00284215,  0.05263416,  0.04280153,  0.07620258,  0.00495469,\n",
       "        0.04883312,  0.04724058,  0.05112198,  0.0499415 ,  0.03851997,\n",
       "        0.05383327,  0.08910431,  0.01202645,  0.04842896,  0.05924389,\n",
       "        0.18331673,  0.07837239,  0.07227719,  0.00283449,  0.05604453,\n",
       "        0.05077032,  0.07137766,  0.25154584,  0.00224969,  0.00278344,\n",
       "        0.05493514,  0.04474494,  0.04551445,  0.26192784,  0.05635018,\n",
       "        0.04494774,  0.08416335,  0.06170591,  0.03913128,  0.03873405,\n",
       "        0.03815552,  0.04798907,  0.0681023 ,  0.05003985,  0.00231403,\n",
       "        0.05452275,  0.0673728 ,  0.04579161,  0.06404771,  0.06687893,\n",
       "        0.25388659,  0.04397766,  0.05696059,  0.00698667,  0.04466168,\n",
       "        0.26303628,  0.01528536,  0.06141496,  0.00875089,  0.04514044,\n",
       "        0.06551752,  0.00531333,  0.04670265,  0.04825764,  0.04820171,\n",
       "        0.04146211,  0.04388075,  0.04926222,  0.04472379,  0.05088854,\n",
       "        0.04993208,  0.05641904,  0.0605173 ,  0.00340888,  0.06750232,\n",
       "        0.05546077,  0.04509373,  0.051228  ,  0.05935002,         nan,\n",
       "        0.04048814,  0.04418493,  0.06781638,  0.04379483,  0.07078466])"
      ]
     },
     "execution_count": 56,
     "metadata": {},
     "output_type": "execute_result"
    }
   ],
   "source": [
    "np.array(bright['1_y'])"
   ]
  },
  {
   "cell_type": "code",
   "execution_count": 59,
   "metadata": {
    "collapsed": false
   },
   "outputs": [],
   "source": [
    "# x=np.array(bright['GLAT'])\n",
    "# y=np.array(bright['GLON'])\n",
    "# z=np.array(bright['1_y'])\n",
    "# xv=np.linspace(x.min(),x.max(),100)\n",
    "# yv=np.linspace(y.min(),y.max(),100)\n",
    "# zv=griddata((x,y),z,(xv[None,:],yv[:,None]))\n",
    "# levels=np.arange(0,0.7,0.05)\n",
    "# sns.plt.contourf(xv,yv,zv,levels,alpha=0.7,cmap=plt.cm.jet)\n",
    "# plt.colorbar()"
   ]
  },
  {
   "cell_type": "code",
   "execution_count": 60,
   "metadata": {
    "collapsed": false
   },
   "outputs": [
    {
     "data": {
      "text/plain": [
       "<matplotlib.image.AxesImage at 0x10e4dd278>"
      ]
     },
     "execution_count": 60,
     "metadata": {},
     "output_type": "execute_result"
    },
    {
     "data": {
      "image/png": "[encoded data removed]",
      "text/plain": [
       "<matplotlib.figure.Figure at 0x10e2cc3c8>"
      ]
     },
     "metadata": {},
     "output_type": "display_data"
    }
   ],
   "source": [
    "N,xedges,yedges=binned_statistic_2d(x,y,z,'count',bins=12)\n",
    "cmap=sns.plt.cm.jet\n",
    "cmap.set_bad('w',1.)\n",
    "sns.plt.imshow(np.log10(N.T), origin='lower',\n",
    "           extent=[xedges[0], xedges[-1], yedges[0], yedges[-1]],\n",
    "           aspect='auto', interpolation='nearest', cmap=cmap)\n",
    "# levels = np.linspace(0, np.log10(N.max()), 7)[2:]\n",
    "# plt.contour(np.log10(N.T), levels, colors='k', linewidths=1,\n",
    "#             extent=[xedges[0], xedges[-1], yedges[0], yedges[-1]])"
   ]
  },
  {
   "cell_type": "code",
   "execution_count": 61,
   "metadata": {
    "collapsed": false
   },
   "outputs": [
    {
     "data": {
      "text/plain": [
       "count    148.000000\n",
       "mean       0.058951\n",
       "std        0.053180\n",
       "min        0.000644\n",
       "25%        0.042996\n",
       "50%        0.048570\n",
       "75%        0.061488\n",
       "max        0.290690\n",
       "Name: 1_y, dtype: float64"
      ]
     },
     "execution_count": 61,
     "metadata": {},
     "output_type": "execute_result"
    }
   ],
   "source": [
    "bright['1_y'].describe()"
   ]
  },
  {
   "cell_type": "code",
   "execution_count": 62,
   "metadata": {
    "collapsed": false
   },
   "outputs": [
    {
     "data": {
      "text/plain": [
       "count    161.000000\n",
       "mean       0.003118\n",
       "std        0.094445\n",
       "min       -0.317803\n",
       "25%       -0.027378\n",
       "50%       -0.001096\n",
       "75%        0.022684\n",
       "max        0.412440\n",
       "Name: 1, dtype: float64"
      ]
     },
     "execution_count": 62,
     "metadata": {},
     "output_type": "execute_result"
    }
   ],
   "source": [
    "(ebv_m3[1]-ebv_p1[1]).describe()"
   ]
  },
  {
   "cell_type": "code",
   "execution_count": 63,
   "metadata": {
    "collapsed": false
   },
   "outputs": [],
   "source": [
    "reds = pd.read_csv('rc_ebvs.dat',header=None)"
   ]
  },
  {
   "cell_type": "code",
   "execution_count": 64,
   "metadata": {
    "collapsed": false
   },
   "outputs": [],
   "source": [
    "alld = pd.read_csv('ALL-2MASS-matched.csv')"
   ]
  },
  {
   "cell_type": "code",
   "execution_count": 65,
   "metadata": {
    "collapsed": false
   },
   "outputs": [],
   "source": [
    "reds = pd.merge(reds,alld,left_on=[0],right_on=['ID'])"
   ]
  },
  {
   "cell_type": "code",
   "execution_count": 66,
   "metadata": {
    "collapsed": true
   },
   "outputs": [],
   "source": [
    "ll = bright['1_y']\n",
    "pp = bright['Vmag_ERR']\n",
    "kk = bright['k_msig_stdap']"
   ]
  },
  {
   "cell_type": "code",
   "execution_count": 67,
   "metadata": {
    "collapsed": false
   },
   "outputs": [
    {
     "data": {
      "text/plain": [
       "<seaborn.axisgrid.JointGrid at 0x10e2d2748>"
      ]
     },
     "execution_count": 67,
     "metadata": {},
     "output_type": "execute_result"
    },
    {
     "data": {
      "image/png": "[encoded data removed]",
      "text/plain": [
       "<matplotlib.figure.Figure at 0x10e2d2940>"
      ]
     },
     "metadata": {},
     "output_type": "display_data"
    }
   ],
   "source": [
    "sns.jointplot(ll,kk,ylim=(0,0.5))"
   ]
  },
  {
   "cell_type": "code",
   "execution_count": 68,
   "metadata": {
    "collapsed": false
   },
   "outputs": [
    {
     "data": {
      "text/plain": [
       "<matplotlib.axes._subplots.AxesSubplot at 0x10e9eec18>"
      ]
     },
     "execution_count": 68,
     "metadata": {},
     "output_type": "execute_result"
    },
    {
     "data": {
      "image/png": "[encoded data removed]",
      "text/plain": [
       "<matplotlib.figure.Figure at 0x10e9c5208>"
      ]
     },
     "metadata": {},
     "output_type": "display_data"
    }
   ],
   "source": [
    "sns.distplot(pd.read_csv('rc_dist_error/vnSt02478.dft',header=None,sep=' ')[0],\n",
    "             hist_kws={'weights' : pd.read_csv('rc_dist_error/vnSt02478.dft',header=None,sep=' ')[1]},kde=False)"
   ]
  },
  {
   "cell_type": "code",
   "execution_count": 69,
   "metadata": {
    "collapsed": false
   },
   "outputs": [],
   "source": [
    "# sns.kdeplot(pd.read_csv('rc_dist_error/vnSt02219.dft',header=None,sep=' ')[0],\n",
    "#               pd.read_csv('rc_dist_error/vnSt02219.dft',header=None,sep=' ')[1],vertical=True)"
   ]
  },
  {
   "cell_type": "code",
   "execution_count": 70,
   "metadata": {
    "collapsed": false
   },
   "outputs": [
    {
     "data": {
      "text/plain": [
       "Index([             0,          '0_x',          '1_x',          '0_y',\n",
       "                '1_y',          '2_x',           'ID',         'Vmag',\n",
       "           'Vmag_ERR',          'UmB',      'UmB_ERR',          'BmV',\n",
       "            'BmV_ERR',          'VmR',      'VmR_ERR',          'VmI',\n",
       "            'VmI_ERR',           'RA',          'DEC',         'GLON',\n",
       "               'GLAT',         'VHEL',     'VHEL_ERR',         'TEFF',\n",
       "           'TEFF_ERR',         'LOGG',     'LOGG_ERR',         'ABUN',\n",
       "           'ABUN_ERR',  'designation',          'j_m',      'j_cmsig',\n",
       "          'j_msigcom',        'j_snr',          'h_m',      'h_cmsig',\n",
       "          'h_msigcom',        'h_snr',          'k_m',      'k_cmsig',\n",
       "          'k_msigcom',        'k_snr',      'ph_qual',       'rd_flg',\n",
       "             'bl_flg',       'cc_flg',   'gal_contam',       'mp_flg',\n",
       "            'pts_key',    'j_m_stdap', 'j_msig_stdap',    'h_m_stdap',\n",
       "       'h_msig_stdap',    'k_m_stdap', 'k_msig_stdap',         'Bmag',\n",
       "               'Umag',         'Rmag',         'Imag',       'diserr',\n",
       "                    1,          '2_y',              3,              4,\n",
       "                    5,              6,          'dis'],\n",
       "      dtype='object')"
      ]
     },
     "execution_count": 70,
     "metadata": {},
     "output_type": "execute_result"
    }
   ],
   "source": [
    "fullm3.columns"
   ]
  },
  {
   "cell_type": "code",
   "execution_count": 71,
   "metadata": {
    "collapsed": false
   },
   "outputs": [
    {
     "data": {
      "text/html": [
       "<div>\n",
       "<table border=\"1\" class=\"dataframe\">\n",
       "  <thead>\n",
       "    <tr style=\"text-align: right;\">\n",
       "      <th></th>\n",
       "      <th>0</th>\n",
       "      <th>0_x</th>\n",
       "      <th>1_x</th>\n",
       "      <th>0_y</th>\n",
       "      <th>1_y</th>\n",
       "      <th>2_x</th>\n",
       "      <th>ID</th>\n",
       "      <th>Vmag</th>\n",
       "      <th>Vmag_ERR</th>\n",
       "      <th>UmB</th>\n",
       "      <th>...</th>\n",
       "      <th>Rmag</th>\n",
       "      <th>Imag</th>\n",
       "      <th>diserr</th>\n",
       "      <th>1</th>\n",
       "      <th>2_y</th>\n",
       "      <th>3</th>\n",
       "      <th>4</th>\n",
       "      <th>5</th>\n",
       "      <th>6</th>\n",
       "      <th>dis</th>\n",
       "    </tr>\n",
       "  </thead>\n",
       "  <tbody>\n",
       "    <tr>\n",
       "      <th>0</th>\n",
       "      <td>2801</td>\n",
       "      <td>2801</td>\n",
       "      <td>1.981351</td>\n",
       "      <td>0.179640</td>\n",
       "      <td>0.057002</td>\n",
       "      <td>2801</td>\n",
       "      <td>2801</td>\n",
       "      <td>17.3668</td>\n",
       "      <td>0.0252</td>\n",
       "      <td>99.9999</td>\n",
       "      <td>...</td>\n",
       "      <td>16.6741</td>\n",
       "      <td>16.0320</td>\n",
       "      <td>3.605799</td>\n",
       "      <td>4916</td>\n",
       "      <td>110.5</td>\n",
       "      <td>3.37</td>\n",
       "      <td>0.19</td>\n",
       "      <td>-0.62</td>\n",
       "      <td>0.08</td>\n",
       "      <td>10.994156</td>\n",
       "    </tr>\n",
       "    <tr>\n",
       "      <th>1</th>\n",
       "      <td>1928</td>\n",
       "      <td>1928</td>\n",
       "      <td>0.796001</td>\n",
       "      <td>0.291773</td>\n",
       "      <td>0.050013</td>\n",
       "      <td>1928</td>\n",
       "      <td>1928</td>\n",
       "      <td>17.0384</td>\n",
       "      <td>0.0246</td>\n",
       "      <td>99.9999</td>\n",
       "      <td>...</td>\n",
       "      <td>15.8138</td>\n",
       "      <td>15.1439</td>\n",
       "      <td>5.081183</td>\n",
       "      <td>4661</td>\n",
       "      <td>111.0</td>\n",
       "      <td>2.82</td>\n",
       "      <td>0.35</td>\n",
       "      <td>-0.38</td>\n",
       "      <td>0.12</td>\n",
       "      <td>15.492633</td>\n",
       "    </tr>\n",
       "  </tbody>\n",
       "</table>\n",
       "<p>2 rows × 67 columns</p>\n",
       "</div>"
      ],
      "text/plain": [
       "      0   0_x       1_x       0_y       1_y   2_x    ID     Vmag  Vmag_ERR  \\\n",
       "0  2801  2801  1.981351  0.179640  0.057002  2801  2801  17.3668    0.0252   \n",
       "1  1928  1928  0.796001  0.291773  0.050013  1928  1928  17.0384    0.0246   \n",
       "\n",
       "       UmB    ...         Rmag     Imag    diserr     1    2_y     3     4  \\\n",
       "0  99.9999    ...      16.6741  16.0320  3.605799  4916  110.5  3.37  0.19   \n",
       "1  99.9999    ...      15.8138  15.1439  5.081183  4661  111.0  2.82  0.35   \n",
       "\n",
       "      5     6        dis  \n",
       "0 -0.62  0.08  10.994156  \n",
       "1 -0.38  0.12  15.492633  \n",
       "\n",
       "[2 rows x 67 columns]"
      ]
     },
     "execution_count": 71,
     "metadata": {},
     "output_type": "execute_result"
    }
   ],
   "source": [
    "fullm3.head(2)"
   ]
  },
  {
   "cell_type": "code",
   "execution_count": 72,
   "metadata": {
    "collapsed": false
   },
   "outputs": [],
   "source": [
    "b = fullm3['GLAT'].apply(math.radians)\n",
    "l = fullm3['GLON'].apply(math.radians)\n",
    "fullm3['rgc'] = (((fullm3['dis']*b.apply(math.cos)*l.apply(math.cos))-8.)**2 + (fullm3['dis']*b.apply(math.cos)*l.apply(math.sin))**2 \\\n",
    "    +(fullm3['dis']*b.apply(math.sin))**2).apply(math.sqrt)\n"
   ]
  },
  {
   "cell_type": "code",
   "execution_count": 73,
   "metadata": {
    "collapsed": false
   },
   "outputs": [],
   "source": [
    "b = fullm3['GLAT'].apply(math.radians)\n",
    "l = fullm3['GLON'].apply(math.radians)\n",
    "fullm3['vgr'] = fullm3['VHEL']+(232.3 * (b.apply(math.sin) *math.sin(math.radians(1.7))) + (b.apply(math.cos) *math.cos(math.radians(1.7))*(l- math.radians(87.8))\\\n",
    "                            .apply(math.cos)))\n",
    "fullm3['vgsr'] = fullm3['VHEL'] + (7.01*b.apply(math.cos)*l.apply(math.cos)) + (250.*b.apply(math.cos)*l.apply(math.sin)) + (4.95*b.apply(math.sin))"
   ]
  },
  {
   "cell_type": "code",
   "execution_count": 74,
   "metadata": {
    "collapsed": false
   },
   "outputs": [
    {
     "name": "stdout",
     "output_type": "stream",
     "text": [
      "Populating the interactive namespace from numpy and matplotlib\n"
     ]
    },
    {
     "data": {
      "text/plain": [
       "<seaborn.axisgrid.JointGrid at 0x10ea52438>"
      ]
     },
     "execution_count": 74,
     "metadata": {},
     "output_type": "execute_result"
    },
    {
     "data": {
      "image/png": "[encoded data removed]",
      "text/plain": [
       "<matplotlib.figure.Figure at 0x10ea52cf8>"
      ]
     },
     "metadata": {},
     "output_type": "display_data"
    }
   ],
   "source": [
    "%pylab inline\n",
    "pylab.rcParams['figure.figsize']=(15.,10.)\n",
    "#sns.jointplot(fullm3['VHEL'],dis_m3,ylim=(30,0),)\n",
    "sns.jointplot(fullm3['vgsr'],fullm3['rgc'],ylim=(30,5),)"
   ]
  },
  {
   "cell_type": "code",
   "execution_count": 75,
   "metadata": {
    "collapsed": false
   },
   "outputs": [
    {
     "data": {
      "text/plain": [
       "<matplotlib.axes._subplots.AxesSubplot at 0x10f61b6d8>"
      ]
     },
     "execution_count": 75,
     "metadata": {},
     "output_type": "execute_result"
    },
    {
     "data": {
      "image/png": "[encoded data removed]",
      "text/plain": [
       "<matplotlib.figure.Figure at 0x10f68b390>"
      ]
     },
     "metadata": {},
     "output_type": "display_data"
    }
   ],
   "source": [
    "pylab.rcParams['figure.figsize']=(10.,7.5)\n",
    "#sns.regplot(fullm3['rgc'],fullm3[5],truncate=False)\n",
    "zh=((fullm3['GLAT'].apply(math.radians)).apply(math.sin) )* dis_m3\n",
    "sns.regplot(zh,fullm3[5],truncate=False)"
   ]
  },
  {
   "cell_type": "code",
   "execution_count": 81,
   "metadata": {
    "collapsed": false
   },
   "outputs": [
    {
     "data": {
      "text/plain": [
       "<seaborn.axisgrid.JointGrid at 0x110181b38>"
      ]
     },
     "execution_count": 81,
     "metadata": {},
     "output_type": "execute_result"
    },
    {
     "data": {
      "image/png": "[encoded data removed]",
      "text/plain": [
       "<matplotlib.figure.Figure at 0x1101815c0>"
      ]
     },
     "metadata": {},
     "output_type": "display_data"
    }
   ],
   "source": [
    "def z_func(y,x):\n",
    "    #x = fullm3['vgsr'] - (7.01*b.apply(np.cos)*l.apply(np.cos)) + (250.*b.apply(np.cos)*l.apply(np.sin)) + (4.95*b.apply(np.sin))\n",
    "    #return ((1/(((x/(8*np.sin(4.18879))))+(230/8)))*y)\n",
    "    b=(np.radians(-8.))\n",
    "    l=(np.radians(240.))\n",
    "    return y*(8.3*(np.cos(b))*(np.sin(l)))/np.sqrt((x*(np.cos(b))*(np.sin(l)))**2 + (8.3 -((np.cos(b))*(np.cos(l))))**2 )  \n",
    "x = arange(0,50,1)\n",
    "Z1 = z_func(100,x) # evaluation of the function on the grid\n",
    "#Z1\n",
    "Z2 = z_func(170,x)\n",
    "Z3=z_func(260,x)\n",
    "# #len(Z1),len(fullm3['vgsr'])\n",
    "pp=sns.jointplot(Z1,x,c='r',ylim=(40,0))\n",
    "pp.x=Z2\n",
    "pp.plot_joint(plt.plot,c='g')\n",
    "# # pp.x=x\n",
    "pp.x=Z3\n",
    "pp.plot_joint(plt.plot,c='y',linestyle='--')\n",
    "pp.x=fullm3['vgsr']\n",
    "pp.y=fullm3['rgc']\n",
    "# # #pp.y=dis_m3\n",
    "pp.plot_joint(plt.scatter)\n",
    "#sns.jointplot(fullm3['VHEL'],dis_m3,ylim=(30,0),)"
   ]
  },
  {
   "cell_type": "code",
   "execution_count": 82,
   "metadata": {
    "collapsed": true
   },
   "outputs": [],
   "source": [
    "fullm3lg = fullm3.loc[fullm3[3] <= 3.5]"
   ]
  },
  {
   "cell_type": "code",
   "execution_count": 84,
   "metadata": {
    "collapsed": false
   },
   "outputs": [
    {
     "data": {
      "image/png": "[encoded data removed]",
      "text/plain": [
       "<matplotlib.figure.Figure at 0x1108149b0>"
      ]
     },
     "metadata": {},
     "output_type": "display_data"
    }
   ],
   "source": [
    "def z_func(y,x):\n",
    "    #x = fullm3lg['vgsr'] - (7.01*b.apply(np.cos)*l.apply(np.cos)) + (250.*b.apply(np.cos)*l.apply(np.sin)) + (4.95*b.apply(np.sin))\n",
    "    #return ((1/(((x/(8*np.sin(4.18879))))+(230/8)))*y)\n",
    "    b=(np.radians(-8.))\n",
    "    l=(np.radians(240.))\n",
    "    return y*(8.3*(np.cos(b))*(np.sin(l)))/np.sqrt((x*(np.cos(b))*(np.sin(l)))**2 + (8.3 -((np.cos(b))*(np.cos(l))))**2 )  \n",
    "x = arange(0,50,1)\n",
    "Z1 = z_func(100,x) # evaluation of the function on the grid\n",
    "#Z1\n",
    "Z2 = z_func(170,x)\n",
    "Z3=z_func(240,x)\n",
    "# #len(Z1),len(fullm3lg['vgsr'])\n",
    "pp=sns.jointplot(fullm3lg['vgsr'],fullm3lg['rgc'],ylim=(40,0))\n",
    "#pp=sns.jointplot(Z1,x,c='r',ylim=(40,0))\n",
    "pp.y=x\n",
    "pp.x=Z1\n",
    "pp.plot_joint(plt.plot,c='r',)\n",
    "pp.x=Z2\n",
    "pp.plot_joint(plt.plot,c='g')\n",
    "pp.x=Z3\n",
    "#pp.plot_joint(plt.plot,c='y')\n",
    "# pp.x=fullm3lg['vgsr']\n",
    "# pp.y=fullm3lg['rgc']\n",
    "# # #pp.y=dis_m3\n",
    "pp.set_axis_labels(xlabel='$V_{gc}$',ylabel='$R_{gc}$',fontsize=20)\n",
    "pp.plot_joint(plt.scatter)\n",
    "#sns.jointplot(fullm3lg['VHEL'],dis_m3,ylim=(30,0),)\n",
    "plt.savefig('Rgc_vs_Vgc_canis')"
   ]
  },
  {
   "cell_type": "code",
   "execution_count": 85,
   "metadata": {
    "collapsed": false
   },
   "outputs": [
    {
     "name": "stdout",
     "output_type": "stream",
     "text": [
      "<class 'pandas.core.frame.DataFrame'>\n",
      "Int64Index: 191 entries, 0 to 236\n",
      "Data columns (total 70 columns):\n",
      "0               191 non-null int64\n",
      "0_x             191 non-null int64\n",
      "1_x             190 non-null float64\n",
      "0_y             191 non-null float64\n",
      "1_y             187 non-null float64\n",
      "2_x             191 non-null int64\n",
      "ID              191 non-null int64\n",
      "Vmag            191 non-null float64\n",
      "Vmag_ERR        191 non-null float64\n",
      "UmB             191 non-null float64\n",
      "UmB_ERR         191 non-null float64\n",
      "BmV             191 non-null float64\n",
      "BmV_ERR         191 non-null float64\n",
      "VmR             191 non-null float64\n",
      "VmR_ERR         191 non-null float64\n",
      "VmI             191 non-null float64\n",
      "VmI_ERR         191 non-null float64\n",
      "RA              191 non-null float64\n",
      "DEC             191 non-null float64\n",
      "GLON            191 non-null float64\n",
      "GLAT            191 non-null float64\n",
      "VHEL            191 non-null float64\n",
      "VHEL_ERR        191 non-null float64\n",
      "TEFF            191 non-null float64\n",
      "TEFF_ERR        191 non-null float64\n",
      "LOGG            191 non-null float64\n",
      "LOGG_ERR        191 non-null float64\n",
      "ABUN            191 non-null float64\n",
      "ABUN_ERR        191 non-null float64\n",
      "designation     191 non-null object\n",
      "j_m             191 non-null float64\n",
      "j_cmsig         191 non-null float64\n",
      "j_msigcom       191 non-null float64\n",
      "j_snr           191 non-null float64\n",
      "h_m             191 non-null float64\n",
      "h_cmsig         191 non-null float64\n",
      "h_msigcom       191 non-null float64\n",
      "h_snr           191 non-null float64\n",
      "k_m             191 non-null float64\n",
      "k_cmsig         191 non-null float64\n",
      "k_msigcom       191 non-null float64\n",
      "k_snr           191 non-null float64\n",
      "ph_qual         191 non-null object\n",
      "rd_flg          191 non-null int64\n",
      "bl_flg          191 non-null int64\n",
      "cc_flg          191 non-null object\n",
      "gal_contam      191 non-null int64\n",
      "mp_flg          191 non-null int64\n",
      "pts_key         191 non-null int64\n",
      "j_m_stdap       191 non-null float64\n",
      "j_msig_stdap    191 non-null float64\n",
      "h_m_stdap       191 non-null float64\n",
      "h_msig_stdap    191 non-null float64\n",
      "k_m_stdap       191 non-null float64\n",
      "k_msig_stdap    191 non-null float64\n",
      "Bmag            191 non-null float64\n",
      "Umag            191 non-null float64\n",
      "Rmag            191 non-null float64\n",
      "Imag            191 non-null float64\n",
      "diserr          190 non-null float64\n",
      "1               191 non-null float64\n",
      "2_y             191 non-null float64\n",
      "3               191 non-null float64\n",
      "4               191 non-null float64\n",
      "5               191 non-null float64\n",
      "6               190 non-null float64\n",
      "dis             190 non-null float64\n",
      "rgc             190 non-null float64\n",
      "vgr             191 non-null float64\n",
      "vgsr            191 non-null float64\n",
      "dtypes: float64(58), int64(9), object(3)\n",
      "memory usage: 105.9+ KB\n"
     ]
    }
   ],
   "source": [
    "fullm3lg.info()"
   ]
  },
  {
   "cell_type": "code",
   "execution_count": 86,
   "metadata": {
    "collapsed": false
   },
   "outputs": [],
   "source": [
    "df = pd.DataFrame({\"zh\": zh,\n",
    "                       \"vgr\": fullm3['vgsr'],\n",
    "                       \"feh\": fullm3[5]},)"
   ]
  },
  {
   "cell_type": "code",
   "execution_count": 87,
   "metadata": {
    "collapsed": false
   },
   "outputs": [
    {
     "data": {
      "text/html": [
       "<div>\n",
       "<table border=\"1\" class=\"dataframe\">\n",
       "  <thead>\n",
       "    <tr style=\"text-align: right;\">\n",
       "      <th></th>\n",
       "      <th>feh</th>\n",
       "      <th>vgr</th>\n",
       "      <th>zh</th>\n",
       "    </tr>\n",
       "  </thead>\n",
       "  <tbody>\n",
       "    <tr>\n",
       "      <th>0</th>\n",
       "      <td>-0.62</td>\n",
       "      <td>-102.812758</td>\n",
       "      <td>-1.488394</td>\n",
       "    </tr>\n",
       "    <tr>\n",
       "      <th>1</th>\n",
       "      <td>-0.38</td>\n",
       "      <td>-81.992908</td>\n",
       "      <td>-2.205095</td>\n",
       "    </tr>\n",
       "  </tbody>\n",
       "</table>\n",
       "</div>"
      ],
      "text/plain": [
       "    feh         vgr        zh\n",
       "0 -0.62 -102.812758 -1.488394\n",
       "1 -0.38  -81.992908 -2.205095"
      ]
     },
     "execution_count": 87,
     "metadata": {},
     "output_type": "execute_result"
    }
   ],
   "source": [
    "df.head(2)"
   ]
  },
  {
   "cell_type": "code",
   "execution_count": 88,
   "metadata": {
    "collapsed": false
   },
   "outputs": [],
   "source": [
    "bins = np.linspace(-3, 0, 4)"
   ]
  },
  {
   "cell_type": "code",
   "execution_count": 89,
   "metadata": {
    "collapsed": false
   },
   "outputs": [
    {
     "data": {
      "text/plain": [
       "array([-3., -2., -1.,  0.])"
      ]
     },
     "execution_count": 89,
     "metadata": {},
     "output_type": "execute_result"
    }
   ],
   "source": [
    "bins"
   ]
  },
  {
   "cell_type": "code",
   "execution_count": 90,
   "metadata": {
    "collapsed": false
   },
   "outputs": [],
   "source": [
    "groups = df.groupby(pd.cut(df.zh, bins))"
   ]
  },
  {
   "cell_type": "code",
   "execution_count": 91,
   "metadata": {
    "collapsed": false
   },
   "outputs": [
    {
     "data": {
      "text/html": [
       "<div>\n",
       "<table border=\"1\" class=\"dataframe\">\n",
       "  <thead>\n",
       "    <tr style=\"text-align: right;\">\n",
       "      <th></th>\n",
       "      <th></th>\n",
       "      <th>feh</th>\n",
       "      <th>vgr</th>\n",
       "      <th>zh</th>\n",
       "    </tr>\n",
       "    <tr>\n",
       "      <th>zh</th>\n",
       "      <th></th>\n",
       "      <th></th>\n",
       "      <th></th>\n",
       "      <th></th>\n",
       "    </tr>\n",
       "  </thead>\n",
       "  <tbody>\n",
       "    <tr>\n",
       "      <th rowspan=\"8\" valign=\"top\">(-3, -2]</th>\n",
       "      <th>count</th>\n",
       "      <td>18.000000</td>\n",
       "      <td>18.000000</td>\n",
       "      <td>18.000000</td>\n",
       "    </tr>\n",
       "    <tr>\n",
       "      <th>mean</th>\n",
       "      <td>-0.735556</td>\n",
       "      <td>-83.125589</td>\n",
       "      <td>-2.263089</td>\n",
       "    </tr>\n",
       "    <tr>\n",
       "      <th>std</th>\n",
       "      <td>0.244305</td>\n",
       "      <td>29.607616</td>\n",
       "      <td>0.240966</td>\n",
       "    </tr>\n",
       "    <tr>\n",
       "      <th>min</th>\n",
       "      <td>-1.120000</td>\n",
       "      <td>-138.675827</td>\n",
       "      <td>-2.780988</td>\n",
       "    </tr>\n",
       "    <tr>\n",
       "      <th>25%</th>\n",
       "      <td>-0.882500</td>\n",
       "      <td>-100.310463</td>\n",
       "      <td>-2.455274</td>\n",
       "    </tr>\n",
       "    <tr>\n",
       "      <th>50%</th>\n",
       "      <td>-0.730000</td>\n",
       "      <td>-83.638006</td>\n",
       "      <td>-2.194145</td>\n",
       "    </tr>\n",
       "    <tr>\n",
       "      <th>75%</th>\n",
       "      <td>-0.630000</td>\n",
       "      <td>-60.877434</td>\n",
       "      <td>-2.046268</td>\n",
       "    </tr>\n",
       "    <tr>\n",
       "      <th>max</th>\n",
       "      <td>-0.190000</td>\n",
       "      <td>-35.932704</td>\n",
       "      <td>-2.001223</td>\n",
       "    </tr>\n",
       "    <tr>\n",
       "      <th rowspan=\"8\" valign=\"top\">(-2, -1]</th>\n",
       "      <th>count</th>\n",
       "      <td>108.000000</td>\n",
       "      <td>108.000000</td>\n",
       "      <td>108.000000</td>\n",
       "    </tr>\n",
       "    <tr>\n",
       "      <th>mean</th>\n",
       "      <td>-0.508148</td>\n",
       "      <td>-93.544187</td>\n",
       "      <td>-1.419419</td>\n",
       "    </tr>\n",
       "    <tr>\n",
       "      <th>std</th>\n",
       "      <td>0.187388</td>\n",
       "      <td>42.123624</td>\n",
       "      <td>0.282408</td>\n",
       "    </tr>\n",
       "    <tr>\n",
       "      <th>min</th>\n",
       "      <td>-0.950000</td>\n",
       "      <td>-179.140353</td>\n",
       "      <td>-1.991979</td>\n",
       "    </tr>\n",
       "    <tr>\n",
       "      <th>25%</th>\n",
       "      <td>-0.612500</td>\n",
       "      <td>-118.732763</td>\n",
       "      <td>-1.635103</td>\n",
       "    </tr>\n",
       "    <tr>\n",
       "      <th>50%</th>\n",
       "      <td>-0.510000</td>\n",
       "      <td>-95.109390</td>\n",
       "      <td>-1.392556</td>\n",
       "    </tr>\n",
       "    <tr>\n",
       "      <th>75%</th>\n",
       "      <td>-0.410000</td>\n",
       "      <td>-70.027006</td>\n",
       "      <td>-1.155473</td>\n",
       "    </tr>\n",
       "    <tr>\n",
       "      <th>max</th>\n",
       "      <td>0.060000</td>\n",
       "      <td>103.306330</td>\n",
       "      <td>-1.003612</td>\n",
       "    </tr>\n",
       "    <tr>\n",
       "      <th rowspan=\"8\" valign=\"top\">(-1, 0]</th>\n",
       "      <th>count</th>\n",
       "      <td>100.000000</td>\n",
       "      <td>100.000000</td>\n",
       "      <td>100.000000</td>\n",
       "    </tr>\n",
       "    <tr>\n",
       "      <th>mean</th>\n",
       "      <td>-0.334000</td>\n",
       "      <td>-110.412783</td>\n",
       "      <td>-0.722836</td>\n",
       "    </tr>\n",
       "    <tr>\n",
       "      <th>std</th>\n",
       "      <td>0.180107</td>\n",
       "      <td>43.133481</td>\n",
       "      <td>0.190802</td>\n",
       "    </tr>\n",
       "    <tr>\n",
       "      <th>min</th>\n",
       "      <td>-1.010000</td>\n",
       "      <td>-235.326415</td>\n",
       "      <td>-0.995872</td>\n",
       "    </tr>\n",
       "    <tr>\n",
       "      <th>25%</th>\n",
       "      <td>-0.440000</td>\n",
       "      <td>-133.999593</td>\n",
       "      <td>-0.905115</td>\n",
       "    </tr>\n",
       "    <tr>\n",
       "      <th>50%</th>\n",
       "      <td>-0.345000</td>\n",
       "      <td>-102.529761</td>\n",
       "      <td>-0.724413</td>\n",
       "    </tr>\n",
       "    <tr>\n",
       "      <th>75%</th>\n",
       "      <td>-0.247500</td>\n",
       "      <td>-83.240348</td>\n",
       "      <td>-0.586179</td>\n",
       "    </tr>\n",
       "    <tr>\n",
       "      <th>max</th>\n",
       "      <td>0.130000</td>\n",
       "      <td>-11.328707</td>\n",
       "      <td>-0.253229</td>\n",
       "    </tr>\n",
       "  </tbody>\n",
       "</table>\n",
       "</div>"
      ],
      "text/plain": [
       "                       feh         vgr          zh\n",
       "zh                                                \n",
       "(-3, -2] count   18.000000   18.000000   18.000000\n",
       "         mean    -0.735556  -83.125589   -2.263089\n",
       "         std      0.244305   29.607616    0.240966\n",
       "         min     -1.120000 -138.675827   -2.780988\n",
       "         25%     -0.882500 -100.310463   -2.455274\n",
       "         50%     -0.730000  -83.638006   -2.194145\n",
       "         75%     -0.630000  -60.877434   -2.046268\n",
       "         max     -0.190000  -35.932704   -2.001223\n",
       "(-2, -1] count  108.000000  108.000000  108.000000\n",
       "         mean    -0.508148  -93.544187   -1.419419\n",
       "         std      0.187388   42.123624    0.282408\n",
       "         min     -0.950000 -179.140353   -1.991979\n",
       "         25%     -0.612500 -118.732763   -1.635103\n",
       "         50%     -0.510000  -95.109390   -1.392556\n",
       "         75%     -0.410000  -70.027006   -1.155473\n",
       "         max      0.060000  103.306330   -1.003612\n",
       "(-1, 0]  count  100.000000  100.000000  100.000000\n",
       "         mean    -0.334000 -110.412783   -0.722836\n",
       "         std      0.180107   43.133481    0.190802\n",
       "         min     -1.010000 -235.326415   -0.995872\n",
       "         25%     -0.440000 -133.999593   -0.905115\n",
       "         50%     -0.345000 -102.529761   -0.724413\n",
       "         75%     -0.247500  -83.240348   -0.586179\n",
       "         max      0.130000  -11.328707   -0.253229"
      ]
     },
     "execution_count": 91,
     "metadata": {},
     "output_type": "execute_result"
    }
   ],
   "source": [
    "groups.describe()"
   ]
  },
  {
   "cell_type": "code",
   "execution_count": 93,
   "metadata": {
    "collapsed": false
   },
   "outputs": [
    {
     "data": {
      "image/png": "[encoded data removed]",
      "text/plain": [
       "<matplotlib.figure.Figure at 0x111c0a128>"
      ]
     },
     "metadata": {},
     "output_type": "display_data"
    }
   ],
   "source": [
    "f,axes=plt.subplots(1,2,figsize=(15,7))\n",
    "sns.despine(left=True)\n",
    "for i in groups.groups:\n",
    "    ll=groups.get_group(i)\n",
    "    #print (ll['feh'])\n",
    "    sns.distplot(ll['feh'],ax=axes[0])\n",
    "    sns.distplot(ll['vgr'],ax=axes[1])\n",
    "    f.savefig('para_distributions_canis.png')"
   ]
  },
  {
   "cell_type": "code",
   "execution_count": 94,
   "metadata": {
    "collapsed": false
   },
   "outputs": [],
   "source": [
    "alp_b=pd.read_csv('alpha_final_werr.dat',header=None,sep=' ')\n",
    "alp_f2=pd.read_csv('alpha_faint2_werr.dat',header=None,sep=' ')\n",
    "alp_f1=pd.read_csv('alpha_faint1_werr.dat',header=None,sep=' ')\n",
    "#alp_all=alp_b.append(alp_f1,ignore_index=True).append(alp_f2,ignore_index=True)\n",
    "alp_all2=alp_f1.append(alp_f2,ignore_index=True)\n",
    "alp_all2=alp_all2.append(alp_b,ignore_index=True)"
   ]
  },
  {
   "cell_type": "code",
   "execution_count": 95,
   "metadata": {
    "collapsed": false
   },
   "outputs": [
    {
     "data": {
      "text/html": [
       "<div>\n",
       "<table border=\"1\" class=\"dataframe\">\n",
       "  <thead>\n",
       "    <tr style=\"text-align: right;\">\n",
       "      <th></th>\n",
       "      <th>0</th>\n",
       "      <th>1</th>\n",
       "      <th>2</th>\n",
       "      <th>3</th>\n",
       "      <th>4</th>\n",
       "      <th>5</th>\n",
       "      <th>6</th>\n",
       "    </tr>\n",
       "  </thead>\n",
       "  <tbody>\n",
       "    <tr>\n",
       "      <th>0</th>\n",
       "      <td>vnSt01430.dft</td>\n",
       "      <td>-0.22</td>\n",
       "      <td>-0.23</td>\n",
       "      <td>-0.19</td>\n",
       "      <td>-0.22</td>\n",
       "      <td>-0.26</td>\n",
       "      <td>-0.19</td>\n",
       "    </tr>\n",
       "    <tr>\n",
       "      <th>1</th>\n",
       "      <td>vnSt01458.dft</td>\n",
       "      <td>-0.52</td>\n",
       "      <td>-0.54</td>\n",
       "      <td>-0.49</td>\n",
       "      <td>-0.63</td>\n",
       "      <td>-0.73</td>\n",
       "      <td>-0.61</td>\n",
       "    </tr>\n",
       "    <tr>\n",
       "      <th>2</th>\n",
       "      <td>vnSt01524.dft</td>\n",
       "      <td>0.15</td>\n",
       "      <td>0.13</td>\n",
       "      <td>0.17</td>\n",
       "      <td>-0.09</td>\n",
       "      <td>-0.14</td>\n",
       "      <td>-0.06</td>\n",
       "    </tr>\n",
       "    <tr>\n",
       "      <th>3</th>\n",
       "      <td>vnSt01538.dft</td>\n",
       "      <td>-0.49</td>\n",
       "      <td>-0.53</td>\n",
       "      <td>-0.44</td>\n",
       "      <td>-0.51</td>\n",
       "      <td>-0.56</td>\n",
       "      <td>-0.42</td>\n",
       "    </tr>\n",
       "    <tr>\n",
       "      <th>4</th>\n",
       "      <td>vnSt01568.dft</td>\n",
       "      <td>-1.86</td>\n",
       "      <td>-1.92</td>\n",
       "      <td>-1.81</td>\n",
       "      <td>-1.63</td>\n",
       "      <td>-1.68</td>\n",
       "      <td>-1.5</td>\n",
       "    </tr>\n",
       "  </tbody>\n",
       "</table>\n",
       "</div>"
      ],
      "text/plain": [
       "               0     1      2     3     4      5      6\n",
       "0  vnSt01430.dft -0.22  -0.23 -0.19 -0.22  -0.26  -0.19\n",
       "1  vnSt01458.dft -0.52  -0.54 -0.49 -0.63  -0.73  -0.61\n",
       "2  vnSt01524.dft  0.15   0.13  0.17 -0.09  -0.14  -0.06\n",
       "3  vnSt01538.dft -0.49  -0.53 -0.44 -0.51  -0.56  -0.42\n",
       "4  vnSt01568.dft -1.86  -1.92 -1.81 -1.63  -1.68   -1.5"
      ]
     },
     "execution_count": 95,
     "metadata": {},
     "output_type": "execute_result"
    }
   ],
   "source": [
    "alp_all2.head()"
   ]
  },
  {
   "cell_type": "code",
   "execution_count": 96,
   "metadata": {
    "collapsed": false
   },
   "outputs": [
    {
     "name": "stderr",
     "output_type": "stream",
     "text": [
      "/Library/Frameworks/Python.framework/Versions/3.5/lib/python3.5/site-packages/ipykernel/__main__.py:1: FutureWarning: convert_objects is deprecated.  Use the data-type specific converters pd.to_datetime, pd.to_timedelta and pd.to_numeric.\n",
      "  if __name__ == '__main__':\n"
     ]
    },
    {
     "data": {
      "text/plain": [
       "<Container object of 3 artists>"
      ]
     },
     "execution_count": 96,
     "metadata": {},
     "output_type": "execute_result"
    },
    {
     "data": {
      "image/png": "[encoded data removed]",
      "text/plain": [
       "<matplotlib.figure.Figure at 0x111bc2b00>"
      ]
     },
     "metadata": {},
     "output_type": "display_data"
    }
   ],
   "source": [
    "alp_all2 = alp_all2.convert_objects(convert_numeric=True)\n",
    "xer = (alp_all2[6]-alp_all2[5])/2\n",
    "x2er = (alp_all2[3]-alp_all2[2])/2\n",
    "yer = np.sqrt(xer**2 + x2er**2)\n",
    "plt.errorbar(alp_all2[4],alp_all2[4]-alp_all2[1],xerr=xer,yerr=yer,fmt='o')\n",
    "#plt.errorbar(fullm3alp[2],fullm3alp['1l']-fullm3alp[2],fmt='o')"
   ]
  },
  {
   "cell_type": "code",
   "execution_count": 98,
   "metadata": {
    "collapsed": false
   },
   "outputs": [],
   "source": [
    "alp_all2[0] = alp_all2[0].map(lambda x: x.lstrip('vnSt').rstrip('.dft')).astype(int)"
   ]
  },
  {
   "cell_type": "code",
   "execution_count": 100,
   "metadata": {
    "collapsed": false
   },
   "outputs": [],
   "source": [
    "fullm3alp = pd.merge(fullm3,alp_all2,left_on=[0],right_on=[0],suffixes=('k','l'))"
   ]
  },
  {
   "cell_type": "code",
   "execution_count": 101,
   "metadata": {
    "collapsed": false
   },
   "outputs": [
    {
     "data": {
      "text/plain": [
       "<seaborn.axisgrid.JointGrid at 0x1118425f8>"
      ]
     },
     "execution_count": 101,
     "metadata": {},
     "output_type": "execute_result"
    },
    {
     "data": {
      "image/png": "[encoded data removed]",
      "text/plain": [
       "<matplotlib.figure.Figure at 0x111842630>"
      ]
     },
     "metadata": {},
     "output_type": "display_data"
    }
   ],
   "source": [
    "sns.jointplot(fullm3alp[2],fullm3alp['1l']-fullm3alp[2],xlim=(-1,0.5),ylim=(-0.5,0.5))"
   ]
  },
  {
   "cell_type": "code",
   "execution_count": 102,
   "metadata": {
    "collapsed": false
   },
   "outputs": [
    {
     "data": {
      "text/html": [
       "<div>\n",
       "<table border=\"1\" class=\"dataframe\">\n",
       "  <thead>\n",
       "    <tr style=\"text-align: right;\">\n",
       "      <th></th>\n",
       "      <th>0</th>\n",
       "      <th>0_x</th>\n",
       "      <th>1_x</th>\n",
       "      <th>0_y</th>\n",
       "      <th>1_y</th>\n",
       "      <th>2_x</th>\n",
       "      <th>ID</th>\n",
       "      <th>Vmag</th>\n",
       "      <th>Vmag_ERR</th>\n",
       "      <th>UmB</th>\n",
       "      <th>...</th>\n",
       "      <th>1</th>\n",
       "      <th>2_y</th>\n",
       "      <th>3</th>\n",
       "      <th>4</th>\n",
       "      <th>5</th>\n",
       "      <th>6</th>\n",
       "      <th>dis</th>\n",
       "      <th>rgc</th>\n",
       "      <th>vgr</th>\n",
       "      <th>vgsr</th>\n",
       "    </tr>\n",
       "  </thead>\n",
       "  <tbody>\n",
       "    <tr>\n",
       "      <th>0</th>\n",
       "      <td>2801</td>\n",
       "      <td>2801</td>\n",
       "      <td>1.981351</td>\n",
       "      <td>0.179640</td>\n",
       "      <td>0.057002</td>\n",
       "      <td>2801</td>\n",
       "      <td>2801</td>\n",
       "      <td>17.3668</td>\n",
       "      <td>0.0252</td>\n",
       "      <td>99.9999</td>\n",
       "      <td>...</td>\n",
       "      <td>4916</td>\n",
       "      <td>110.5</td>\n",
       "      <td>3.37</td>\n",
       "      <td>0.19</td>\n",
       "      <td>-0.62</td>\n",
       "      <td>0.08</td>\n",
       "      <td>10.994156</td>\n",
       "      <td>16.475859</td>\n",
       "      <td>114.468540</td>\n",
       "      <td>-102.812758</td>\n",
       "    </tr>\n",
       "    <tr>\n",
       "      <th>1</th>\n",
       "      <td>1928</td>\n",
       "      <td>1928</td>\n",
       "      <td>0.796001</td>\n",
       "      <td>0.291773</td>\n",
       "      <td>0.050013</td>\n",
       "      <td>1928</td>\n",
       "      <td>1928</td>\n",
       "      <td>17.0384</td>\n",
       "      <td>0.0246</td>\n",
       "      <td>99.9999</td>\n",
       "      <td>...</td>\n",
       "      <td>4661</td>\n",
       "      <td>111.0</td>\n",
       "      <td>2.82</td>\n",
       "      <td>0.35</td>\n",
       "      <td>-0.38</td>\n",
       "      <td>0.12</td>\n",
       "      <td>15.492633</td>\n",
       "      <td>20.604807</td>\n",
       "      <td>135.795082</td>\n",
       "      <td>-81.992908</td>\n",
       "    </tr>\n",
       "  </tbody>\n",
       "</table>\n",
       "<p>2 rows × 70 columns</p>\n",
       "</div>"
      ],
      "text/plain": [
       "      0   0_x       1_x       0_y       1_y   2_x    ID     Vmag  Vmag_ERR  \\\n",
       "0  2801  2801  1.981351  0.179640  0.057002  2801  2801  17.3668    0.0252   \n",
       "1  1928  1928  0.796001  0.291773  0.050013  1928  1928  17.0384    0.0246   \n",
       "\n",
       "       UmB     ...         1    2_y     3     4     5     6        dis  \\\n",
       "0  99.9999     ...      4916  110.5  3.37  0.19 -0.62  0.08  10.994156   \n",
       "1  99.9999     ...      4661  111.0  2.82  0.35 -0.38  0.12  15.492633   \n",
       "\n",
       "         rgc         vgr        vgsr  \n",
       "0  16.475859  114.468540 -102.812758  \n",
       "1  20.604807  135.795082  -81.992908  \n",
       "\n",
       "[2 rows x 70 columns]"
      ]
     },
     "execution_count": 102,
     "metadata": {},
     "output_type": "execute_result"
    }
   ],
   "source": [
    "fullm3lg.head(2)"
   ]
  },
  {
   "cell_type": "code",
   "execution_count": 103,
   "metadata": {
    "collapsed": false
   },
   "outputs": [
    {
     "data": {
      "text/plain": [
       "<matplotlib.axes._subplots.AxesSubplot at 0x110faafd0>"
      ]
     },
     "execution_count": 103,
     "metadata": {},
     "output_type": "execute_result"
    },
    {
     "data": {
      "image/png": "[encoded data removed]",
      "text/plain": [
       "<matplotlib.figure.Figure at 0x110f84e48>"
      ]
     },
     "metadata": {},
     "output_type": "display_data"
    }
   ],
   "source": [
    "sns.distplot(fullm3lg[5])"
   ]
  },
  {
   "cell_type": "code",
   "execution_count": 105,
   "metadata": {
    "collapsed": false
   },
   "outputs": [
    {
     "data": {
      "image/png": "[encoded data removed]",
      "text/plain": [
       "<matplotlib.figure.Figure at 0x111863438>"
      ]
     },
     "metadata": {},
     "output_type": "display_data"
    }
   ],
   "source": [
    "#sns.distplot(ebv_m3[0],kde=None,color='g')\n",
    "f,axes=plt.subplots(1,figsize=(10,7))\n",
    "sns.despine(left=True)\n",
    "for i in groups.groups:\n",
    "    ll=groups.get_group(i)\n",
    "    #print (ll['feh'])\n",
    "    sns.distplot(ebv_m3[0],kde=None)\n",
    "    #sns.distplot(ll['feh'],ax=axes[0])\n",
    "    #sns.distplot(ll['vgr'],ax=axes[1])\n",
    "    f.savefig('reddening_canis.png')"
   ]
  },
  {
   "cell_type": "code",
   "execution_count": 107,
   "metadata": {
    "collapsed": false
   },
   "outputs": [
    {
     "name": "stdout",
     "output_type": "stream",
     "text": [
      "Populating the interactive namespace from numpy and matplotlib\n"
     ]
    },
    {
     "name": "stderr",
     "output_type": "stream",
     "text": [
      "WARNING: pylab import has clobbered these variables: ['f', 'axes']\n",
      "`%matplotlib` prevents importing * from pylab and numpy\n"
     ]
    },
    {
     "data": {
      "image/png": "[encoded data removed]",
      "text/plain": [
       "<matplotlib.figure.Figure at 0x110fa1ac8>"
      ]
     },
     "metadata": {},
     "output_type": "display_data"
    }
   ],
   "source": [
    "%pylab inline\n",
    "pylab.rcParams['figure.figsize']=(10.,7.5)\n",
    "axes=plt.gca()\n",
    "#axes.set_xlim([0,60])\n",
    "sns.plt.errorbar(dis_m3,fullm3['0_y'],yerr=fullm3['1_y'],xerr=fullm3['diserr'],fmt='o',)\n",
    "plt.savefig('paka.png')"
   ]
  },
  {
   "cell_type": "code",
   "execution_count": 109,
   "metadata": {
    "collapsed": false
   },
   "outputs": [
    {
     "data": {
      "image/png": "[encoded data removed]",
      "text/plain": [
       "<matplotlib.figure.Figure at 0x1135129b0>"
      ]
     },
     "metadata": {},
     "output_type": "display_data"
    }
   ],
   "source": [
    "ax = plt.axes()\n",
    "ax.errorbar(dis_m3,fullm3['0_y'],yerr=fullm3['1_y'],xerr=fullm3['diserr'],fmt='o',capsize=4)\n",
    "#ax.legend(loc=3)\n",
    "ax.set_xlabel('$Distance$',fontsize=20)\n",
    "ax.set_ylabel('$E(b-v)$',fontsize=20)\n",
    "plt.savefig('redd_vs_distane_canis.png')"
   ]
  },
  {
   "cell_type": "code",
   "execution_count": 110,
   "metadata": {
    "collapsed": false
   },
   "outputs": [
    {
     "data": {
      "text/plain": [
       "(array([ 15.,  18.,  44.,  70.,  59.,  16.,   8.,   4.,   2.,   1.]),\n",
       " array([ 0.03040731,  0.10529999,  0.18019268,  0.25508536,  0.32997804,\n",
       "         0.40487072,  0.4797634 ,  0.55465608,  0.62954876,  0.70444144,\n",
       "         0.77933412]),\n",
       " <a list of 10 Patch objects>)"
      ]
     },
     "execution_count": 110,
     "metadata": {},
     "output_type": "execute_result"
    },
    {
     "data": {
      "image/png": "[encoded data removed]",
      "text/plain": [
       "<matplotlib.figure.Figure at 0x1135ba9e8>"
      ]
     },
     "metadata": {},
     "output_type": "display_data"
    }
   ],
   "source": [
    "hist(ebv_m3[0],)"
   ]
  },
  {
   "cell_type": "code",
   "execution_count": 111,
   "metadata": {
    "collapsed": true
   },
   "outputs": [],
   "source": [
    "df1=pd.DataFrame({\"zh\": zh,\n",
    "                       \"rgc\": fullm3['rgc'],\n",
    "                       \"feh\": fullm3[5]},)"
   ]
  },
  {
   "cell_type": "code",
   "execution_count": 112,
   "metadata": {
    "collapsed": false
   },
   "outputs": [],
   "source": [
    "df11=df1.loc[(df1[\"rgc\"] <=11) &(df1[\"rgc\"] >9) &(df1[\"zh\"] >-1.)&(df1[\"zh\"]<1.0)]"
   ]
  },
  {
   "cell_type": "code",
   "execution_count": 113,
   "metadata": {
    "collapsed": false
   },
   "outputs": [],
   "source": [
    "df12=df1.loc[(df1[\"rgc\"] <=16) &(df1[\"rgc\"] >12) &(df1[\"zh\"] >-1)&(df1[\"zh\"]<1.0)]"
   ]
  },
  {
   "cell_type": "code",
   "execution_count": 114,
   "metadata": {
    "collapsed": false
   },
   "outputs": [],
   "source": [
    "df13=df1.loc[(df1[\"rgc\"] <=15) &(df1[\"rgc\"] >14) &(df1[\"zh\"] >-1)&(df1[\"zh\"]<1.0)]"
   ]
  },
  {
   "cell_type": "code",
   "execution_count": 115,
   "metadata": {
    "collapsed": false
   },
   "outputs": [],
   "source": [
    "df21=df1.loc[(df1[\"rgc\"] <=13) &(df1[\"rgc\"] >9) &(df1[\"zh\"] >-2)&(df1[\"zh\"]<-1.0)]\n",
    "df22=df1.loc[(df1[\"rgc\"] <=16) &(df1[\"rgc\"] >12) &(df1[\"zh\"] >-2)&(df1[\"zh\"]<-1.0)]\n",
    "df23=df1.loc[(df1[\"rgc\"] <=16) &(df1[\"rgc\"] >14) &(df1[\"zh\"] >-2.)&(df1[\"zh\"]<-1.0)]"
   ]
  },
  {
   "cell_type": "code",
   "execution_count": 116,
   "metadata": {
    "collapsed": true
   },
   "outputs": [],
   "source": [
    "df31=df1.loc[(df1[\"rgc\"] <=12) &(df1[\"rgc\"] >9) &(df1[\"zh\"] >-3.)&(df1[\"zh\"]<-1.5)]\n",
    "df32=df1.loc[(df1[\"rgc\"] <=16) &(df1[\"rgc\"] >12) &(df1[\"zh\"] >-3.)&(df1[\"zh\"]<-1.5)]\n",
    "df33=df1.loc[(df1[\"rgc\"] <=16) &(df1[\"rgc\"] >14) &(df1[\"zh\"] >-3.)&(df1[\"zh\"]<-2.0)]"
   ]
  },
  {
   "cell_type": "code",
   "execution_count": 117,
   "metadata": {
    "collapsed": true
   },
   "outputs": [],
   "source": [
    "df11=df1.loc[(df1[\"rgc\"] <=14) &(df1[\"rgc\"] >9) &(df1[\"zh\"] >-1.)&(df1[\"zh\"]<1.0)]\n",
    "df12=df1.loc[(df1[\"rgc\"] <=20) &(df1[\"rgc\"] >14) &(df1[\"zh\"] >-1)&(df1[\"zh\"]<1.0)]\n",
    "df21=df1.loc[(df1[\"rgc\"] <=14) &(df1[\"rgc\"] >9) &(df1[\"zh\"] >-2)&(df1[\"zh\"]<-1.0)]\n",
    "df22=df1.loc[(df1[\"rgc\"] <=20) &(df1[\"rgc\"] >14) &(df1[\"zh\"] >-2)&(df1[\"zh\"]<-1.0)]"
   ]
  },
  {
   "cell_type": "code",
   "execution_count": 118,
   "metadata": {
    "collapsed": true
   },
   "outputs": [],
   "source": [
    "df11=df1.loc[(df1[\"rgc\"] <=15) &(df1[\"rgc\"] >13) &(df1[\"zh\"] >-2)&(df1[\"zh\"]<-1.0)]\n",
    "df13=df1.loc[(df1[\"rgc\"] <=11) &(df1[\"rgc\"] >9) &(df1[\"zh\"] >-0.5)&(df1[\"zh\"]<0.)]\n",
    "df12=df1.loc[(df1[\"rgc\"] <=11) &(df1[\"rgc\"] >9) &(df1[\"zh\"] >-1.)&(df1[\"zh\"]<0.5)]"
   ]
  },
  {
   "cell_type": "code",
   "execution_count": 120,
   "metadata": {
    "collapsed": false
   },
   "outputs": [
    {
     "data": {
      "text/plain": [
       "<matplotlib.axes._subplots.AxesSubplot at 0x1130273c8>"
      ]
     },
     "execution_count": 120,
     "metadata": {},
     "output_type": "execute_result"
    },
    {
     "data": {
      "image/png": "[encoded data removed]",
      "text/plain": [
       "<matplotlib.figure.Figure at 0x11301f0b8>"
      ]
     },
     "metadata": {},
     "output_type": "display_data"
    }
   ],
   "source": [
    "sns.set(font_scale=2)\n",
    "sns.distplot(df12['feh'].dropna(),color='g')\n",
    "#sns.distplot(df12['feh'].dropna())\n",
    "#sns.distplot(df11['feh'].dropna(),color='g')\n"
   ]
  },
  {
   "cell_type": "code",
   "execution_count": 121,
   "metadata": {
    "collapsed": false
   },
   "outputs": [
    {
     "data": {
      "text/plain": [
       "count    36.000000\n",
       "mean     -0.331667\n",
       "std       0.209209\n",
       "min      -1.010000\n",
       "25%      -0.450000\n",
       "50%      -0.330000\n",
       "75%      -0.202500\n",
       "max       0.080000\n",
       "Name: feh, dtype: float64"
      ]
     },
     "execution_count": 121,
     "metadata": {},
     "output_type": "execute_result"
    }
   ],
   "source": [
    "df12['feh'].describe()"
   ]
  },
  {
   "cell_type": "code",
   "execution_count": 122,
   "metadata": {
    "collapsed": false
   },
   "outputs": [
    {
     "data": {
      "text/plain": [
       "<matplotlib.collections.PathCollection at 0x112c6df98>"
      ]
     },
     "execution_count": 122,
     "metadata": {},
     "output_type": "execute_result"
    },
    {
     "data": {
      "image/png": "[encoded data removed]",
      "text/plain": [
       "<matplotlib.figure.Figure at 0x1130f09b0>"
      ]
     },
     "metadata": {},
     "output_type": "display_data"
    }
   ],
   "source": [
    "sns.plt.scatter(df1['rgc'],df1['zh'])"
   ]
  }
 ],
 "metadata": {
  "kernelspec": {
   "display_name": "Python 3",
   "language": "python",
   "name": "python3"
  },
  "language_info": {
   "codemirror_mode": {
    "name": "ipython",
    "version": 3
   },
   "file_extension": ".py",
   "mimetype": "text/x-python",
   "name": "python",
   "nbconvert_exporter": "python",
   "pygments_lexer": "ipython3",
   "version": "3.5.1"
  }
 },
 "nbformat": 4,
 "nbformat_minor": 0
}
