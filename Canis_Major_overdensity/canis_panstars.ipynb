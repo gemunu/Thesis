{
 "cells": [
  {
   "cell_type": "code",
   "execution_count": 1,
   "metadata": {
    "collapsed": true
   },
   "outputs": [],
   "source": [
    "import pandas as pd"
   ]
  },
  {
   "cell_type": "code",
   "execution_count": 2,
   "metadata": {
    "collapsed": true
   },
   "outputs": [],
   "source": [
    "import numpy as np"
   ]
  },
  {
   "cell_type": "code",
   "execution_count": 3,
   "metadata": {
    "collapsed": false
   },
   "outputs": [],
   "source": [
    "panstr = pd.read_csv('canis_panstar.csv')"
   ]
  },
  {
   "cell_type": "code",
   "execution_count": 4,
   "metadata": {
    "collapsed": false
   },
   "outputs": [
    {
     "data": {
      "text/plain": [
       "Index(['objName', 'objID', 'raMean', 'decMean', 'raMeanErr', 'decMeanErr',\n",
       "       'nDetections', 'randomID', 'projectionID', 'skyCellID', 'objInfoFlag',\n",
       "       'qualityFlag', 'raStack', 'decStack', 'raStackErr', 'decStackErr',\n",
       "       'epochMean', 'nStackDetections', 'ng', 'nr', 'ni', 'nz', 'ny',\n",
       "       'gQfPerfect', 'gMeanPSFMag', 'gMeanPSFMagErr', 'gMeanKronMag',\n",
       "       'gMeanKronMagErr', 'gMeanApMag', 'gMeanApMagErr', 'gFlags',\n",
       "       'rQfPerfect', 'rMeanPSFMag', 'rMeanPSFMagErr', 'rMeanKronMag',\n",
       "       'rMeanKronMagErr', 'rMeanApMag', 'rMeanApMagErr', 'rFlags',\n",
       "       'iQfPerfect', 'iMeanPSFMag', 'iMeanPSFMagErr', 'iMeanKronMag',\n",
       "       'iMeanKronMagErr', 'iMeanApMag', 'iMeanApMagErr', 'iFlags',\n",
       "       'zQfPerfect', 'zMeanPSFMag', 'zMeanPSFMagErr', 'zMeanKronMag',\n",
       "       'zMeanKronMagErr', 'zMeanApMag', 'zMeanApMagErr', 'zFlags',\n",
       "       'yQfPerfect', 'yMeanPSFMag', 'yMeanPSFMagErr', 'yMeanKronMag',\n",
       "       'yMeanKronMagErr', 'yMeanApMag', 'yMeanApMagErr', 'yFlags', 'Ang'],\n",
       "      dtype='object')"
      ]
     },
     "execution_count": 4,
     "metadata": {},
     "output_type": "execute_result"
    }
   ],
   "source": [
    "panstr.columns"
   ]
  },
  {
   "cell_type": "code",
   "execution_count": 5,
   "metadata": {
    "collapsed": false
   },
   "outputs": [],
   "source": [
    "#panstr[['gMeanPSFMag','rMeanPSFMag','iMeanApMag']]\n",
    "mags = pd.read_csv('ALL-2MASS-matched.csv')"
   ]
  },
  {
   "cell_type": "code",
   "execution_count": 6,
   "metadata": {
    "collapsed": false,
    "scrolled": true
   },
   "outputs": [
    {
     "data": {
      "text/html": [
       "<div>\n",
       "<table border=\"1\" class=\"dataframe\">\n",
       "  <thead>\n",
       "    <tr style=\"text-align: right;\">\n",
       "      <th></th>\n",
       "      <th>ID</th>\n",
       "      <th>Vmag</th>\n",
       "      <th>Vmag_ERR</th>\n",
       "      <th>UmB</th>\n",
       "      <th>UmB_ERR</th>\n",
       "      <th>BmV</th>\n",
       "      <th>BmV_ERR</th>\n",
       "      <th>VmR</th>\n",
       "      <th>VmR_ERR</th>\n",
       "      <th>VmI</th>\n",
       "      <th>...</th>\n",
       "      <th>cc_flg</th>\n",
       "      <th>gal_contam</th>\n",
       "      <th>mp_flg</th>\n",
       "      <th>pts_key</th>\n",
       "      <th>j_m_stdap</th>\n",
       "      <th>j_msig_stdap</th>\n",
       "      <th>h_m_stdap</th>\n",
       "      <th>h_msig_stdap</th>\n",
       "      <th>k_m_stdap</th>\n",
       "      <th>k_msig_stdap</th>\n",
       "    </tr>\n",
       "  </thead>\n",
       "  <tbody>\n",
       "    <tr>\n",
       "      <th>0</th>\n",
       "      <td>1467</td>\n",
       "      <td>16.2973</td>\n",
       "      <td>0.0241</td>\n",
       "      <td>0.7610</td>\n",
       "      <td>0.0439</td>\n",
       "      <td>1.1621</td>\n",
       "      <td>0.0289</td>\n",
       "      <td>0.7236</td>\n",
       "      <td>0.0289</td>\n",
       "      <td>1.3530</td>\n",
       "      <td>...</td>\n",
       "      <td>0</td>\n",
       "      <td>0</td>\n",
       "      <td>0</td>\n",
       "      <td>238334197</td>\n",
       "      <td>14.068</td>\n",
       "      <td>0.038</td>\n",
       "      <td>13.613</td>\n",
       "      <td>0.036</td>\n",
       "      <td>13.339</td>\n",
       "      <td>0.083</td>\n",
       "    </tr>\n",
       "    <tr>\n",
       "      <th>1</th>\n",
       "      <td>1018</td>\n",
       "      <td>15.8624</td>\n",
       "      <td>0.0253</td>\n",
       "      <td>99.9999</td>\n",
       "      <td>99.9999</td>\n",
       "      <td>1.2095</td>\n",
       "      <td>0.0291</td>\n",
       "      <td>0.7678</td>\n",
       "      <td>0.0292</td>\n",
       "      <td>1.4067</td>\n",
       "      <td>...</td>\n",
       "      <td>0</td>\n",
       "      <td>0</td>\n",
       "      <td>0</td>\n",
       "      <td>238375451</td>\n",
       "      <td>13.464</td>\n",
       "      <td>0.037</td>\n",
       "      <td>12.844</td>\n",
       "      <td>0.039</td>\n",
       "      <td>12.824</td>\n",
       "      <td>0.033</td>\n",
       "    </tr>\n",
       "  </tbody>\n",
       "</table>\n",
       "<p>2 rows × 49 columns</p>\n",
       "</div>"
      ],
      "text/plain": [
       "     ID     Vmag  Vmag_ERR      UmB  UmB_ERR     BmV  BmV_ERR     VmR  \\\n",
       "0  1467  16.2973    0.0241   0.7610   0.0439  1.1621   0.0289  0.7236   \n",
       "1  1018  15.8624    0.0253  99.9999  99.9999  1.2095   0.0291  0.7678   \n",
       "\n",
       "   VmR_ERR     VmI      ...       cc_flg  gal_contam  mp_flg    pts_key  \\\n",
       "0   0.0289  1.3530      ...            0           0       0  238334197   \n",
       "1   0.0292  1.4067      ...            0           0       0  238375451   \n",
       "\n",
       "   j_m_stdap  j_msig_stdap  h_m_stdap  h_msig_stdap  k_m_stdap  k_msig_stdap  \n",
       "0     14.068         0.038     13.613         0.036     13.339         0.083  \n",
       "1     13.464         0.037     12.844         0.039     12.824         0.033  \n",
       "\n",
       "[2 rows x 49 columns]"
      ]
     },
     "execution_count": 6,
     "metadata": {},
     "output_type": "execute_result"
    }
   ],
   "source": [
    "mags.head(2)"
   ]
  },
  {
   "cell_type": "code",
   "execution_count": 7,
   "metadata": {
    "collapsed": false
   },
   "outputs": [
    {
     "data": {
      "text/plain": [
       "347    0.071\n",
       "Name: j_cmsig, dtype: float64"
      ]
     },
     "execution_count": 7,
     "metadata": {},
     "output_type": "execute_result"
    }
   ],
   "source": [
    "mags.loc[mags['ID'] == 2433]['j_cmsig']"
   ]
  },
  {
   "cell_type": "code",
   "execution_count": 8,
   "metadata": {
    "collapsed": false
   },
   "outputs": [
    {
     "data": {
      "text/plain": [
       "Index(['ID', 'Vmag', 'Vmag_ERR', 'UmB', 'UmB_ERR', 'BmV', 'BmV_ERR', 'VmR',\n",
       "       'VmR_ERR', 'VmI', 'VmI_ERR', 'RA', 'DEC', 'GLON', 'GLAT', 'VHEL',\n",
       "       'VHEL_ERR', 'TEFF', 'TEFF_ERR', 'LOGG', 'LOGG_ERR', 'ABUN', 'ABUN_ERR',\n",
       "       'designation', 'j_m', 'j_cmsig', 'j_msigcom', 'j_snr', 'h_m', 'h_cmsig',\n",
       "       'h_msigcom', 'h_snr', 'k_m', 'k_cmsig', 'k_msigcom', 'k_snr', 'ph_qual',\n",
       "       'rd_flg', 'bl_flg', 'cc_flg', 'gal_contam', 'mp_flg', 'pts_key',\n",
       "       'j_m_stdap', 'j_msig_stdap', 'h_m_stdap', 'h_msig_stdap', 'k_m_stdap',\n",
       "       'k_msig_stdap'],\n",
       "      dtype='object')"
      ]
     },
     "execution_count": 8,
     "metadata": {},
     "output_type": "execute_result"
    }
   ],
   "source": [
    "mags.columns"
   ]
  },
  {
   "cell_type": "code",
   "execution_count": 9,
   "metadata": {
    "collapsed": false,
    "scrolled": false
   },
   "outputs": [],
   "source": [
    "tovosa = panstr[['gMeanPSFMag','rMeanPSFMag','iMeanApMag','zMeanApMag','yMeanApMag','gMeanApMagErr','rMeanApMagErr','iMeanApMagErr','zMeanApMagErr','yMeanApMagErr',]]"
   ]
  },
  {
   "cell_type": "code",
   "execution_count": 11,
   "metadata": {
    "collapsed": false
   },
   "outputs": [],
   "source": [
    "pd.options.mode.chained_assignment = None \n",
    "tovosa[0] = mags['ID']\n",
    "tovosa[1] = mags['j_m']\n",
    "tovosa[2] = mags['h_m']\n",
    "tovosa[3] = mags['k_m']\n",
    "tovosa[4] = mags['j_cmsig']\n",
    "tovosa[5] = mags['h_cmsig']\n",
    "tovosa[6] = mags['k_cmsig']"
   ]
  },
  {
   "cell_type": "code",
   "execution_count": 12,
   "metadata": {
    "collapsed": false
   },
   "outputs": [],
   "source": [
    "tovosa = tovosa[[  0, 'gMeanPSFMag',   'rMeanPSFMag',    'iMeanApMag',    'zMeanApMag',\n",
    "          'yMeanApMag', 1, 2, 3,'gMeanApMagErr', 'rMeanApMagErr', 'iMeanApMagErr',\n",
    "       'zMeanApMagErr', 'yMeanApMagErr',             4,               5,\n",
    "                     6]  ]"
   ]
  },
  {
   "cell_type": "code",
   "execution_count": 13,
   "metadata": {
    "collapsed": false
   },
   "outputs": [
    {
     "data": {
      "text/html": [
       "<div>\n",
       "<table border=\"1\" class=\"dataframe\">\n",
       "  <thead>\n",
       "    <tr style=\"text-align: right;\">\n",
       "      <th></th>\n",
       "      <th>0</th>\n",
       "      <th>gMeanPSFMag</th>\n",
       "      <th>rMeanPSFMag</th>\n",
       "      <th>iMeanApMag</th>\n",
       "      <th>zMeanApMag</th>\n",
       "      <th>yMeanApMag</th>\n",
       "      <th>1</th>\n",
       "      <th>2</th>\n",
       "      <th>3</th>\n",
       "      <th>gMeanApMagErr</th>\n",
       "      <th>rMeanApMagErr</th>\n",
       "      <th>iMeanApMagErr</th>\n",
       "      <th>zMeanApMagErr</th>\n",
       "      <th>yMeanApMagErr</th>\n",
       "      <th>4</th>\n",
       "      <th>5</th>\n",
       "      <th>6</th>\n",
       "    </tr>\n",
       "  </thead>\n",
       "  <tbody>\n",
       "    <tr>\n",
       "      <th>0</th>\n",
       "      <td>1467</td>\n",
       "      <td>16.584</td>\n",
       "      <td>15.846</td>\n",
       "      <td>15.482</td>\n",
       "      <td>15.328</td>\n",
       "      <td>15.204</td>\n",
       "      <td>14.099</td>\n",
       "      <td>13.615</td>\n",
       "      <td>13.410</td>\n",
       "      <td>0.005</td>\n",
       "      <td>0.004</td>\n",
       "      <td>0.005</td>\n",
       "      <td>0.002</td>\n",
       "      <td>0.005</td>\n",
       "      <td>0.029</td>\n",
       "      <td>0.028</td>\n",
       "      <td>0.040</td>\n",
       "    </tr>\n",
       "    <tr>\n",
       "      <th>1</th>\n",
       "      <td>1018</td>\n",
       "      <td>16.169</td>\n",
       "      <td>15.349</td>\n",
       "      <td>14.936</td>\n",
       "      <td>14.739</td>\n",
       "      <td>14.599</td>\n",
       "      <td>13.469</td>\n",
       "      <td>12.854</td>\n",
       "      <td>12.763</td>\n",
       "      <td>0.003</td>\n",
       "      <td>0.003</td>\n",
       "      <td>0.002</td>\n",
       "      <td>0.003</td>\n",
       "      <td>0.002</td>\n",
       "      <td>0.021</td>\n",
       "      <td>0.020</td>\n",
       "      <td>0.023</td>\n",
       "    </tr>\n",
       "  </tbody>\n",
       "</table>\n",
       "</div>"
      ],
      "text/plain": [
       "      0  gMeanPSFMag  rMeanPSFMag  iMeanApMag  zMeanApMag  yMeanApMag       1  \\\n",
       "0  1467       16.584       15.846      15.482      15.328      15.204  14.099   \n",
       "1  1018       16.169       15.349      14.936      14.739      14.599  13.469   \n",
       "\n",
       "        2       3  gMeanApMagErr  rMeanApMagErr  iMeanApMagErr  zMeanApMagErr  \\\n",
       "0  13.615  13.410          0.005          0.004          0.005          0.002   \n",
       "1  12.854  12.763          0.003          0.003          0.002          0.003   \n",
       "\n",
       "   yMeanApMagErr      4      5      6  \n",
       "0          0.005  0.029  0.028  0.040  \n",
       "1          0.002  0.021  0.020  0.023  "
      ]
     },
     "execution_count": 13,
     "metadata": {},
     "output_type": "execute_result"
    }
   ],
   "source": [
    "tovosa.head(2)"
   ]
  },
  {
   "cell_type": "code",
   "execution_count": 14,
   "metadata": {
    "collapsed": false
   },
   "outputs": [],
   "source": [
    "tovosa.columns = [  0, 'gMeanPSFMag',   'rMeanPSFMag',    'iMeanApMag',    'zMeanApMag',\n",
    "          'yMeanApMag', 'j', 'h', 'k','gMeanApMagErr', 'rMeanApMagErr', 'iMeanApMagErr',\n",
    "       'zMeanApMagErr', 'yMeanApMagErr',             'erj',               'erh',\n",
    "                     'erk']  "
   ]
  },
  {
   "cell_type": "code",
   "execution_count": 15,
   "metadata": {
    "collapsed": false
   },
   "outputs": [],
   "source": [
    "filters=('PAN-STARRS/PS1.g','PAN-STARRS/PS1.r','PAN-STARRS/PS1.i','PAN-STARRS/PS1.z','PAN-STARRS/PS1.y','2MASS/2MASS.J'\\\n",
    "        , '2MASS/2MASS.H', '2MASS/2MASS.Ks')"
   ]
  },
  {
   "cell_type": "code",
   "execution_count": 16,
   "metadata": {
    "collapsed": false
   },
   "outputs": [],
   "source": [
    "dats=[]\n",
    "for index, row in tovosa.iterrows():\n",
    "    for j in range(len(filters)):\n",
    "        if row[j+1] > 0. and row[j+9] > 0.:\n",
    "            dats.append((row[0],'...','...','...','...',filters[j],row[j+1],row[j+9],'...','...'))\n",
    "        \n",
    "np.savetxt('vosa_canis_ps1jhk_obs.dat',dats,fmt='%s')"
   ]
  },
  {
   "cell_type": "code",
   "execution_count": 17,
   "metadata": {
    "collapsed": false
   },
   "outputs": [],
   "source": [
    "vosa = np.genfromtxt('15155.vosa.dat',str)\n",
    "kk =[[i[0],i[5],i[6],i[7]] for i in vosa]"
   ]
  },
  {
   "cell_type": "code",
   "execution_count": 18,
   "metadata": {
    "collapsed": false
   },
   "outputs": [],
   "source": [
    "dat1=[]\n",
    "for i in range(0,len(kk),5):\n",
    "    pp=kk[i].copy()\n",
    "    for j in range(1,5,1):\n",
    "        pp.append(kk[i+j][2])\n",
    "        pp.append(kk[i+j][3])\n",
    "    pp.remove('PAN-STARRS/PS1.g')\n",
    "    dat1.append(pp)"
   ]
  },
  {
   "cell_type": "code",
   "execution_count": 19,
   "metadata": {
    "collapsed": false
   },
   "outputs": [],
   "source": [
    "cf = pd.read_csv('canis_fluxes.dat',sep =' ',header=None)\n",
    "of = pd.read_csv('obs_flux_ps',sep=' ',header=None)"
   ]
  },
  {
   "cell_type": "code",
   "execution_count": 20,
   "metadata": {
    "collapsed": true
   },
   "outputs": [
    {
     "data": {
      "text/html": [
       "<div>\n",
       "<table border=\"1\" class=\"dataframe\">\n",
       "  <thead>\n",
       "    <tr style=\"text-align: right;\">\n",
       "      <th></th>\n",
       "      <th>0</th>\n",
       "      <th>1_x</th>\n",
       "      <th>2_x</th>\n",
       "      <th>3_x</th>\n",
       "      <th>1_y</th>\n",
       "      <th>2_y</th>\n",
       "      <th>3_y</th>\n",
       "    </tr>\n",
       "  </thead>\n",
       "  <tbody>\n",
       "    <tr>\n",
       "      <th>0</th>\n",
       "      <td>1007</td>\n",
       "      <td>PAN-STARRS/PS1.g</td>\n",
       "      <td>2.104687e-15</td>\n",
       "      <td>5.815464e-18</td>\n",
       "      <td>Generic/Johnson.U</td>\n",
       "      <td>3.129100e-16</td>\n",
       "      <td>1.193666e-17</td>\n",
       "    </tr>\n",
       "    <tr>\n",
       "      <th>1</th>\n",
       "      <td>1007</td>\n",
       "      <td>PAN-STARRS/PS1.g</td>\n",
       "      <td>2.104687e-15</td>\n",
       "      <td>5.815464e-18</td>\n",
       "      <td>Generic/Johnson.B</td>\n",
       "      <td>1.303295e-15</td>\n",
       "      <td>1.746830e-17</td>\n",
       "    </tr>\n",
       "    <tr>\n",
       "      <th>2</th>\n",
       "      <td>1007</td>\n",
       "      <td>PAN-STARRS/PS1.g</td>\n",
       "      <td>2.104687e-15</td>\n",
       "      <td>5.815464e-18</td>\n",
       "      <td>Generic/Johnson.V</td>\n",
       "      <td>2.023668e-15</td>\n",
       "      <td>4.696945e-17</td>\n",
       "    </tr>\n",
       "    <tr>\n",
       "      <th>3</th>\n",
       "      <td>1007</td>\n",
       "      <td>PAN-STARRS/PS1.g</td>\n",
       "      <td>2.104687e-15</td>\n",
       "      <td>5.815464e-18</td>\n",
       "      <td>Generic/Johnson.R</td>\n",
       "      <td>1.960432e-15</td>\n",
       "      <td>2.627602e-17</td>\n",
       "    </tr>\n",
       "    <tr>\n",
       "      <th>4</th>\n",
       "      <td>1007</td>\n",
       "      <td>PAN-STARRS/PS1.g</td>\n",
       "      <td>2.104687e-15</td>\n",
       "      <td>5.815464e-18</td>\n",
       "      <td>Generic/Johnson.I</td>\n",
       "      <td>1.741228e-15</td>\n",
       "      <td>1.683917e-17</td>\n",
       "    </tr>\n",
       "    <tr>\n",
       "      <th>5</th>\n",
       "      <td>1007</td>\n",
       "      <td>PAN-STARRS/PS1.g</td>\n",
       "      <td>2.104687e-15</td>\n",
       "      <td>5.815464e-18</td>\n",
       "      <td>2MASS/2MASS.J</td>\n",
       "      <td>1.181968e-15</td>\n",
       "      <td>1.415222e-17</td>\n",
       "    </tr>\n",
       "    <tr>\n",
       "      <th>6</th>\n",
       "      <td>1007</td>\n",
       "      <td>PAN-STARRS/PS1.g</td>\n",
       "      <td>2.104687e-15</td>\n",
       "      <td>5.815464e-18</td>\n",
       "      <td>2MASS/2MASS.H</td>\n",
       "      <td>7.315262e-16</td>\n",
       "      <td>3.234051e-17</td>\n",
       "    </tr>\n",
       "    <tr>\n",
       "      <th>7</th>\n",
       "      <td>1007</td>\n",
       "      <td>PAN-STARRS/PS1.g</td>\n",
       "      <td>2.104687e-15</td>\n",
       "      <td>5.815464e-18</td>\n",
       "      <td>2MASS/2MASS.Ks</td>\n",
       "      <td>2.895663e-16</td>\n",
       "      <td>1.173482e-17</td>\n",
       "    </tr>\n",
       "    <tr>\n",
       "      <th>8</th>\n",
       "      <td>1007</td>\n",
       "      <td>PAN-STARRS/PS1.r</td>\n",
       "      <td>2.414307e-15</td>\n",
       "      <td>1.903452e-18</td>\n",
       "      <td>Generic/Johnson.U</td>\n",
       "      <td>3.129100e-16</td>\n",
       "      <td>1.193666e-17</td>\n",
       "    </tr>\n",
       "    <tr>\n",
       "      <th>9</th>\n",
       "      <td>1007</td>\n",
       "      <td>PAN-STARRS/PS1.r</td>\n",
       "      <td>2.414307e-15</td>\n",
       "      <td>1.903452e-18</td>\n",
       "      <td>Generic/Johnson.B</td>\n",
       "      <td>1.303295e-15</td>\n",
       "      <td>1.746830e-17</td>\n",
       "    </tr>\n",
       "    <tr>\n",
       "      <th>10</th>\n",
       "      <td>1007</td>\n",
       "      <td>PAN-STARRS/PS1.r</td>\n",
       "      <td>2.414307e-15</td>\n",
       "      <td>1.903452e-18</td>\n",
       "      <td>Generic/Johnson.V</td>\n",
       "      <td>2.023668e-15</td>\n",
       "      <td>4.696945e-17</td>\n",
       "    </tr>\n",
       "    <tr>\n",
       "      <th>11</th>\n",
       "      <td>1007</td>\n",
       "      <td>PAN-STARRS/PS1.r</td>\n",
       "      <td>2.414307e-15</td>\n",
       "      <td>1.903452e-18</td>\n",
       "      <td>Generic/Johnson.R</td>\n",
       "      <td>1.960432e-15</td>\n",
       "      <td>2.627602e-17</td>\n",
       "    </tr>\n",
       "    <tr>\n",
       "      <th>12</th>\n",
       "      <td>1007</td>\n",
       "      <td>PAN-STARRS/PS1.r</td>\n",
       "      <td>2.414307e-15</td>\n",
       "      <td>1.903452e-18</td>\n",
       "      <td>Generic/Johnson.I</td>\n",
       "      <td>1.741228e-15</td>\n",
       "      <td>1.683917e-17</td>\n",
       "    </tr>\n",
       "    <tr>\n",
       "      <th>13</th>\n",
       "      <td>1007</td>\n",
       "      <td>PAN-STARRS/PS1.r</td>\n",
       "      <td>2.414307e-15</td>\n",
       "      <td>1.903452e-18</td>\n",
       "      <td>2MASS/2MASS.J</td>\n",
       "      <td>1.181968e-15</td>\n",
       "      <td>1.415222e-17</td>\n",
       "    </tr>\n",
       "    <tr>\n",
       "      <th>14</th>\n",
       "      <td>1007</td>\n",
       "      <td>PAN-STARRS/PS1.r</td>\n",
       "      <td>2.414307e-15</td>\n",
       "      <td>1.903452e-18</td>\n",
       "      <td>2MASS/2MASS.H</td>\n",
       "      <td>7.315262e-16</td>\n",
       "      <td>3.234051e-17</td>\n",
       "    </tr>\n",
       "    <tr>\n",
       "      <th>15</th>\n",
       "      <td>1007</td>\n",
       "      <td>PAN-STARRS/PS1.r</td>\n",
       "      <td>2.414307e-15</td>\n",
       "      <td>1.903452e-18</td>\n",
       "      <td>2MASS/2MASS.Ks</td>\n",
       "      <td>2.895663e-16</td>\n",
       "      <td>1.173482e-17</td>\n",
       "    </tr>\n",
       "    <tr>\n",
       "      <th>16</th>\n",
       "      <td>1007</td>\n",
       "      <td>PAN-STARRS/PS1.i</td>\n",
       "      <td>2.255850e-15</td>\n",
       "      <td>4.155430e-18</td>\n",
       "      <td>Generic/Johnson.U</td>\n",
       "      <td>3.129100e-16</td>\n",
       "      <td>1.193666e-17</td>\n",
       "    </tr>\n",
       "    <tr>\n",
       "      <th>17</th>\n",
       "      <td>1007</td>\n",
       "      <td>PAN-STARRS/PS1.i</td>\n",
       "      <td>2.255850e-15</td>\n",
       "      <td>4.155430e-18</td>\n",
       "      <td>Generic/Johnson.B</td>\n",
       "      <td>1.303295e-15</td>\n",
       "      <td>1.746830e-17</td>\n",
       "    </tr>\n",
       "    <tr>\n",
       "      <th>18</th>\n",
       "      <td>1007</td>\n",
       "      <td>PAN-STARRS/PS1.i</td>\n",
       "      <td>2.255850e-15</td>\n",
       "      <td>4.155430e-18</td>\n",
       "      <td>Generic/Johnson.V</td>\n",
       "      <td>2.023668e-15</td>\n",
       "      <td>4.696945e-17</td>\n",
       "    </tr>\n",
       "    <tr>\n",
       "      <th>19</th>\n",
       "      <td>1007</td>\n",
       "      <td>PAN-STARRS/PS1.i</td>\n",
       "      <td>2.255850e-15</td>\n",
       "      <td>4.155430e-18</td>\n",
       "      <td>Generic/Johnson.R</td>\n",
       "      <td>1.960432e-15</td>\n",
       "      <td>2.627602e-17</td>\n",
       "    </tr>\n",
       "    <tr>\n",
       "      <th>20</th>\n",
       "      <td>1007</td>\n",
       "      <td>PAN-STARRS/PS1.i</td>\n",
       "      <td>2.255850e-15</td>\n",
       "      <td>4.155430e-18</td>\n",
       "      <td>Generic/Johnson.I</td>\n",
       "      <td>1.741228e-15</td>\n",
       "      <td>1.683917e-17</td>\n",
       "    </tr>\n",
       "    <tr>\n",
       "      <th>21</th>\n",
       "      <td>1007</td>\n",
       "      <td>PAN-STARRS/PS1.i</td>\n",
       "      <td>2.255850e-15</td>\n",
       "      <td>4.155430e-18</td>\n",
       "      <td>2MASS/2MASS.J</td>\n",
       "      <td>1.181968e-15</td>\n",
       "      <td>1.415222e-17</td>\n",
       "    </tr>\n",
       "    <tr>\n",
       "      <th>22</th>\n",
       "      <td>1007</td>\n",
       "      <td>PAN-STARRS/PS1.i</td>\n",
       "      <td>2.255850e-15</td>\n",
       "      <td>4.155430e-18</td>\n",
       "      <td>2MASS/2MASS.H</td>\n",
       "      <td>7.315262e-16</td>\n",
       "      <td>3.234051e-17</td>\n",
       "    </tr>\n",
       "    <tr>\n",
       "      <th>23</th>\n",
       "      <td>1007</td>\n",
       "      <td>PAN-STARRS/PS1.i</td>\n",
       "      <td>2.255850e-15</td>\n",
       "      <td>4.155430e-18</td>\n",
       "      <td>2MASS/2MASS.Ks</td>\n",
       "      <td>2.895663e-16</td>\n",
       "      <td>1.173482e-17</td>\n",
       "    </tr>\n",
       "    <tr>\n",
       "      <th>24</th>\n",
       "      <td>1007</td>\n",
       "      <td>PAN-STARRS/PS1.z</td>\n",
       "      <td>1.912624e-15</td>\n",
       "      <td>3.523183e-18</td>\n",
       "      <td>Generic/Johnson.U</td>\n",
       "      <td>3.129100e-16</td>\n",
       "      <td>1.193666e-17</td>\n",
       "    </tr>\n",
       "    <tr>\n",
       "      <th>25</th>\n",
       "      <td>1007</td>\n",
       "      <td>PAN-STARRS/PS1.z</td>\n",
       "      <td>1.912624e-15</td>\n",
       "      <td>3.523183e-18</td>\n",
       "      <td>Generic/Johnson.B</td>\n",
       "      <td>1.303295e-15</td>\n",
       "      <td>1.746830e-17</td>\n",
       "    </tr>\n",
       "    <tr>\n",
       "      <th>26</th>\n",
       "      <td>1007</td>\n",
       "      <td>PAN-STARRS/PS1.z</td>\n",
       "      <td>1.912624e-15</td>\n",
       "      <td>3.523183e-18</td>\n",
       "      <td>Generic/Johnson.V</td>\n",
       "      <td>2.023668e-15</td>\n",
       "      <td>4.696945e-17</td>\n",
       "    </tr>\n",
       "    <tr>\n",
       "      <th>27</th>\n",
       "      <td>1007</td>\n",
       "      <td>PAN-STARRS/PS1.z</td>\n",
       "      <td>1.912624e-15</td>\n",
       "      <td>3.523183e-18</td>\n",
       "      <td>Generic/Johnson.R</td>\n",
       "      <td>1.960432e-15</td>\n",
       "      <td>2.627602e-17</td>\n",
       "    </tr>\n",
       "    <tr>\n",
       "      <th>28</th>\n",
       "      <td>1007</td>\n",
       "      <td>PAN-STARRS/PS1.z</td>\n",
       "      <td>1.912624e-15</td>\n",
       "      <td>3.523183e-18</td>\n",
       "      <td>Generic/Johnson.I</td>\n",
       "      <td>1.741228e-15</td>\n",
       "      <td>1.683917e-17</td>\n",
       "    </tr>\n",
       "    <tr>\n",
       "      <th>29</th>\n",
       "      <td>1007</td>\n",
       "      <td>PAN-STARRS/PS1.z</td>\n",
       "      <td>1.912624e-15</td>\n",
       "      <td>3.523183e-18</td>\n",
       "      <td>2MASS/2MASS.J</td>\n",
       "      <td>1.181968e-15</td>\n",
       "      <td>1.415222e-17</td>\n",
       "    </tr>\n",
       "    <tr>\n",
       "      <th>...</th>\n",
       "      <td>...</td>\n",
       "      <td>...</td>\n",
       "      <td>...</td>\n",
       "      <td>...</td>\n",
       "      <td>...</td>\n",
       "      <td>...</td>\n",
       "      <td>...</td>\n",
       "    </tr>\n",
       "    <tr>\n",
       "      <th>37756</th>\n",
       "      <td>997</td>\n",
       "      <td>PAN-STARRS/PS1.z</td>\n",
       "      <td>2.074099e-15</td>\n",
       "      <td>1.910316e-18</td>\n",
       "      <td>2MASS/2MASS.H</td>\n",
       "      <td>9.804601e-16</td>\n",
       "      <td>3.250934e-17</td>\n",
       "    </tr>\n",
       "    <tr>\n",
       "      <th>37757</th>\n",
       "      <td>997</td>\n",
       "      <td>PAN-STARRS/PS1.z</td>\n",
       "      <td>2.074099e-15</td>\n",
       "      <td>1.910316e-18</td>\n",
       "      <td>2MASS/2MASS.Ks</td>\n",
       "      <td>4.279057e-16</td>\n",
       "      <td>1.615874e-17</td>\n",
       "    </tr>\n",
       "    <tr>\n",
       "      <th>37758</th>\n",
       "      <td>997</td>\n",
       "      <td>PAN-STARRS/PS1.y</td>\n",
       "      <td>1.946379e-15</td>\n",
       "      <td>3.585363e-18</td>\n",
       "      <td>Generic/Johnson.B</td>\n",
       "      <td>7.874859e-16</td>\n",
       "      <td>9.936363e-18</td>\n",
       "    </tr>\n",
       "    <tr>\n",
       "      <th>37759</th>\n",
       "      <td>997</td>\n",
       "      <td>PAN-STARRS/PS1.y</td>\n",
       "      <td>1.946379e-15</td>\n",
       "      <td>3.585363e-18</td>\n",
       "      <td>Generic/Johnson.V</td>\n",
       "      <td>1.541059e-15</td>\n",
       "      <td>3.676163e-17</td>\n",
       "    </tr>\n",
       "    <tr>\n",
       "      <th>37760</th>\n",
       "      <td>997</td>\n",
       "      <td>PAN-STARRS/PS1.y</td>\n",
       "      <td>1.946379e-15</td>\n",
       "      <td>3.585363e-18</td>\n",
       "      <td>Generic/Johnson.R</td>\n",
       "      <td>1.783987e-15</td>\n",
       "      <td>2.251005e-17</td>\n",
       "    </tr>\n",
       "    <tr>\n",
       "      <th>37761</th>\n",
       "      <td>997</td>\n",
       "      <td>PAN-STARRS/PS1.y</td>\n",
       "      <td>1.946379e-15</td>\n",
       "      <td>3.585363e-18</td>\n",
       "      <td>Generic/Johnson.I</td>\n",
       "      <td>1.689724e-15</td>\n",
       "      <td>1.614349e-17</td>\n",
       "    </tr>\n",
       "    <tr>\n",
       "      <th>37762</th>\n",
       "      <td>997</td>\n",
       "      <td>PAN-STARRS/PS1.y</td>\n",
       "      <td>1.946379e-15</td>\n",
       "      <td>3.585363e-18</td>\n",
       "      <td>2MASS/2MASS.J</td>\n",
       "      <td>1.500395e-15</td>\n",
       "      <td>2.902021e-17</td>\n",
       "    </tr>\n",
       "    <tr>\n",
       "      <th>37763</th>\n",
       "      <td>997</td>\n",
       "      <td>PAN-STARRS/PS1.y</td>\n",
       "      <td>1.946379e-15</td>\n",
       "      <td>3.585363e-18</td>\n",
       "      <td>2MASS/2MASS.H</td>\n",
       "      <td>9.804601e-16</td>\n",
       "      <td>3.250934e-17</td>\n",
       "    </tr>\n",
       "    <tr>\n",
       "      <th>37764</th>\n",
       "      <td>997</td>\n",
       "      <td>PAN-STARRS/PS1.y</td>\n",
       "      <td>1.946379e-15</td>\n",
       "      <td>3.585363e-18</td>\n",
       "      <td>2MASS/2MASS.Ks</td>\n",
       "      <td>4.279057e-16</td>\n",
       "      <td>1.615874e-17</td>\n",
       "    </tr>\n",
       "    <tr>\n",
       "      <th>37765</th>\n",
       "      <td>997</td>\n",
       "      <td>2MASS/2MASS.J</td>\n",
       "      <td>1.500395e-15</td>\n",
       "      <td>2.902021e-17</td>\n",
       "      <td>Generic/Johnson.B</td>\n",
       "      <td>7.874859e-16</td>\n",
       "      <td>9.936363e-18</td>\n",
       "    </tr>\n",
       "    <tr>\n",
       "      <th>37766</th>\n",
       "      <td>997</td>\n",
       "      <td>2MASS/2MASS.J</td>\n",
       "      <td>1.500395e-15</td>\n",
       "      <td>2.902021e-17</td>\n",
       "      <td>Generic/Johnson.V</td>\n",
       "      <td>1.541059e-15</td>\n",
       "      <td>3.676163e-17</td>\n",
       "    </tr>\n",
       "    <tr>\n",
       "      <th>37767</th>\n",
       "      <td>997</td>\n",
       "      <td>2MASS/2MASS.J</td>\n",
       "      <td>1.500395e-15</td>\n",
       "      <td>2.902021e-17</td>\n",
       "      <td>Generic/Johnson.R</td>\n",
       "      <td>1.783987e-15</td>\n",
       "      <td>2.251005e-17</td>\n",
       "    </tr>\n",
       "    <tr>\n",
       "      <th>37768</th>\n",
       "      <td>997</td>\n",
       "      <td>2MASS/2MASS.J</td>\n",
       "      <td>1.500395e-15</td>\n",
       "      <td>2.902021e-17</td>\n",
       "      <td>Generic/Johnson.I</td>\n",
       "      <td>1.689724e-15</td>\n",
       "      <td>1.614349e-17</td>\n",
       "    </tr>\n",
       "    <tr>\n",
       "      <th>37769</th>\n",
       "      <td>997</td>\n",
       "      <td>2MASS/2MASS.J</td>\n",
       "      <td>1.500395e-15</td>\n",
       "      <td>2.902021e-17</td>\n",
       "      <td>2MASS/2MASS.J</td>\n",
       "      <td>1.500395e-15</td>\n",
       "      <td>2.902021e-17</td>\n",
       "    </tr>\n",
       "    <tr>\n",
       "      <th>37770</th>\n",
       "      <td>997</td>\n",
       "      <td>2MASS/2MASS.J</td>\n",
       "      <td>1.500395e-15</td>\n",
       "      <td>2.902021e-17</td>\n",
       "      <td>2MASS/2MASS.H</td>\n",
       "      <td>9.804601e-16</td>\n",
       "      <td>3.250934e-17</td>\n",
       "    </tr>\n",
       "    <tr>\n",
       "      <th>37771</th>\n",
       "      <td>997</td>\n",
       "      <td>2MASS/2MASS.J</td>\n",
       "      <td>1.500395e-15</td>\n",
       "      <td>2.902021e-17</td>\n",
       "      <td>2MASS/2MASS.Ks</td>\n",
       "      <td>4.279057e-16</td>\n",
       "      <td>1.615874e-17</td>\n",
       "    </tr>\n",
       "    <tr>\n",
       "      <th>37772</th>\n",
       "      <td>997</td>\n",
       "      <td>2MASS/2MASS.H</td>\n",
       "      <td>9.804601e-16</td>\n",
       "      <td>1.806074e-17</td>\n",
       "      <td>Generic/Johnson.B</td>\n",
       "      <td>7.874859e-16</td>\n",
       "      <td>9.936363e-18</td>\n",
       "    </tr>\n",
       "    <tr>\n",
       "      <th>37773</th>\n",
       "      <td>997</td>\n",
       "      <td>2MASS/2MASS.H</td>\n",
       "      <td>9.804601e-16</td>\n",
       "      <td>1.806074e-17</td>\n",
       "      <td>Generic/Johnson.V</td>\n",
       "      <td>1.541059e-15</td>\n",
       "      <td>3.676163e-17</td>\n",
       "    </tr>\n",
       "    <tr>\n",
       "      <th>37774</th>\n",
       "      <td>997</td>\n",
       "      <td>2MASS/2MASS.H</td>\n",
       "      <td>9.804601e-16</td>\n",
       "      <td>1.806074e-17</td>\n",
       "      <td>Generic/Johnson.R</td>\n",
       "      <td>1.783987e-15</td>\n",
       "      <td>2.251005e-17</td>\n",
       "    </tr>\n",
       "    <tr>\n",
       "      <th>37775</th>\n",
       "      <td>997</td>\n",
       "      <td>2MASS/2MASS.H</td>\n",
       "      <td>9.804601e-16</td>\n",
       "      <td>1.806074e-17</td>\n",
       "      <td>Generic/Johnson.I</td>\n",
       "      <td>1.689724e-15</td>\n",
       "      <td>1.614349e-17</td>\n",
       "    </tr>\n",
       "    <tr>\n",
       "      <th>37776</th>\n",
       "      <td>997</td>\n",
       "      <td>2MASS/2MASS.H</td>\n",
       "      <td>9.804601e-16</td>\n",
       "      <td>1.806074e-17</td>\n",
       "      <td>2MASS/2MASS.J</td>\n",
       "      <td>1.500395e-15</td>\n",
       "      <td>2.902021e-17</td>\n",
       "    </tr>\n",
       "    <tr>\n",
       "      <th>37777</th>\n",
       "      <td>997</td>\n",
       "      <td>2MASS/2MASS.H</td>\n",
       "      <td>9.804601e-16</td>\n",
       "      <td>1.806074e-17</td>\n",
       "      <td>2MASS/2MASS.H</td>\n",
       "      <td>9.804601e-16</td>\n",
       "      <td>3.250934e-17</td>\n",
       "    </tr>\n",
       "    <tr>\n",
       "      <th>37778</th>\n",
       "      <td>997</td>\n",
       "      <td>2MASS/2MASS.H</td>\n",
       "      <td>9.804601e-16</td>\n",
       "      <td>1.806074e-17</td>\n",
       "      <td>2MASS/2MASS.Ks</td>\n",
       "      <td>4.279057e-16</td>\n",
       "      <td>1.615874e-17</td>\n",
       "    </tr>\n",
       "    <tr>\n",
       "      <th>37779</th>\n",
       "      <td>997</td>\n",
       "      <td>2MASS/2MASS.Ks</td>\n",
       "      <td>4.279057e-16</td>\n",
       "      <td>7.488199e-18</td>\n",
       "      <td>Generic/Johnson.B</td>\n",
       "      <td>7.874859e-16</td>\n",
       "      <td>9.936363e-18</td>\n",
       "    </tr>\n",
       "    <tr>\n",
       "      <th>37780</th>\n",
       "      <td>997</td>\n",
       "      <td>2MASS/2MASS.Ks</td>\n",
       "      <td>4.279057e-16</td>\n",
       "      <td>7.488199e-18</td>\n",
       "      <td>Generic/Johnson.V</td>\n",
       "      <td>1.541059e-15</td>\n",
       "      <td>3.676163e-17</td>\n",
       "    </tr>\n",
       "    <tr>\n",
       "      <th>37781</th>\n",
       "      <td>997</td>\n",
       "      <td>2MASS/2MASS.Ks</td>\n",
       "      <td>4.279057e-16</td>\n",
       "      <td>7.488199e-18</td>\n",
       "      <td>Generic/Johnson.R</td>\n",
       "      <td>1.783987e-15</td>\n",
       "      <td>2.251005e-17</td>\n",
       "    </tr>\n",
       "    <tr>\n",
       "      <th>37782</th>\n",
       "      <td>997</td>\n",
       "      <td>2MASS/2MASS.Ks</td>\n",
       "      <td>4.279057e-16</td>\n",
       "      <td>7.488199e-18</td>\n",
       "      <td>Generic/Johnson.I</td>\n",
       "      <td>1.689724e-15</td>\n",
       "      <td>1.614349e-17</td>\n",
       "    </tr>\n",
       "    <tr>\n",
       "      <th>37783</th>\n",
       "      <td>997</td>\n",
       "      <td>2MASS/2MASS.Ks</td>\n",
       "      <td>4.279057e-16</td>\n",
       "      <td>7.488199e-18</td>\n",
       "      <td>2MASS/2MASS.J</td>\n",
       "      <td>1.500395e-15</td>\n",
       "      <td>2.902021e-17</td>\n",
       "    </tr>\n",
       "    <tr>\n",
       "      <th>37784</th>\n",
       "      <td>997</td>\n",
       "      <td>2MASS/2MASS.Ks</td>\n",
       "      <td>4.279057e-16</td>\n",
       "      <td>7.488199e-18</td>\n",
       "      <td>2MASS/2MASS.H</td>\n",
       "      <td>9.804601e-16</td>\n",
       "      <td>3.250934e-17</td>\n",
       "    </tr>\n",
       "    <tr>\n",
       "      <th>37785</th>\n",
       "      <td>997</td>\n",
       "      <td>2MASS/2MASS.Ks</td>\n",
       "      <td>4.279057e-16</td>\n",
       "      <td>7.488199e-18</td>\n",
       "      <td>2MASS/2MASS.Ks</td>\n",
       "      <td>4.279057e-16</td>\n",
       "      <td>1.615874e-17</td>\n",
       "    </tr>\n",
       "  </tbody>\n",
       "</table>\n",
       "<p>37786 rows × 7 columns</p>\n",
       "</div>"
      ],
      "text/plain": [
       "          0               1_x           2_x           3_x                1_y  \\\n",
       "0      1007  PAN-STARRS/PS1.g  2.104687e-15  5.815464e-18  Generic/Johnson.U   \n",
       "1      1007  PAN-STARRS/PS1.g  2.104687e-15  5.815464e-18  Generic/Johnson.B   \n",
       "2      1007  PAN-STARRS/PS1.g  2.104687e-15  5.815464e-18  Generic/Johnson.V   \n",
       "3      1007  PAN-STARRS/PS1.g  2.104687e-15  5.815464e-18  Generic/Johnson.R   \n",
       "4      1007  PAN-STARRS/PS1.g  2.104687e-15  5.815464e-18  Generic/Johnson.I   \n",
       "5      1007  PAN-STARRS/PS1.g  2.104687e-15  5.815464e-18      2MASS/2MASS.J   \n",
       "6      1007  PAN-STARRS/PS1.g  2.104687e-15  5.815464e-18      2MASS/2MASS.H   \n",
       "7      1007  PAN-STARRS/PS1.g  2.104687e-15  5.815464e-18     2MASS/2MASS.Ks   \n",
       "8      1007  PAN-STARRS/PS1.r  2.414307e-15  1.903452e-18  Generic/Johnson.U   \n",
       "9      1007  PAN-STARRS/PS1.r  2.414307e-15  1.903452e-18  Generic/Johnson.B   \n",
       "10     1007  PAN-STARRS/PS1.r  2.414307e-15  1.903452e-18  Generic/Johnson.V   \n",
       "11     1007  PAN-STARRS/PS1.r  2.414307e-15  1.903452e-18  Generic/Johnson.R   \n",
       "12     1007  PAN-STARRS/PS1.r  2.414307e-15  1.903452e-18  Generic/Johnson.I   \n",
       "13     1007  PAN-STARRS/PS1.r  2.414307e-15  1.903452e-18      2MASS/2MASS.J   \n",
       "14     1007  PAN-STARRS/PS1.r  2.414307e-15  1.903452e-18      2MASS/2MASS.H   \n",
       "15     1007  PAN-STARRS/PS1.r  2.414307e-15  1.903452e-18     2MASS/2MASS.Ks   \n",
       "16     1007  PAN-STARRS/PS1.i  2.255850e-15  4.155430e-18  Generic/Johnson.U   \n",
       "17     1007  PAN-STARRS/PS1.i  2.255850e-15  4.155430e-18  Generic/Johnson.B   \n",
       "18     1007  PAN-STARRS/PS1.i  2.255850e-15  4.155430e-18  Generic/Johnson.V   \n",
       "19     1007  PAN-STARRS/PS1.i  2.255850e-15  4.155430e-18  Generic/Johnson.R   \n",
       "20     1007  PAN-STARRS/PS1.i  2.255850e-15  4.155430e-18  Generic/Johnson.I   \n",
       "21     1007  PAN-STARRS/PS1.i  2.255850e-15  4.155430e-18      2MASS/2MASS.J   \n",
       "22     1007  PAN-STARRS/PS1.i  2.255850e-15  4.155430e-18      2MASS/2MASS.H   \n",
       "23     1007  PAN-STARRS/PS1.i  2.255850e-15  4.155430e-18     2MASS/2MASS.Ks   \n",
       "24     1007  PAN-STARRS/PS1.z  1.912624e-15  3.523183e-18  Generic/Johnson.U   \n",
       "25     1007  PAN-STARRS/PS1.z  1.912624e-15  3.523183e-18  Generic/Johnson.B   \n",
       "26     1007  PAN-STARRS/PS1.z  1.912624e-15  3.523183e-18  Generic/Johnson.V   \n",
       "27     1007  PAN-STARRS/PS1.z  1.912624e-15  3.523183e-18  Generic/Johnson.R   \n",
       "28     1007  PAN-STARRS/PS1.z  1.912624e-15  3.523183e-18  Generic/Johnson.I   \n",
       "29     1007  PAN-STARRS/PS1.z  1.912624e-15  3.523183e-18      2MASS/2MASS.J   \n",
       "...     ...               ...           ...           ...                ...   \n",
       "37756   997  PAN-STARRS/PS1.z  2.074099e-15  1.910316e-18      2MASS/2MASS.H   \n",
       "37757   997  PAN-STARRS/PS1.z  2.074099e-15  1.910316e-18     2MASS/2MASS.Ks   \n",
       "37758   997  PAN-STARRS/PS1.y  1.946379e-15  3.585363e-18  Generic/Johnson.B   \n",
       "37759   997  PAN-STARRS/PS1.y  1.946379e-15  3.585363e-18  Generic/Johnson.V   \n",
       "37760   997  PAN-STARRS/PS1.y  1.946379e-15  3.585363e-18  Generic/Johnson.R   \n",
       "37761   997  PAN-STARRS/PS1.y  1.946379e-15  3.585363e-18  Generic/Johnson.I   \n",
       "37762   997  PAN-STARRS/PS1.y  1.946379e-15  3.585363e-18      2MASS/2MASS.J   \n",
       "37763   997  PAN-STARRS/PS1.y  1.946379e-15  3.585363e-18      2MASS/2MASS.H   \n",
       "37764   997  PAN-STARRS/PS1.y  1.946379e-15  3.585363e-18     2MASS/2MASS.Ks   \n",
       "37765   997     2MASS/2MASS.J  1.500395e-15  2.902021e-17  Generic/Johnson.B   \n",
       "37766   997     2MASS/2MASS.J  1.500395e-15  2.902021e-17  Generic/Johnson.V   \n",
       "37767   997     2MASS/2MASS.J  1.500395e-15  2.902021e-17  Generic/Johnson.R   \n",
       "37768   997     2MASS/2MASS.J  1.500395e-15  2.902021e-17  Generic/Johnson.I   \n",
       "37769   997     2MASS/2MASS.J  1.500395e-15  2.902021e-17      2MASS/2MASS.J   \n",
       "37770   997     2MASS/2MASS.J  1.500395e-15  2.902021e-17      2MASS/2MASS.H   \n",
       "37771   997     2MASS/2MASS.J  1.500395e-15  2.902021e-17     2MASS/2MASS.Ks   \n",
       "37772   997     2MASS/2MASS.H  9.804601e-16  1.806074e-17  Generic/Johnson.B   \n",
       "37773   997     2MASS/2MASS.H  9.804601e-16  1.806074e-17  Generic/Johnson.V   \n",
       "37774   997     2MASS/2MASS.H  9.804601e-16  1.806074e-17  Generic/Johnson.R   \n",
       "37775   997     2MASS/2MASS.H  9.804601e-16  1.806074e-17  Generic/Johnson.I   \n",
       "37776   997     2MASS/2MASS.H  9.804601e-16  1.806074e-17      2MASS/2MASS.J   \n",
       "37777   997     2MASS/2MASS.H  9.804601e-16  1.806074e-17      2MASS/2MASS.H   \n",
       "37778   997     2MASS/2MASS.H  9.804601e-16  1.806074e-17     2MASS/2MASS.Ks   \n",
       "37779   997    2MASS/2MASS.Ks  4.279057e-16  7.488199e-18  Generic/Johnson.B   \n",
       "37780   997    2MASS/2MASS.Ks  4.279057e-16  7.488199e-18  Generic/Johnson.V   \n",
       "37781   997    2MASS/2MASS.Ks  4.279057e-16  7.488199e-18  Generic/Johnson.R   \n",
       "37782   997    2MASS/2MASS.Ks  4.279057e-16  7.488199e-18  Generic/Johnson.I   \n",
       "37783   997    2MASS/2MASS.Ks  4.279057e-16  7.488199e-18      2MASS/2MASS.J   \n",
       "37784   997    2MASS/2MASS.Ks  4.279057e-16  7.488199e-18      2MASS/2MASS.H   \n",
       "37785   997    2MASS/2MASS.Ks  4.279057e-16  7.488199e-18     2MASS/2MASS.Ks   \n",
       "\n",
       "                2_y           3_y  \n",
       "0      3.129100e-16  1.193666e-17  \n",
       "1      1.303295e-15  1.746830e-17  \n",
       "2      2.023668e-15  4.696945e-17  \n",
       "3      1.960432e-15  2.627602e-17  \n",
       "4      1.741228e-15  1.683917e-17  \n",
       "5      1.181968e-15  1.415222e-17  \n",
       "6      7.315262e-16  3.234051e-17  \n",
       "7      2.895663e-16  1.173482e-17  \n",
       "8      3.129100e-16  1.193666e-17  \n",
       "9      1.303295e-15  1.746830e-17  \n",
       "10     2.023668e-15  4.696945e-17  \n",
       "11     1.960432e-15  2.627602e-17  \n",
       "12     1.741228e-15  1.683917e-17  \n",
       "13     1.181968e-15  1.415222e-17  \n",
       "14     7.315262e-16  3.234051e-17  \n",
       "15     2.895663e-16  1.173482e-17  \n",
       "16     3.129100e-16  1.193666e-17  \n",
       "17     1.303295e-15  1.746830e-17  \n",
       "18     2.023668e-15  4.696945e-17  \n",
       "19     1.960432e-15  2.627602e-17  \n",
       "20     1.741228e-15  1.683917e-17  \n",
       "21     1.181968e-15  1.415222e-17  \n",
       "22     7.315262e-16  3.234051e-17  \n",
       "23     2.895663e-16  1.173482e-17  \n",
       "24     3.129100e-16  1.193666e-17  \n",
       "25     1.303295e-15  1.746830e-17  \n",
       "26     2.023668e-15  4.696945e-17  \n",
       "27     1.960432e-15  2.627602e-17  \n",
       "28     1.741228e-15  1.683917e-17  \n",
       "29     1.181968e-15  1.415222e-17  \n",
       "...             ...           ...  \n",
       "37756  9.804601e-16  3.250934e-17  \n",
       "37757  4.279057e-16  1.615874e-17  \n",
       "37758  7.874859e-16  9.936363e-18  \n",
       "37759  1.541059e-15  3.676163e-17  \n",
       "37760  1.783987e-15  2.251005e-17  \n",
       "37761  1.689724e-15  1.614349e-17  \n",
       "37762  1.500395e-15  2.902021e-17  \n",
       "37763  9.804601e-16  3.250934e-17  \n",
       "37764  4.279057e-16  1.615874e-17  \n",
       "37765  7.874859e-16  9.936363e-18  \n",
       "37766  1.541059e-15  3.676163e-17  \n",
       "37767  1.783987e-15  2.251005e-17  \n",
       "37768  1.689724e-15  1.614349e-17  \n",
       "37769  1.500395e-15  2.902021e-17  \n",
       "37770  9.804601e-16  3.250934e-17  \n",
       "37771  4.279057e-16  1.615874e-17  \n",
       "37772  7.874859e-16  9.936363e-18  \n",
       "37773  1.541059e-15  3.676163e-17  \n",
       "37774  1.783987e-15  2.251005e-17  \n",
       "37775  1.689724e-15  1.614349e-17  \n",
       "37776  1.500395e-15  2.902021e-17  \n",
       "37777  9.804601e-16  3.250934e-17  \n",
       "37778  4.279057e-16  1.615874e-17  \n",
       "37779  7.874859e-16  9.936363e-18  \n",
       "37780  1.541059e-15  3.676163e-17  \n",
       "37781  1.783987e-15  2.251005e-17  \n",
       "37782  1.689724e-15  1.614349e-17  \n",
       "37783  1.500395e-15  2.902021e-17  \n",
       "37784  9.804601e-16  3.250934e-17  \n",
       "37785  4.279057e-16  1.615874e-17  \n",
       "\n",
       "[37786 rows x 7 columns]"
      ]
     },
     "execution_count": 20,
     "metadata": {},
     "output_type": "execute_result"
    }
   ],
   "source": [
    "of.merge(cf,left_on=[0],right_on=[0])"
   ]
  },
  {
   "cell_type": "code",
   "execution_count": 20,
   "metadata": {
    "collapsed": true
   },
   "outputs": [],
   "source": [
    "vosa = np.genfromtxt('15153.vosa.dat',str)\n",
    "\n",
    "kk =[[i[0],i[5],i[6]] for i in vosa]\n",
    "\n",
    "#kk\n",
    "\n",
    "dat2=[]\n",
    "for i in range(0,len(kk),5):\n",
    "    pp=kk[i].copy()\n",
    "    for j in range(1,5,1):\n",
    "        pp.append(kk[i+j][2])\n",
    "    pp.remove('PAN-STARRS/PS1.g')\n",
    "    dat2.append(pp)"
   ]
  },
  {
   "cell_type": "code",
   "execution_count": 21,
   "metadata": {
    "collapsed": false,
    "scrolled": false
   },
   "outputs": [],
   "source": [
    "obs=pd.read_csv('obs_flux_ps',sep=' ',header=None,index_col=False,comment='#')\n",
    "gb=obs.groupby(obs[0],sort=False)\n",
    "ids=obs[0].unique()\n",
    "obsg=[]\n",
    "for i in ids:\n",
    "    obsg.append([i]+list(gb.get_group(i)[2])+list(gb.get_group(i)[3]))\n",
    "    #obsg.append(\", \".join( repr(e) for e in k ))\n",
    "#obsg=np.array(obsg)\n",
    "model_flux=pd.read_csv('grizyjhk_model_fluxes',header=None)\n",
    "modl=pd.read_csv('ulys_bestfitmodels_ps1.dat',header=None,sep=' ')\n",
    "modl['mod']=modl[0].map(lambda x: x.lstrip('vnSt').rstrip('.dft')).astype(int)\n",
    "modl=modl.as_matrix()\n",
    "pp=[]\n",
    "for i in range(len(modl)):\n",
    "    for j in range(len(obsg)):\n",
    "        #print(modl[i][2],obsg[j][0]) \n",
    "        if modl[i][2] == obsg[j][0]:\n",
    "            #obsg[j]=obsg[j]+[modl[i][1]]\n",
    "            pp.append((obsg[j]+[modl[i][1]]))\n",
    "\n",
    "#mods=[i for i in obsg if type(i[-1] )== str ]\n",
    "mods=[i for i in pp if type(i[-1] )== str ]\n",
    "model_flux=model_flux.as_matrix()\n",
    "#obsg=np.array(obsg,dtype=object)\n",
    "obsg=np.array(pp,dtype=object)"
   ]
  },
  {
   "cell_type": "code",
   "execution_count": 22,
   "metadata": {
    "collapsed": false
   },
   "outputs": [
    {
     "data": {
      "text/plain": [
       "[447.0,\n",
       " 3.5025748460690004e-15,\n",
       " 4.6258601051505002e-15,\n",
       " 4.4927292364244005e-15,\n",
       " 3.9412095301190999e-15,\n",
       " 3.6646075201374005e-15,\n",
       " 2.7152233710773002e-15,\n",
       " 1.6467584850815e-15,\n",
       " 7.3138841070618003e-16,\n",
       " 6.4519813021234007e-18,\n",
       " 8.5211492163162998e-18,\n",
       " 2.4827739279957999e-17,\n",
       " 7.2599762499345996e-18,\n",
       " 6.7504565180337009e-18,\n",
       " 5.7518702297203011e-17,\n",
       " 3.033441231608e-17,\n",
       " 1.6167206896134e-17,\n",
       " 'ckp0_5000_g25']"
      ]
     },
     "execution_count": 22,
     "metadata": {},
     "output_type": "execute_result"
    }
   ],
   "source": [
    "obsg[0]"
   ]
  },
  {
   "cell_type": "code",
   "execution_count": 23,
   "metadata": {
    "collapsed": true
   },
   "outputs": [],
   "source": [
    "from scipy.optimize import differential_evolution"
   ]
  },
  {
   "cell_type": "code",
   "execution_count": 24,
   "metadata": {
    "collapsed": false
   },
   "outputs": [
    {
     "data": {
      "text/plain": [
       "10"
      ]
     },
     "execution_count": 24,
     "metadata": {},
     "output_type": "execute_result"
    }
   ],
   "source": [
    "int(mods[i][-1][11:13])"
   ]
  },
  {
   "cell_type": "code",
   "execution_count": 25,
   "metadata": {
    "collapsed": true
   },
   "outputs": [],
   "source": [
    "import seaborn as sns\n",
    "%matplotlib inline"
   ]
  },
  {
   "cell_type": "code",
   "execution_count": 35,
   "metadata": {
    "collapsed": false
   },
   "outputs": [
    {
     "name": "stdout",
     "output_type": "stream",
     "text": [
      "114\n",
      "ckm5_5250_g25\n",
      "301\n",
      "ckm5_4750_g25\n",
      "426\n",
      "ckm5_5000_g30\n",
      "                 0           1\n",
      "count   225.000000  225.000000\n",
      "mean   1669.288889    0.279336\n",
      "std     761.522260    0.117223\n",
      "min     447.000000    0.010029\n",
      "25%    1037.000000    0.211490\n",
      "50%    1674.000000    0.266303\n",
      "75%    2194.000000    0.318332\n",
      "max    4200.000000    0.899995\n"
     ]
    },
    {
     "data": {
      "text/plain": [
       "<matplotlib.axes._subplots.AxesSubplot at 0x10d8ad7b8>"
      ]
     },
     "execution_count": 35,
     "metadata": {},
     "output_type": "execute_result"
    },
    {
     "data": {
      "image/png": "[encoded data removed]",
      "text/plain": [
       "<matplotlib.figure.Figure at 0x10cad58d0>"
      ]
     },
     "metadata": {},
     "output_type": "display_data"
    }
   ],
   "source": [
    "ebv=[]\n",
    "for i in range(len(mods)):\n",
    "    for j in range(len(model_flux)):\n",
    "        if mods[i][-1] == model_flux[j][0]:\n",
    "            #print (mods[i][-1][-2:])\n",
    "            if int(mods[i][-1][-2:]) <= 32:\n",
    "                if len(mods[i]) == 16:\n",
    "                    print(i)\n",
    "                    print (model_flux[j][0])\n",
    "                    def f(x):\n",
    "                        c1=(mods[i][1] - (x[0]* model_flux[j][2] *10**(-.4 * 3.1*1.31 * x[1] )))**2/(mods[i][8])**2\n",
    "                        c2=(mods[i][2] - (x[0]* model_flux[j][3] *10**(-.4 * 3.1*1.01 * x[1] )))**2/(mods[i][9])**2\n",
    "                        c3=(mods[i][3] - (x[0]* model_flux[j][4] *10**(-.4 * 3.1*0.75 * x[1] )))**2/(mods[i][10])**2\n",
    "                        c4=(mods[i][4] - (x[0]* model_flux[j][5] *10**(-.4 * 3.1*0.48 * x[1] )))**2/(mods[i][11])**2\n",
    "                        c5=(mods[i][5] - (x[0]* model_flux[j][6] *10**(-.4 * 3.1*0.28 * x[1] )))**2/(mods[i][12])**2\n",
    "                        c6=(mods[i][6] - (x[0]* model_flux[j][7] *10**(-.4 * 3.1*0.17 * x[1] )))**2/(mods[i][13])**2\n",
    "                        c7=(mods[i][7] - (x[0]* model_flux[j][8] *10**(-.4 * 3.1*0.11 * x[1] )))**2/(mods[i][14])**2\n",
    "\n",
    "                        return (c1+c2+c3+c4+c5+c6+c7)/4\n",
    "\n",
    "                    #ff=differential_evolution(f,bounds=[(0.,1e-20),(0.0,0.9)])\n",
    "                    #ff=fmin_slsqp(f,[1e-21,0.],bounds=[(0.,None),(0.,None)])\n",
    "                    #print (i,ff.x[1])\n",
    "                    #if ff.x[1] > 0.01:\n",
    "                        #ebv.append((mods[i][0],ff.x[1]))\n",
    "\n",
    "                if len(mods[i]) == 18:\n",
    "                    #print (model_flux[j][0])\n",
    "                    def f(x):\n",
    "                        c1=(mods[i][1] - (x[0]* model_flux[j][1] *10**(-.4 * 3.172 * x[1] )))**2/(mods[i][9])**2\n",
    "                        c2=(mods[i][2] - (x[0]* model_flux[j][2] *10**(-.4 * 2.271 * x[1] )))**2/(mods[i][10])**2\n",
    "                        c3=(mods[i][3] - (x[0]* model_flux[j][3] *10**(-.4 * 1.682 * x[1] )))**2/(mods[i][11])**2\n",
    "                        c4=(mods[i][4] - (x[0]* model_flux[j][4] *10**(-.4 * 1.322 * x[1] )))**2/(mods[i][12])**2\n",
    "                        c5=(mods[i][5] - (x[0]* model_flux[j][5] *10**(-.4 * 1.087 * x[1] )))**2/(mods[i][13])**2\n",
    "                        c6=(mods[i][6] - (x[0]* model_flux[j][6] *10**(-.4 * 0.709 * x[1] )))**2/(mods[i][14])**2\n",
    "                        c7=(mods[i][7] - (x[0]* model_flux[j][7] *10**(-.4 * 0.449 * x[1] )))**2/(mods[i][15])**2\n",
    "                        c8=(mods[i][8] - (x[0]* model_flux[j][8] *10**(-.4 * 0.302 * x[1] )))**2/(mods[i][16])**2\n",
    "\n",
    "                        return (c1+c2+c3+c4+c5+c6+c7+c8)/5\n",
    "\n",
    "                    ff=differential_evolution(f,bounds=[(0.,1e-20),(0.0,0.9)])\n",
    "                    #ff=fmin_slsqp(f,[1e-21,0.],bounds=[(0.,None),(0.,None)])\n",
    "                    #print (len(mods)-i)\n",
    "                    if ff.x[1] > 0.01 and ff.x[1] :\n",
    "                        ebv.append((mods[i][0],ff.x[1]))\n",
    "\n",
    "ebv3=pd.DataFrame(ebv)\n",
    "print (ebv3.describe())\n",
    "sns.distplot(ebv3[1],kde=True)"
   ]
  },
  {
   "cell_type": "code",
   "execution_count": 60,
   "metadata": {
    "collapsed": false
   },
   "outputs": [],
   "source": [
    "#.distplot(ebv3[1],kde=False)"
   ]
  },
  {
   "cell_type": "code",
   "execution_count": 46,
   "metadata": {
    "collapsed": false
   },
   "outputs": [
    {
     "data": {
      "text/html": [
       "<div>\n",
       "<table border=\"1\" class=\"dataframe\">\n",
       "  <thead>\n",
       "    <tr style=\"text-align: right;\">\n",
       "      <th></th>\n",
       "      <th>0</th>\n",
       "      <th>1</th>\n",
       "    </tr>\n",
       "  </thead>\n",
       "  <tbody>\n",
       "    <tr>\n",
       "      <th>0</th>\n",
       "      <td>447</td>\n",
       "      <td>0.281638</td>\n",
       "    </tr>\n",
       "    <tr>\n",
       "      <th>1</th>\n",
       "      <td>480</td>\n",
       "      <td>0.309638</td>\n",
       "    </tr>\n",
       "  </tbody>\n",
       "</table>\n",
       "</div>"
      ],
      "text/plain": [
       "     0         1\n",
       "0  447  0.281638\n",
       "1  480  0.309638"
      ]
     },
     "execution_count": 46,
     "metadata": {},
     "output_type": "execute_result"
    }
   ],
   "source": [
    "ebv3.head(2)"
   ]
  },
  {
   "cell_type": "code",
   "execution_count": 47,
   "metadata": {
    "collapsed": false
   },
   "outputs": [],
   "source": [
    "ebv_old = pd.read_csv('ebvs_m3_35l.dat',header=None)"
   ]
  },
  {
   "cell_type": "code",
   "execution_count": 48,
   "metadata": {
    "collapsed": false
   },
   "outputs": [],
   "source": [
    "ebv3 = ebv3.merge(ebv_old,left_on=[0],right_on=[0])"
   ]
  },
  {
   "cell_type": "code",
   "execution_count": 49,
   "metadata": {
    "collapsed": false
   },
   "outputs": [
    {
     "data": {
      "text/plain": [
       "[]"
      ]
     },
     "execution_count": 49,
     "metadata": {},
     "output_type": "execute_result"
    },
    {
     "data": {
      "image/png": "[encoded data removed]",
      "text/plain": [
       "<matplotlib.figure.Figure at 0x106c7c358>"
      ]
     },
     "metadata": {},
     "output_type": "display_data"
    }
   ],
   "source": [
    "sns.plt.scatter(ebv3['1_x'],ebv3['1_y'])\n",
    "sns.plt.xlim(0,0.6)\n",
    "sns.plt.ylim(0,0.6)\n",
    "xs = np.arange(0,0.6,0.1)\n",
    "ys = np.arange(0,0.6,0.1)\n",
    "sns.plt.plot(xs,ys,c='r')\n",
    "sns.plt.plot()"
   ]
  },
  {
   "cell_type": "code",
   "execution_count": 50,
   "metadata": {
    "collapsed": true
   },
   "outputs": [],
   "source": [
    "import scipy.stats"
   ]
  },
  {
   "cell_type": "code",
   "execution_count": 51,
   "metadata": {
    "collapsed": false
   },
   "outputs": [
    {
     "data": {
      "text/plain": [
       "(0.097545561828524377, 0.16939976657673456)"
      ]
     },
     "execution_count": 51,
     "metadata": {},
     "output_type": "execute_result"
    }
   ],
   "source": [
    "scipy.stats.pearsonr(ebv3['1_x'],ebv3['1_y'])"
   ]
  },
  {
   "cell_type": "code",
   "execution_count": 53,
   "metadata": {
    "collapsed": false
   },
   "outputs": [
    {
     "data": {
      "text/html": [
       "<div>\n",
       "<table border=\"1\" class=\"dataframe\">\n",
       "  <thead>\n",
       "    <tr style=\"text-align: right;\">\n",
       "      <th></th>\n",
       "      <th>0</th>\n",
       "      <th>1_x</th>\n",
       "      <th>1_y</th>\n",
       "    </tr>\n",
       "  </thead>\n",
       "  <tbody>\n",
       "    <tr>\n",
       "      <th>0</th>\n",
       "      <td>447</td>\n",
       "      <td>0.281638</td>\n",
       "      <td>0.313085</td>\n",
       "    </tr>\n",
       "    <tr>\n",
       "      <th>1</th>\n",
       "      <td>480</td>\n",
       "      <td>0.309638</td>\n",
       "      <td>0.324080</td>\n",
       "    </tr>\n",
       "  </tbody>\n",
       "</table>\n",
       "</div>"
      ],
      "text/plain": [
       "     0       1_x       1_y\n",
       "0  447  0.281638  0.313085\n",
       "1  480  0.309638  0.324080"
      ]
     },
     "execution_count": 53,
     "metadata": {},
     "output_type": "execute_result"
    }
   ],
   "source": [
    "ebv3.head(2)"
   ]
  },
  {
   "cell_type": "code",
   "execution_count": 54,
   "metadata": {
    "collapsed": false
   },
   "outputs": [
    {
     "data": {
      "text/plain": [
       "<matplotlib.axes._subplots.AxesSubplot at 0x106d9e860>"
      ]
     },
     "execution_count": 54,
     "metadata": {},
     "output_type": "execute_result"
    },
    {
     "data": {
      "image/png": "[encoded data removed]",
      "text/plain": [
       "<matplotlib.figure.Figure at 0x106db2710>"
      ]
     },
     "metadata": {},
     "output_type": "display_data"
    }
   ],
   "source": [
    "sns.distplot(ebv3['1_x'],kde=False)\n",
    "sns.distplot(ebv3['1_y'],kde=False)"
   ]
  },
  {
   "cell_type": "code",
   "execution_count": 55,
   "metadata": {
    "collapsed": false
   },
   "outputs": [],
   "source": [
    "eb_shafly = pd.read_csv('ebvs_m3_schafly.dat')"
   ]
  },
  {
   "cell_type": "code",
   "execution_count": 58,
   "metadata": {
    "collapsed": false
   },
   "outputs": [
    {
     "data": {
      "text/plain": [
       "<matplotlib.axes._subplots.AxesSubplot at 0x107117f60>"
      ]
     },
     "execution_count": 58,
     "metadata": {},
     "output_type": "execute_result"
    },
    {
     "data": {
      "image/png": "[encoded data removed]",
      "text/plain": [
       "<matplotlib.figure.Figure at 0x106dabf28>"
      ]
     },
     "metadata": {},
     "output_type": "display_data"
    }
   ],
   "source": [
    "sns.distplot(ebv3['1_x'],kde=False)\n",
    "sns.distplot(eb_shafly['1'],kde=False)\n",
    "#sns.distplot(ebv3['1_y'],kde=False)"
   ]
  },
  {
   "cell_type": "code",
   "execution_count": null,
   "metadata": {
    "collapsed": true
   },
   "outputs": [],
   "source": []
  }
 ],
 "metadata": {
  "kernelspec": {
   "display_name": "Python 3",
   "language": "python",
   "name": "python3"
  },
  "language_info": {
   "codemirror_mode": {
    "name": "ipython",
    "version": 3
   },
   "file_extension": ".py",
   "mimetype": "text/x-python",
   "name": "python",
   "nbconvert_exporter": "python",
   "pygments_lexer": "ipython3",
   "version": "3.5.1"
  }
 },
 "nbformat": 4,
 "nbformat_minor": 0
}
