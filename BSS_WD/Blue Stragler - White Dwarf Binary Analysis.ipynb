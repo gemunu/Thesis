{
 "cells": [
  {
   "cell_type": "code",
   "execution_count": 1,
   "metadata": {
    "collapsed": true
   },
   "outputs": [],
   "source": [
    "import pandas as pd\n",
    "import numpy as np"
   ]
  },
  {
   "cell_type": "code",
   "execution_count": 2,
   "metadata": {
    "collapsed": false
   },
   "outputs": [
    {
     "name": "stderr",
     "output_type": "stream",
     "text": [
      "/Library/Frameworks/Python.framework/Versions/3.5/lib/python3.5/site-packages/ipykernel/__main__.py:1: ParserWarning: Falling back to the 'python' engine because the 'c' engine does not support regex separators; you can avoid this warning by specifying engine='python'.\n",
      "  if __name__ == '__main__':\n",
      "/Library/Frameworks/Python.framework/Versions/3.5/lib/python3.5/site-packages/pandas/io/parsers.py:1572: FutureWarning: split() requires a non-empty pattern match.\n",
      "  yield pat.split(line.strip())\n",
      "/Library/Frameworks/Python.framework/Versions/3.5/lib/python3.5/site-packages/pandas/io/parsers.py:1574: FutureWarning: split() requires a non-empty pattern match.\n",
      "  yield pat.split(line.strip())\n"
     ]
    },
    {
     "data": {
      "text/html": [
       "<div>\n",
       "<table border=\"1\" class=\"dataframe\">\n",
       "  <thead>\n",
       "    <tr style=\"text-align: right;\">\n",
       "      <th></th>\n",
       "      <th>0</th>\n",
       "      <th>1</th>\n",
       "      <th>2</th>\n",
       "      <th>3</th>\n",
       "      <th>4</th>\n",
       "      <th>5</th>\n",
       "      <th>6</th>\n",
       "      <th>7</th>\n",
       "      <th>8</th>\n",
       "      <th>9</th>\n",
       "      <th>...</th>\n",
       "      <th>25</th>\n",
       "      <th>26</th>\n",
       "      <th>27</th>\n",
       "      <th>28</th>\n",
       "      <th>29</th>\n",
       "      <th>30</th>\n",
       "      <th>31</th>\n",
       "      <th>32</th>\n",
       "      <th>33</th>\n",
       "      <th>34</th>\n",
       "    </tr>\n",
       "  </thead>\n",
       "  <tbody>\n",
       "    <tr>\n",
       "      <th>0</th>\n",
       "      <td>915-52443-549</td>\n",
       "      <td>211.072357</td>\n",
       "      <td>-1.762813</td>\n",
       "      <td>21.86723</td>\n",
       "      <td>1.870878</td>\n",
       "      <td>7423.807129</td>\n",
       "      <td>157.761902</td>\n",
       "      <td>-0.688419</td>\n",
       "      <td>0.201</td>\n",
       "      <td>3.844505</td>\n",
       "      <td>...</td>\n",
       "      <td>0.021568</td>\n",
       "      <td>0.059652</td>\n",
       "      <td>58.552101</td>\n",
       "      <td>2.4672</td>\n",
       "      <td>328.821014</td>\n",
       "      <td>3.05786</td>\n",
       "      <td>7.473178</td>\n",
       "      <td>6.210017</td>\n",
       "      <td>2.75223</td>\n",
       "      <td>1.105895</td>\n",
       "    </tr>\n",
       "  </tbody>\n",
       "</table>\n",
       "<p>1 rows × 35 columns</p>\n",
       "</div>"
      ],
      "text/plain": [
       "              0           1         2         3         4            5   \\\n",
       "0  915-52443-549  211.072357 -1.762813  21.86723  1.870878  7423.807129   \n",
       "\n",
       "           6         7      8         9     ...           25        26  \\\n",
       "0  157.761902 -0.688419  0.201  3.844505    ...     0.021568  0.059652   \n",
       "\n",
       "          27      28          29       30        31        32       33  \\\n",
       "0  58.552101  2.4672  328.821014  3.05786  7.473178  6.210017  2.75223   \n",
       "\n",
       "         34  \n",
       "0  1.105895  \n",
       "\n",
       "[1 rows x 35 columns]"
      ]
     },
     "execution_count": 2,
     "metadata": {},
     "output_type": "execute_result"
    }
   ],
   "source": [
    "bss = pd.read_csv('BSS_uvefinal.dat', header  =None, sep = r'\\s*') # Blue straggler stars with UV excess\n",
    "bss.head(1)"
   ]
  },
  {
   "cell_type": "code",
   "execution_count": 3,
   "metadata": {
    "collapsed": false
   },
   "outputs": [],
   "source": [
    "to_vosa = bss[[0,11,12,16,17,18,19,20,14,15,21,22,23,24,25]] # required photometry with errors"
   ]
  },
  {
   "cell_type": "code",
   "execution_count": 4,
   "metadata": {
    "collapsed": false,
    "scrolled": true
   },
   "outputs": [
    {
     "data": {
      "text/html": [
       "<div>\n",
       "<table border=\"1\" class=\"dataframe\">\n",
       "  <thead>\n",
       "    <tr style=\"text-align: right;\">\n",
       "      <th></th>\n",
       "      <th>0</th>\n",
       "      <th>11</th>\n",
       "      <th>12</th>\n",
       "      <th>16</th>\n",
       "      <th>17</th>\n",
       "      <th>18</th>\n",
       "      <th>19</th>\n",
       "      <th>20</th>\n",
       "      <th>14</th>\n",
       "      <th>15</th>\n",
       "      <th>21</th>\n",
       "      <th>22</th>\n",
       "      <th>23</th>\n",
       "      <th>24</th>\n",
       "      <th>25</th>\n",
       "    </tr>\n",
       "  </thead>\n",
       "  <tbody>\n",
       "    <tr>\n",
       "      <th>79</th>\n",
       "      <td>2337-53740-222</td>\n",
       "      <td>19.510368</td>\n",
       "      <td>17.978786</td>\n",
       "      <td>16.269291</td>\n",
       "      <td>15.16638</td>\n",
       "      <td>15.0395</td>\n",
       "      <td>15.03851</td>\n",
       "      <td>15.10431</td>\n",
       "      <td>0.169</td>\n",
       "      <td>0.057</td>\n",
       "      <td>0.011508</td>\n",
       "      <td>0.009598</td>\n",
       "      <td>0.012803</td>\n",
       "      <td>0.011954</td>\n",
       "      <td>0.012477</td>\n",
       "    </tr>\n",
       "  </tbody>\n",
       "</table>\n",
       "</div>"
      ],
      "text/plain": [
       "                0          11         12         16        17       18  \\\n",
       "79  2337-53740-222  19.510368  17.978786  16.269291  15.16638  15.0395   \n",
       "\n",
       "          19        20     14     15        21        22        23        24  \\\n",
       "79  15.03851  15.10431  0.169  0.057  0.011508  0.009598  0.012803  0.011954   \n",
       "\n",
       "          25  \n",
       "79  0.012477  "
      ]
     },
     "execution_count": 4,
     "metadata": {},
     "output_type": "execute_result"
    }
   ],
   "source": [
    "to_vosa.tail(1)"
   ]
  },
  {
   "cell_type": "code",
   "execution_count": 5,
   "metadata": {
    "collapsed": false
   },
   "outputs": [],
   "source": [
    "to_vosa.columns = [ 'ID', 'FUV', 'NUV', 'u', 'g', 'r', 'i', 'z', 'errFUV', 'errNUV', 'erru', 'errg', 'errr', \\\n",
    "                   'erri', 'errz']"
   ]
  },
  {
   "cell_type": "code",
   "execution_count": 6,
   "metadata": {
    "collapsed": false
   },
   "outputs": [
    {
     "data": {
      "text/html": [
       "<div>\n",
       "<table border=\"1\" class=\"dataframe\">\n",
       "  <thead>\n",
       "    <tr style=\"text-align: right;\">\n",
       "      <th></th>\n",
       "      <th>uploadID</th>\n",
       "      <th>uploadRA</th>\n",
       "      <th>uploadDEC</th>\n",
       "      <th>uploadSearchID</th>\n",
       "      <th>objID</th>\n",
       "      <th>survey</th>\n",
       "      <th>specObjID</th>\n",
       "      <th>distance_arcmin</th>\n",
       "      <th>fov_radius</th>\n",
       "      <th>IAUName</th>\n",
       "      <th>...</th>\n",
       "      <th>tilenum</th>\n",
       "      <th>img</th>\n",
       "      <th>subvis</th>\n",
       "      <th>photoextractid</th>\n",
       "      <th>nuv_flux_auto</th>\n",
       "      <th>nuv_flux_aper_7</th>\n",
       "      <th>nuv_artifact</th>\n",
       "      <th>fuv_flux_auto</th>\n",
       "      <th>fuv_flux_aper_7</th>\n",
       "      <th>fuv_artifact</th>\n",
       "    </tr>\n",
       "  </thead>\n",
       "  <tbody>\n",
       "    <tr>\n",
       "      <th>165</th>\n",
       "      <td>2337-53740-222</td>\n",
       "      <td>104.385695</td>\n",
       "      <td>65.090099</td>\n",
       "      <td>80</td>\n",
       "      <td>6405985778369823656</td>\n",
       "      <td>MIS</td>\n",
       "      <td>0</td>\n",
       "      <td>0.008523</td>\n",
       "      <td>0.343869</td>\n",
       "      <td>GALEX J065732.4+650524</td>\n",
       "      <td>...</td>\n",
       "      <td>50997</td>\n",
       "      <td>1</td>\n",
       "      <td>-999</td>\n",
       "      <td>6405985778366676992</td>\n",
       "      <td>4.741735</td>\n",
       "      <td>4.791332</td>\n",
       "      <td>0</td>\n",
       "      <td>0.385871</td>\n",
       "      <td>0.396446</td>\n",
       "      <td>0</td>\n",
       "    </tr>\n",
       "  </tbody>\n",
       "</table>\n",
       "<p>1 rows × 46 columns</p>\n",
       "</div>"
      ],
      "text/plain": [
       "           uploadID    uploadRA  uploadDEC  uploadSearchID  \\\n",
       "165  2337-53740-222  104.385695  65.090099              80   \n",
       "\n",
       "                   objID survey  specObjID  distance_arcmin  fov_radius  \\\n",
       "165  6405985778369823656    MIS          0         0.008523    0.343869   \n",
       "\n",
       "                    IAUName      ...       tilenum  img  subvis  \\\n",
       "165  GALEX J065732.4+650524      ...         50997    1    -999   \n",
       "\n",
       "          photoextractid  nuv_flux_auto  nuv_flux_aper_7  nuv_artifact  \\\n",
       "165  6405985778366676992       4.741735         4.791332             0   \n",
       "\n",
       "     fuv_flux_auto  fuv_flux_aper_7  fuv_artifact  \n",
       "165       0.385871         0.396446             0  \n",
       "\n",
       "[1 rows x 46 columns]"
      ]
     },
     "execution_count": 6,
     "metadata": {},
     "output_type": "execute_result"
    }
   ],
   "source": [
    "glx7 = pd.read_csv('bbs_glx.csv') # GALEX cross matched sample woth SDSS \n",
    "glx7.tail(1)"
   ]
  },
  {
   "cell_type": "code",
   "execution_count": 7,
   "metadata": {
    "collapsed": true
   },
   "outputs": [],
   "source": [
    "# standard filter names for the file to be uploaded to VOSA sed analyzer\n",
    "\n",
    "filters = ('GALEX/GALEX.FUV', 'GALEX/GALEX.NUV', 'SLOAN/SDSS.u', 'SLOAN/SDSS.g', 'SLOAN/SDSS.r', \\\n",
    "           'SLOAN/SDSS.i', 'SLOAN/SDSS.z')"
   ]
  },
  {
   "cell_type": "code",
   "execution_count": 8,
   "metadata": {
    "collapsed": false
   },
   "outputs": [],
   "source": [
    "# creating the file to VOSA sed analyzer\n",
    "\n",
    "dats=[]\n",
    "for index, row in to_vosa.iterrows():\n",
    "    for j in range(len(filters)):\n",
    "        if row[j+1] < 30.:\n",
    "            dats.append((row[0],'...','...','...','...',filters[j],row[j+1],row[j+8],'...','...'))\n",
    "        \n",
    "np.savetxt('vosa_bss.dat',dats,fmt='%s')"
   ]
  },
  {
   "cell_type": "code",
   "execution_count": 9,
   "metadata": {
    "collapsed": false
   },
   "outputs": [],
   "source": [
    "# Output from VOSA\n",
    "\n",
    "vosa_out = np.genfromtxt('14979.vosa.dat',dtype=str)"
   ]
  },
  {
   "cell_type": "code",
   "execution_count": 10,
   "metadata": {
    "collapsed": false
   },
   "outputs": [],
   "source": [
    "np.savetxt('bss_obsflux.dat',[[i[0],i[5],i[6],i[7]] for i in vosa_out],fmt='%s')"
   ]
  },
  {
   "cell_type": "code",
   "execution_count": 11,
   "metadata": {
    "collapsed": false
   },
   "outputs": [
    {
     "name": "stderr",
     "output_type": "stream",
     "text": [
      "/Library/Frameworks/Python.framework/Versions/3.5/lib/python3.5/site-packages/ipykernel/__main__.py:3: ParserWarning: Falling back to the 'python' engine because the 'c' engine does not support regex separators; you can avoid this warning by specifying engine='python'.\n",
      "  app.launch_new_instance()\n",
      "/Library/Frameworks/Python.framework/Versions/3.5/lib/python3.5/site-packages/pandas/io/parsers.py:1572: FutureWarning: split() requires a non-empty pattern match.\n",
      "  yield pat.split(line.strip())\n",
      "/Library/Frameworks/Python.framework/Versions/3.5/lib/python3.5/site-packages/pandas/io/parsers.py:1574: FutureWarning: split() requires a non-empty pattern match.\n",
      "  yield pat.split(line.strip())\n"
     ]
    }
   ],
   "source": [
    "# load synthetic photmetry calculted for Kurucz(2004) models\n",
    "\n",
    "slmags=pd.read_csv('sdss_synthetic_colors.dat',header=None,sep=r\"\\s*\")"
   ]
  },
  {
   "cell_type": "code",
   "execution_count": 12,
   "metadata": {
    "collapsed": false
   },
   "outputs": [
    {
     "data": {
      "text/html": [
       "<div>\n",
       "<table border=\"1\" class=\"dataframe\">\n",
       "  <thead>\n",
       "    <tr style=\"text-align: right;\">\n",
       "      <th></th>\n",
       "      <th>0</th>\n",
       "      <th>1</th>\n",
       "      <th>2</th>\n",
       "      <th>3</th>\n",
       "      <th>4</th>\n",
       "      <th>5</th>\n",
       "      <th>6</th>\n",
       "      <th>7</th>\n",
       "      <th>8</th>\n",
       "      <th>9</th>\n",
       "      <th>10</th>\n",
       "      <th>11</th>\n",
       "      <th>12</th>\n",
       "      <th>13</th>\n",
       "      <th>14</th>\n",
       "      <th>15</th>\n",
       "    </tr>\n",
       "  </thead>\n",
       "  <tbody>\n",
       "    <tr>\n",
       "      <th>0</th>\n",
       "      <td>1</td>\n",
       "      <td>3500</td>\n",
       "      <td>0.0</td>\n",
       "      <td>0</td>\n",
       "      <td>2</td>\n",
       "      <td>1.25</td>\n",
       "      <td>-2.072</td>\n",
       "      <td>-2.203</td>\n",
       "      <td>-3.101</td>\n",
       "      <td>-3.232</td>\n",
       "      <td>-33.004</td>\n",
       "      <td>-31.975</td>\n",
       "      <td>3.973</td>\n",
       "      <td>1.594</td>\n",
       "      <td>1.043</td>\n",
       "      <td>0.624</td>\n",
       "    </tr>\n",
       "    <tr>\n",
       "      <th>1</th>\n",
       "      <td>2</td>\n",
       "      <td>3500</td>\n",
       "      <td>0.5</td>\n",
       "      <td>0</td>\n",
       "      <td>2</td>\n",
       "      <td>1.25</td>\n",
       "      <td>-2.118</td>\n",
       "      <td>-2.249</td>\n",
       "      <td>-3.077</td>\n",
       "      <td>-3.208</td>\n",
       "      <td>-32.958</td>\n",
       "      <td>-31.999</td>\n",
       "      <td>3.651</td>\n",
       "      <td>1.492</td>\n",
       "      <td>1.104</td>\n",
       "      <td>0.646</td>\n",
       "    </tr>\n",
       "  </tbody>\n",
       "</table>\n",
       "</div>"
      ],
      "text/plain": [
       "   0     1    2   3   4     5      6      7      8      9       10      11  \\\n",
       "0   1  3500  0.0   0   2  1.25 -2.072 -2.203 -3.101 -3.232 -33.004 -31.975   \n",
       "1   2  3500  0.5   0   2  1.25 -2.118 -2.249 -3.077 -3.208 -32.958 -31.999   \n",
       "\n",
       "      12     13     14     15  \n",
       "0  3.973  1.594  1.043  0.624  \n",
       "1  3.651  1.492  1.104  0.646  "
      ]
     },
     "execution_count": 12,
     "metadata": {},
     "output_type": "execute_result"
    }
   ],
   "source": [
    "slmags.head(2)"
   ]
  },
  {
   "cell_type": "code",
   "execution_count": 13,
   "metadata": {
    "collapsed": true
   },
   "outputs": [],
   "source": [
    "#calculate u,r,i,z mags from the color table; col[11] is the 'g' magnitude\n",
    "\n",
    "slmags['u']=slmags[11]+slmags[12]\n",
    "slmags['r']=slmags[11]-slmags[13]\n",
    "slmags['i']=slmags['r']-slmags[14]\n",
    "slmags['z']=slmags['i']-slmags[15]"
   ]
  },
  {
   "cell_type": "code",
   "execution_count": 14,
   "metadata": {
    "collapsed": false
   },
   "outputs": [
    {
     "data": {
      "text/html": [
       "<div>\n",
       "<table border=\"1\" class=\"dataframe\">\n",
       "  <thead>\n",
       "    <tr style=\"text-align: right;\">\n",
       "      <th></th>\n",
       "      <th>0</th>\n",
       "      <th>1</th>\n",
       "      <th>2</th>\n",
       "      <th>3</th>\n",
       "      <th>4</th>\n",
       "    </tr>\n",
       "  </thead>\n",
       "  <tbody>\n",
       "    <tr>\n",
       "      <th>0</th>\n",
       "      <td>43000</td>\n",
       "      <td>5.0</td>\n",
       "      <td>0.5</td>\n",
       "      <td>-43.762783</td>\n",
       "      <td>-43.245901</td>\n",
       "    </tr>\n",
       "    <tr>\n",
       "      <th>1</th>\n",
       "      <td>6250</td>\n",
       "      <td>3.5</td>\n",
       "      <td>-2.0</td>\n",
       "      <td>-29.160150</td>\n",
       "      <td>-34.243824</td>\n",
       "    </tr>\n",
       "  </tbody>\n",
       "</table>\n",
       "</div>"
      ],
      "text/plain": [
       "       0    1    2          3          4\n",
       "0  43000  5.0  0.5 -43.762783 -43.245901\n",
       "1   6250  3.5 -2.0 -29.160150 -34.243824"
      ]
     },
     "execution_count": 14,
     "metadata": {},
     "output_type": "execute_result"
    }
   ],
   "source": [
    "# Synthtic GALEX magnitudes fro Kurucz(2004) models #temp,logg,feh,FUV,NUV\n",
    "\n",
    "galmags = pd.read_csv('kurucz_galex',header=None,sep=' ')\n",
    "galmags.head(2)"
   ]
  },
  {
   "cell_type": "code",
   "execution_count": 15,
   "metadata": {
    "collapsed": false
   },
   "outputs": [],
   "source": [
    "#galmags.merge(slmags[[1,2,3,4,'u',11,'r','i','z']],left_on=[0,1,2],right_on=[1,2,3])"
   ]
  },
  {
   "cell_type": "code",
   "execution_count": 16,
   "metadata": {
    "collapsed": false
   },
   "outputs": [
    {
     "data": {
      "text/html": [
       "<div>\n",
       "<table border=\"1\" class=\"dataframe\">\n",
       "  <thead>\n",
       "    <tr style=\"text-align: right;\">\n",
       "      <th></th>\n",
       "      <th>0</th>\n",
       "      <th>1</th>\n",
       "      <th>2</th>\n",
       "      <th>3_x</th>\n",
       "      <th>4_x</th>\n",
       "      <th>u</th>\n",
       "      <th>11</th>\n",
       "      <th>r</th>\n",
       "      <th>i</th>\n",
       "      <th>z</th>\n",
       "    </tr>\n",
       "  </thead>\n",
       "  <tbody>\n",
       "    <tr>\n",
       "      <th>0</th>\n",
       "      <td>6250</td>\n",
       "      <td>3.5</td>\n",
       "      <td>-2.0</td>\n",
       "      <td>-29.160150</td>\n",
       "      <td>-34.243824</td>\n",
       "      <td>-36.420</td>\n",
       "      <td>-37.305</td>\n",
       "      <td>-37.554</td>\n",
       "      <td>-37.621</td>\n",
       "      <td>-37.621</td>\n",
       "    </tr>\n",
       "    <tr>\n",
       "      <th>1</th>\n",
       "      <td>49000</td>\n",
       "      <td>5.0</td>\n",
       "      <td>-0.5</td>\n",
       "      <td>-44.017527</td>\n",
       "      <td>-43.379287</td>\n",
       "      <td>-43.002</td>\n",
       "      <td>-42.553</td>\n",
       "      <td>-41.994</td>\n",
       "      <td>-41.624</td>\n",
       "      <td>-41.248</td>\n",
       "    </tr>\n",
       "  </tbody>\n",
       "</table>\n",
       "</div>"
      ],
      "text/plain": [
       "       0    1    2        3_x        4_x       u      11       r       i  \\\n",
       "0   6250  3.5 -2.0 -29.160150 -34.243824 -36.420 -37.305 -37.554 -37.621   \n",
       "1  49000  5.0 -0.5 -44.017527 -43.379287 -43.002 -42.553 -41.994 -41.624   \n",
       "\n",
       "        z  \n",
       "0 -37.621  \n",
       "1 -41.248  "
      ]
     },
     "execution_count": 16,
     "metadata": {},
     "output_type": "execute_result"
    }
   ],
   "source": [
    "# Merge GALEX  and SDSS mags \n",
    "\n",
    "model_mags = galmags.merge(slmags[[1,2,3,4,'u',11,'r','i','z']],left_on=[0,1,2],right_on=[1,2,3])\\\n",
    "                [[0,1,2,'3_x','4_x','u',11,'r','i','z']]\n",
    "model_mags.head(2)"
   ]
  },
  {
   "cell_type": "code",
   "execution_count": 17,
   "metadata": {
    "collapsed": true
   },
   "outputs": [],
   "source": [
    "model_mags['modnmbr'] = model_mags.index"
   ]
  },
  {
   "cell_type": "code",
   "execution_count": 18,
   "metadata": {
    "collapsed": false
   },
   "outputs": [],
   "source": [
    "# Create input file for VOSA for model magnitudes\n",
    "\n",
    "dats=[]\n",
    "for index, row in model_mags.iterrows():\n",
    "    for j in range(len(filters)):\n",
    "        if row[j+1] < 30.:\n",
    "            dats.append((index,'...','...','...','...',filters[j],row[j+3],'...','...','...'))\n",
    "        \n",
    "np.savetxt('vosa_kurucz_fnugriz.dat',dats,fmt='%s')"
   ]
  },
  {
   "cell_type": "code",
   "execution_count": 19,
   "metadata": {
    "collapsed": false
   },
   "outputs": [],
   "source": [
    "# Output from VOSA for models \n",
    "\n",
    "vosa_model = np.genfromtxt('14980.vosa.dat', dtype=str)"
   ]
  },
  {
   "cell_type": "code",
   "execution_count": 20,
   "metadata": {
    "collapsed": false
   },
   "outputs": [
    {
     "data": {
      "text/plain": [
       "array(['0', '...', '...', '...+----', '...', 'GALEX/GALEX.FUV',\n",
       "       '21114.929815433', '0', '...', '---'], \n",
       "      dtype='<U19')"
      ]
     },
     "execution_count": 20,
     "metadata": {},
     "output_type": "execute_result"
    }
   ],
   "source": [
    "vosa_model[0]"
   ]
  },
  {
   "cell_type": "code",
   "execution_count": 21,
   "metadata": {
    "collapsed": false
   },
   "outputs": [],
   "source": [
    "kk = [[i[0],i[5],i[6]] for i in vosa_model] #np.savetxt('bss_obsflux.dat',[[i[0],i[5],i[6],i[7]] for i in vosa],fmt='%s')"
   ]
  },
  {
   "cell_type": "code",
   "execution_count": 22,
   "metadata": {
    "collapsed": false,
    "scrolled": false
   },
   "outputs": [
    {
     "data": {
      "text/plain": [
       "[['0', 'GALEX/GALEX.NUV', '1048709.3866451'],\n",
       " ['0', 'SLOAN/SDSS.u', '15902520.941757'],\n",
       " ['0', 'SLOAN/SDSS.g', '4224082.6385299'],\n",
       " ['0', 'SLOAN/SDSS.r', '3052203.8640269'],\n",
       " ['0', 'SLOAN/SDSS.i', '2198672.6452128'],\n",
       " ['0', 'SLOAN/SDSS.z', '1537282.9622543'],\n",
       " ['1', 'GALEX/GALEX.FUV', '18515697895.259'],\n",
       " ['1', 'GALEX/GALEX.NUV', '4729773629.8141'],\n",
       " ['1', 'SLOAN/SDSS.u', '584878929.70621']]"
      ]
     },
     "execution_count": 22,
     "metadata": {},
     "output_type": "execute_result"
    }
   ],
   "source": [
    "kk[1:10]"
   ]
  },
  {
   "cell_type": "code",
   "execution_count": 23,
   "metadata": {
    "collapsed": false
   },
   "outputs": [],
   "source": [
    "dat1=[]\n",
    "for i in range(0,len(kk),7):\n",
    "    pp=kk[i].copy()\n",
    "    for j in range(1,7,1):\n",
    "        pp.append(kk[i+j][2])\n",
    "    pp.remove('GALEX/GALEX.FUV')\n",
    "    dat1.append(pp)"
   ]
  },
  {
   "cell_type": "code",
   "execution_count": 24,
   "metadata": {
    "collapsed": false
   },
   "outputs": [
    {
     "data": {
      "text/html": [
       "<div>\n",
       "<table border=\"1\" class=\"dataframe\">\n",
       "  <thead>\n",
       "    <tr style=\"text-align: right;\">\n",
       "      <th></th>\n",
       "      <th>0</th>\n",
       "      <th>1</th>\n",
       "      <th>2</th>\n",
       "      <th>3</th>\n",
       "      <th>4</th>\n",
       "      <th>5</th>\n",
       "      <th>6</th>\n",
       "      <th>7</th>\n",
       "    </tr>\n",
       "  </thead>\n",
       "  <tbody>\n",
       "    <tr>\n",
       "      <th>0</th>\n",
       "      <td>0</td>\n",
       "      <td>21114.929815433</td>\n",
       "      <td>1048709.3866451</td>\n",
       "      <td>15902520.941757</td>\n",
       "      <td>4224082.6385299</td>\n",
       "      <td>3052203.8640269</td>\n",
       "      <td>2198672.6452128</td>\n",
       "      <td>1537282.9622543</td>\n",
       "    </tr>\n",
       "    <tr>\n",
       "      <th>1</th>\n",
       "      <td>1</td>\n",
       "      <td>18515697895.259</td>\n",
       "      <td>4729773629.8141</td>\n",
       "      <td>584878929.70621</td>\n",
       "      <td>530801823.30832</td>\n",
       "      <td>182227340.86716</td>\n",
       "      <td>87772925.378309</td>\n",
       "      <td>43406404.567061</td>\n",
       "    </tr>\n",
       "  </tbody>\n",
       "</table>\n",
       "</div>"
      ],
      "text/plain": [
       "   0                1                2                3                4  \\\n",
       "0  0  21114.929815433  1048709.3866451  15902520.941757  4224082.6385299   \n",
       "1  1  18515697895.259  4729773629.8141  584878929.70621  530801823.30832   \n",
       "\n",
       "                 5                6                7  \n",
       "0  3052203.8640269  2198672.6452128  1537282.9622543  \n",
       "1  182227340.86716  87772925.378309  43406404.567061  "
      ]
     },
     "execution_count": 24,
     "metadata": {},
     "output_type": "execute_result"
    }
   ],
   "source": [
    "# Model fluxes FUV, NUV, u, g, r, i, z bands\n",
    "\n",
    "modflx = pd.DataFrame(dat1)\n",
    "modflx.head(2)"
   ]
  },
  {
   "cell_type": "code",
   "execution_count": 25,
   "metadata": {
    "collapsed": true
   },
   "outputs": [],
   "source": [
    "# Create model names; Need to match with the names of synthetic spectra\n",
    "\n",
    "def modnames(i,j,k):\n",
    "    if k < 0:\n",
    "        name = 'ckm{0}_{1}_g{2}'.format(int(abs(k*10)),int(i),int(abs(j*10)))\n",
    "    else:\n",
    "        name = 'ckp{0}_{1}_g{2}'.format(int(abs(k*10)),int(i),int(abs(j*10)))\n",
    "    return name"
   ]
  },
  {
   "cell_type": "code",
   "execution_count": 26,
   "metadata": {
    "collapsed": false
   },
   "outputs": [
    {
     "data": {
      "text/plain": [
       "'ckp20_6250_g35'"
      ]
     },
     "execution_count": 26,
     "metadata": {},
     "output_type": "execute_result"
    }
   ],
   "source": [
    "modnames(6250,3.5,2.0)"
   ]
  },
  {
   "cell_type": "code",
   "execution_count": 27,
   "metadata": {
    "collapsed": false
   },
   "outputs": [],
   "source": [
    "d1=[]\n",
    "for r,c in model_mags.iterrows():\n",
    "    d1.append(modnames(c[0],c[1],c[2]))"
   ]
  },
  {
   "cell_type": "code",
   "execution_count": 28,
   "metadata": {
    "collapsed": false
   },
   "outputs": [],
   "source": [
    "model_mags['modname'] = d1"
   ]
  },
  {
   "cell_type": "code",
   "execution_count": 29,
   "metadata": {
    "collapsed": false
   },
   "outputs": [
    {
     "data": {
      "text/html": [
       "<div>\n",
       "<table border=\"1\" class=\"dataframe\">\n",
       "  <thead>\n",
       "    <tr style=\"text-align: right;\">\n",
       "      <th></th>\n",
       "      <th>0</th>\n",
       "      <th>1</th>\n",
       "      <th>2</th>\n",
       "      <th>3_x</th>\n",
       "      <th>4_x</th>\n",
       "      <th>u</th>\n",
       "      <th>11</th>\n",
       "      <th>r</th>\n",
       "      <th>i</th>\n",
       "      <th>z</th>\n",
       "      <th>modnmbr</th>\n",
       "      <th>modname</th>\n",
       "    </tr>\n",
       "  </thead>\n",
       "  <tbody>\n",
       "    <tr>\n",
       "      <th>0</th>\n",
       "      <td>6250</td>\n",
       "      <td>3.5</td>\n",
       "      <td>-2.0</td>\n",
       "      <td>-29.160150</td>\n",
       "      <td>-34.243824</td>\n",
       "      <td>-36.420</td>\n",
       "      <td>-37.305</td>\n",
       "      <td>-37.554</td>\n",
       "      <td>-37.621</td>\n",
       "      <td>-37.621</td>\n",
       "      <td>0</td>\n",
       "      <td>ckm20_6250_g35</td>\n",
       "    </tr>\n",
       "    <tr>\n",
       "      <th>1</th>\n",
       "      <td>49000</td>\n",
       "      <td>5.0</td>\n",
       "      <td>-0.5</td>\n",
       "      <td>-44.017527</td>\n",
       "      <td>-43.379287</td>\n",
       "      <td>-43.002</td>\n",
       "      <td>-42.553</td>\n",
       "      <td>-41.994</td>\n",
       "      <td>-41.624</td>\n",
       "      <td>-41.248</td>\n",
       "      <td>1</td>\n",
       "      <td>ckm5_49000_g50</td>\n",
       "    </tr>\n",
       "  </tbody>\n",
       "</table>\n",
       "</div>"
      ],
      "text/plain": [
       "       0    1    2        3_x        4_x       u      11       r       i  \\\n",
       "0   6250  3.5 -2.0 -29.160150 -34.243824 -36.420 -37.305 -37.554 -37.621   \n",
       "1  49000  5.0 -0.5 -44.017527 -43.379287 -43.002 -42.553 -41.994 -41.624   \n",
       "\n",
       "        z  modnmbr         modname  \n",
       "0 -37.621        0  ckm20_6250_g35  \n",
       "1 -41.248        1  ckm5_49000_g50  "
      ]
     },
     "execution_count": 29,
     "metadata": {},
     "output_type": "execute_result"
    }
   ],
   "source": [
    "model_mags.head(2)"
   ]
  },
  {
   "cell_type": "code",
   "execution_count": 30,
   "metadata": {
    "collapsed": false
   },
   "outputs": [
    {
     "data": {
      "text/html": [
       "<div>\n",
       "<table border=\"1\" class=\"dataframe\">\n",
       "  <thead>\n",
       "    <tr style=\"text-align: right;\">\n",
       "      <th></th>\n",
       "      <th>0</th>\n",
       "      <th>1</th>\n",
       "      <th>2</th>\n",
       "      <th>3</th>\n",
       "      <th>4</th>\n",
       "      <th>5</th>\n",
       "      <th>6</th>\n",
       "      <th>7</th>\n",
       "    </tr>\n",
       "  </thead>\n",
       "  <tbody>\n",
       "    <tr>\n",
       "      <th>0</th>\n",
       "      <td>0</td>\n",
       "      <td>21114.929815433</td>\n",
       "      <td>1048709.3866451</td>\n",
       "      <td>15902520.941757</td>\n",
       "      <td>4224082.6385299</td>\n",
       "      <td>3052203.8640269</td>\n",
       "      <td>2198672.6452128</td>\n",
       "      <td>1537282.9622543</td>\n",
       "    </tr>\n",
       "    <tr>\n",
       "      <th>1</th>\n",
       "      <td>1</td>\n",
       "      <td>18515697895.259</td>\n",
       "      <td>4729773629.8141</td>\n",
       "      <td>584878929.70621</td>\n",
       "      <td>530801823.30832</td>\n",
       "      <td>182227340.86716</td>\n",
       "      <td>87772925.378309</td>\n",
       "      <td>43406404.567061</td>\n",
       "    </tr>\n",
       "  </tbody>\n",
       "</table>\n",
       "</div>"
      ],
      "text/plain": [
       "   0                1                2                3                4  \\\n",
       "0  0  21114.929815433  1048709.3866451  15902520.941757  4224082.6385299   \n",
       "1  1  18515697895.259  4729773629.8141  584878929.70621  530801823.30832   \n",
       "\n",
       "                 5                6                7  \n",
       "0  3052203.8640269  2198672.6452128  1537282.9622543  \n",
       "1  182227340.86716  87772925.378309  43406404.567061  "
      ]
     },
     "execution_count": 30,
     "metadata": {},
     "output_type": "execute_result"
    }
   ],
   "source": [
    "modflx.head(2)"
   ]
  },
  {
   "cell_type": "code",
   "execution_count": 31,
   "metadata": {
    "collapsed": false
   },
   "outputs": [],
   "source": [
    "modflx[0] = modflx[0].astype(int)"
   ]
  },
  {
   "cell_type": "code",
   "execution_count": 32,
   "metadata": {
    "collapsed": false
   },
   "outputs": [
    {
     "data": {
      "text/plain": [
       "dtype('int64')"
      ]
     },
     "execution_count": 32,
     "metadata": {},
     "output_type": "execute_result"
    }
   ],
   "source": [
    "modflx[0].dtype"
   ]
  },
  {
   "cell_type": "code",
   "execution_count": 33,
   "metadata": {
    "collapsed": false
   },
   "outputs": [],
   "source": [
    "mod_flx = model_mags[['modnmbr','modname']].merge(modflx,right_on=[0],left_on=['modnmbr'])"
   ]
  },
  {
   "cell_type": "code",
   "execution_count": 34,
   "metadata": {
    "collapsed": false
   },
   "outputs": [],
   "source": [
    "mod_flx = mod_flx.drop([0],1)"
   ]
  },
  {
   "cell_type": "code",
   "execution_count": 35,
   "metadata": {
    "collapsed": false
   },
   "outputs": [
    {
     "data": {
      "text/plain": [
       "array([['1252-52970-306', 'GALEX/GALEX.FUV', '7.6183019154485E-15',\n",
       "        '7.5078854456602E-16'],\n",
       "       ['1252-52970-306', 'GALEX/GALEX.NUV', '4.205270481373E-15',\n",
       "        '2.3239183493802E-16'],\n",
       "       ['1252-52970-306', 'SLOAN/SDSS.u', '2.5977756799615E-15',\n",
       "        '5.2942452602124E-17'],\n",
       "       ..., \n",
       "       ['915-52443-549', 'SLOAN/SDSS.r', '3.8977836931532E-15',\n",
       "        '7.5129547893102E-17'],\n",
       "       ['915-52443-549', 'SLOAN/SDSS.i', '2.5168460098199E-15',\n",
       "        '3.1084111458045E-17'],\n",
       "       ['915-52443-549', 'SLOAN/SDSS.z', '1.6298278124086E-15',\n",
       "        '3.2376042402611E-17']], \n",
       "      dtype='<U19')"
      ]
     },
     "execution_count": 35,
     "metadata": {},
     "output_type": "execute_result"
    }
   ],
   "source": [
    "# Observed data\n",
    "\n",
    "kk2 = np.genfromtxt('bss_obsflux.dat','str')\n",
    "kk2"
   ]
  },
  {
   "cell_type": "code",
   "execution_count": 36,
   "metadata": {
    "collapsed": false
   },
   "outputs": [],
   "source": [
    "dat2=[]\n",
    "for i in range(0,len(kk2),7):\n",
    "    pp=kk2[i][:-1].copy()\n",
    "    pp=list(pp)\n",
    "    #print(pp)\n",
    "    for j in range(1,7,1):\n",
    "        pp.append(kk2[i+j][2])\n",
    "    for j in range(0,7,1):\n",
    "        pp.append(kk2[i+j][3])\n",
    "\n",
    "    pp.remove('GALEX/GALEX.FUV')\n",
    "    dat2.append(pp)"
   ]
  },
  {
   "cell_type": "markdown",
   "metadata": {},
   "source": [
    "### Obserevd and BSS-model fluxes "
   ]
  },
  {
   "cell_type": "code",
   "execution_count": 37,
   "metadata": {
    "collapsed": false,
    "scrolled": false
   },
   "outputs": [
    {
     "data": {
      "text/html": [
       "<div>\n",
       "<table border=\"1\" class=\"dataframe\">\n",
       "  <thead>\n",
       "    <tr style=\"text-align: right;\">\n",
       "      <th></th>\n",
       "      <th>0</th>\n",
       "      <th>1</th>\n",
       "      <th>2</th>\n",
       "      <th>3</th>\n",
       "      <th>4</th>\n",
       "      <th>5</th>\n",
       "      <th>6</th>\n",
       "      <th>7</th>\n",
       "      <th>8</th>\n",
       "      <th>9</th>\n",
       "      <th>10</th>\n",
       "      <th>11</th>\n",
       "      <th>12</th>\n",
       "      <th>13</th>\n",
       "      <th>14</th>\n",
       "    </tr>\n",
       "  </thead>\n",
       "  <tbody>\n",
       "    <tr>\n",
       "      <th>0</th>\n",
       "      <td>1252-52970-306</td>\n",
       "      <td>7.6183019154485E-15</td>\n",
       "      <td>4.205270481373E-15</td>\n",
       "      <td>2.5977756799615E-15</td>\n",
       "      <td>3.4977795851163E-15</td>\n",
       "      <td>1.9961882025602E-15</td>\n",
       "      <td>1.2660198037884E-15</td>\n",
       "      <td>7.8717100388975E-16</td>\n",
       "      <td>7.5078854456602E-16</td>\n",
       "      <td>2.3239183493802E-16</td>\n",
       "      <td>5.2942452602124E-17</td>\n",
       "      <td>6.5337390989961E-17</td>\n",
       "      <td>2.0005895151491E-17</td>\n",
       "      <td>1.0498742817505E-17</td>\n",
       "      <td>1.7222004472043E-17</td>\n",
       "    </tr>\n",
       "    <tr>\n",
       "      <th>1</th>\n",
       "      <td>1254-52972-515</td>\n",
       "      <td>1.5759786867684E-15</td>\n",
       "      <td>2.1082501246932E-15</td>\n",
       "      <td>3.4904540618507E-15</td>\n",
       "      <td>5.0248636592095E-15</td>\n",
       "      <td>2.7121983701755E-15</td>\n",
       "      <td>1.7106164125816E-15</td>\n",
       "      <td>1.0186786885555E-15</td>\n",
       "      <td>5.5303293472886E-16</td>\n",
       "      <td>2.2330356423338E-16</td>\n",
       "      <td>5.0822574420255E-17</td>\n",
       "      <td>5.3933683267158E-17</td>\n",
       "      <td>3.9605221066743E-17</td>\n",
       "      <td>2.0607855197128E-17</td>\n",
       "      <td>1.1330192929973E-17</td>\n",
       "    </tr>\n",
       "  </tbody>\n",
       "</table>\n",
       "</div>"
      ],
      "text/plain": [
       "               0                    1                    2   \\\n",
       "0  1252-52970-306  7.6183019154485E-15   4.205270481373E-15   \n",
       "1  1254-52972-515  1.5759786867684E-15  2.1082501246932E-15   \n",
       "\n",
       "                    3                    4                    5   \\\n",
       "0  2.5977756799615E-15  3.4977795851163E-15  1.9961882025602E-15   \n",
       "1  3.4904540618507E-15  5.0248636592095E-15  2.7121983701755E-15   \n",
       "\n",
       "                    6                    7                    8   \\\n",
       "0  1.2660198037884E-15  7.8717100388975E-16  7.5078854456602E-16   \n",
       "1  1.7106164125816E-15  1.0186786885555E-15  5.5303293472886E-16   \n",
       "\n",
       "                    9                    10                   11  \\\n",
       "0  2.3239183493802E-16  5.2942452602124E-17  6.5337390989961E-17   \n",
       "1  2.2330356423338E-16  5.0822574420255E-17  5.3933683267158E-17   \n",
       "\n",
       "                    12                   13                   14  \n",
       "0  2.0005895151491E-17  1.0498742817505E-17  1.7222004472043E-17  \n",
       "1  3.9605221066743E-17  2.0607855197128E-17  1.1330192929973E-17  "
      ]
     },
     "execution_count": 37,
     "metadata": {},
     "output_type": "execute_result"
    }
   ],
   "source": [
    "obs_flx = pd.DataFrame(dat2)\n",
    "obs_flx.head(2)"
   ]
  },
  {
   "cell_type": "code",
   "execution_count": 38,
   "metadata": {
    "collapsed": false
   },
   "outputs": [
    {
     "data": {
      "text/html": [
       "<div>\n",
       "<table border=\"1\" class=\"dataframe\">\n",
       "  <thead>\n",
       "    <tr style=\"text-align: right;\">\n",
       "      <th></th>\n",
       "      <th>modnmbr</th>\n",
       "      <th>modname</th>\n",
       "      <th>1</th>\n",
       "      <th>2</th>\n",
       "      <th>3</th>\n",
       "      <th>4</th>\n",
       "      <th>5</th>\n",
       "      <th>6</th>\n",
       "      <th>7</th>\n",
       "    </tr>\n",
       "  </thead>\n",
       "  <tbody>\n",
       "    <tr>\n",
       "      <th>0</th>\n",
       "      <td>0</td>\n",
       "      <td>ckm20_6250_g35</td>\n",
       "      <td>21114.929815433</td>\n",
       "      <td>1048709.3866451</td>\n",
       "      <td>15902520.941757</td>\n",
       "      <td>4224082.6385299</td>\n",
       "      <td>3052203.8640269</td>\n",
       "      <td>2198672.6452128</td>\n",
       "      <td>1537282.9622543</td>\n",
       "    </tr>\n",
       "    <tr>\n",
       "      <th>1</th>\n",
       "      <td>1</td>\n",
       "      <td>ckm5_49000_g50</td>\n",
       "      <td>18515697895.259</td>\n",
       "      <td>4729773629.8141</td>\n",
       "      <td>584878929.70621</td>\n",
       "      <td>530801823.30832</td>\n",
       "      <td>182227340.86716</td>\n",
       "      <td>87772925.378309</td>\n",
       "      <td>43406404.567061</td>\n",
       "    </tr>\n",
       "  </tbody>\n",
       "</table>\n",
       "</div>"
      ],
      "text/plain": [
       "   modnmbr         modname                1                2                3  \\\n",
       "0        0  ckm20_6250_g35  21114.929815433  1048709.3866451  15902520.941757   \n",
       "1        1  ckm5_49000_g50  18515697895.259  4729773629.8141  584878929.70621   \n",
       "\n",
       "                 4                5                6                7  \n",
       "0  4224082.6385299  3052203.8640269  2198672.6452128  1537282.9622543  \n",
       "1  530801823.30832  182227340.86716  87772925.378309  43406404.567061  "
      ]
     },
     "execution_count": 38,
     "metadata": {},
     "output_type": "execute_result"
    }
   ],
   "source": [
    "mod_flx.head(2)"
   ]
  },
  {
   "cell_type": "markdown",
   "metadata": {},
   "source": [
    "### White Dwarf  models"
   ]
  },
  {
   "cell_type": "code",
   "execution_count": 39,
   "metadata": {
    "collapsed": false,
    "scrolled": false
   },
   "outputs": [
    {
     "data": {
      "text/html": [
       "<div>\n",
       "<table border=\"1\" class=\"dataframe\">\n",
       "  <thead>\n",
       "    <tr style=\"text-align: right;\">\n",
       "      <th></th>\n",
       "      <th>Teff</th>\n",
       "      <th>log g</th>\n",
       "      <th>M/Mo</th>\n",
       "      <th>Mbol</th>\n",
       "      <th>V</th>\n",
       "      <th>u</th>\n",
       "      <th>g</th>\n",
       "      <th>r</th>\n",
       "      <th>i</th>\n",
       "      <th>z</th>\n",
       "      <th>FUV</th>\n",
       "      <th>NUV</th>\n",
       "      <th>Age</th>\n",
       "    </tr>\n",
       "  </thead>\n",
       "  <tbody>\n",
       "    <tr>\n",
       "      <th>586</th>\n",
       "      <td>39000</td>\n",
       "      <td>9</td>\n",
       "      <td>1.198</td>\n",
       "      <td>7.661</td>\n",
       "      <td>11.571</td>\n",
       "      <td>10.933</td>\n",
       "      <td>11.319</td>\n",
       "      <td>11.796</td>\n",
       "      <td>12.149</td>\n",
       "      <td>12.485</td>\n",
       "      <td>9.838</td>\n",
       "      <td>10.298</td>\n",
       "      <td>77600000</td>\n",
       "    </tr>\n",
       "    <tr>\n",
       "      <th>587</th>\n",
       "      <td>40000</td>\n",
       "      <td>9</td>\n",
       "      <td>1.199</td>\n",
       "      <td>7.551</td>\n",
       "      <td>11.528</td>\n",
       "      <td>10.878</td>\n",
       "      <td>11.272</td>\n",
       "      <td>11.754</td>\n",
       "      <td>12.109</td>\n",
       "      <td>12.447</td>\n",
       "      <td>9.747</td>\n",
       "      <td>10.227</td>\n",
       "      <td>69600000</td>\n",
       "    </tr>\n",
       "  </tbody>\n",
       "</table>\n",
       "</div>"
      ],
      "text/plain": [
       "      Teff  log g   M/Mo   Mbol       V       u       g       r       i  \\\n",
       "586  39000      9  1.198  7.661  11.571  10.933  11.319  11.796  12.149   \n",
       "587  40000      9  1.199  7.551  11.528  10.878  11.272  11.754  12.109   \n",
       "\n",
       "          z    FUV     NUV       Age  \n",
       "586  12.485  9.838  10.298  77600000  \n",
       "587  12.447  9.747  10.227  69600000  "
      ]
     },
     "execution_count": 39,
     "metadata": {},
     "output_type": "execute_result"
    }
   ],
   "source": [
    "# Load the color tables from Bergeron \n",
    "\n",
    "wda=pd.read_csv('Table_DA.csv')\n",
    "wda.tail(2)"
   ]
  },
  {
   "cell_type": "code",
   "execution_count": 40,
   "metadata": {
    "collapsed": true
   },
   "outputs": [],
   "source": [
    "# white-dwarf radius calculatio\n",
    "\n",
    "lstar = np.sqrt(10 ** (-0.4 * (wda['Mbol'] - 4.74))) # Luminosity from bolometric magnitude\n",
    "wda['radius'] = lstar * (5777/wda['Teff'])**2 # radius in solar units"
   ]
  },
  {
   "cell_type": "code",
   "execution_count": 41,
   "metadata": {
    "collapsed": false
   },
   "outputs": [
    {
     "data": {
      "text/html": [
       "<div>\n",
       "<table border=\"1\" class=\"dataframe\">\n",
       "  <thead>\n",
       "    <tr style=\"text-align: right;\">\n",
       "      <th></th>\n",
       "      <th>Teff</th>\n",
       "      <th>log g</th>\n",
       "      <th>M/Mo</th>\n",
       "      <th>Mbol</th>\n",
       "      <th>V</th>\n",
       "      <th>u</th>\n",
       "      <th>g</th>\n",
       "      <th>r</th>\n",
       "      <th>i</th>\n",
       "      <th>z</th>\n",
       "      <th>FUV</th>\n",
       "      <th>NUV</th>\n",
       "      <th>Age</th>\n",
       "      <th>radius</th>\n",
       "    </tr>\n",
       "  </thead>\n",
       "  <tbody>\n",
       "    <tr>\n",
       "      <th>0</th>\n",
       "      <td>1500</td>\n",
       "      <td>7</td>\n",
       "      <td>0.150</td>\n",
       "      <td>19.064</td>\n",
       "      <td>18.081</td>\n",
       "      <td>24.045</td>\n",
       "      <td>19.305</td>\n",
       "      <td>17.694</td>\n",
       "      <td>19.779</td>\n",
       "      <td>19.447</td>\n",
       "      <td>58.433</td>\n",
       "      <td>34.208</td>\n",
       "      <td>16200000000</td>\n",
       "      <td>0.020250</td>\n",
       "    </tr>\n",
       "    <tr>\n",
       "      <th>1</th>\n",
       "      <td>1750</td>\n",
       "      <td>7</td>\n",
       "      <td>0.151</td>\n",
       "      <td>18.393</td>\n",
       "      <td>17.615</td>\n",
       "      <td>23.262</td>\n",
       "      <td>18.813</td>\n",
       "      <td>17.082</td>\n",
       "      <td>18.552</td>\n",
       "      <td>18.333</td>\n",
       "      <td>56.515</td>\n",
       "      <td>32.926</td>\n",
       "      <td>13400000000</td>\n",
       "      <td>0.020264</td>\n",
       "    </tr>\n",
       "  </tbody>\n",
       "</table>\n",
       "</div>"
      ],
      "text/plain": [
       "   Teff  log g   M/Mo    Mbol       V       u       g       r       i       z  \\\n",
       "0  1500      7  0.150  19.064  18.081  24.045  19.305  17.694  19.779  19.447   \n",
       "1  1750      7  0.151  18.393  17.615  23.262  18.813  17.082  18.552  18.333   \n",
       "\n",
       "      FUV     NUV          Age    radius  \n",
       "0  58.433  34.208  16200000000  0.020250  \n",
       "1  56.515  32.926  13400000000  0.020264  "
      ]
     },
     "execution_count": 41,
     "metadata": {},
     "output_type": "execute_result"
    }
   ],
   "source": [
    "wda.head(2)"
   ]
  },
  {
   "cell_type": "code",
   "execution_count": 42,
   "metadata": {
    "collapsed": false
   },
   "outputs": [],
   "source": [
    "# magnitude to flux converter\n",
    "\n",
    "def flx(mag,zpm,zpf):\n",
    "    f = (10 ** (-0.4 * (mag-zpm))) * zpf * 10 **-11\n",
    "    \n",
    "    return f"
   ]
  },
  {
   "cell_type": "code",
   "execution_count": 43,
   "metadata": {
    "collapsed": false
   },
   "outputs": [],
   "source": [
    "# Calculate surface fluxes\n",
    "\n",
    "rad = wda['radius'] *  2.25461 * 10**-8 # radius in parsecs now\n",
    "dis = 10 # in pc\n",
    "\n",
    "wda['fuv_f'] = [flx(i,18.82,0.00014) for i in wda['FUV']] * (dis/rad)**2\n",
    "wda['nuv_f'] = [flx(i,20.08,0.0000206) for i in wda['NUV']] * (dis/rad)**2\n",
    "wda['u_f'] = [flx(i,0,859.5) for i in wda['u']] * (dis/rad)**2\n",
    "wda['g_f'] = [flx(i,0,466.9) for i in wda['g']] * (dis/rad)**2\n",
    "wda['r_f'] = [flx(i,0,278.) for i in wda['r']] * (dis/rad)**2\n",
    "wda['i_f'] = [flx(i,0,185.2) for i in wda['i']] * (dis/rad)**2\n",
    "wda['z_f'] = [flx(i,0,131.5) for i in wda['z']] * (dis/rad)**2"
   ]
  },
  {
   "cell_type": "code",
   "execution_count": 44,
   "metadata": {
    "collapsed": false
   },
   "outputs": [
    {
     "data": {
      "text/html": [
       "<div>\n",
       "<table border=\"1\" class=\"dataframe\">\n",
       "  <thead>\n",
       "    <tr style=\"text-align: right;\">\n",
       "      <th></th>\n",
       "      <th>Teff</th>\n",
       "      <th>log g</th>\n",
       "      <th>M/Mo</th>\n",
       "      <th>Mbol</th>\n",
       "      <th>V</th>\n",
       "      <th>u</th>\n",
       "      <th>g</th>\n",
       "      <th>r</th>\n",
       "      <th>i</th>\n",
       "      <th>z</th>\n",
       "      <th>...</th>\n",
       "      <th>NUV</th>\n",
       "      <th>Age</th>\n",
       "      <th>radius</th>\n",
       "      <th>fuv_f</th>\n",
       "      <th>nuv_f</th>\n",
       "      <th>u_f</th>\n",
       "      <th>g_f</th>\n",
       "      <th>r_f</th>\n",
       "      <th>i_f</th>\n",
       "      <th>z_f</th>\n",
       "    </tr>\n",
       "  </thead>\n",
       "  <tbody>\n",
       "    <tr>\n",
       "      <th>0</th>\n",
       "      <td>1500</td>\n",
       "      <td>7</td>\n",
       "      <td>0.150</td>\n",
       "      <td>19.064</td>\n",
       "      <td>18.081</td>\n",
       "      <td>24.045</td>\n",
       "      <td>19.305</td>\n",
       "      <td>17.694</td>\n",
       "      <td>19.779</td>\n",
       "      <td>19.447</td>\n",
       "      <td>...</td>\n",
       "      <td>34.208</td>\n",
       "      <td>16200000000</td>\n",
       "      <td>0.020250</td>\n",
       "      <td>9.592697e-11</td>\n",
       "      <td>0.220638</td>\n",
       "      <td>993.707549</td>\n",
       "      <td>42485.093869</td>\n",
       "      <td>111546.899698</td>\n",
       "      <td>10890.647229</td>\n",
       "      <td>10498.770954</td>\n",
       "    </tr>\n",
       "    <tr>\n",
       "      <th>1</th>\n",
       "      <td>1750</td>\n",
       "      <td>7</td>\n",
       "      <td>0.151</td>\n",
       "      <td>18.393</td>\n",
       "      <td>17.615</td>\n",
       "      <td>23.262</td>\n",
       "      <td>18.813</td>\n",
       "      <td>17.082</td>\n",
       "      <td>18.552</td>\n",
       "      <td>18.333</td>\n",
       "      <td>...</td>\n",
       "      <td>32.926</td>\n",
       "      <td>13400000000</td>\n",
       "      <td>0.020264</td>\n",
       "      <td>5.604384e-10</td>\n",
       "      <td>0.717575</td>\n",
       "      <td>2041.012891</td>\n",
       "      <td>66745.768938</td>\n",
       "      <td>195724.261311</td>\n",
       "      <td>33669.824221</td>\n",
       "      <td>29249.983105</td>\n",
       "    </tr>\n",
       "  </tbody>\n",
       "</table>\n",
       "<p>2 rows × 21 columns</p>\n",
       "</div>"
      ],
      "text/plain": [
       "   Teff  log g   M/Mo    Mbol       V       u       g       r       i       z  \\\n",
       "0  1500      7  0.150  19.064  18.081  24.045  19.305  17.694  19.779  19.447   \n",
       "1  1750      7  0.151  18.393  17.615  23.262  18.813  17.082  18.552  18.333   \n",
       "\n",
       "       ...          NUV          Age    radius         fuv_f     nuv_f  \\\n",
       "0      ...       34.208  16200000000  0.020250  9.592697e-11  0.220638   \n",
       "1      ...       32.926  13400000000  0.020264  5.604384e-10  0.717575   \n",
       "\n",
       "           u_f           g_f            r_f           i_f           z_f  \n",
       "0   993.707549  42485.093869  111546.899698  10890.647229  10498.770954  \n",
       "1  2041.012891  66745.768938  195724.261311  33669.824221  29249.983105  \n",
       "\n",
       "[2 rows x 21 columns]"
      ]
     },
     "execution_count": 44,
     "metadata": {},
     "output_type": "execute_result"
    }
   ],
   "source": [
    "wda.head(2)"
   ]
  },
  {
   "cell_type": "code",
   "execution_count": 45,
   "metadata": {
    "collapsed": false
   },
   "outputs": [
    {
     "data": {
      "text/html": [
       "<div>\n",
       "<table border=\"1\" class=\"dataframe\">\n",
       "  <thead>\n",
       "    <tr style=\"text-align: right;\">\n",
       "      <th></th>\n",
       "      <th>ID</th>\n",
       "      <th>FUV</th>\n",
       "      <th>NUV</th>\n",
       "      <th>u</th>\n",
       "      <th>g</th>\n",
       "      <th>r</th>\n",
       "      <th>i</th>\n",
       "      <th>z</th>\n",
       "      <th>errFUV</th>\n",
       "      <th>errNUV</th>\n",
       "      <th>erru</th>\n",
       "      <th>errg</th>\n",
       "      <th>errr</th>\n",
       "      <th>erri</th>\n",
       "      <th>errz</th>\n",
       "    </tr>\n",
       "  </thead>\n",
       "  <tbody>\n",
       "    <tr>\n",
       "      <th>0</th>\n",
       "      <td>915-52443-549</td>\n",
       "      <td>19.003202</td>\n",
       "      <td>17.130764</td>\n",
       "      <td>15.75836</td>\n",
       "      <td>14.70829</td>\n",
       "      <td>14.680489</td>\n",
       "      <td>14.73226</td>\n",
       "      <td>14.81553</td>\n",
       "      <td>0.167</td>\n",
       "      <td>0.041</td>\n",
       "      <td>0.021632</td>\n",
       "      <td>0.014762</td>\n",
       "      <td>0.020928</td>\n",
       "      <td>0.013409</td>\n",
       "      <td>0.021568</td>\n",
       "    </tr>\n",
       "  </tbody>\n",
       "</table>\n",
       "</div>"
      ],
      "text/plain": [
       "              ID        FUV        NUV         u         g          r  \\\n",
       "0  915-52443-549  19.003202  17.130764  15.75836  14.70829  14.680489   \n",
       "\n",
       "          i         z  errFUV  errNUV      erru      errg      errr      erri  \\\n",
       "0  14.73226  14.81553   0.167   0.041  0.021632  0.014762  0.020928  0.013409   \n",
       "\n",
       "       errz  \n",
       "0  0.021568  "
      ]
     },
     "execution_count": 45,
     "metadata": {},
     "output_type": "execute_result"
    }
   ],
   "source": [
    "to_vosa.head(1)"
   ]
  },
  {
   "cell_type": "code",
   "execution_count": 46,
   "metadata": {
    "collapsed": false
   },
   "outputs": [],
   "source": [
    "# BSS metalicity  and temperature\n",
    "pd.options.mode.chained_assignment = None \n",
    "\n",
    "to_vosa['feh'] = bss[7]\n",
    "to_vosa['tef'] = bss[5]"
   ]
  },
  {
   "cell_type": "code",
   "execution_count": 47,
   "metadata": {
    "collapsed": true
   },
   "outputs": [],
   "source": [
    "import seaborn as sns\n",
    "%matplotlib inline"
   ]
  },
  {
   "cell_type": "code",
   "execution_count": 48,
   "metadata": {
    "collapsed": false
   },
   "outputs": [
    {
     "data": {
      "text/plain": [
       "<matplotlib.axes._subplots.AxesSubplot at 0x10c87d438>"
      ]
     },
     "execution_count": 48,
     "metadata": {},
     "output_type": "execute_result"
    },
    {
     "data": {
      "image/png": "[encoded data removed]",
      "text/plain": [
       "<matplotlib.figure.Figure at 0x10c86d9e8>"
      ]
     },
     "metadata": {},
     "output_type": "display_data"
    }
   ],
   "source": [
    "sns.distplot(to_vosa['g'] - to_vosa['r'],kde=False) # cut has to be within -0.5 to 1. in g-r "
   ]
  },
  {
   "cell_type": "markdown",
   "metadata": {},
   "source": [
    "### Distance and BS-radius Determination"
   ]
  },
  {
   "cell_type": "code",
   "execution_count": 49,
   "metadata": {
    "collapsed": false
   },
   "outputs": [],
   "source": [
    "# Distance determination\n",
    "# Ref: Santucci paper(2015), http://iopscience.iop.org/article/10.1088/0004-637X/801/2/116\n",
    "\n",
    "v_o = to_vosa['g'] - 0.561 * (to_vosa['g'] - to_vosa['r']) - 0.004 # calculate Johnson V magnitude\n",
    "b_v = 0.916 * (to_vosa['g'] - to_vosa['r']) + 0.187 # B-V color \n",
    "absV = 1.32 + (4.05 * b_v) - (0.45 * to_vosa['feh']) # absolute magnitude in V\n",
    "to_vosa['dist'] = 10 ** ((v_o - absV)/5 - 2) # distance in kpc\n",
    "\n",
    "# BSS radius determination\n",
    "\n",
    "lbstar = np.sqrt(10 ** (-0.4 * (absV +  26.75 - 31.572 + (0.08+0.09) )))\n",
    "to_vosa['bsr'] = lbstar * (5777/to_vosa['tef'])**2"
   ]
  },
  {
   "cell_type": "code",
   "execution_count": 50,
   "metadata": {
    "collapsed": false
   },
   "outputs": [
    {
     "data": {
      "text/plain": [
       "<matplotlib.axes._subplots.AxesSubplot at 0x1055f0a90>"
      ]
     },
     "execution_count": 50,
     "metadata": {},
     "output_type": "execute_result"
    },
    {
     "data": {
      "image/png": "[encoded data removed]",
      "text/plain": [
       "<matplotlib.figure.Figure at 0x10c96d748>"
      ]
     },
     "metadata": {},
     "output_type": "display_data"
    }
   ],
   "source": [
    "sns.distplot(to_vosa['bsr'],kde=False)"
   ]
  },
  {
   "cell_type": "code",
   "execution_count": 51,
   "metadata": {
    "collapsed": false
   },
   "outputs": [
    {
     "data": {
      "text/plain": [
       "<matplotlib.axes._subplots.AxesSubplot at 0x10ca6eb00>"
      ]
     },
     "execution_count": 51,
     "metadata": {},
     "output_type": "execute_result"
    },
    {
     "data": {
      "image/png": "[encoded data removed]",
      "text/plain": [
       "<matplotlib.figure.Figure at 0x10cac1390>"
      ]
     },
     "metadata": {},
     "output_type": "display_data"
    }
   ],
   "source": [
    "sns.distplot(to_vosa['dist'],kde=False)"
   ]
  },
  {
   "cell_type": "code",
   "execution_count": 52,
   "metadata": {
    "collapsed": false
   },
   "outputs": [
    {
     "data": {
      "text/plain": [
       "<matplotlib.collections.PathCollection at 0x10daa4128>"
      ]
     },
     "execution_count": 52,
     "metadata": {},
     "output_type": "execute_result"
    },
    {
     "data": {
      "image/png": "[encoded data removed]",
      "text/plain": [
       "<matplotlib.figure.Figure at 0x10c91b9e8>"
      ]
     },
     "metadata": {},
     "output_type": "display_data"
    }
   ],
   "source": [
    "sns.plt.scatter(to_vosa['dist'],to_vosa['feh'])"
   ]
  },
  {
   "cell_type": "code",
   "execution_count": 53,
   "metadata": {
    "collapsed": false
   },
   "outputs": [
    {
     "data": {
      "text/html": [
       "<div>\n",
       "<table border=\"1\" class=\"dataframe\">\n",
       "  <thead>\n",
       "    <tr style=\"text-align: right;\">\n",
       "      <th></th>\n",
       "      <th>ID</th>\n",
       "      <th>FUV</th>\n",
       "      <th>NUV</th>\n",
       "      <th>u</th>\n",
       "      <th>g</th>\n",
       "      <th>r</th>\n",
       "      <th>i</th>\n",
       "      <th>z</th>\n",
       "      <th>errFUV</th>\n",
       "      <th>errNUV</th>\n",
       "      <th>erru</th>\n",
       "      <th>errg</th>\n",
       "      <th>errr</th>\n",
       "      <th>erri</th>\n",
       "      <th>errz</th>\n",
       "      <th>feh</th>\n",
       "      <th>tef</th>\n",
       "      <th>dist</th>\n",
       "      <th>bsr</th>\n",
       "    </tr>\n",
       "  </thead>\n",
       "  <tbody>\n",
       "    <tr>\n",
       "      <th>0</th>\n",
       "      <td>915-52443-549</td>\n",
       "      <td>19.003202</td>\n",
       "      <td>17.130764</td>\n",
       "      <td>15.75836</td>\n",
       "      <td>14.70829</td>\n",
       "      <td>14.680489</td>\n",
       "      <td>14.732260</td>\n",
       "      <td>14.81553</td>\n",
       "      <td>0.167</td>\n",
       "      <td>0.041</td>\n",
       "      <td>0.021632</td>\n",
       "      <td>0.014762</td>\n",
       "      <td>0.020928</td>\n",
       "      <td>0.013409</td>\n",
       "      <td>0.021568</td>\n",
       "      <td>-0.688419</td>\n",
       "      <td>7423.807129</td>\n",
       "      <td>2.752227</td>\n",
       "      <td>1.638690</td>\n",
       "    </tr>\n",
       "    <tr>\n",
       "      <th>1</th>\n",
       "      <td>740-52263-440</td>\n",
       "      <td>19.887934</td>\n",
       "      <td>19.348858</td>\n",
       "      <td>18.63986</td>\n",
       "      <td>17.83897</td>\n",
       "      <td>17.888260</td>\n",
       "      <td>17.943001</td>\n",
       "      <td>18.06665</td>\n",
       "      <td>0.237</td>\n",
       "      <td>0.128</td>\n",
       "      <td>0.021957</td>\n",
       "      <td>0.014753</td>\n",
       "      <td>0.014967</td>\n",
       "      <td>0.017296</td>\n",
       "      <td>0.028242</td>\n",
       "      <td>-1.984616</td>\n",
       "      <td>7673.275879</td>\n",
       "      <td>10.351657</td>\n",
       "      <td>1.337607</td>\n",
       "    </tr>\n",
       "  </tbody>\n",
       "</table>\n",
       "</div>"
      ],
      "text/plain": [
       "              ID        FUV        NUV         u         g          r  \\\n",
       "0  915-52443-549  19.003202  17.130764  15.75836  14.70829  14.680489   \n",
       "1  740-52263-440  19.887934  19.348858  18.63986  17.83897  17.888260   \n",
       "\n",
       "           i         z  errFUV  errNUV      erru      errg      errr  \\\n",
       "0  14.732260  14.81553   0.167   0.041  0.021632  0.014762  0.020928   \n",
       "1  17.943001  18.06665   0.237   0.128  0.021957  0.014753  0.014967   \n",
       "\n",
       "       erri      errz       feh          tef       dist       bsr  \n",
       "0  0.013409  0.021568 -0.688419  7423.807129   2.752227  1.638690  \n",
       "1  0.017296  0.028242 -1.984616  7673.275879  10.351657  1.337607  "
      ]
     },
     "execution_count": 53,
     "metadata": {},
     "output_type": "execute_result"
    }
   ],
   "source": [
    "to_vosa.head(2)"
   ]
  },
  {
   "cell_type": "code",
   "execution_count": 54,
   "metadata": {
    "collapsed": false
   },
   "outputs": [
    {
     "data": {
      "text/plain": [
       "count    80.000000\n",
       "mean      6.515936\n",
       "std       2.585552\n",
       "min       2.161787\n",
       "25%       4.272102\n",
       "50%       6.257121\n",
       "75%       8.592504\n",
       "max      12.114206\n",
       "Name: dist, dtype: float64"
      ]
     },
     "execution_count": 54,
     "metadata": {},
     "output_type": "execute_result"
    }
   ],
   "source": [
    "to_vosa['dist'].describe()"
   ]
  },
  {
   "cell_type": "code",
   "execution_count": 55,
   "metadata": {
    "collapsed": false,
    "scrolled": false
   },
   "outputs": [],
   "source": [
    "# Merege radius and distances with flux table\n",
    "\n",
    "obs_flx = obs_flx.merge(to_vosa[['ID','bsr','dist']],left_on=[0],right_on=['ID'])"
   ]
  },
  {
   "cell_type": "code",
   "execution_count": 56,
   "metadata": {
    "collapsed": false
   },
   "outputs": [
    {
     "data": {
      "text/html": [
       "<div>\n",
       "<table border=\"1\" class=\"dataframe\">\n",
       "  <thead>\n",
       "    <tr style=\"text-align: right;\">\n",
       "      <th></th>\n",
       "      <th>0</th>\n",
       "      <th>1</th>\n",
       "      <th>2</th>\n",
       "      <th>3</th>\n",
       "      <th>4</th>\n",
       "      <th>5</th>\n",
       "      <th>6</th>\n",
       "      <th>7</th>\n",
       "      <th>8</th>\n",
       "      <th>9</th>\n",
       "      <th>10</th>\n",
       "      <th>11</th>\n",
       "      <th>12</th>\n",
       "      <th>13</th>\n",
       "      <th>14</th>\n",
       "      <th>ID</th>\n",
       "      <th>bsr</th>\n",
       "      <th>dist</th>\n",
       "    </tr>\n",
       "  </thead>\n",
       "  <tbody>\n",
       "    <tr>\n",
       "      <th>0</th>\n",
       "      <td>1252-52970-306</td>\n",
       "      <td>7.6183019154485E-15</td>\n",
       "      <td>4.205270481373E-15</td>\n",
       "      <td>2.5977756799615E-15</td>\n",
       "      <td>3.4977795851163E-15</td>\n",
       "      <td>1.9961882025602E-15</td>\n",
       "      <td>1.2660198037884E-15</td>\n",
       "      <td>7.8717100388975E-16</td>\n",
       "      <td>7.5078854456602E-16</td>\n",
       "      <td>2.3239183493802E-16</td>\n",
       "      <td>5.2942452602124E-17</td>\n",
       "      <td>6.5337390989961E-17</td>\n",
       "      <td>2.0005895151491E-17</td>\n",
       "      <td>1.0498742817505E-17</td>\n",
       "      <td>1.7222004472043E-17</td>\n",
       "      <td>1252-52970-306</td>\n",
       "      <td>1.728519</td>\n",
       "      <td>4.436736</td>\n",
       "    </tr>\n",
       "    <tr>\n",
       "      <th>1</th>\n",
       "      <td>1254-52972-515</td>\n",
       "      <td>1.5759786867684E-15</td>\n",
       "      <td>2.1082501246932E-15</td>\n",
       "      <td>3.4904540618507E-15</td>\n",
       "      <td>5.0248636592095E-15</td>\n",
       "      <td>2.7121983701755E-15</td>\n",
       "      <td>1.7106164125816E-15</td>\n",
       "      <td>1.0186786885555E-15</td>\n",
       "      <td>5.5303293472886E-16</td>\n",
       "      <td>2.2330356423338E-16</td>\n",
       "      <td>5.0822574420255E-17</td>\n",
       "      <td>5.3933683267158E-17</td>\n",
       "      <td>3.9605221066743E-17</td>\n",
       "      <td>2.0607855197128E-17</td>\n",
       "      <td>1.1330192929973E-17</td>\n",
       "      <td>1254-52972-515</td>\n",
       "      <td>2.072674</td>\n",
       "      <td>4.371951</td>\n",
       "    </tr>\n",
       "  </tbody>\n",
       "</table>\n",
       "</div>"
      ],
      "text/plain": [
       "                0                    1                    2  \\\n",
       "0  1252-52970-306  7.6183019154485E-15   4.205270481373E-15   \n",
       "1  1254-52972-515  1.5759786867684E-15  2.1082501246932E-15   \n",
       "\n",
       "                     3                    4                    5  \\\n",
       "0  2.5977756799615E-15  3.4977795851163E-15  1.9961882025602E-15   \n",
       "1  3.4904540618507E-15  5.0248636592095E-15  2.7121983701755E-15   \n",
       "\n",
       "                     6                    7                    8  \\\n",
       "0  1.2660198037884E-15  7.8717100388975E-16  7.5078854456602E-16   \n",
       "1  1.7106164125816E-15  1.0186786885555E-15  5.5303293472886E-16   \n",
       "\n",
       "                     9                   10                   11  \\\n",
       "0  2.3239183493802E-16  5.2942452602124E-17  6.5337390989961E-17   \n",
       "1  2.2330356423338E-16  5.0822574420255E-17  5.3933683267158E-17   \n",
       "\n",
       "                    12                   13                   14  \\\n",
       "0  2.0005895151491E-17  1.0498742817505E-17  1.7222004472043E-17   \n",
       "1  3.9605221066743E-17  2.0607855197128E-17  1.1330192929973E-17   \n",
       "\n",
       "               ID       bsr      dist  \n",
       "0  1252-52970-306  1.728519  4.436736  \n",
       "1  1254-52972-515  2.072674  4.371951  "
      ]
     },
     "execution_count": 56,
     "metadata": {},
     "output_type": "execute_result"
    }
   ],
   "source": [
    "obs_flx.head(2)"
   ]
  },
  {
   "cell_type": "code",
   "execution_count": 57,
   "metadata": {
    "collapsed": false
   },
   "outputs": [
    {
     "name": "stderr",
     "output_type": "stream",
     "text": [
      "/Library/Frameworks/Python.framework/Versions/3.5/lib/python3.5/site-packages/ipykernel/__main__.py:3: ParserWarning: Falling back to the 'python' engine because the 'c' engine does not support regex separators; you can avoid this warning by specifying engine='python'.\n",
      "  app.launch_new_instance()\n",
      "/Library/Frameworks/Python.framework/Versions/3.5/lib/python3.5/site-packages/pandas/io/parsers.py:1572: FutureWarning: split() requires a non-empty pattern match.\n",
      "  yield pat.split(line.strip())\n",
      "/Library/Frameworks/Python.framework/Versions/3.5/lib/python3.5/site-packages/pandas/io/parsers.py:1574: FutureWarning: split() requires a non-empty pattern match.\n",
      "  yield pat.split(line.strip())\n"
     ]
    },
    {
     "data": {
      "text/html": [
       "<div>\n",
       "<table border=\"1\" class=\"dataframe\">\n",
       "  <thead>\n",
       "    <tr style=\"text-align: right;\">\n",
       "      <th></th>\n",
       "      <th>0</th>\n",
       "      <th>1</th>\n",
       "    </tr>\n",
       "  </thead>\n",
       "  <tbody>\n",
       "    <tr>\n",
       "      <th>0</th>\n",
       "      <td>wocs5350</td>\n",
       "      <td>fp00t6750g35k0odfnew.dat</td>\n",
       "    </tr>\n",
       "    <tr>\n",
       "      <th>1</th>\n",
       "      <td>1900-53262-580</td>\n",
       "      <td>fm20t6500g40k2odfnew.dat</td>\n",
       "    </tr>\n",
       "  </tbody>\n",
       "</table>\n",
       "</div>"
      ],
      "text/plain": [
       "                0                         1\n",
       "0        wocs5350  fp00t6750g35k0odfnew.dat\n",
       "1  1900-53262-580  fm20t6500g40k2odfnew.dat"
      ]
     },
     "execution_count": 57,
     "metadata": {},
     "output_type": "execute_result"
    }
   ],
   "source": [
    "# Load best-fit model names !!! MODEL NAMES ARE IN OLD FORMAT !!!!\n",
    "\n",
    "bfm = pd.read_csv('BSS_uve_bestfitkuruczmodel.dat',header=None,sep=r'\\s*')\n",
    "bfm.head(2)"
   ]
  },
  {
   "cell_type": "code",
   "execution_count": 58,
   "metadata": {
    "collapsed": false
   },
   "outputs": [],
   "source": [
    "# Define model names converter from old to new\n",
    "\n",
    "def fname(col):\n",
    "    dd=[]\n",
    "    for i in col:\n",
    "        try:\n",
    "            fn=('ck{0}{1}_{2}_g{3}'.format(i[1],int(i[2:4]),i[5:9],i[10:12]))\n",
    "        except:\n",
    "            fn=('ck{0}{1}_{2}_g{3}'.format(i[1],i[2:4],i[5:9],i[10:12]))\n",
    "        dd.append(fn)\n",
    "    \n",
    "    return dd    "
   ]
  },
  {
   "cell_type": "code",
   "execution_count": 59,
   "metadata": {
    "collapsed": false
   },
   "outputs": [],
   "source": [
    "bfm[2] = fname(bfm[1])"
   ]
  },
  {
   "cell_type": "code",
   "execution_count": 60,
   "metadata": {
    "collapsed": false
   },
   "outputs": [
    {
     "data": {
      "text/html": [
       "<div>\n",
       "<table border=\"1\" class=\"dataframe\">\n",
       "  <thead>\n",
       "    <tr style=\"text-align: right;\">\n",
       "      <th></th>\n",
       "      <th>0</th>\n",
       "      <th>1</th>\n",
       "      <th>2</th>\n",
       "    </tr>\n",
       "  </thead>\n",
       "  <tbody>\n",
       "    <tr>\n",
       "      <th>0</th>\n",
       "      <td>wocs5350</td>\n",
       "      <td>fp00t6750g35k0odfnew.dat</td>\n",
       "      <td>ckp0_6750_g35</td>\n",
       "    </tr>\n",
       "    <tr>\n",
       "      <th>1</th>\n",
       "      <td>1900-53262-580</td>\n",
       "      <td>fm20t6500g40k2odfnew.dat</td>\n",
       "      <td>ckm20_6500_g40</td>\n",
       "    </tr>\n",
       "  </tbody>\n",
       "</table>\n",
       "</div>"
      ],
      "text/plain": [
       "                0                         1               2\n",
       "0        wocs5350  fp00t6750g35k0odfnew.dat   ckp0_6750_g35\n",
       "1  1900-53262-580  fm20t6500g40k2odfnew.dat  ckm20_6500_g40"
      ]
     },
     "execution_count": 60,
     "metadata": {},
     "output_type": "execute_result"
    }
   ],
   "source": [
    "bfm.head(2)"
   ]
  },
  {
   "cell_type": "code",
   "execution_count": 61,
   "metadata": {
    "collapsed": false,
    "scrolled": false
   },
   "outputs": [],
   "source": [
    "obs_flx = obs_flx.merge(bfm[[0,2]],left_on=[0],right_on=[0])"
   ]
  },
  {
   "cell_type": "code",
   "execution_count": 62,
   "metadata": {
    "collapsed": false
   },
   "outputs": [
    {
     "data": {
      "text/html": [
       "<div>\n",
       "<table border=\"1\" class=\"dataframe\">\n",
       "  <thead>\n",
       "    <tr style=\"text-align: right;\">\n",
       "      <th></th>\n",
       "      <th>modnmbr</th>\n",
       "      <th>modname</th>\n",
       "      <th>1</th>\n",
       "      <th>2</th>\n",
       "      <th>3</th>\n",
       "      <th>4</th>\n",
       "      <th>5</th>\n",
       "      <th>6</th>\n",
       "      <th>7</th>\n",
       "    </tr>\n",
       "  </thead>\n",
       "  <tbody>\n",
       "    <tr>\n",
       "      <th>0</th>\n",
       "      <td>0</td>\n",
       "      <td>ckm20_6250_g35</td>\n",
       "      <td>21114.929815433</td>\n",
       "      <td>1048709.3866451</td>\n",
       "      <td>15902520.941757</td>\n",
       "      <td>4224082.6385299</td>\n",
       "      <td>3052203.8640269</td>\n",
       "      <td>2198672.6452128</td>\n",
       "      <td>1537282.9622543</td>\n",
       "    </tr>\n",
       "  </tbody>\n",
       "</table>\n",
       "</div>"
      ],
      "text/plain": [
       "   modnmbr         modname                1                2                3  \\\n",
       "0        0  ckm20_6250_g35  21114.929815433  1048709.3866451  15902520.941757   \n",
       "\n",
       "                 4                5                6                7  \n",
       "0  4224082.6385299  3052203.8640269  2198672.6452128  1537282.9622543  "
      ]
     },
     "execution_count": 62,
     "metadata": {},
     "output_type": "execute_result"
    }
   ],
   "source": [
    "mod_flx.head(1)"
   ]
  },
  {
   "cell_type": "code",
   "execution_count": 63,
   "metadata": {
    "collapsed": false
   },
   "outputs": [
    {
     "data": {
      "text/html": [
       "<div>\n",
       "<table border=\"1\" class=\"dataframe\">\n",
       "  <thead>\n",
       "    <tr style=\"text-align: right;\">\n",
       "      <th></th>\n",
       "      <th>0</th>\n",
       "      <th>1</th>\n",
       "      <th>2_x</th>\n",
       "      <th>3</th>\n",
       "      <th>4</th>\n",
       "      <th>5</th>\n",
       "      <th>6</th>\n",
       "      <th>7</th>\n",
       "      <th>8</th>\n",
       "      <th>9</th>\n",
       "      <th>10</th>\n",
       "      <th>11</th>\n",
       "      <th>12</th>\n",
       "      <th>13</th>\n",
       "      <th>14</th>\n",
       "      <th>ID</th>\n",
       "      <th>bsr</th>\n",
       "      <th>dist</th>\n",
       "      <th>2_y</th>\n",
       "    </tr>\n",
       "  </thead>\n",
       "  <tbody>\n",
       "    <tr>\n",
       "      <th>0</th>\n",
       "      <td>1252-52970-306</td>\n",
       "      <td>7.6183019154485E-15</td>\n",
       "      <td>4.205270481373E-15</td>\n",
       "      <td>2.5977756799615E-15</td>\n",
       "      <td>3.4977795851163E-15</td>\n",
       "      <td>1.9961882025602E-15</td>\n",
       "      <td>1.2660198037884E-15</td>\n",
       "      <td>7.8717100388975E-16</td>\n",
       "      <td>7.5078854456602E-16</td>\n",
       "      <td>2.3239183493802E-16</td>\n",
       "      <td>5.2942452602124E-17</td>\n",
       "      <td>6.5337390989961E-17</td>\n",
       "      <td>2.0005895151491E-17</td>\n",
       "      <td>1.0498742817505E-17</td>\n",
       "      <td>1.7222004472043E-17</td>\n",
       "      <td>1252-52970-306</td>\n",
       "      <td>1.728519</td>\n",
       "      <td>4.436736</td>\n",
       "      <td>ckm5_7750_g40</td>\n",
       "    </tr>\n",
       "  </tbody>\n",
       "</table>\n",
       "</div>"
      ],
      "text/plain": [
       "                0                    1                 2_x  \\\n",
       "0  1252-52970-306  7.6183019154485E-15  4.205270481373E-15   \n",
       "\n",
       "                     3                    4                    5  \\\n",
       "0  2.5977756799615E-15  3.4977795851163E-15  1.9961882025602E-15   \n",
       "\n",
       "                     6                    7                    8  \\\n",
       "0  1.2660198037884E-15  7.8717100388975E-16  7.5078854456602E-16   \n",
       "\n",
       "                     9                   10                   11  \\\n",
       "0  2.3239183493802E-16  5.2942452602124E-17  6.5337390989961E-17   \n",
       "\n",
       "                    12                   13                   14  \\\n",
       "0  2.0005895151491E-17  1.0498742817505E-17  1.7222004472043E-17   \n",
       "\n",
       "               ID       bsr      dist            2_y  \n",
       "0  1252-52970-306  1.728519  4.436736  ckm5_7750_g40  "
      ]
     },
     "execution_count": 63,
     "metadata": {},
     "output_type": "execute_result"
    }
   ],
   "source": [
    "obs_flx.head(1)"
   ]
  },
  {
   "cell_type": "code",
   "execution_count": 64,
   "metadata": {
    "collapsed": false,
    "scrolled": false
   },
   "outputs": [],
   "source": [
    "# Combine obs flux and BSS models fluxes\n",
    "\n",
    "obs_flx_full = obs_flx.merge(mod_flx,left_on=['2_y'],right_on=['modname'])"
   ]
  },
  {
   "cell_type": "code",
   "execution_count": 65,
   "metadata": {
    "collapsed": false
   },
   "outputs": [
    {
     "data": {
      "text/html": [
       "<div>\n",
       "<table border=\"1\" class=\"dataframe\">\n",
       "  <thead>\n",
       "    <tr style=\"text-align: right;\">\n",
       "      <th></th>\n",
       "      <th>0</th>\n",
       "      <th>1_x</th>\n",
       "      <th>2_x</th>\n",
       "      <th>3_x</th>\n",
       "      <th>4_x</th>\n",
       "      <th>5_x</th>\n",
       "      <th>6_x</th>\n",
       "      <th>7_x</th>\n",
       "      <th>8</th>\n",
       "      <th>9</th>\n",
       "      <th>...</th>\n",
       "      <th>2_y</th>\n",
       "      <th>modnmbr</th>\n",
       "      <th>modname</th>\n",
       "      <th>1_y</th>\n",
       "      <th>2</th>\n",
       "      <th>3_y</th>\n",
       "      <th>4_y</th>\n",
       "      <th>5_y</th>\n",
       "      <th>6_y</th>\n",
       "      <th>7_y</th>\n",
       "    </tr>\n",
       "  </thead>\n",
       "  <tbody>\n",
       "    <tr>\n",
       "      <th>0</th>\n",
       "      <td>1252-52970-306</td>\n",
       "      <td>7.6183019154485E-15</td>\n",
       "      <td>4.205270481373E-15</td>\n",
       "      <td>2.5977756799615E-15</td>\n",
       "      <td>3.4977795851163E-15</td>\n",
       "      <td>1.9961882025602E-15</td>\n",
       "      <td>1.2660198037884E-15</td>\n",
       "      <td>7.8717100388975E-16</td>\n",
       "      <td>7.5078854456602E-16</td>\n",
       "      <td>2.3239183493802E-16</td>\n",
       "      <td>...</td>\n",
       "      <td>ckm5_7750_g40</td>\n",
       "      <td>874</td>\n",
       "      <td>ckm5_7750_g40</td>\n",
       "      <td>423411.60908561</td>\n",
       "      <td>3939943.7867829</td>\n",
       "      <td>57951672.744761</td>\n",
       "      <td>12839035.686654</td>\n",
       "      <td>7274674.0296453</td>\n",
       "      <td>4493249.8984967</td>\n",
       "      <td>2831090.9006369</td>\n",
       "    </tr>\n",
       "  </tbody>\n",
       "</table>\n",
       "<p>1 rows × 28 columns</p>\n",
       "</div>"
      ],
      "text/plain": [
       "                0                  1_x                 2_x  \\\n",
       "0  1252-52970-306  7.6183019154485E-15  4.205270481373E-15   \n",
       "\n",
       "                   3_x                  4_x                  5_x  \\\n",
       "0  2.5977756799615E-15  3.4977795851163E-15  1.9961882025602E-15   \n",
       "\n",
       "                   6_x                  7_x                    8  \\\n",
       "0  1.2660198037884E-15  7.8717100388975E-16  7.5078854456602E-16   \n",
       "\n",
       "                     9       ...                   2_y modnmbr        modname  \\\n",
       "0  2.3239183493802E-16       ...         ckm5_7750_g40     874  ckm5_7750_g40   \n",
       "\n",
       "               1_y                2              3_y              4_y  \\\n",
       "0  423411.60908561  3939943.7867829  57951672.744761  12839035.686654   \n",
       "\n",
       "               5_y              6_y              7_y  \n",
       "0  7274674.0296453  4493249.8984967  2831090.9006369  \n",
       "\n",
       "[1 rows x 28 columns]"
      ]
     },
     "execution_count": 65,
     "metadata": {},
     "output_type": "execute_result"
    }
   ],
   "source": [
    "obs_flx_full.head(1)"
   ]
  },
  {
   "cell_type": "code",
   "execution_count": 66,
   "metadata": {
    "collapsed": false,
    "scrolled": false
   },
   "outputs": [],
   "source": [
    "df = obs_flx_full.apply(pd.to_numeric,errors='ignore',)"
   ]
  },
  {
   "cell_type": "code",
   "execution_count": 67,
   "metadata": {
    "collapsed": false
   },
   "outputs": [],
   "source": [
    "# Chi-Squared function\n",
    "\n",
    "def chi2_(a,b,c,d,x):\n",
    "    #comb = [i+j for i,j in zip(a,b)]\n",
    "    #num = [i-j for i,j in zip(comb)]\n",
    "    bs_sf = [(x[0]**2) * i for i in a]\n",
    "    comb = [i+j for i,j in zip(bs_sf,b)]\n",
    "    comb1 =  (1/x[1]**2) * comb\n",
    "    num = sum([i-j for i,j in zip(comb,c)])      \n",
    "    den = sum(d)\n",
    "    chi2 = num**2 / den**2\n",
    "    \n",
    "    return chi2"
   ]
  },
  {
   "cell_type": "markdown",
   "metadata": {},
   "source": [
    "## Fitting Results "
   ]
  },
  {
   "cell_type": "code",
   "execution_count": 69,
   "metadata": {
    "collapsed": false
   },
   "outputs": [
    {
     "data": {
      "text/html": [
       "<div>\n",
       "<table border=\"1\" class=\"dataframe\">\n",
       "  <thead>\n",
       "    <tr style=\"text-align: right;\">\n",
       "      <th></th>\n",
       "      <th>0</th>\n",
       "      <th>1</th>\n",
       "      <th>2</th>\n",
       "      <th>3</th>\n",
       "      <th>4</th>\n",
       "    </tr>\n",
       "  </thead>\n",
       "  <tbody>\n",
       "    <tr>\n",
       "      <th>0</th>\n",
       "      <td>345.14731952832534</td>\n",
       "      <td>120000</td>\n",
       "      <td>7.5</td>\n",
       "      <td>0.699</td>\n",
       "      <td>0.072900000000000006</td>\n",
       "    </tr>\n",
       "    <tr>\n",
       "      <th>1</th>\n",
       "      <td>96.274673343174115</td>\n",
       "      <td>35000</td>\n",
       "      <td>7.5</td>\n",
       "      <td>0.450</td>\n",
       "      <td>4.5899999999999999</td>\n",
       "    </tr>\n",
       "  </tbody>\n",
       "</table>\n",
       "</div>"
      ],
      "text/plain": [
       "                    0       1    2      3                      4\n",
       "0  345.14731952832534  120000  7.5  0.699   0.072900000000000006\n",
       "1  96.274673343174115   35000  7.5  0.450     4.5899999999999999"
      ]
     },
     "execution_count": 69,
     "metadata": {},
     "output_type": "execute_result"
    }
   ],
   "source": [
    "wdpara = pd.read_csv('paraswd3',header=None)\n",
    "#np.genfromtxt('paras_wd','str')\n",
    "wdpara[0] = wdpara[0].str[1:]\n",
    "wdpara[4] = wdpara[4].str[:-1]\n",
    "wdpara.head(2)"
   ]
  },
  {
   "cell_type": "code",
   "execution_count": 72,
   "metadata": {
    "collapsed": false
   },
   "outputs": [
    {
     "data": {
      "text/plain": [
       "<matplotlib.axes._subplots.AxesSubplot at 0x10ddbfc50>"
      ]
     },
     "execution_count": 72,
     "metadata": {},
     "output_type": "execute_result"
    },
    {
     "data": {
      "image/png": "[encoded data removed]",
      "text/plain": [
       "<matplotlib.figure.Figure at 0x10ddcb7b8>"
      ]
     },
     "metadata": {},
     "output_type": "display_data"
    }
   ],
   "source": [
    "sns.distplot(wdpara[3].astype(float),kde=False) # WD mass distribution"
   ]
  },
  {
   "cell_type": "code",
   "execution_count": 73,
   "metadata": {
    "collapsed": false
   },
   "outputs": [
    {
     "data": {
      "text/plain": [
       "<matplotlib.collections.PathCollection at 0x10e14eac8>"
      ]
     },
     "execution_count": 73,
     "metadata": {},
     "output_type": "execute_result"
    },
    {
     "data": {
      "image/png": "[encoded data removed]",
      "text/plain": [
       "<matplotlib.figure.Figure at 0x10e0645c0>"
      ]
     },
     "metadata": {},
     "output_type": "display_data"
    }
   ],
   "source": [
    "sns.plt.scatter(wdpara[4].astype(float),wdpara[1]) #  WD Temerature vs Age"
   ]
  },
  {
   "cell_type": "code",
   "execution_count": 74,
   "metadata": {
    "collapsed": false
   },
   "outputs": [
    {
     "data": {
      "text/plain": [
       "count    80.000000\n",
       "mean      0.502550\n",
       "std       0.124265\n",
       "min       0.394000\n",
       "25%       0.428000\n",
       "50%       0.450000\n",
       "75%       0.527000\n",
       "max       0.992000\n",
       "Name: 3, dtype: float64"
      ]
     },
     "execution_count": 74,
     "metadata": {},
     "output_type": "execute_result"
    }
   ],
   "source": [
    "wdpara[3].describe()"
   ]
  },
  {
   "cell_type": "code",
   "execution_count": 82,
   "metadata": {
    "collapsed": false
   },
   "outputs": [],
   "source": [
    "bs_mass = df['bsr'] ** (1/0.945)"
   ]
  },
  {
   "cell_type": "code",
   "execution_count": 83,
   "metadata": {
    "collapsed": false
   },
   "outputs": [],
   "source": [
    "mass_gain = bs_mass - 0.8 # Mass gain by WD"
   ]
  },
  {
   "cell_type": "code",
   "execution_count": 86,
   "metadata": {
    "collapsed": false
   },
   "outputs": [
    {
     "data": {
      "text/plain": [
       "<matplotlib.axes._subplots.AxesSubplot at 0x10e6b1b70>"
      ]
     },
     "execution_count": 86,
     "metadata": {},
     "output_type": "execute_result"
    },
    {
     "data": {
      "image/png": "[encoded data removed]",
      "text/plain": [
       "<matplotlib.figure.Figure at 0x10e78f9b0>"
      ]
     },
     "metadata": {},
     "output_type": "display_data"
    }
   ],
   "source": [
    "sns.distplot(mass_gain,kde=False)"
   ]
  }
 ],
 "metadata": {
  "kernelspec": {
   "display_name": "Python 3",
   "language": "python",
   "name": "python3"
  },
  "language_info": {
   "codemirror_mode": {
    "name": "ipython",
    "version": 3
   },
   "file_extension": ".py",
   "mimetype": "text/x-python",
   "name": "python",
   "nbconvert_exporter": "python",
   "pygments_lexer": "ipython3",
   "version": "3.5.1"
  }
 },
 "nbformat": 4,
 "nbformat_minor": 0
}
