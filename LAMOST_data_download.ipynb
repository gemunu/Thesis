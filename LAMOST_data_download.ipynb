{
 "cells": [
  {
   "cell_type": "code",
   "execution_count": 1,
   "metadata": {
    "collapsed": true
   },
   "outputs": [],
   "source": [
    "import pandas as pd\n",
    "import requests\n",
    "import urllib\n",
    "import glob\n",
    "from bs4 import BeautifulSoup\n",
    "import sys"
   ]
  },
  {
   "cell_type": "code",
   "execution_count": 2,
   "metadata": {
    "collapsed": false
   },
   "outputs": [],
   "source": [
    "# def listFD(url, ext=''):\n",
    "#     page = requests.get(url).text\n",
    "#     soup = BeautifulSoup(page, 'html.parser')\n",
    "#     return [url + '/' + node.get('href') for node in soup.find_all('a') if node.get('href').endswith(ext)]"
   ]
  },
  {
   "cell_type": "code",
   "execution_count": 3,
   "metadata": {
    "collapsed": false
   },
   "outputs": [
    {
     "data": {
      "text/html": [
       "<div>\n",
       "<table border=\"1\" class=\"dataframe\">\n",
       "  <thead>\n",
       "    <tr style=\"text-align: right;\">\n",
       "      <th></th>\n",
       "      <th>0</th>\n",
       "    </tr>\n",
       "  </thead>\n",
       "  <tbody>\n",
       "    <tr>\n",
       "      <th>454175</th>\n",
       "      <td>spec-56812-VB231N08V2_sp16-149.fits</td>\n",
       "    </tr>\n",
       "    <tr>\n",
       "      <th>454176</th>\n",
       "      <td>spec-56812-VB231N08V2_sp16-154.fits</td>\n",
       "    </tr>\n",
       "    <tr>\n",
       "      <th>454177</th>\n",
       "      <td>spec-56812-VB231N08V2_sp16-158.fits</td>\n",
       "    </tr>\n",
       "    <tr>\n",
       "      <th>454178</th>\n",
       "      <td>spec-56812-VB231N08V2_sp16-163.fits</td>\n",
       "    </tr>\n",
       "    <tr>\n",
       "      <th>454179</th>\n",
       "      <td>spec-56812-VB231N08V2_sp16-178.fits</td>\n",
       "    </tr>\n",
       "  </tbody>\n",
       "</table>\n",
       "</div>"
      ],
      "text/plain": [
       "                                                    0\n",
       "454175  spec-56812-VB231N08V2_sp16-149.fits          \n",
       "454176  spec-56812-VB231N08V2_sp16-154.fits          \n",
       "454177  spec-56812-VB231N08V2_sp16-158.fits          \n",
       "454178  spec-56812-VB231N08V2_sp16-163.fits          \n",
       "454179  spec-56812-VB231N08V2_sp16-178.fits          "
      ]
     },
     "execution_count": 3,
     "metadata": {},
     "output_type": "execute_result"
    }
   ],
   "source": [
    "names = pd.read_csv('lamost_spectra.dat',header=None)\n",
    "names.tail()"
   ]
  },
  {
   "cell_type": "code",
   "execution_count": 4,
   "metadata": {
    "collapsed": false
   },
   "outputs": [],
   "source": [
    "modNames = [x.strip(' ')+'.gz' for x in list(names[0])]"
   ]
  },
  {
   "cell_type": "code",
   "execution_count": 5,
   "metadata": {
    "collapsed": false
   },
   "outputs": [
    {
     "data": {
      "text/plain": [
       "['spec-55859-F5902_sp01-034.fits.gz',\n",
       " 'spec-55859-F5902_sp01-136.fits.gz',\n",
       " 'spec-55859-F5902_sp01-202.fits.gz',\n",
       " 'spec-55859-F5902_sp01-207.fits.gz',\n",
       " 'spec-55859-F5902_sp01-231.fits.gz',\n",
       " 'spec-55859-F5902_sp02-210.fits.gz',\n",
       " 'spec-55859-F5902_sp03-047.fits.gz',\n",
       " 'spec-55859-F5902_sp03-199.fits.gz',\n",
       " 'spec-55859-F5902_sp03-206.fits.gz',\n",
       " 'spec-55859-F5902_sp03-209.fits.gz']"
      ]
     },
     "execution_count": 5,
     "metadata": {},
     "output_type": "execute_result"
    }
   ],
   "source": [
    "modNames[:10]"
   ]
  },
  {
   "cell_type": "code",
   "execution_count": 8,
   "metadata": {
    "collapsed": false,
    "scrolled": false
   },
   "outputs": [
    {
     "name": "stdout",
     "output_type": "stream",
     "text": [
      "http://dr2.lamost.org/sas/fits/F5902/spec-55859-F5902_sp01-034.fits.gz\n",
      "spec-55859-F5902_sp01-034.fits.gz\n",
      "http://dr2.lamost.org/sas/fits/F5902/spec-55859-F5902_sp01-136.fits.gz\n",
      "spec-55859-F5902_sp01-136.fits.gz\n",
      "http://dr2.lamost.org/sas/fits/F5902/spec-55859-F5902_sp01-202.fits.gz\n",
      "spec-55859-F5902_sp01-202.fits.gz\n",
      "http://dr2.lamost.org/sas/fits/F5902/spec-55859-F5902_sp01-207.fits.gz\n",
      "spec-55859-F5902_sp01-207.fits.gz\n",
      "http://dr2.lamost.org/sas/fits/F5902/spec-55859-F5902_sp01-231.fits.gz\n",
      "spec-55859-F5902_sp01-231.fits.gz\n",
      "http://dr2.lamost.org/sas/fits/F5902/spec-55859-F5902_sp02-210.fits.gz\n",
      "spec-55859-F5902_sp02-210.fits.gz\n",
      "http://dr2.lamost.org/sas/fits/F5902/spec-55859-F5902_sp03-047.fits.gz\n",
      "spec-55859-F5902_sp03-047.fits.gz\n",
      "http://dr2.lamost.org/sas/fits/F5902/spec-55859-F5902_sp03-199.fits.gz\n",
      "spec-55859-F5902_sp03-199.fits.gz\n",
      "http://dr2.lamost.org/sas/fits/F5902/spec-55859-F5902_sp03-206.fits.gz\n",
      "spec-55859-F5902_sp03-206.fits.gz\n",
      "http://dr2.lamost.org/sas/fits/F5902/spec-55859-F5902_sp03-209.fits.gz\n",
      "spec-55859-F5902_sp03-209.fits.gz\n",
      "http://dr2.lamost.org/sas/fits/F5902/spec-55859-F5902_sp04-055.fits.gz\n",
      "spec-55859-F5902_sp04-055.fits.gz\n",
      "http://dr2.lamost.org/sas/fits/F5902/spec-55859-F5902_sp04-114.fits.gz\n",
      "spec-55859-F5902_sp04-114.fits.gz\n",
      "http://dr2.lamost.org/sas/fits/F5902/spec-55859-F5902_sp04-148.fits.gz\n",
      "spec-55859-F5902_sp04-148.fits.gz\n",
      "http://dr2.lamost.org/sas/fits/F5902/spec-55859-F5902_sp05-008.fits.gz\n",
      "spec-55859-F5902_sp05-008.fits.gz\n",
      "http://dr2.lamost.org/sas/fits/F5902/spec-55859-F5902_sp05-157.fits.gz\n",
      "spec-55859-F5902_sp05-157.fits.gz\n",
      "http://dr2.lamost.org/sas/fits/F5902/spec-55859-F5902_sp05-161.fits.gz\n",
      "spec-55859-F5902_sp05-161.fits.gz\n",
      "http://dr2.lamost.org/sas/fits/F5902/spec-55859-F5902_sp05-218.fits.gz\n",
      "spec-55859-F5902_sp05-218.fits.gz\n",
      "http://dr2.lamost.org/sas/fits/F5902/spec-55859-F5902_sp06-009.fits.gz\n",
      "spec-55859-F5902_sp06-009.fits.gz\n",
      "http://dr2.lamost.org/sas/fits/F5902/spec-55859-F5902_sp06-017.fits.gz\n",
      "spec-55859-F5902_sp06-017.fits.gz\n",
      "http://dr2.lamost.org/sas/fits/F5902/spec-55859-F5902_sp06-059.fits.gz\n",
      "spec-55859-F5902_sp06-059.fits.gz\n",
      "http://dr2.lamost.org/sas/fits/F5902/spec-55859-F5902_sp06-102.fits.gz\n",
      "spec-55859-F5902_sp06-102.fits.gz\n",
      "http://dr2.lamost.org/sas/fits/F5902/spec-55859-F5902_sp06-160.fits.gz\n",
      "spec-55859-F5902_sp06-160.fits.gz\n",
      "http://dr2.lamost.org/sas/fits/F5902/spec-55859-F5902_sp07-039.fits.gz\n",
      "spec-55859-F5902_sp07-039.fits.gz\n",
      "http://dr2.lamost.org/sas/fits/F5902/spec-55859-F5902_sp07-066.fits.gz\n",
      "spec-55859-F5902_sp07-066.fits.gz\n",
      "http://dr2.lamost.org/sas/fits/F5902/spec-55859-F5902_sp08-034.fits.gz\n",
      "spec-55859-F5902_sp08-034.fits.gz\n",
      "http://dr2.lamost.org/sas/fits/F5902/spec-55859-F5902_sp08-146.fits.gz\n",
      "spec-55859-F5902_sp08-146.fits.gz\n",
      "http://dr2.lamost.org/sas/fits/F5902/spec-55859-F5902_sp08-204.fits.gz\n",
      "spec-55859-F5902_sp08-204.fits.gz\n",
      "http://dr2.lamost.org/sas/fits/F5902/spec-55859-F5902_sp09-033.fits.gz\n",
      "spec-55859-F5902_sp09-033.fits.gz\n",
      "http://dr2.lamost.org/sas/fits/F5902/spec-55859-F5902_sp09-079.fits.gz\n",
      "spec-55859-F5902_sp09-079.fits.gz\n",
      "http://dr2.lamost.org/sas/fits/F5902/spec-55859-F5902_sp09-191.fits.gz\n",
      "spec-55859-F5902_sp09-191.fits.gz\n",
      "http://dr2.lamost.org/sas/fits/F5902/spec-55859-F5902_sp09-192.fits.gz\n",
      "spec-55859-F5902_sp09-192.fits.gz\n",
      "http://dr2.lamost.org/sas/fits/F5902/spec-55859-F5902_sp10-117.fits.gz\n",
      "spec-55859-F5902_sp10-117.fits.gz\n",
      "http://dr2.lamost.org/sas/fits/F5902/spec-55859-F5902_sp10-121.fits.gz\n",
      "spec-55859-F5902_sp10-121.fits.gz\n",
      "http://dr2.lamost.org/sas/fits/F5902/spec-55859-F5902_sp10-123.fits.gz\n",
      "spec-55859-F5902_sp10-123.fits.gz\n",
      "http://dr2.lamost.org/sas/fits/F5902/spec-55859-F5902_sp11-054.fits.gz\n",
      "spec-55859-F5902_sp11-054.fits.gz\n",
      "http://dr2.lamost.org/sas/fits/F5902/spec-55859-F5902_sp11-090.fits.gz\n",
      "spec-55859-F5902_sp11-090.fits.gz\n",
      "http://dr2.lamost.org/sas/fits/F5902/spec-55859-F5902_sp11-165.fits.gz\n",
      "spec-55859-F5902_sp11-165.fits.gz\n",
      "http://dr2.lamost.org/sas/fits/F5902/spec-55859-F5902_sp11-183.fits.gz\n",
      "spec-55859-F5902_sp11-183.fits.gz\n",
      "http://dr2.lamost.org/sas/fits/F5902/spec-55859-F5902_sp11-185.fits.gz\n",
      "spec-55859-F5902_sp11-185.fits.gz\n",
      "http://dr2.lamost.org/sas/fits/F5902/spec-55859-F5902_sp12-016.fits.gz\n",
      "spec-55859-F5902_sp12-016.fits.gz\n",
      "http://dr2.lamost.org/sas/fits/F5902/spec-55859-F5902_sp12-055.fits.gz\n",
      "spec-55859-F5902_sp12-055.fits.gz\n",
      "http://dr2.lamost.org/sas/fits/F5902/spec-55859-F5902_sp12-090.fits.gz\n",
      "spec-55859-F5902_sp12-090.fits.gz\n",
      "http://dr2.lamost.org/sas/fits/F5902/spec-55859-F5902_sp12-105.fits.gz\n",
      "spec-55859-F5902_sp12-105.fits.gz\n",
      "http://dr2.lamost.org/sas/fits/F5902/spec-55859-F5902_sp12-228.fits.gz\n",
      "spec-55859-F5902_sp12-228.fits.gz\n",
      "http://dr2.lamost.org/sas/fits/F5902/spec-55859-F5902_sp13-049.fits.gz\n",
      "spec-55859-F5902_sp13-049.fits.gz\n",
      "http://dr2.lamost.org/sas/fits/F5902/spec-55859-F5902_sp13-131.fits.gz\n",
      "spec-55859-F5902_sp13-131.fits.gz\n",
      "http://dr2.lamost.org/sas/fits/F5902/spec-55859-F5902_sp13-158.fits.gz\n",
      "spec-55859-F5902_sp13-158.fits.gz\n",
      "http://dr2.lamost.org/sas/fits/F5902/spec-55859-F5902_sp14-044.fits.gz\n",
      "spec-55859-F5902_sp14-044.fits.gz\n",
      "http://dr2.lamost.org/sas/fits/F5902/spec-55859-F5902_sp14-099.fits.gz\n",
      "spec-55859-F5902_sp14-099.fits.gz\n",
      "http://dr2.lamost.org/sas/fits/F5902/spec-55859-F5902_sp14-157.fits.gz\n",
      "spec-55859-F5902_sp14-157.fits.gz\n",
      "http://dr2.lamost.org/sas/fits/F5902/spec-55859-F5902_sp14-250.fits.gz\n",
      "spec-55859-F5902_sp14-250.fits.gz\n",
      "http://dr2.lamost.org/sas/fits/F5902/spec-55859-F5902_sp15-059.fits.gz\n",
      "spec-55859-F5902_sp15-059.fits.gz\n",
      "http://dr2.lamost.org/sas/fits/F5902/spec-55859-F5902_sp15-068.fits.gz\n",
      "spec-55859-F5902_sp15-068.fits.gz\n",
      "http://dr2.lamost.org/sas/fits/F5902/spec-55859-F5902_sp15-087.fits.gz\n",
      "spec-55859-F5902_sp15-087.fits.gz\n",
      "http://dr2.lamost.org/sas/fits/F5902/spec-55859-F5902_sp15-192.fits.gz\n",
      "spec-55859-F5902_sp15-192.fits.gz\n",
      "http://dr2.lamost.org/sas/fits/F5902/spec-55859-F5902_sp16-008.fits.gz\n",
      "spec-55859-F5902_sp16-008.fits.gz\n",
      "http://dr2.lamost.org/sas/fits/F5902/spec-55859-F5902_sp16-076.fits.gz\n",
      "spec-55859-F5902_sp16-076.fits.gz\n",
      "http://dr2.lamost.org/sas/fits/F5902/spec-55859-F5902_sp16-107.fits.gz\n",
      "spec-55859-F5902_sp16-107.fits.gz\n",
      "http://dr2.lamost.org/sas/fits/F5902/spec-55859-F5902_sp16-129.fits.gz\n",
      "spec-55859-F5902_sp16-129.fits.gz\n",
      "http://dr2.lamost.org/sas/fits/F5907/spec-55859-F5907_sp01-197.fits.gz\n",
      "spec-55859-F5907_sp01-197.fits.gz\n",
      "http://dr2.lamost.org/sas/fits/F5907/spec-55859-F5907_sp01-228.fits.gz\n",
      "spec-55859-F5907_sp01-228.fits.gz\n",
      "http://dr2.lamost.org/sas/fits/F5907/spec-55859-F5907_sp02-085.fits.gz\n",
      "fucked\n"
     ]
    },
    {
     "ename": "SystemExit",
     "evalue": "",
     "output_type": "error",
     "traceback": [
      "An exception has occurred, use %tb to see the full traceback.\n",
      "\u001b[0;31mSystemExit\u001b[0m\n"
     ]
    },
    {
     "name": "stderr",
     "output_type": "stream",
     "text": [
      "To exit: use 'exit', 'quit', or Ctrl-D.\n"
     ]
    }
   ],
   "source": [
    "url = 'http://dr2.lamost.org/sas/fits/'\n",
    "#folds = listFD(url, ext='')\n",
    "for _ in modNames:\n",
    "    nam = _.split('_')[0].split('-')[2]\n",
    "    item = url + nam +'/'\n",
    "    tf = urllib.request.URLopener()\n",
    "    print(item+_)\n",
    "    try:\n",
    "        tf.retrieve(item + _ , 'lamost_spectra/'+_)\n",
    "        print(_)\n",
    "        \n",
    "    except urllib.error.HTTPError as err:\n",
    "       if err.code == 404:\n",
    "           pass\n",
    "       else:\n",
    "               raise\n",
    "            \n",
    "    except KeyboardInterrupt:\n",
    "        print('done')\n",
    "        sys.exit()       \n",
    "        \n",
    "#     for item  in folds:\n",
    "#         ll = item.split('/')\n",
    "#         ll[-2] = nam\n",
    "#         item = '/'.join(ll)\n",
    "#         c1 += 1\n",
    "#         tf = urllib.request.URLopener()\n",
    "#         print(item)       \n",
    "#         try:\n",
    "#             tf.retrieve(item + _ , _)\n",
    "#             print(_)\n",
    "#             break\n",
    "            \n",
    "#         except urllib.error.HTTPError as err:\n",
    "#            if err.code == 404:\n",
    "#                pass\n",
    "#            else:\n",
    "#                raise\n",
    "#         except KeyboardInterrupt:\n",
    "#             print('interupted')\n",
    "#             sys.exit()\n",
    "            \n",
    "#     print(c1)"
   ]
  },
  {
   "cell_type": "code",
   "execution_count": null,
   "metadata": {
    "collapsed": true
   },
   "outputs": [],
   "source": []
  },
  {
   "cell_type": "code",
   "execution_count": null,
   "metadata": {
    "collapsed": true
   },
   "outputs": [],
   "source": [
    "#nm"
   ]
  },
  {
   "cell_type": "code",
   "execution_count": null,
   "metadata": {
    "collapsed": false
   },
   "outputs": [],
   "source": []
  },
  {
   "cell_type": "code",
   "execution_count": null,
   "metadata": {
    "collapsed": false
   },
   "outputs": [],
   "source": [
    "ll"
   ]
  },
  {
   "cell_type": "code",
   "execution_count": null,
   "metadata": {
    "collapsed": true
   },
   "outputs": [],
   "source": []
  }
 ],
 "metadata": {
  "kernelspec": {
   "display_name": "Python 3",
   "language": "python",
   "name": "python3"
  },
  "language_info": {
   "codemirror_mode": {
    "name": "ipython",
    "version": 3
   },
   "file_extension": ".py",
   "mimetype": "text/x-python",
   "name": "python",
   "nbconvert_exporter": "python",
   "pygments_lexer": "ipython3",
   "version": "3.5.1"
  }
 },
 "nbformat": 4,
 "nbformat_minor": 0
}
