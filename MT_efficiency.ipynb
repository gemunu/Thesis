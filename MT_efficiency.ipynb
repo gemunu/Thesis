{
 "cells": [
  {
   "cell_type": "code",
   "execution_count": 1,
   "metadata": {
    "collapsed": false
   },
   "outputs": [
    {
     "name": "stdout",
     "output_type": "stream",
     "text": [
      "MT_efficiency.ipynb         newtablowz22sss_eta02.dat   newtablowz43sss_eta02.dat\r\n",
      "bsRs                        newtablowz23sss_eta02.dat   newtablowz64sss_eta02.dat\r\n",
      "newtablowz12sss_eta02.dat   newtablowz32sss_eta02.dat   newtablowz83sss_eta02.dat\r\n",
      "newtablowz13sss_eta02.dat   newtablowz34sss_eta02.dat   newtablowzsunsss_eta02.dat\r\n",
      "newtablowz14sss_eta02.dat   newtablowz42sss_eta02.dat\r\n"
     ]
    }
   ],
   "source": [
    "ls"
   ]
  },
  {
   "cell_type": "code",
   "execution_count": 2,
   "metadata": {
    "collapsed": false
   },
   "outputs": [],
   "source": [
    "import glob"
   ]
  },
  {
   "cell_type": "code",
   "execution_count": 3,
   "metadata": {
    "collapsed": false
   },
   "outputs": [],
   "source": [
    "# for i in glob.glob('/Users/gemunu/basti_evol_models/new*'):\n",
    "#     lines = open(i).readlines()\n",
    "#     open(i,'w').writelines(lines[:-7])"
   ]
  },
  {
   "cell_type": "code",
   "execution_count": 4,
   "metadata": {
    "collapsed": false
   },
   "outputs": [],
   "source": [
    "import pandas as pd\n",
    "%matplotlib inline\n",
    "from matplotlib import pyplot as plt"
   ]
  },
  {
   "cell_type": "code",
   "execution_count": 5,
   "metadata": {
    "collapsed": true
   },
   "outputs": [],
   "source": [
    "#print(pd.read_csv(i,skiprows=[0,2,3,4,6,7],sep='\\s*',engine='python').iloc[0])"
   ]
  },
  {
   "cell_type": "code",
   "execution_count": 6,
   "metadata": {
    "collapsed": false,
    "scrolled": false
   },
   "outputs": [
    {
     "name": "stdout",
     "output_type": "stream",
     "text": [
      "12          Z= .01000   Y= .2590\n",
      "\n",
      "13          Z= .00100   Y= .2460\n",
      "\n",
      "14          Z= .00010   Y= .2450\n",
      "\n",
      "22          Z= .01980   Y= .2734\n",
      "\n",
      "23          Z= .00200   Y= .2480\n",
      "\n",
      "32          Z= .03000   Y= .2880\n",
      "\n",
      "34          Z= .00030   Y= .2450\n",
      "\n",
      "42          Z= .04000   Y= .3030\n",
      "\n",
      "43          Z= .00400   Y= .2510\n",
      "\n",
      "64          Z= .00060   Y= .2460\n",
      "\n",
      "83          Z= .00800   Y= .2560\n",
      "\n",
      "su          Z= .01980   Y= .2734\n",
      "\n"
     ]
    }
   ],
   "source": [
    "aa, bb = [], [] \n",
    "for i in glob.glob('/Users/gemunu/basti_evol_models/new*'):\n",
    "    lines = open(i).readlines()\n",
    "    print(i[42:44],lines[1][91:])\n",
    "    aa.append(i[42:44])\n",
    "    bb.append(float(lines[1][103:109]))"
   ]
  },
  {
   "cell_type": "code",
   "execution_count": 7,
   "metadata": {
    "collapsed": false
   },
   "outputs": [
    {
     "data": {
      "text/plain": [
       "(['12', '13', '14', '22', '23', '32', '34', '42', '43', '64', '83', 'su'],\n",
       " [0.01,\n",
       "  0.001,\n",
       "  0.0001,\n",
       "  0.0198,\n",
       "  0.002,\n",
       "  0.03,\n",
       "  0.0003,\n",
       "  0.04,\n",
       "  0.004,\n",
       "  0.0006,\n",
       "  0.008,\n",
       "  0.0198])"
      ]
     },
     "execution_count": 7,
     "metadata": {},
     "output_type": "execute_result"
    }
   ],
   "source": [
    "aa, bb"
   ]
  },
  {
   "cell_type": "code",
   "execution_count": 8,
   "metadata": {
    "collapsed": false
   },
   "outputs": [
    {
     "name": "stderr",
     "output_type": "stream",
     "text": [
      "/Library/Frameworks/Python.framework/Versions/3.5/lib/python3.5/site-packages/pandas/io/parsers.py:1572: FutureWarning: split() requires a non-empty pattern match.\n",
      "  yield pat.split(line.strip())\n",
      "/Library/Frameworks/Python.framework/Versions/3.5/lib/python3.5/site-packages/pandas/io/parsers.py:1574: FutureWarning: split() requires a non-empty pattern match.\n",
      "  yield pat.split(line.strip())\n"
     ]
    }
   ],
   "source": [
    "track = pd.read_csv(i,skiprows=[0,1,2,3,4,6,7],sep='\\s*',engine='python')"
   ]
  },
  {
   "cell_type": "code",
   "execution_count": 9,
   "metadata": {
    "collapsed": false
   },
   "outputs": [
    {
     "data": {
      "text/html": [
       "<div>\n",
       "<table border=\"1\" class=\"dataframe\">\n",
       "  <thead>\n",
       "    <tr style=\"text-align: right;\">\n",
       "      <th></th>\n",
       "      <th>M</th>\n",
       "      <th>log(L)</th>\n",
       "      <th>log(Te)</th>\n",
       "      <th>Mcc</th>\n",
       "      <th>Mc_He</th>\n",
       "      <th>t_Hb</th>\n",
       "      <th>log(L).1</th>\n",
       "      <th>log(Te).1</th>\n",
       "      <th>He_sur</th>\n",
       "      <th>Age</th>\n",
       "      <th>Mc_He.1</th>\n",
       "      <th>Mcc.1</th>\n",
       "      <th>Mc_He.2</th>\n",
       "      <th>Mc_CO</th>\n",
       "      <th>t_Heb</th>\n",
       "      <th>Mc_CO.1</th>\n",
       "      <th>Mc_He.3</th>\n",
       "      <th>log(L).2</th>\n",
       "      <th>log(Te).2</th>\n",
       "      <th>Age.1</th>\n",
       "    </tr>\n",
       "  </thead>\n",
       "  <tbody>\n",
       "    <tr>\n",
       "      <th>0</th>\n",
       "      <td>0.9</td>\n",
       "      <td>-0.3670</td>\n",
       "      <td>3.7227</td>\n",
       "      <td>0.0000</td>\n",
       "      <td>0.0838</td>\n",
       "      <td>16813.48</td>\n",
       "      <td>3.4492</td>\n",
       "      <td>3.4759</td>\n",
       "      <td>0.295</td>\n",
       "      <td>18462.80</td>\n",
       "      <td>0.4734</td>\n",
       "      <td>0.1097</td>\n",
       "      <td>0.4978</td>\n",
       "      <td>0.1925</td>\n",
       "      <td>102.90</td>\n",
       "      <td>0.4846</td>\n",
       "      <td>0.5155</td>\n",
       "      <td>3.3757</td>\n",
       "      <td>3.4925</td>\n",
       "      <td>18579.09</td>\n",
       "    </tr>\n",
       "    <tr>\n",
       "      <th>1</th>\n",
       "      <td>1.0</td>\n",
       "      <td>-0.1486</td>\n",
       "      <td>3.7522</td>\n",
       "      <td>0.0000</td>\n",
       "      <td>0.0892</td>\n",
       "      <td>11079.26</td>\n",
       "      <td>3.4493</td>\n",
       "      <td>3.4864</td>\n",
       "      <td>0.296</td>\n",
       "      <td>12474.28</td>\n",
       "      <td>0.4727</td>\n",
       "      <td>0.1105</td>\n",
       "      <td>0.5022</td>\n",
       "      <td>0.1894</td>\n",
       "      <td>102.43</td>\n",
       "      <td>0.4889</td>\n",
       "      <td>0.5189</td>\n",
       "      <td>3.3661</td>\n",
       "      <td>3.5017</td>\n",
       "      <td>12589.89</td>\n",
       "    </tr>\n",
       "    <tr>\n",
       "      <th>2</th>\n",
       "      <td>1.1</td>\n",
       "      <td>0.0462</td>\n",
       "      <td>3.7749</td>\n",
       "      <td>0.0000</td>\n",
       "      <td>0.0953</td>\n",
       "      <td>7534.99</td>\n",
       "      <td>3.4494</td>\n",
       "      <td>3.4956</td>\n",
       "      <td>0.296</td>\n",
       "      <td>8709.42</td>\n",
       "      <td>0.4722</td>\n",
       "      <td>0.1106</td>\n",
       "      <td>0.5048</td>\n",
       "      <td>0.1533</td>\n",
       "      <td>101.04</td>\n",
       "      <td>0.4926</td>\n",
       "      <td>0.5227</td>\n",
       "      <td>3.3636</td>\n",
       "      <td>3.5104</td>\n",
       "      <td>8823.77</td>\n",
       "    </tr>\n",
       "    <tr>\n",
       "      <th>3</th>\n",
       "      <td>1.2</td>\n",
       "      <td>0.2291</td>\n",
       "      <td>3.7945</td>\n",
       "      <td>0.0005</td>\n",
       "      <td>0.0995</td>\n",
       "      <td>5257.19</td>\n",
       "      <td>3.4494</td>\n",
       "      <td>3.5037</td>\n",
       "      <td>0.295</td>\n",
       "      <td>6277.03</td>\n",
       "      <td>0.4720</td>\n",
       "      <td>0.1098</td>\n",
       "      <td>0.5074</td>\n",
       "      <td>0.1526</td>\n",
       "      <td>100.31</td>\n",
       "      <td>0.4950</td>\n",
       "      <td>0.5250</td>\n",
       "      <td>3.3993</td>\n",
       "      <td>3.5122</td>\n",
       "      <td>6390.28</td>\n",
       "    </tr>\n",
       "    <tr>\n",
       "      <th>4</th>\n",
       "      <td>1.3</td>\n",
       "      <td>0.3961</td>\n",
       "      <td>3.8124</td>\n",
       "      <td>0.0117</td>\n",
       "      <td>0.1108</td>\n",
       "      <td>3799.61</td>\n",
       "      <td>3.4495</td>\n",
       "      <td>3.5113</td>\n",
       "      <td>0.293</td>\n",
       "      <td>4664.19</td>\n",
       "      <td>0.4720</td>\n",
       "      <td>0.1091</td>\n",
       "      <td>0.5089</td>\n",
       "      <td>0.1857</td>\n",
       "      <td>99.88</td>\n",
       "      <td>0.4968</td>\n",
       "      <td>0.5269</td>\n",
       "      <td>3.4608</td>\n",
       "      <td>3.5112</td>\n",
       "      <td>4776.76</td>\n",
       "    </tr>\n",
       "  </tbody>\n",
       "</table>\n",
       "</div>"
      ],
      "text/plain": [
       "     M  log(L)  log(Te)     Mcc   Mc_He      t_Hb  log(L).1  log(Te).1  \\\n",
       "0  0.9 -0.3670   3.7227  0.0000  0.0838  16813.48    3.4492     3.4759   \n",
       "1  1.0 -0.1486   3.7522  0.0000  0.0892  11079.26    3.4493     3.4864   \n",
       "2  1.1  0.0462   3.7749  0.0000  0.0953   7534.99    3.4494     3.4956   \n",
       "3  1.2  0.2291   3.7945  0.0005  0.0995   5257.19    3.4494     3.5037   \n",
       "4  1.3  0.3961   3.8124  0.0117  0.1108   3799.61    3.4495     3.5113   \n",
       "\n",
       "   He_sur       Age  Mc_He.1   Mcc.1  Mc_He.2   Mc_CO   t_Heb  Mc_CO.1  \\\n",
       "0   0.295  18462.80   0.4734  0.1097   0.4978  0.1925  102.90   0.4846   \n",
       "1   0.296  12474.28   0.4727  0.1105   0.5022  0.1894  102.43   0.4889   \n",
       "2   0.296   8709.42   0.4722  0.1106   0.5048  0.1533  101.04   0.4926   \n",
       "3   0.295   6277.03   0.4720  0.1098   0.5074  0.1526  100.31   0.4950   \n",
       "4   0.293   4664.19   0.4720  0.1091   0.5089  0.1857   99.88   0.4968   \n",
       "\n",
       "   Mc_He.3  log(L).2  log(Te).2     Age.1  \n",
       "0   0.5155    3.3757     3.4925  18579.09  \n",
       "1   0.5189    3.3661     3.5017  12589.89  \n",
       "2   0.5227    3.3636     3.5104   8823.77  \n",
       "3   0.5250    3.3993     3.5122   6390.28  \n",
       "4   0.5269    3.4608     3.5112   4776.76  "
      ]
     },
     "execution_count": 9,
     "metadata": {},
     "output_type": "execute_result"
    }
   ],
   "source": [
    "track.head()"
   ]
  },
  {
   "cell_type": "code",
   "execution_count": 10,
   "metadata": {
    "collapsed": false
   },
   "outputs": [
    {
     "name": "stderr",
     "output_type": "stream",
     "text": [
      "/Library/Frameworks/Python.framework/Versions/3.5/lib/python3.5/site-packages/pandas/io/parsers.py:1572: FutureWarning: split() requires a non-empty pattern match.\n",
      "  yield pat.split(line.strip())\n",
      "/Library/Frameworks/Python.framework/Versions/3.5/lib/python3.5/site-packages/pandas/io/parsers.py:1574: FutureWarning: split() requires a non-empty pattern match.\n",
      "  yield pat.split(line.strip())\n"
     ]
    },
    {
     "data": {
      "image/png": "[encoded data removed]",
      "text/plain": [
       "<matplotlib.figure.Figure at 0x106930ef0>"
      ]
     },
     "metadata": {},
     "output_type": "display_data"
    }
   ],
   "source": [
    "for i in glob.glob('/Users/gemunu/basti_evol_models/new*'):\n",
    "    track = pd.read_csv(i,skiprows=[0,1,2,3,4,6,7],sep='\\s*',engine='python')\n",
    "    plt.scatter(track['log(Te)'],track['M'])"
   ]
  },
  {
   "cell_type": "code",
   "execution_count": 11,
   "metadata": {
    "collapsed": false
   },
   "outputs": [
    {
     "data": {
      "text/plain": [
       "<matplotlib.collections.PathCollection at 0x1069e2fd0>"
      ]
     },
     "execution_count": 11,
     "metadata": {},
     "output_type": "execute_result"
    },
    {
     "data": {
      "image/png": "[encoded data removed]",
      "text/plain": [
       "<matplotlib.figure.Figure at 0x106924438>"
      ]
     },
     "metadata": {},
     "output_type": "display_data"
    }
   ],
   "source": [
    "plt.scatter(track['M'],track['t_Hb'])"
   ]
  },
  {
   "cell_type": "code",
   "execution_count": 12,
   "metadata": {
    "collapsed": true
   },
   "outputs": [],
   "source": [
    "import scipy as sp"
   ]
  },
  {
   "cell_type": "code",
   "execution_count": 13,
   "metadata": {
    "collapsed": false
   },
   "outputs": [
    {
     "data": {
      "text/plain": [
       "(0     16813.48\n",
       " 1     11079.26\n",
       " 2      7534.99\n",
       " 3      5257.19\n",
       " 4      3799.61\n",
       " 5      2738.25\n",
       " 6      1999.56\n",
       " 7      1710.76\n",
       " 8      1427.99\n",
       " 9      1225.33\n",
       " 10     1057.54\n",
       " 11      911.17\n",
       " 12      692.63\n",
       " 13      546.78\n",
       " 14      437.69\n",
       " Name: t_Hb, dtype: float64, 0     0.9\n",
       " 1     1.0\n",
       " 2     1.1\n",
       " 3     1.2\n",
       " 4     1.3\n",
       " 5     1.4\n",
       " 6     1.5\n",
       " 7     1.6\n",
       " 8     1.7\n",
       " 9     1.8\n",
       " 10    1.9\n",
       " 11    2.0\n",
       " 12    2.2\n",
       " 13    2.4\n",
       " 14    2.6\n",
       " Name: M, dtype: float64)"
      ]
     },
     "execution_count": 13,
     "metadata": {},
     "output_type": "execute_result"
    }
   ],
   "source": [
    "track['t_Hb'],track['M']"
   ]
  },
  {
   "cell_type": "code",
   "execution_count": 14,
   "metadata": {
    "collapsed": false
   },
   "outputs": [
    {
     "data": {
      "text/plain": [
       "-0.3129552542372893"
      ]
     },
     "execution_count": 14,
     "metadata": {},
     "output_type": "execute_result"
    }
   ],
   "source": [
    "sp.interp(3.73, track['log(Te)'], track['log(L)'])"
   ]
  },
  {
   "cell_type": "code",
   "execution_count": 15,
   "metadata": {
    "collapsed": true
   },
   "outputs": [],
   "source": [
    "from scipy import interpolate"
   ]
  },
  {
   "cell_type": "code",
   "execution_count": 16,
   "metadata": {
    "collapsed": false
   },
   "outputs": [],
   "source": [
    "xnew = sp.arange(3.7231,4,0.01)\n",
    "ynew = interpolate.spline(track['log(Te)'], track['M'],xnew)"
   ]
  },
  {
   "cell_type": "code",
   "execution_count": 17,
   "metadata": {
    "collapsed": false
   },
   "outputs": [
    {
     "data": {
      "text/plain": [
       "<matplotlib.collections.PathCollection at 0x107ed9550>"
      ]
     },
     "execution_count": 17,
     "metadata": {},
     "output_type": "execute_result"
    },
    {
     "data": {
      "image/png": "[encoded data removed]",
      "text/plain": [
       "<matplotlib.figure.Figure at 0x107ed95c0>"
      ]
     },
     "metadata": {},
     "output_type": "display_data"
    }
   ],
   "source": [
    "plt.scatter(xnew,ynew)\n",
    "plt.scatter(track['log(Te)'], track['M'],c= 'r')"
   ]
  },
  {
   "cell_type": "code",
   "execution_count": 18,
   "metadata": {
    "collapsed": false
   },
   "outputs": [
    {
     "name": "stderr",
     "output_type": "stream",
     "text": [
      "/Library/Frameworks/Python.framework/Versions/3.5/lib/python3.5/site-packages/pandas/io/parsers.py:1572: FutureWarning: split() requires a non-empty pattern match.\n",
      "  yield pat.split(line.strip())\n",
      "/Library/Frameworks/Python.framework/Versions/3.5/lib/python3.5/site-packages/pandas/io/parsers.py:1574: FutureWarning: split() requires a non-empty pattern match.\n",
      "  yield pat.split(line.strip())\n"
     ]
    }
   ],
   "source": [
    "track = pd.read_csv('newtablowz43sss_eta02.dat',skiprows=[0,1,2,3,4,6,7],sep='\\s*',engine='python')"
   ]
  },
  {
   "cell_type": "code",
   "execution_count": 19,
   "metadata": {
    "collapsed": false
   },
   "outputs": [],
   "source": [
    "kk = interpolate.UnivariateSpline(track.loc[6000<track['t_Hb']]['t_Hb'],track.loc[6000<track['t_Hb']]['M'],k=2)"
   ]
  },
  {
   "cell_type": "code",
   "execution_count": 20,
   "metadata": {
    "collapsed": false
   },
   "outputs": [
    {
     "data": {
      "text/plain": [
       "array(0.8673096659163119)"
      ]
     },
     "execution_count": 20,
     "metadata": {},
     "output_type": "execute_result"
    }
   ],
   "source": [
    "xnew = sp.arange(20000,7000,-500)\n",
    "kk(11400)"
   ]
  },
  {
   "cell_type": "code",
   "execution_count": 21,
   "metadata": {
    "collapsed": false
   },
   "outputs": [
    {
     "data": {
      "text/plain": [
       "<matplotlib.collections.PathCollection at 0x107f6d908>"
      ]
     },
     "execution_count": 21,
     "metadata": {},
     "output_type": "execute_result"
    },
    {
     "data": {
      "image/png": "[encoded data removed]",
      "text/plain": [
       "<matplotlib.figure.Figure at 0x107f6d7b8>"
      ]
     },
     "metadata": {},
     "output_type": "display_data"
    }
   ],
   "source": [
    "#ll = sp.interp(xnew,track.loc[6000<track['t_Hb']]['t_Hb'],track.loc[5000<track['t_Hb']]['M'])\n",
    "plt.scatter(track.loc[6000<track['t_Hb']]['t_Hb'],track.loc[6000<track['t_Hb']]['M'])\n",
    "plt.scatter(xnew,kk(xnew),c='r')\n",
    "#plt.scatter(xnew,ll,c='r')"
   ]
  },
  {
   "cell_type": "code",
   "execution_count": 22,
   "metadata": {
    "collapsed": false
   },
   "outputs": [],
   "source": [
    "wdparas = pd.read_csv('../BSS_wd/BSS_WD_parameters',sep='\\t')"
   ]
  },
  {
   "cell_type": "code",
   "execution_count": 23,
   "metadata": {
    "collapsed": false
   },
   "outputs": [
    {
     "data": {
      "text/html": [
       "<div>\n",
       "<table border=\"1\" class=\"dataframe\">\n",
       "  <thead>\n",
       "    <tr style=\"text-align: right;\">\n",
       "      <th></th>\n",
       "      <th>ID</th>\n",
       "      <th>RA</th>\n",
       "      <th>DEC</th>\n",
       "      <th>Teff</th>\n",
       "      <th>errT</th>\n",
       "      <th>Fe/H</th>\n",
       "      <th>errFe/H</th>\n",
       "      <th>logg</th>\n",
       "      <th>errlogg</th>\n",
       "      <th>Distance</th>\n",
       "      <th>WD_Teff</th>\n",
       "      <th>WD_mass</th>\n",
       "      <th>WD_age(My)</th>\n",
       "    </tr>\n",
       "  </thead>\n",
       "  <tbody>\n",
       "    <tr>\n",
       "      <th>0</th>\n",
       "      <td>915-52443-549</td>\n",
       "      <td>211.072357</td>\n",
       "      <td>-1.762813</td>\n",
       "      <td>7423.807129</td>\n",
       "      <td>157.761902</td>\n",
       "      <td>-0.688419</td>\n",
       "      <td>0.201000</td>\n",
       "      <td>3.844505</td>\n",
       "      <td>0.488346</td>\n",
       "      <td>2.752227</td>\n",
       "      <td>45000</td>\n",
       "      <td>0.682</td>\n",
       "      <td>2.8100</td>\n",
       "    </tr>\n",
       "    <tr>\n",
       "      <th>1</th>\n",
       "      <td>740-52263-440</td>\n",
       "      <td>341.673899</td>\n",
       "      <td>14.291101</td>\n",
       "      <td>7673.275879</td>\n",
       "      <td>129.648300</td>\n",
       "      <td>-1.984616</td>\n",
       "      <td>0.065800</td>\n",
       "      <td>4.321585</td>\n",
       "      <td>0.147477</td>\n",
       "      <td>10.351657</td>\n",
       "      <td>120000</td>\n",
       "      <td>0.699</td>\n",
       "      <td>0.0729</td>\n",
       "    </tr>\n",
       "    <tr>\n",
       "      <th>2</th>\n",
       "      <td>684-52523-47</td>\n",
       "      <td>358.719638</td>\n",
       "      <td>-0.755525</td>\n",
       "      <td>7004.891113</td>\n",
       "      <td>40.636318</td>\n",
       "      <td>-0.780215</td>\n",
       "      <td>0.049619</td>\n",
       "      <td>3.883792</td>\n",
       "      <td>0.226383</td>\n",
       "      <td>2.989074</td>\n",
       "      <td>20000</td>\n",
       "      <td>0.394</td>\n",
       "      <td>31.7000</td>\n",
       "    </tr>\n",
       "    <tr>\n",
       "      <th>3</th>\n",
       "      <td>3131-54731-429</td>\n",
       "      <td>357.859612</td>\n",
       "      <td>16.079930</td>\n",
       "      <td>7936.696777</td>\n",
       "      <td>110.836700</td>\n",
       "      <td>-1.351625</td>\n",
       "      <td>0.095000</td>\n",
       "      <td>4.355909</td>\n",
       "      <td>0.033340</td>\n",
       "      <td>9.869841</td>\n",
       "      <td>70000</td>\n",
       "      <td>0.555</td>\n",
       "      <td>0.5680</td>\n",
       "    </tr>\n",
       "    <tr>\n",
       "      <th>4</th>\n",
       "      <td>2951-54592-114</td>\n",
       "      <td>239.304889</td>\n",
       "      <td>4.098071</td>\n",
       "      <td>7615.911133</td>\n",
       "      <td>73.368957</td>\n",
       "      <td>-2.070455</td>\n",
       "      <td>0.155400</td>\n",
       "      <td>3.931772</td>\n",
       "      <td>0.437843</td>\n",
       "      <td>4.817590</td>\n",
       "      <td>55000</td>\n",
       "      <td>0.512</td>\n",
       "      <td>1.2900</td>\n",
       "    </tr>\n",
       "  </tbody>\n",
       "</table>\n",
       "</div>"
      ],
      "text/plain": [
       "               ID          RA        DEC         Teff        errT      Fe/H  \\\n",
       "0   915-52443-549  211.072357  -1.762813  7423.807129  157.761902 -0.688419   \n",
       "1   740-52263-440  341.673899  14.291101  7673.275879  129.648300 -1.984616   \n",
       "2    684-52523-47  358.719638  -0.755525  7004.891113   40.636318 -0.780215   \n",
       "3  3131-54731-429  357.859612  16.079930  7936.696777  110.836700 -1.351625   \n",
       "4  2951-54592-114  239.304889   4.098071  7615.911133   73.368957 -2.070455   \n",
       "\n",
       "    errFe/H      logg   errlogg   Distance  WD_Teff  WD_mass  WD_age(My)  \n",
       "0  0.201000  3.844505  0.488346   2.752227    45000    0.682      2.8100  \n",
       "1  0.065800  4.321585  0.147477  10.351657   120000    0.699      0.0729  \n",
       "2  0.049619  3.883792  0.226383   2.989074    20000    0.394     31.7000  \n",
       "3  0.095000  4.355909  0.033340   9.869841    70000    0.555      0.5680  \n",
       "4  0.155400  3.931772  0.437843   4.817590    55000    0.512      1.2900  "
      ]
     },
     "execution_count": 23,
     "metadata": {},
     "output_type": "execute_result"
    }
   ],
   "source": [
    "wdparas.head()"
   ]
  },
  {
   "cell_type": "code",
   "execution_count": 24,
   "metadata": {
    "collapsed": false
   },
   "outputs": [
    {
     "data": {
      "text/plain": [
       "(['12', '13', '14', '22', '23', '32', '34', '42', '43', '64', '83', 'su'],\n",
       " [0.01,\n",
       "  0.001,\n",
       "  0.0001,\n",
       "  0.0198,\n",
       "  0.002,\n",
       "  0.03,\n",
       "  0.0003,\n",
       "  0.04,\n",
       "  0.004,\n",
       "  0.0006,\n",
       "  0.008,\n",
       "  0.0198])"
      ]
     },
     "execution_count": 24,
     "metadata": {},
     "output_type": "execute_result"
    }
   ],
   "source": [
    "aa,bb"
   ]
  },
  {
   "cell_type": "code",
   "execution_count": 25,
   "metadata": {
    "collapsed": true
   },
   "outputs": [],
   "source": [
    "def z_cal(feh):\n",
    "    z = .0198 * 10 ** (0.9 * feh)\n",
    "    \n",
    "    return z"
   ]
  },
  {
   "cell_type": "code",
   "execution_count": 26,
   "metadata": {
    "collapsed": false
   },
   "outputs": [],
   "source": [
    "files = glob.glob('/Users/gemunu/basti_evol_models/new*')"
   ]
  },
  {
   "cell_type": "code",
   "execution_count": 27,
   "metadata": {
    "collapsed": false
   },
   "outputs": [
    {
     "data": {
      "text/html": [
       "<div>\n",
       "<table border=\"1\" class=\"dataframe\">\n",
       "  <thead>\n",
       "    <tr style=\"text-align: right;\">\n",
       "      <th></th>\n",
       "      <th>M</th>\n",
       "      <th>log(L)</th>\n",
       "      <th>log(Te)</th>\n",
       "      <th>Mcc</th>\n",
       "      <th>Mc_He</th>\n",
       "      <th>t_Hb</th>\n",
       "      <th>log(L).1</th>\n",
       "      <th>log(Te).1</th>\n",
       "      <th>He_sur</th>\n",
       "      <th>Age</th>\n",
       "      <th>Mc_He.1</th>\n",
       "      <th>Mcc.1</th>\n",
       "      <th>Mc_He.2</th>\n",
       "      <th>Mc_CO</th>\n",
       "      <th>t_Heb</th>\n",
       "      <th>Mc_CO.1</th>\n",
       "      <th>Mc_He.3</th>\n",
       "      <th>log(L).2</th>\n",
       "      <th>log(Te).2</th>\n",
       "      <th>Age.1</th>\n",
       "    </tr>\n",
       "  </thead>\n",
       "  <tbody>\n",
       "    <tr>\n",
       "      <th>0</th>\n",
       "      <td>0.8</td>\n",
       "      <td>-0.3541</td>\n",
       "      <td>3.7493</td>\n",
       "      <td>0.0589</td>\n",
       "      <td>0.0882</td>\n",
       "      <td>15634.00</td>\n",
       "      <td>3.4174</td>\n",
       "      <td>3.5456</td>\n",
       "      <td>0.266</td>\n",
       "      <td>16987.04</td>\n",
       "      <td>0.4855</td>\n",
       "      <td>0.1221</td>\n",
       "      <td>0.5047</td>\n",
       "      <td>0.1613</td>\n",
       "      <td>92.43</td>\n",
       "      <td>0.4845</td>\n",
       "      <td>0.5166</td>\n",
       "      <td>3.2909</td>\n",
       "      <td>3.5606</td>\n",
       "      <td>17090.82</td>\n",
       "    </tr>\n",
       "    <tr>\n",
       "      <th>1</th>\n",
       "      <td>0.9</td>\n",
       "      <td>-0.1182</td>\n",
       "      <td>3.7805</td>\n",
       "      <td>0.0655</td>\n",
       "      <td>0.0955</td>\n",
       "      <td>9983.87</td>\n",
       "      <td>3.4158</td>\n",
       "      <td>3.5509</td>\n",
       "      <td>0.270</td>\n",
       "      <td>11011.60</td>\n",
       "      <td>0.4841</td>\n",
       "      <td>0.1225</td>\n",
       "      <td>0.5112</td>\n",
       "      <td>0.1652</td>\n",
       "      <td>91.83</td>\n",
       "      <td>0.4936</td>\n",
       "      <td>0.5255</td>\n",
       "      <td>3.3872</td>\n",
       "      <td>3.5575</td>\n",
       "      <td>11114.45</td>\n",
       "    </tr>\n",
       "    <tr>\n",
       "      <th>2</th>\n",
       "      <td>1.0</td>\n",
       "      <td>0.1117</td>\n",
       "      <td>3.8074</td>\n",
       "      <td>0.0088</td>\n",
       "      <td>0.1041</td>\n",
       "      <td>6563.46</td>\n",
       "      <td>3.4138</td>\n",
       "      <td>3.5578</td>\n",
       "      <td>0.272</td>\n",
       "      <td>7466.45</td>\n",
       "      <td>0.4829</td>\n",
       "      <td>0.1202</td>\n",
       "      <td>0.5156</td>\n",
       "      <td>0.1647</td>\n",
       "      <td>90.96</td>\n",
       "      <td>0.4996</td>\n",
       "      <td>0.5310</td>\n",
       "      <td>3.4723</td>\n",
       "      <td>3.5531</td>\n",
       "      <td>7567.81</td>\n",
       "    </tr>\n",
       "    <tr>\n",
       "      <th>3</th>\n",
       "      <td>1.1</td>\n",
       "      <td>0.3010</td>\n",
       "      <td>3.8304</td>\n",
       "      <td>0.0188</td>\n",
       "      <td>0.1150</td>\n",
       "      <td>4594.40</td>\n",
       "      <td>3.4107</td>\n",
       "      <td>3.5632</td>\n",
       "      <td>0.273</td>\n",
       "      <td>5289.99</td>\n",
       "      <td>0.4819</td>\n",
       "      <td>0.1186</td>\n",
       "      <td>0.5191</td>\n",
       "      <td>0.1686</td>\n",
       "      <td>91.96</td>\n",
       "      <td>0.5039</td>\n",
       "      <td>0.5342</td>\n",
       "      <td>3.4693</td>\n",
       "      <td>3.5579</td>\n",
       "      <td>5391.49</td>\n",
       "    </tr>\n",
       "    <tr>\n",
       "      <th>4</th>\n",
       "      <td>1.2</td>\n",
       "      <td>0.4673</td>\n",
       "      <td>3.8558</td>\n",
       "      <td>0.0333</td>\n",
       "      <td>0.1215</td>\n",
       "      <td>3353.09</td>\n",
       "      <td>3.4095</td>\n",
       "      <td>3.5690</td>\n",
       "      <td>0.273</td>\n",
       "      <td>3893.00</td>\n",
       "      <td>0.4814</td>\n",
       "      <td>0.1190</td>\n",
       "      <td>0.5224</td>\n",
       "      <td>0.1673</td>\n",
       "      <td>90.93</td>\n",
       "      <td>0.5058</td>\n",
       "      <td>0.5352</td>\n",
       "      <td>3.3961</td>\n",
       "      <td>3.5733</td>\n",
       "      <td>3993.43</td>\n",
       "    </tr>\n",
       "  </tbody>\n",
       "</table>\n",
       "</div>"
      ],
      "text/plain": [
       "     M  log(L)  log(Te)     Mcc   Mc_He      t_Hb  log(L).1  log(Te).1  \\\n",
       "0  0.8 -0.3541   3.7493  0.0589  0.0882  15634.00    3.4174     3.5456   \n",
       "1  0.9 -0.1182   3.7805  0.0655  0.0955   9983.87    3.4158     3.5509   \n",
       "2  1.0  0.1117   3.8074  0.0088  0.1041   6563.46    3.4138     3.5578   \n",
       "3  1.1  0.3010   3.8304  0.0188  0.1150   4594.40    3.4107     3.5632   \n",
       "4  1.2  0.4673   3.8558  0.0333  0.1215   3353.09    3.4095     3.5690   \n",
       "\n",
       "   He_sur       Age  Mc_He.1   Mcc.1  Mc_He.2   Mc_CO  t_Heb  Mc_CO.1  \\\n",
       "0   0.266  16987.04   0.4855  0.1221   0.5047  0.1613  92.43   0.4845   \n",
       "1   0.270  11011.60   0.4841  0.1225   0.5112  0.1652  91.83   0.4936   \n",
       "2   0.272   7466.45   0.4829  0.1202   0.5156  0.1647  90.96   0.4996   \n",
       "3   0.273   5289.99   0.4819  0.1186   0.5191  0.1686  91.96   0.5039   \n",
       "4   0.273   3893.00   0.4814  0.1190   0.5224  0.1673  90.93   0.5058   \n",
       "\n",
       "   Mc_He.3  log(L).2  log(Te).2     Age.1  \n",
       "0   0.5166    3.2909     3.5606  17090.82  \n",
       "1   0.5255    3.3872     3.5575  11114.45  \n",
       "2   0.5310    3.4723     3.5531   7567.81  \n",
       "3   0.5342    3.4693     3.5579   5391.49  \n",
       "4   0.5352    3.3961     3.5733   3993.43  "
      ]
     },
     "execution_count": 27,
     "metadata": {},
     "output_type": "execute_result"
    }
   ],
   "source": [
    "track.head()"
   ]
  },
  {
   "cell_type": "code",
   "execution_count": 73,
   "metadata": {
    "collapsed": false,
    "scrolled": false
   },
   "outputs": [
    {
     "name": "stderr",
     "output_type": "stream",
     "text": [
      "/Library/Frameworks/Python.framework/Versions/3.5/lib/python3.5/site-packages/pandas/io/parsers.py:1572: FutureWarning: split() requires a non-empty pattern match.\n",
      "  yield pat.split(line.strip())\n",
      "/Library/Frameworks/Python.framework/Versions/3.5/lib/python3.5/site-packages/pandas/io/parsers.py:1574: FutureWarning: split() requires a non-empty pattern match.\n",
      "  yield pat.split(line.strip())\n"
     ]
    }
   ],
   "source": [
    "bsr, massT = [], []\n",
    "for r1,c1 in wdparas.iterrows(): \n",
    "    tef, feh = sp.log10(c1['Teff']), z_cal(c1['Fe/H'])\n",
    "    closest_feh = min(bb, key=lambda x:abs(x-feh))\n",
    "    ind = aa[bb.index(closest_feh)]\n",
    "    for i in files:\n",
    "        if ind  == i[42:44]:\n",
    "            track = pd.read_csv(i,skiprows=[0,1,2,3,4,6,7],sep='\\s*',engine='python')\n",
    "            try :\n",
    "                kk = interpolate.UnivariateSpline(track.loc[6000<track['t_Hb']]['t_Hb'],track.loc[6000<track['t_Hb']]['M'],k=2)\n",
    "            except :\n",
    "                kk = interpolate.UnivariateSpline(track.loc[6000<track['t_Hb']]['t_Hb'],track.loc[6000<track['t_Hb']]['M'],k=1)\n",
    "            progMass = kk(11400.)  \n",
    "            massTrnsfered = progMass - c1['WD_mass']\n",
    "            bsMass = interpolate.spline(track['log(Te)'], track['M'],tef)\n",
    "            minMassGain = bsMass - 0.8\n",
    "            bsL = 10 ** (interpolate.spline(track['log(Te)'], track['log(L)'],tef))\n",
    "            bsR = (bsL**(0.5)) * (5777/c1['Teff'])**2\n",
    "            bsr.append(bsR)\n",
    "            massT.append((minMassGain,massTrnsfered,bsR,bsL,bsMass))\n",
    "sp.savetxt('bsRs',bsr)        "
   ]
  },
  {
   "cell_type": "code",
   "execution_count": 74,
   "metadata": {
    "collapsed": false,
    "scrolled": false
   },
   "outputs": [],
   "source": [
    "massT = pd.DataFrame(massT)"
   ]
  },
  {
   "cell_type": "code",
   "execution_count": 75,
   "metadata": {
    "collapsed": false
   },
   "outputs": [],
   "source": [
    "import seaborn as sns"
   ]
  },
  {
   "cell_type": "code",
   "execution_count": 76,
   "metadata": {
    "collapsed": false
   },
   "outputs": [
    {
     "data": {
      "text/plain": [
       "<matplotlib.axes._subplots.AxesSubplot at 0x10a5eaa20>"
      ]
     },
     "execution_count": 76,
     "metadata": {},
     "output_type": "execute_result"
    },
    {
     "data": {
      "image/png": "[encoded data removed]",
      "text/plain": [
       "<matplotlib.figure.Figure at 0x10a5e9d30>"
      ]
     },
     "metadata": {},
     "output_type": "display_data"
    }
   ],
   "source": [
    "mm = massT.loc[massT[1] > 0]\n",
    "sns.distplot(mm[0]/mm[1],kde=None)"
   ]
  },
  {
   "cell_type": "code",
   "execution_count": 77,
   "metadata": {
    "collapsed": false
   },
   "outputs": [],
   "source": [
    "wdparas['beta'] = massT[0]/massT[1]"
   ]
  },
  {
   "cell_type": "code",
   "execution_count": 78,
   "metadata": {
    "collapsed": false
   },
   "outputs": [
    {
     "data": {
      "text/plain": [
       "(0, 5.0)"
      ]
     },
     "execution_count": 78,
     "metadata": {},
     "output_type": "execute_result"
    },
    {
     "data": {
      "image/png": "[encoded data removed]",
      "text/plain": [
       "<matplotlib.figure.Figure at 0x10ab547f0>"
      ]
     },
     "metadata": {},
     "output_type": "display_data"
    }
   ],
   "source": [
    "plt.scatter(wdparas['Fe/H'], wdparas['beta'],c=wdparas['WD_mass'],cmap=plt.cm.RdYlBu)\n",
    "plt.colorbar(ticks=[0.4,0.5])\n",
    "plt.ylim(0,)\n",
    "#plt.clim(-0.5,2.5)"
   ]
  },
  {
   "cell_type": "code",
   "execution_count": 83,
   "metadata": {
    "collapsed": false
   },
   "outputs": [
    {
     "data": {
      "text/plain": [
       "<matplotlib.collections.PathCollection at 0x10a6c24a8>"
      ]
     },
     "execution_count": 83,
     "metadata": {},
     "output_type": "execute_result"
    },
    {
     "data": {
      "image/png": "[encoded data removed]",
      "text/plain": [
       "<matplotlib.figure.Figure at 0x109a79390>"
      ]
     },
     "metadata": {},
     "output_type": "display_data"
    }
   ],
   "source": [
    "plt.scatter(wdparas['WD_mass'], massT[4])"
   ]
  },
  {
   "cell_type": "code",
   "execution_count": null,
   "metadata": {
    "collapsed": true
   },
   "outputs": [],
   "source": []
  }
 ],
 "metadata": {
  "kernelspec": {
   "display_name": "Python 3",
   "language": "python",
   "name": "python3"
  },
  "language_info": {
   "codemirror_mode": {
    "name": "ipython",
    "version": 3
   },
   "file_extension": ".py",
   "mimetype": "text/x-python",
   "name": "python",
   "nbconvert_exporter": "python",
   "pygments_lexer": "ipython3",
   "version": "3.5.1"
  }
 },
 "nbformat": 4,
 "nbformat_minor": 0
}
