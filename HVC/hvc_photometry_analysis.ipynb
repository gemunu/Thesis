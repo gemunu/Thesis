{
 "cells": [
  {
   "cell_type": "code",
   "execution_count": 3,
   "metadata": {
    "collapsed": false
   },
   "outputs": [],
   "source": [
    "import pandas as pd\n",
    "import numpy as np\n",
    "%matplotlib inline\n",
    "from matplotlib import pyplot as plt\n",
    "import seaborn as sns"
   ]
  },
  {
   "cell_type": "code",
   "execution_count": 4,
   "metadata": {
    "collapsed": false
   },
   "outputs": [],
   "source": [
    "hvc_all=pd.read_csv('HVC_finalmags.csv',header=None)"
   ]
  },
  {
   "cell_type": "code",
   "execution_count": 5,
   "metadata": {
    "collapsed": false
   },
   "outputs": [
    {
     "data": {
      "text/html": [
       "<div>\n",
       "<table border=\"1\" class=\"dataframe\">\n",
       "  <thead>\n",
       "    <tr style=\"text-align: right;\">\n",
       "      <th></th>\n",
       "      <th>0</th>\n",
       "      <th>1</th>\n",
       "      <th>2</th>\n",
       "      <th>3</th>\n",
       "      <th>4</th>\n",
       "      <th>5</th>\n",
       "      <th>6</th>\n",
       "      <th>7</th>\n",
       "      <th>8</th>\n",
       "      <th>9</th>\n",
       "      <th>...</th>\n",
       "      <th>16</th>\n",
       "      <th>17</th>\n",
       "      <th>18</th>\n",
       "      <th>19</th>\n",
       "      <th>20</th>\n",
       "      <th>21</th>\n",
       "      <th>22</th>\n",
       "      <th>23</th>\n",
       "      <th>24</th>\n",
       "      <th>25</th>\n",
       "    </tr>\n",
       "  </thead>\n",
       "  <tbody>\n",
       "    <tr>\n",
       "      <th>0</th>\n",
       "      <td>2MASSJ014825.88+132305.3</td>\n",
       "      <td>M014825.88+13</td>\n",
       "      <td>HIRES</td>\n",
       "      <td>0.17</td>\n",
       "      <td>13.71</td>\n",
       "      <td>0.03</td>\n",
       "      <td>0.11</td>\n",
       "      <td>0.05</td>\n",
       "      <td>0.03</td>\n",
       "      <td>0.07</td>\n",
       "      <td>...</td>\n",
       "      <td>99.99</td>\n",
       "      <td>9.99</td>\n",
       "      <td>0</td>\n",
       "      <td>9.99</td>\n",
       "      <td>0</td>\n",
       "      <td>9.99</td>\n",
       "      <td>18.72</td>\n",
       "      <td>0.07</td>\n",
       "      <td>16.68</td>\n",
       "      <td>0.01</td>\n",
       "    </tr>\n",
       "    <tr>\n",
       "      <th>1</th>\n",
       "      <td>2MASSJ014936.48+143914.6</td>\n",
       "      <td>M014936.48+14</td>\n",
       "      <td>HIRES</td>\n",
       "      <td>0.15</td>\n",
       "      <td>13.90</td>\n",
       "      <td>0.01</td>\n",
       "      <td>0.12</td>\n",
       "      <td>0.02</td>\n",
       "      <td>0.02</td>\n",
       "      <td>0.04</td>\n",
       "      <td>...</td>\n",
       "      <td>99.99</td>\n",
       "      <td>9.99</td>\n",
       "      <td>0</td>\n",
       "      <td>9.99</td>\n",
       "      <td>0</td>\n",
       "      <td>9.99</td>\n",
       "      <td>19.21</td>\n",
       "      <td>0.08</td>\n",
       "      <td>16.77</td>\n",
       "      <td>0.01</td>\n",
       "    </tr>\n",
       "  </tbody>\n",
       "</table>\n",
       "<p>2 rows × 26 columns</p>\n",
       "</div>"
      ],
      "text/plain": [
       "                         0              1      2     3      4     5     6   \\\n",
       "0  2MASSJ014825.88+132305.3  M014825.88+13  HIRES  0.17  13.71  0.03  0.11   \n",
       "1  2MASSJ014936.48+143914.6  M014936.48+14  HIRES  0.15  13.90  0.01  0.12   \n",
       "\n",
       "     7     8     9   ...      16    17  18    19  20    21     22    23  \\\n",
       "0  0.05  0.03  0.07  ...   99.99  9.99   0  9.99   0  9.99  18.72  0.07   \n",
       "1  0.02  0.02  0.04  ...   99.99  9.99   0  9.99   0  9.99  19.21  0.08   \n",
       "\n",
       "      24    25  \n",
       "0  16.68  0.01  \n",
       "1  16.77  0.01  \n",
       "\n",
       "[2 rows x 26 columns]"
      ]
     },
     "execution_count": 5,
     "metadata": {},
     "output_type": "execute_result"
    }
   ],
   "source": [
    "hvc_all.head(2)"
   ]
  },
  {
   "cell_type": "code",
   "execution_count": 6,
   "metadata": {
    "collapsed": false
   },
   "outputs": [],
   "source": [
    "hvc_all[26]=hvc_all[3]/3.1"
   ]
  },
  {
   "cell_type": "code",
   "execution_count": 7,
   "metadata": {
    "collapsed": false
   },
   "outputs": [],
   "source": [
    "pd.Series.to_csv(hvc_all.loc[hvc_all[16]<29][0],'paka.dat',index=False)"
   ]
  },
  {
   "cell_type": "code",
   "execution_count": 8,
   "metadata": {
    "collapsed": false
   },
   "outputs": [
    {
     "data": {
      "text/plain": [
       "1560"
      ]
     },
     "execution_count": 8,
     "metadata": {},
     "output_type": "execute_result"
    }
   ],
   "source": [
    "len(hvc_all)"
   ]
  },
  {
   "cell_type": "code",
   "execution_count": 9,
   "metadata": {
    "collapsed": false
   },
   "outputs": [],
   "source": [
    "hvc_all['B']=hvc_all[6]+hvc_all[4]"
   ]
  },
  {
   "cell_type": "code",
   "execution_count": 10,
   "metadata": {
    "collapsed": true
   },
   "outputs": [],
   "source": [
    "hvc_all['U']=hvc_all[8]+hvc_all['B']"
   ]
  },
  {
   "cell_type": "code",
   "execution_count": 11,
   "metadata": {
    "collapsed": true
   },
   "outputs": [],
   "source": [
    "hvc_all['errB']=np.sqrt(abs(hvc_all[7]**2 + hvc_all[5]**2))"
   ]
  },
  {
   "cell_type": "code",
   "execution_count": 12,
   "metadata": {
    "collapsed": true
   },
   "outputs": [],
   "source": [
    "hvc_all['errU']=np.sqrt(abs(hvc_all[9]**2 + hvc_all['errB']**2))"
   ]
  },
  {
   "cell_type": "code",
   "execution_count": 13,
   "metadata": {
    "collapsed": true
   },
   "outputs": [],
   "source": [
    "hvc_all['J']=hvc_all[10]-0.709*hvc_all[26]\n",
    "hvc_all['H']=hvc_all[12]-0.449*hvc_all[26]\n",
    "hvc_all['K']=hvc_all[14]-0.302*hvc_all[26]"
   ]
  },
  {
   "cell_type": "code",
   "execution_count": 14,
   "metadata": {
    "collapsed": true
   },
   "outputs": [],
   "source": [
    "#hvc_all['FUV']=hvc_all[22]-8.06*hvc_all[26]\n",
    "#hvc_all['NUV']=hvc_all[24]-7.95*hvc_all[26]\n",
    "hvc_all['FUV']=hvc_all[22]-8.16*hvc_all[26]#kinman relation\n",
    "hvc_all['NUV']=hvc_all[24]-8.90*hvc_all[26]"
   ]
  },
  {
   "cell_type": "code",
   "execution_count": 15,
   "metadata": {
    "collapsed": true
   },
   "outputs": [],
   "source": [
    "hvc_all['g']=hvc_all[16]\n",
    "hvc_all['r']=hvc_all[18]-hvc_all['g']\n",
    "hvc_all['u']=hvc_all[20]+hvc_all['g']"
   ]
  },
  {
   "cell_type": "code",
   "execution_count": 16,
   "metadata": {
    "collapsed": false
   },
   "outputs": [
    {
     "data": {
      "text/plain": [
       "<seaborn.axisgrid.JointGrid at 0x108444320>"
      ]
     },
     "execution_count": 16,
     "metadata": {},
     "output_type": "execute_result"
    },
    {
     "data": {
      "image/png": "[encoded data removed]",
      "text/plain": [
       "<matplotlib.figure.Figure at 0x108444d30>"
      ]
     },
     "metadata": {},
     "output_type": "display_data"
    }
   ],
   "source": [
    "sns.jointplot(hvc_all[16],hvc_all[17],xlim=(5,22),ylim=(0,2))"
   ]
  },
  {
   "cell_type": "code",
   "execution_count": 17,
   "metadata": {
    "collapsed": false
   },
   "outputs": [],
   "source": [
    "hvc_all['errr']=np.sqrt(abs(hvc_all[17]**2 + hvc_all[19]**2))\n",
    "hvc_all['erru']=np.sqrt(abs(hvc_all[21]**2 + hvc_all[17]**2))"
   ]
  },
  {
   "cell_type": "code",
   "execution_count": 18,
   "metadata": {
    "collapsed": false
   },
   "outputs": [
    {
     "data": {
      "text/html": [
       "<div>\n",
       "<table border=\"1\" class=\"dataframe\">\n",
       "  <thead>\n",
       "    <tr style=\"text-align: right;\">\n",
       "      <th></th>\n",
       "      <th>0</th>\n",
       "      <th>1</th>\n",
       "      <th>2</th>\n",
       "      <th>3</th>\n",
       "      <th>4</th>\n",
       "      <th>5</th>\n",
       "      <th>6</th>\n",
       "      <th>7</th>\n",
       "      <th>8</th>\n",
       "      <th>9</th>\n",
       "      <th>...</th>\n",
       "      <th>J</th>\n",
       "      <th>H</th>\n",
       "      <th>K</th>\n",
       "      <th>FUV</th>\n",
       "      <th>NUV</th>\n",
       "      <th>g</th>\n",
       "      <th>r</th>\n",
       "      <th>u</th>\n",
       "      <th>errr</th>\n",
       "      <th>erru</th>\n",
       "    </tr>\n",
       "  </thead>\n",
       "  <tbody>\n",
       "    <tr>\n",
       "      <th>0</th>\n",
       "      <td>2MASSJ014825.88+132305.3</td>\n",
       "      <td>M014825.88+13</td>\n",
       "      <td>HIRES</td>\n",
       "      <td>0.17</td>\n",
       "      <td>13.71</td>\n",
       "      <td>0.03</td>\n",
       "      <td>0.11</td>\n",
       "      <td>0.05</td>\n",
       "      <td>0.03</td>\n",
       "      <td>0.07</td>\n",
       "      <td>...</td>\n",
       "      <td>13.811119</td>\n",
       "      <td>13.165377</td>\n",
       "      <td>13.123439</td>\n",
       "      <td>18.272516</td>\n",
       "      <td>16.191935</td>\n",
       "      <td>99.99</td>\n",
       "      <td>-99.99</td>\n",
       "      <td>99.99</td>\n",
       "      <td>14.127993</td>\n",
       "      <td>14.127993</td>\n",
       "    </tr>\n",
       "    <tr>\n",
       "      <th>1</th>\n",
       "      <td>2MASSJ014936.48+143914.6</td>\n",
       "      <td>M014936.48+14</td>\n",
       "      <td>HIRES</td>\n",
       "      <td>0.15</td>\n",
       "      <td>13.90</td>\n",
       "      <td>0.01</td>\n",
       "      <td>0.12</td>\n",
       "      <td>0.02</td>\n",
       "      <td>0.02</td>\n",
       "      <td>0.04</td>\n",
       "      <td>...</td>\n",
       "      <td>14.205694</td>\n",
       "      <td>13.638274</td>\n",
       "      <td>13.625387</td>\n",
       "      <td>18.815161</td>\n",
       "      <td>16.339355</td>\n",
       "      <td>99.99</td>\n",
       "      <td>-99.99</td>\n",
       "      <td>99.99</td>\n",
       "      <td>14.127993</td>\n",
       "      <td>14.127993</td>\n",
       "    </tr>\n",
       "  </tbody>\n",
       "</table>\n",
       "<p>2 rows × 41 columns</p>\n",
       "</div>"
      ],
      "text/plain": [
       "                          0              1      2     3      4     5     6  \\\n",
       "0  2MASSJ014825.88+132305.3  M014825.88+13  HIRES  0.17  13.71  0.03  0.11   \n",
       "1  2MASSJ014936.48+143914.6  M014936.48+14  HIRES  0.15  13.90  0.01  0.12   \n",
       "\n",
       "      7     8     9    ...              J          H          K        FUV  \\\n",
       "0  0.05  0.03  0.07    ...      13.811119  13.165377  13.123439  18.272516   \n",
       "1  0.02  0.02  0.04    ...      14.205694  13.638274  13.625387  18.815161   \n",
       "\n",
       "         NUV      g      r      u       errr       erru  \n",
       "0  16.191935  99.99 -99.99  99.99  14.127993  14.127993  \n",
       "1  16.339355  99.99 -99.99  99.99  14.127993  14.127993  \n",
       "\n",
       "[2 rows x 41 columns]"
      ]
     },
     "execution_count": 18,
     "metadata": {},
     "output_type": "execute_result"
    }
   ],
   "source": [
    "hvc_all.head(2)"
   ]
  },
  {
   "cell_type": "code",
   "execution_count": 19,
   "metadata": {
    "collapsed": false
   },
   "outputs": [
    {
     "data": {
      "text/plain": [
       "Index([     0,      1,      2,      3,      4,      5,      6,      7,      8,\n",
       "            9,     10,     11,     12,     13,     14,     15,     16,     17,\n",
       "           18,     19,     20,     21,     22,     23,     24,     25,     26,\n",
       "          'B',    'U', 'errB', 'errU',    'J',    'H',    'K',  'FUV',  'NUV',\n",
       "          'g',    'r',    'u', 'errr', 'erru'],\n",
       "      dtype='object')"
      ]
     },
     "execution_count": 19,
     "metadata": {},
     "output_type": "execute_result"
    }
   ],
   "source": [
    "hvc_all.columns"
   ]
  },
  {
   "cell_type": "code",
   "execution_count": 20,
   "metadata": {
    "collapsed": false
   },
   "outputs": [],
   "source": [
    "hvc_rc=hvc_all.drop([2,3,6,7,8,9,18,19,20,21],axis=1)"
   ]
  },
  {
   "cell_type": "code",
   "execution_count": 21,
   "metadata": {
    "collapsed": false
   },
   "outputs": [
    {
     "data": {
      "text/plain": [
       "array([ 0.  ,  0.24,  0.01, -0.31, -0.27,  0.12,  0.07, -0.19, -0.22,\n",
       "       -0.56, -0.2 ,  0.39,  0.25, -0.17,  0.04, -0.16, -0.14, -0.02,\n",
       "        0.27, -0.24, -0.12,  0.19,  0.08,  0.03,  0.29,  0.26,  0.06,\n",
       "        0.22,  0.2 , -0.18,  0.05, -0.25, -0.15,  0.16, -0.08, -0.23,\n",
       "       -0.21,  0.15,  0.14, -0.07,  0.18, -0.06, -0.03,  0.1 ,  0.02,\n",
       "        0.23,  0.11,  0.36,  0.28, -0.04, -0.26,  0.17, -0.1 , -0.09,\n",
       "       -0.01,  0.13, -0.13,  0.37, -0.05,  0.09, -0.28,  0.3 ,  0.21,\n",
       "       -0.3 ,  0.45,  0.61,  0.63,  0.35, -0.34,  0.31, -0.29, -0.32,\n",
       "        0.51,  0.43, -0.4 ,  0.54,  0.56,  0.5 , -0.53,  0.48,  0.72,\n",
       "        0.57,  0.42,  0.6 ,  0.53,  0.52,  0.65,  0.66,  0.62,  0.71,\n",
       "        0.76,  0.59,  0.47,  0.44,  0.58,  1.43,  0.33,  0.41,  0.32,\n",
       "        0.38,  0.46,  0.64])"
      ]
     },
     "execution_count": 21,
     "metadata": {},
     "output_type": "execute_result"
    }
   ],
   "source": [
    "hvc_all[18].unique()"
   ]
  },
  {
   "cell_type": "code",
   "execution_count": 22,
   "metadata": {
    "collapsed": false
   },
   "outputs": [
    {
     "data": {
      "text/html": [
       "<div>\n",
       "<table border=\"1\" class=\"dataframe\">\n",
       "  <thead>\n",
       "    <tr style=\"text-align: right;\">\n",
       "      <th></th>\n",
       "      <th>0</th>\n",
       "      <th>1</th>\n",
       "      <th>4</th>\n",
       "      <th>5</th>\n",
       "      <th>10</th>\n",
       "      <th>11</th>\n",
       "      <th>12</th>\n",
       "      <th>13</th>\n",
       "      <th>14</th>\n",
       "      <th>15</th>\n",
       "      <th>...</th>\n",
       "      <th>J</th>\n",
       "      <th>H</th>\n",
       "      <th>K</th>\n",
       "      <th>FUV</th>\n",
       "      <th>NUV</th>\n",
       "      <th>g</th>\n",
       "      <th>r</th>\n",
       "      <th>u</th>\n",
       "      <th>errr</th>\n",
       "      <th>erru</th>\n",
       "    </tr>\n",
       "  </thead>\n",
       "  <tbody>\n",
       "    <tr>\n",
       "      <th>0</th>\n",
       "      <td>2MASSJ014825.88+132305.3</td>\n",
       "      <td>M014825.88+13</td>\n",
       "      <td>13.71</td>\n",
       "      <td>0.03</td>\n",
       "      <td>13.85</td>\n",
       "      <td>0.02</td>\n",
       "      <td>13.19</td>\n",
       "      <td>0.03</td>\n",
       "      <td>13.14</td>\n",
       "      <td>0.03</td>\n",
       "      <td>...</td>\n",
       "      <td>13.811119</td>\n",
       "      <td>13.165377</td>\n",
       "      <td>13.123439</td>\n",
       "      <td>18.272516</td>\n",
       "      <td>16.191935</td>\n",
       "      <td>99.99</td>\n",
       "      <td>-99.99</td>\n",
       "      <td>99.99</td>\n",
       "      <td>14.127993</td>\n",
       "      <td>14.127993</td>\n",
       "    </tr>\n",
       "    <tr>\n",
       "      <th>1</th>\n",
       "      <td>2MASSJ014936.48+143914.6</td>\n",
       "      <td>M014936.48+14</td>\n",
       "      <td>13.90</td>\n",
       "      <td>0.01</td>\n",
       "      <td>14.24</td>\n",
       "      <td>0.02</td>\n",
       "      <td>13.66</td>\n",
       "      <td>0.03</td>\n",
       "      <td>13.64</td>\n",
       "      <td>0.04</td>\n",
       "      <td>...</td>\n",
       "      <td>14.205694</td>\n",
       "      <td>13.638274</td>\n",
       "      <td>13.625387</td>\n",
       "      <td>18.815161</td>\n",
       "      <td>16.339355</td>\n",
       "      <td>99.99</td>\n",
       "      <td>-99.99</td>\n",
       "      <td>99.99</td>\n",
       "      <td>14.127993</td>\n",
       "      <td>14.127993</td>\n",
       "    </tr>\n",
       "  </tbody>\n",
       "</table>\n",
       "<p>2 rows × 31 columns</p>\n",
       "</div>"
      ],
      "text/plain": [
       "                          0              1      4     5     10    11     12  \\\n",
       "0  2MASSJ014825.88+132305.3  M014825.88+13  13.71  0.03  13.85  0.02  13.19   \n",
       "1  2MASSJ014936.48+143914.6  M014936.48+14  13.90  0.01  14.24  0.02  13.66   \n",
       "\n",
       "     13     14    15    ...              J          H          K        FUV  \\\n",
       "0  0.03  13.14  0.03    ...      13.811119  13.165377  13.123439  18.272516   \n",
       "1  0.03  13.64  0.04    ...      14.205694  13.638274  13.625387  18.815161   \n",
       "\n",
       "         NUV      g      r      u       errr       erru  \n",
       "0  16.191935  99.99 -99.99  99.99  14.127993  14.127993  \n",
       "1  16.339355  99.99 -99.99  99.99  14.127993  14.127993  \n",
       "\n",
       "[2 rows x 31 columns]"
      ]
     },
     "execution_count": 22,
     "metadata": {},
     "output_type": "execute_result"
    }
   ],
   "source": [
    "hvc_rc.head(2)"
   ]
  },
  {
   "cell_type": "code",
   "execution_count": 23,
   "metadata": {
    "collapsed": true
   },
   "outputs": [],
   "source": [
    "hvc_rc['V']=hvc_rc[4]"
   ]
  },
  {
   "cell_type": "code",
   "execution_count": 24,
   "metadata": {
    "collapsed": true
   },
   "outputs": [],
   "source": [
    "hvc_rc['errV']=hvc_rc[5]\n",
    "hvc_rc['errJ']=hvc_rc[11]\n",
    "hvc_rc['errH']=hvc_rc[13]\n",
    "hvc_rc['errK']=hvc_rc[15]"
   ]
  },
  {
   "cell_type": "code",
   "execution_count": 25,
   "metadata": {
    "collapsed": true
   },
   "outputs": [],
   "source": [
    "hvc_rc['errFUV']=hvc_rc[23]\n",
    "hvc_rc['errNUV']=hvc_rc[25]"
   ]
  },
  {
   "cell_type": "code",
   "execution_count": 26,
   "metadata": {
    "collapsed": false
   },
   "outputs": [],
   "source": [
    "hvc_rc.to_csv('hvc_mags',index=False)"
   ]
  },
  {
   "cell_type": "code",
   "execution_count": 27,
   "metadata": {
    "collapsed": false
   },
   "outputs": [
    {
     "data": {
      "text/plain": [
       "106    0.05\n",
       "Name: 18, dtype: float64"
      ]
     },
     "execution_count": 27,
     "metadata": {},
     "output_type": "execute_result"
    }
   ],
   "source": [
    "hvc_all[hvc_all[0]=='SDSSJ120404.78+623345.6'][18]"
   ]
  },
  {
   "cell_type": "code",
   "execution_count": 28,
   "metadata": {
    "collapsed": false
   },
   "outputs": [
    {
     "data": {
      "text/html": [
       "<div>\n",
       "<table border=\"1\" class=\"dataframe\">\n",
       "  <thead>\n",
       "    <tr style=\"text-align: right;\">\n",
       "      <th></th>\n",
       "      <th>0</th>\n",
       "      <th>1</th>\n",
       "      <th>2</th>\n",
       "      <th>3</th>\n",
       "      <th>4</th>\n",
       "      <th>5</th>\n",
       "      <th>6</th>\n",
       "      <th>7</th>\n",
       "      <th>8</th>\n",
       "      <th>9</th>\n",
       "      <th>...</th>\n",
       "      <th>J</th>\n",
       "      <th>H</th>\n",
       "      <th>K</th>\n",
       "      <th>FUV</th>\n",
       "      <th>NUV</th>\n",
       "      <th>g</th>\n",
       "      <th>r</th>\n",
       "      <th>u</th>\n",
       "      <th>errr</th>\n",
       "      <th>erru</th>\n",
       "    </tr>\n",
       "  </thead>\n",
       "  <tbody>\n",
       "    <tr>\n",
       "      <th>106</th>\n",
       "      <td>SDSSJ120404.78+623345.6</td>\n",
       "      <td>S120404.78+62</td>\n",
       "      <td>HIRES</td>\n",
       "      <td>0.06</td>\n",
       "      <td>15.8</td>\n",
       "      <td>0.01</td>\n",
       "      <td>0.34</td>\n",
       "      <td>0.01</td>\n",
       "      <td>-0.05</td>\n",
       "      <td>0.02</td>\n",
       "      <td>...</td>\n",
       "      <td>99.976277</td>\n",
       "      <td>99.98131</td>\n",
       "      <td>99.984155</td>\n",
       "      <td>20.232065</td>\n",
       "      <td>18.817742</td>\n",
       "      <td>15.92</td>\n",
       "      <td>-15.87</td>\n",
       "      <td>17.04</td>\n",
       "      <td>0</td>\n",
       "      <td>0</td>\n",
       "    </tr>\n",
       "  </tbody>\n",
       "</table>\n",
       "<p>1 rows × 41 columns</p>\n",
       "</div>"
      ],
      "text/plain": [
       "                           0              1      2     3     4     5     6  \\\n",
       "106  SDSSJ120404.78+623345.6  S120404.78+62  HIRES  0.06  15.8  0.01  0.34   \n",
       "\n",
       "        7     8     9  ...           J         H          K        FUV  \\\n",
       "106  0.01 -0.05  0.02  ...   99.976277  99.98131  99.984155  20.232065   \n",
       "\n",
       "           NUV      g      r      u  errr  erru  \n",
       "106  18.817742  15.92 -15.87  17.04     0     0  \n",
       "\n",
       "[1 rows x 41 columns]"
      ]
     },
     "execution_count": 28,
     "metadata": {},
     "output_type": "execute_result"
    }
   ],
   "source": [
    "hvc_all[hvc_all[0]=='SDSSJ120404.78+623345.6']"
   ]
  },
  {
   "cell_type": "code",
   "execution_count": 29,
   "metadata": {
    "collapsed": false
   },
   "outputs": [
    {
     "data": {
      "text/html": [
       "<div>\n",
       "<table border=\"1\" class=\"dataframe\">\n",
       "  <thead>\n",
       "    <tr style=\"text-align: right;\">\n",
       "      <th></th>\n",
       "      <th>0</th>\n",
       "      <th>1</th>\n",
       "      <th>4</th>\n",
       "      <th>5</th>\n",
       "      <th>10</th>\n",
       "      <th>11</th>\n",
       "      <th>12</th>\n",
       "      <th>13</th>\n",
       "      <th>14</th>\n",
       "      <th>15</th>\n",
       "      <th>...</th>\n",
       "      <th>u</th>\n",
       "      <th>errr</th>\n",
       "      <th>erru</th>\n",
       "      <th>V</th>\n",
       "      <th>errV</th>\n",
       "      <th>errJ</th>\n",
       "      <th>errH</th>\n",
       "      <th>errK</th>\n",
       "      <th>errFUV</th>\n",
       "      <th>errNUV</th>\n",
       "    </tr>\n",
       "  </thead>\n",
       "  <tbody>\n",
       "    <tr>\n",
       "      <th>0</th>\n",
       "      <td>2MASSJ014825.88+132305.3</td>\n",
       "      <td>M014825.88+13</td>\n",
       "      <td>13.71</td>\n",
       "      <td>0.03</td>\n",
       "      <td>13.85</td>\n",
       "      <td>0.02</td>\n",
       "      <td>13.19</td>\n",
       "      <td>0.03</td>\n",
       "      <td>13.14</td>\n",
       "      <td>0.03</td>\n",
       "      <td>...</td>\n",
       "      <td>99.99</td>\n",
       "      <td>14.127993</td>\n",
       "      <td>14.127993</td>\n",
       "      <td>13.71</td>\n",
       "      <td>0.03</td>\n",
       "      <td>0.02</td>\n",
       "      <td>0.03</td>\n",
       "      <td>0.03</td>\n",
       "      <td>0.07</td>\n",
       "      <td>0.01</td>\n",
       "    </tr>\n",
       "    <tr>\n",
       "      <th>1</th>\n",
       "      <td>2MASSJ014936.48+143914.6</td>\n",
       "      <td>M014936.48+14</td>\n",
       "      <td>13.90</td>\n",
       "      <td>0.01</td>\n",
       "      <td>14.24</td>\n",
       "      <td>0.02</td>\n",
       "      <td>13.66</td>\n",
       "      <td>0.03</td>\n",
       "      <td>13.64</td>\n",
       "      <td>0.04</td>\n",
       "      <td>...</td>\n",
       "      <td>99.99</td>\n",
       "      <td>14.127993</td>\n",
       "      <td>14.127993</td>\n",
       "      <td>13.90</td>\n",
       "      <td>0.01</td>\n",
       "      <td>0.02</td>\n",
       "      <td>0.03</td>\n",
       "      <td>0.04</td>\n",
       "      <td>0.08</td>\n",
       "      <td>0.01</td>\n",
       "    </tr>\n",
       "  </tbody>\n",
       "</table>\n",
       "<p>2 rows × 38 columns</p>\n",
       "</div>"
      ],
      "text/plain": [
       "                          0              1      4     5     10    11     12  \\\n",
       "0  2MASSJ014825.88+132305.3  M014825.88+13  13.71  0.03  13.85  0.02  13.19   \n",
       "1  2MASSJ014936.48+143914.6  M014936.48+14  13.90  0.01  14.24  0.02  13.66   \n",
       "\n",
       "     13     14    15   ...        u       errr       erru      V  errV  errJ  \\\n",
       "0  0.03  13.14  0.03   ...    99.99  14.127993  14.127993  13.71  0.03  0.02   \n",
       "1  0.03  13.64  0.04   ...    99.99  14.127993  14.127993  13.90  0.01  0.02   \n",
       "\n",
       "   errH  errK  errFUV  errNUV  \n",
       "0  0.03  0.03    0.07    0.01  \n",
       "1  0.03  0.04    0.08    0.01  \n",
       "\n",
       "[2 rows x 38 columns]"
      ]
     },
     "execution_count": 29,
     "metadata": {},
     "output_type": "execute_result"
    }
   ],
   "source": [
    "hvc_rc.head(2)"
   ]
  },
  {
   "cell_type": "code",
   "execution_count": 30,
   "metadata": {
    "collapsed": false
   },
   "outputs": [],
   "source": [
    "# x = np.linspace(0, 30, 30)\n",
    "# y = np.sin(x/3*np.pi)\n",
    "# y1 = np.cos(x/3*np.pi)\n",
    "# error = np.random.normal(0.1, 0.02, size=y.shape)\n",
    "# #y += np.random.normal(0, 0.2, size=y.shape)\n",
    "# error=0.2\n",
    "\n",
    "# #plt.plot(x, y,'')\n",
    "# #plt.plot(x, y1,)\n",
    "# plt.fill_between(x, y1-error, y1+error,color='y')\n",
    "# plt.fill_between(x, y-error, y+error,color='g')\n"
   ]
  },
  {
   "cell_type": "code",
   "execution_count": 31,
   "metadata": {
    "collapsed": false
   },
   "outputs": [
    {
     "data": {
      "text/html": [
       "<div>\n",
       "<table border=\"1\" class=\"dataframe\">\n",
       "  <thead>\n",
       "    <tr style=\"text-align: right;\">\n",
       "      <th></th>\n",
       "      <th>0</th>\n",
       "      <th>1</th>\n",
       "      <th>4</th>\n",
       "      <th>5</th>\n",
       "      <th>10</th>\n",
       "      <th>11</th>\n",
       "      <th>12</th>\n",
       "      <th>13</th>\n",
       "      <th>14</th>\n",
       "      <th>15</th>\n",
       "      <th>...</th>\n",
       "      <th>u</th>\n",
       "      <th>errr</th>\n",
       "      <th>erru</th>\n",
       "      <th>V</th>\n",
       "      <th>errV</th>\n",
       "      <th>errJ</th>\n",
       "      <th>errH</th>\n",
       "      <th>errK</th>\n",
       "      <th>errFUV</th>\n",
       "      <th>errNUV</th>\n",
       "    </tr>\n",
       "  </thead>\n",
       "  <tbody>\n",
       "    <tr>\n",
       "      <th>0</th>\n",
       "      <td>2MASSJ014825.88+132305.3</td>\n",
       "      <td>M014825.88+13</td>\n",
       "      <td>13.71</td>\n",
       "      <td>0.03</td>\n",
       "      <td>13.85</td>\n",
       "      <td>0.02</td>\n",
       "      <td>13.19</td>\n",
       "      <td>0.03</td>\n",
       "      <td>13.14</td>\n",
       "      <td>0.03</td>\n",
       "      <td>...</td>\n",
       "      <td>99.99</td>\n",
       "      <td>14.127993</td>\n",
       "      <td>14.127993</td>\n",
       "      <td>13.71</td>\n",
       "      <td>0.03</td>\n",
       "      <td>0.02</td>\n",
       "      <td>0.03</td>\n",
       "      <td>0.03</td>\n",
       "      <td>0.07</td>\n",
       "      <td>0.01</td>\n",
       "    </tr>\n",
       "    <tr>\n",
       "      <th>1</th>\n",
       "      <td>2MASSJ014936.48+143914.6</td>\n",
       "      <td>M014936.48+14</td>\n",
       "      <td>13.90</td>\n",
       "      <td>0.01</td>\n",
       "      <td>14.24</td>\n",
       "      <td>0.02</td>\n",
       "      <td>13.66</td>\n",
       "      <td>0.03</td>\n",
       "      <td>13.64</td>\n",
       "      <td>0.04</td>\n",
       "      <td>...</td>\n",
       "      <td>99.99</td>\n",
       "      <td>14.127993</td>\n",
       "      <td>14.127993</td>\n",
       "      <td>13.90</td>\n",
       "      <td>0.01</td>\n",
       "      <td>0.02</td>\n",
       "      <td>0.03</td>\n",
       "      <td>0.04</td>\n",
       "      <td>0.08</td>\n",
       "      <td>0.01</td>\n",
       "    </tr>\n",
       "  </tbody>\n",
       "</table>\n",
       "<p>2 rows × 38 columns</p>\n",
       "</div>"
      ],
      "text/plain": [
       "                          0              1      4     5     10    11     12  \\\n",
       "0  2MASSJ014825.88+132305.3  M014825.88+13  13.71  0.03  13.85  0.02  13.19   \n",
       "1  2MASSJ014936.48+143914.6  M014936.48+14  13.90  0.01  14.24  0.02  13.66   \n",
       "\n",
       "     13     14    15   ...        u       errr       erru      V  errV  errJ  \\\n",
       "0  0.03  13.14  0.03   ...    99.99  14.127993  14.127993  13.71  0.03  0.02   \n",
       "1  0.03  13.64  0.04   ...    99.99  14.127993  14.127993  13.90  0.01  0.02   \n",
       "\n",
       "   errH  errK  errFUV  errNUV  \n",
       "0  0.03  0.03    0.07    0.01  \n",
       "1  0.03  0.04    0.08    0.01  \n",
       "\n",
       "[2 rows x 38 columns]"
      ]
     },
     "execution_count": 31,
     "metadata": {},
     "output_type": "execute_result"
    }
   ],
   "source": [
    "hvc_rc.head(2)"
   ]
  },
  {
   "cell_type": "code",
   "execution_count": 32,
   "metadata": {
    "collapsed": false
   },
   "outputs": [
    {
     "data": {
      "text/plain": [
       "Index([       0,        1,        4,        5,       10,       11,       12,\n",
       "             13,       14,       15,       16,       17,       22,       23,\n",
       "             24,       25,       26,      'B',      'U',   'errB',   'errU',\n",
       "            'J',      'H',      'K',    'FUV',    'NUV',      'g',      'r',\n",
       "            'u',   'errr',   'erru',      'V',   'errV',   'errJ',   'errH',\n",
       "         'errK', 'errFUV', 'errNUV'],\n",
       "      dtype='object')"
      ]
     },
     "execution_count": 32,
     "metadata": {},
     "output_type": "execute_result"
    }
   ],
   "source": [
    "hvc_rc.columns"
   ]
  },
  {
   "cell_type": "code",
   "execution_count": 33,
   "metadata": {
    "collapsed": false
   },
   "outputs": [],
   "source": [
    "hvc1=pd.DataFrame([hvc_rc[0],hvc_rc['FUV'],hvc_rc['NUV'],hvc_rc['U'],hvc_rc['B'],hvc_rc['V'],hvc_rc['u'],hvc_rc['g'],hvc_rc['r'],hvc_rc['J'],hvc_rc['H']\\\n",
    "                  ,hvc_rc['K'],hvc_rc['errFUV'],hvc_rc['errNUV'],hvc_rc['errU'],hvc_rc['errB'],hvc_rc['errV']\\\n",
    "                  ,hvc_rc['erru'],hvc_rc[17],hvc_rc['errr'],hvc_rc['errJ'],hvc_rc['errH'],hvc_rc['errK']]).T"
   ]
  },
  {
   "cell_type": "code",
   "execution_count": 34,
   "metadata": {
    "collapsed": false
   },
   "outputs": [],
   "source": [
    "hvc1.columns=[       'ID',    'FUV',    'NUV',      'U',      'B',      'V',       'u',\n",
    "            'g',      'r',      'J',      'H',      'K', 'errFUV',\n",
    "       'errNUV',   'errU',   'errB',   'errV',       'erru',   'errg',   'errr',\n",
    "         'errJ',   'errH',   'errK']"
   ]
  },
  {
   "cell_type": "code",
   "execution_count": 35,
   "metadata": {
    "collapsed": false
   },
   "outputs": [],
   "source": [
    "filters=('GALEX/GALEX.FUV','GALEX/GALEX.NUV','Generic/Johnson.U','Generic/Johnson.B','Generic/Johnson.V','SLOAN/SDSS.u','SLOAN/SDSS.g','SLOAN/SDSS.r',\\\n",
    "        '2MASS/2MASS.J','2MASS/2MASS.H','2MASS/2MASS.Ks')"
   ]
  },
  {
   "cell_type": "code",
   "execution_count": 36,
   "metadata": {
    "collapsed": false
   },
   "outputs": [],
   "source": [
    "hvc11=hvc1.as_matrix()"
   ]
  },
  {
   "cell_type": "code",
   "execution_count": 37,
   "metadata": {
    "collapsed": false
   },
   "outputs": [],
   "source": [
    "hvc1.drop_duplicates('ID',inplace=True)"
   ]
  },
  {
   "cell_type": "code",
   "execution_count": 38,
   "metadata": {
    "collapsed": false
   },
   "outputs": [],
   "source": [
    "hvc1.to_csv('hvc_photometry.dat',index=False)"
   ]
  },
  {
   "cell_type": "code",
   "execution_count": 39,
   "metadata": {
    "collapsed": false
   },
   "outputs": [],
   "source": [
    "dats=[]\n",
    "for index, row in hvc1.iterrows():\n",
    "    for j in range(len(filters)):\n",
    "        if row[j+1] < 30.:\n",
    "            dats.append((row[0],'...','...','...','...',filters[j],row[j+1],row[j+12],'...','...'))\n",
    "        \n",
    "np.savetxt('vosa_hvc.dat',dats,fmt='%s')"
   ]
  },
  {
   "cell_type": "code",
   "execution_count": 40,
   "metadata": {
    "collapsed": false
   },
   "outputs": [],
   "source": [
    "vosa=np.genfromtxt('14494.vosa.dat',dtype=str)"
   ]
  },
  {
   "cell_type": "code",
   "execution_count": 41,
   "metadata": {
    "collapsed": false
   },
   "outputs": [
    {
     "data": {
      "text/plain": [
       "array([['2MASSJ014248.77+143016.4', '...', '...', ...,\n",
       "        '1.0156029793866E-16', '...', '---'],\n",
       "       ['2MASSJ014248.77+143016.4', '...', '...', ...,\n",
       "        '6.8127073868392E-17', '...', '---'],\n",
       "       ['2MASSJ014248.77+143016.4', '...', '...', ..., '5.99340266975E-17',\n",
       "        '...', '---'],\n",
       "       ..., \n",
       "       ['V1084Aql', '...', '...', ..., '7.5306057733394E-18', '...', '---'],\n",
       "       ['V1084Aql', '...', '...', ..., '8.7280356878075E-18', '...', '---'],\n",
       "       ['V1084Aql', '...', '...', ..., '5.2192860336E-18', '...', '---']], \n",
       "      dtype='<U24')"
      ]
     },
     "execution_count": 41,
     "metadata": {},
     "output_type": "execute_result"
    }
   ],
   "source": [
    "vosa"
   ]
  },
  {
   "cell_type": "code",
   "execution_count": 42,
   "metadata": {
    "collapsed": false,
    "scrolled": true
   },
   "outputs": [],
   "source": [
    "np.savetxt('hvc_obsflux.dat',[[i[0],i[5],i[6],i[7]] for i in vosa],fmt='%s')"
   ]
  },
  {
   "cell_type": "code",
   "execution_count": 43,
   "metadata": {
    "collapsed": false
   },
   "outputs": [],
   "source": [
    "obs=pd.read_csv('hvc_obsflux.dat',comment='#',header=None,sep=' ')"
   ]
  },
  {
   "cell_type": "code",
   "execution_count": 44,
   "metadata": {
    "collapsed": false
   },
   "outputs": [
    {
     "data": {
      "text/html": [
       "<div>\n",
       "<table border=\"1\" class=\"dataframe\">\n",
       "  <thead>\n",
       "    <tr style=\"text-align: right;\">\n",
       "      <th></th>\n",
       "      <th>0</th>\n",
       "      <th>1</th>\n",
       "      <th>2</th>\n",
       "      <th>3</th>\n",
       "    </tr>\n",
       "  </thead>\n",
       "  <tbody>\n",
       "    <tr>\n",
       "      <th>0</th>\n",
       "      <td>2MASSJ014248.77+143016.4</td>\n",
       "      <td>GALEX/GALEX.NUV</td>\n",
       "      <td>2.827377e-16</td>\n",
       "      <td>1.015603e-16</td>\n",
       "    </tr>\n",
       "    <tr>\n",
       "      <th>1</th>\n",
       "      <td>2MASSJ014248.77+143016.4</td>\n",
       "      <td>Generic/Johnson.U</td>\n",
       "      <td>8.904704e-16</td>\n",
       "      <td>6.812707e-17</td>\n",
       "    </tr>\n",
       "  </tbody>\n",
       "</table>\n",
       "</div>"
      ],
      "text/plain": [
       "                          0                  1             2             3\n",
       "0  2MASSJ014248.77+143016.4    GALEX/GALEX.NUV  2.827377e-16  1.015603e-16\n",
       "1  2MASSJ014248.77+143016.4  Generic/Johnson.U  8.904704e-16  6.812707e-17"
      ]
     },
     "execution_count": 44,
     "metadata": {},
     "output_type": "execute_result"
    }
   ],
   "source": [
    "obs.head(2)"
   ]
  },
  {
   "cell_type": "code",
   "execution_count": null,
   "metadata": {
    "collapsed": false
   },
   "outputs": [],
   "source": [
    "pd.DataFrame(obs.groupby(obs[0]).count()[1]).to_csv('testing',header=None)"
   ]
  },
  {
   "cell_type": "code",
   "execution_count": 45,
   "metadata": {
    "collapsed": true
   },
   "outputs": [],
   "source": [
    "gb=obs.groupby(obs[0],sort=False)"
   ]
  },
  {
   "cell_type": "code",
   "execution_count": 46,
   "metadata": {
    "collapsed": false
   },
   "outputs": [],
   "source": [
    "ids=obs[0].unique()"
   ]
  },
  {
   "cell_type": "code",
   "execution_count": 47,
   "metadata": {
    "collapsed": true
   },
   "outputs": [],
   "source": [
    "obsg=[]\n",
    "for i in ids:\n",
    "    obsg.append([i]+list(gb.get_group(i)[2])+list(gb.get_group(i)[3]))"
   ]
  },
  {
   "cell_type": "code",
   "execution_count": 48,
   "metadata": {
    "collapsed": false
   },
   "outputs": [
    {
     "data": {
      "text/plain": [
       "('GALEX/GALEX.FUV',\n",
       " 'GALEX/GALEX.NUV',\n",
       " 'Generic/Johnson.U',\n",
       " 'Generic/Johnson.B',\n",
       " 'Generic/Johnson.V',\n",
       " 'SLOAN/SDSS.u',\n",
       " 'SLOAN/SDSS.g',\n",
       " 'SLOAN/SDSS.r',\n",
       " '2MASS/2MASS.J',\n",
       " '2MASS/2MASS.H',\n",
       " '2MASS/2MASS.Ks')"
      ]
     },
     "execution_count": 48,
     "metadata": {},
     "output_type": "execute_result"
    }
   ],
   "source": [
    "filters"
   ]
  },
  {
   "cell_type": "code",
   "execution_count": 49,
   "metadata": {
    "collapsed": false
   },
   "outputs": [],
   "source": [
    "rows=[]\n",
    "for i in ids:\n",
    "    r1=[0]*23\n",
    "    for index, row in obs.iterrows():\n",
    "        if i ==row[0]:\n",
    "            r1[0]=i\n",
    "            r1[filters.index(row[1])+1]=row[2]\n",
    "            r1[filters.index(row[1])+12]=row[3]\n",
    "    rows.append(r1) "
   ]
  },
  {
   "cell_type": "code",
   "execution_count": 54,
   "metadata": {
    "collapsed": false
   },
   "outputs": [],
   "source": [
    "obsf=pd.DataFrame(rows)"
   ]
  },
  {
   "cell_type": "code",
   "execution_count": 51,
   "metadata": {
    "collapsed": false
   },
   "outputs": [],
   "source": [
    "#obsf=pd.DataFrame(rows)\n",
    "obsf=pd.read_csv('obs_flux.dat',header=None)"
   ]
  },
  {
   "cell_type": "code",
   "execution_count": 52,
   "metadata": {
    "collapsed": false
   },
   "outputs": [],
   "source": [
    "obsf.to_csv('obs_flux.dat',header=None,index=False)"
   ]
  },
  {
   "cell_type": "code",
   "execution_count": 55,
   "metadata": {
    "collapsed": false
   },
   "outputs": [
    {
     "data": {
      "text/html": [
       "<div>\n",
       "<table border=\"1\" class=\"dataframe\">\n",
       "  <thead>\n",
       "    <tr style=\"text-align: right;\">\n",
       "      <th></th>\n",
       "      <th>0</th>\n",
       "      <th>1</th>\n",
       "      <th>2</th>\n",
       "      <th>3</th>\n",
       "      <th>4</th>\n",
       "      <th>5</th>\n",
       "      <th>6</th>\n",
       "      <th>7</th>\n",
       "      <th>8</th>\n",
       "      <th>9</th>\n",
       "      <th>...</th>\n",
       "      <th>13</th>\n",
       "      <th>14</th>\n",
       "      <th>15</th>\n",
       "      <th>16</th>\n",
       "      <th>17</th>\n",
       "      <th>18</th>\n",
       "      <th>19</th>\n",
       "      <th>20</th>\n",
       "      <th>21</th>\n",
       "      <th>22</th>\n",
       "    </tr>\n",
       "  </thead>\n",
       "  <tbody>\n",
       "    <tr>\n",
       "      <th>0</th>\n",
       "      <td>2MASSJ014248.77+143016.4</td>\n",
       "      <td>0.000000e+00</td>\n",
       "      <td>2.827377e-16</td>\n",
       "      <td>8.904704e-16</td>\n",
       "      <td>1.455066e-15</td>\n",
       "      <td>1.262465e-15</td>\n",
       "      <td>0</td>\n",
       "      <td>0</td>\n",
       "      <td>0</td>\n",
       "      <td>1.545710e-16</td>\n",
       "      <td>...</td>\n",
       "      <td>1.015603e-16</td>\n",
       "      <td>6.812707e-17</td>\n",
       "      <td>5.993403e-17</td>\n",
       "      <td>2.325546e-17</td>\n",
       "      <td>0</td>\n",
       "      <td>0</td>\n",
       "      <td>0</td>\n",
       "      <td>7.118260e-18</td>\n",
       "      <td>7.417984e-18</td>\n",
       "      <td>6.563590e-18</td>\n",
       "    </tr>\n",
       "    <tr>\n",
       "      <th>1</th>\n",
       "      <td>2MASSJ014331.65+155232.6</td>\n",
       "      <td>7.786501e-16</td>\n",
       "      <td>1.474599e-15</td>\n",
       "      <td>2.278345e-15</td>\n",
       "      <td>4.157984e-15</td>\n",
       "      <td>2.637663e-15</td>\n",
       "      <td>0</td>\n",
       "      <td>0</td>\n",
       "      <td>0</td>\n",
       "      <td>1.963455e-16</td>\n",
       "      <td>...</td>\n",
       "      <td>9.507093e-17</td>\n",
       "      <td>9.616230e-17</td>\n",
       "      <td>8.563345e-17</td>\n",
       "      <td>2.429377e-17</td>\n",
       "      <td>0</td>\n",
       "      <td>0</td>\n",
       "      <td>0</td>\n",
       "      <td>7.233637e-18</td>\n",
       "      <td>6.868767e-18</td>\n",
       "      <td>5.108900e-18</td>\n",
       "    </tr>\n",
       "  </tbody>\n",
       "</table>\n",
       "<p>2 rows × 23 columns</p>\n",
       "</div>"
      ],
      "text/plain": [
       "                         0             1             2             3   \\\n",
       "0  2MASSJ014248.77+143016.4  0.000000e+00  2.827377e-16  8.904704e-16   \n",
       "1  2MASSJ014331.65+155232.6  7.786501e-16  1.474599e-15  2.278345e-15   \n",
       "\n",
       "             4             5   6   7   8             9       ...       \\\n",
       "0  1.455066e-15  1.262465e-15   0   0   0  1.545710e-16      ...        \n",
       "1  4.157984e-15  2.637663e-15   0   0   0  1.963455e-16      ...        \n",
       "\n",
       "             13            14            15            16  17  18  19  \\\n",
       "0  1.015603e-16  6.812707e-17  5.993403e-17  2.325546e-17   0   0   0   \n",
       "1  9.507093e-17  9.616230e-17  8.563345e-17  2.429377e-17   0   0   0   \n",
       "\n",
       "             20            21            22  \n",
       "0  7.118260e-18  7.417984e-18  6.563590e-18  \n",
       "1  7.233637e-18  6.868767e-18  5.108900e-18  \n",
       "\n",
       "[2 rows x 23 columns]"
      ]
     },
     "execution_count": 55,
     "metadata": {},
     "output_type": "execute_result"
    }
   ],
   "source": [
    "obsf.head(2)"
   ]
  },
  {
   "cell_type": "code",
   "execution_count": 56,
   "metadata": {
    "collapsed": false
   },
   "outputs": [],
   "source": [
    "stars=pd.read_csv('hvc_new.dat',header=None)"
   ]
  },
  {
   "cell_type": "code",
   "execution_count": 57,
   "metadata": {
    "collapsed": false
   },
   "outputs": [
    {
     "data": {
      "text/html": [
       "<div>\n",
       "<table border=\"1\" class=\"dataframe\">\n",
       "  <thead>\n",
       "    <tr style=\"text-align: right;\">\n",
       "      <th></th>\n",
       "      <th>0</th>\n",
       "    </tr>\n",
       "  </thead>\n",
       "  <tbody>\n",
       "    <tr>\n",
       "      <th>0</th>\n",
       "      <td>2MASSJ014825.88+132305.3</td>\n",
       "    </tr>\n",
       "    <tr>\n",
       "      <th>1</th>\n",
       "      <td>2MASSJ014936.48+143914.6</td>\n",
       "    </tr>\n",
       "  </tbody>\n",
       "</table>\n",
       "</div>"
      ],
      "text/plain": [
       "                          0\n",
       "0  2MASSJ014825.88+132305.3\n",
       "1  2MASSJ014936.48+143914.6"
      ]
     },
     "execution_count": 57,
     "metadata": {},
     "output_type": "execute_result"
    }
   ],
   "source": [
    "stars.head(2)"
   ]
  },
  {
   "cell_type": "code",
   "execution_count": 58,
   "metadata": {
    "collapsed": false
   },
   "outputs": [],
   "source": [
    "stars[0]=stars[0].map(lambda x: x.strip('.dat'))"
   ]
  },
  {
   "cell_type": "code",
   "execution_count": 59,
   "metadata": {
    "collapsed": false
   },
   "outputs": [],
   "source": [
    "stars[0]=stars[0].apply(lambda x:x.split('_')[0])"
   ]
  },
  {
   "cell_type": "code",
   "execution_count": 60,
   "metadata": {
    "collapsed": false
   },
   "outputs": [
    {
     "data": {
      "text/plain": [
       "112"
      ]
     },
     "execution_count": 60,
     "metadata": {},
     "output_type": "execute_result"
    }
   ],
   "source": [
    "ll=[]\n",
    "for i in stars[0]:\n",
    "    for idx, item in obsf.iterrows():\n",
    "        #print  (i,item[0]) \n",
    "        if i == item[0] :\n",
    "            #print (idx)\n",
    "            #ll.append((i,idx,item,obsf[1][idx]))\n",
    "            ll.append(item)\n",
    "len(ll)"
   ]
  },
  {
   "cell_type": "code",
   "execution_count": 61,
   "metadata": {
    "collapsed": false
   },
   "outputs": [],
   "source": [
    "ll=pd.DataFrame(ll)"
   ]
  },
  {
   "cell_type": "code",
   "execution_count": 62,
   "metadata": {
    "collapsed": false
   },
   "outputs": [
    {
     "data": {
      "text/html": [
       "<div>\n",
       "<table border=\"1\" class=\"dataframe\">\n",
       "  <thead>\n",
       "    <tr style=\"text-align: right;\">\n",
       "      <th></th>\n",
       "      <th>0</th>\n",
       "      <th>1</th>\n",
       "      <th>2</th>\n",
       "      <th>3</th>\n",
       "      <th>4</th>\n",
       "      <th>5</th>\n",
       "      <th>6</th>\n",
       "      <th>7</th>\n",
       "      <th>8</th>\n",
       "      <th>9</th>\n",
       "      <th>...</th>\n",
       "      <th>13</th>\n",
       "      <th>14</th>\n",
       "      <th>15</th>\n",
       "      <th>16</th>\n",
       "      <th>17</th>\n",
       "      <th>18</th>\n",
       "      <th>19</th>\n",
       "      <th>20</th>\n",
       "      <th>21</th>\n",
       "      <th>22</th>\n",
       "    </tr>\n",
       "  </thead>\n",
       "  <tbody>\n",
       "    <tr>\n",
       "      <th>3</th>\n",
       "      <td>2MASSJ014825.88+132305.3</td>\n",
       "      <td>2.246586e-15</td>\n",
       "      <td>7.020231e-15</td>\n",
       "      <td>1.060766e-14</td>\n",
       "      <td>1.865876e-14</td>\n",
       "      <td>1.172787e-14</td>\n",
       "      <td>0</td>\n",
       "      <td>0</td>\n",
       "      <td>0</td>\n",
       "      <td>9.353148e-16</td>\n",
       "      <td>...</td>\n",
       "      <td>6.465872e-17</td>\n",
       "      <td>8.900906e-16</td>\n",
       "      <td>1.002070e-15</td>\n",
       "      <td>3.240531e-16</td>\n",
       "      <td>0</td>\n",
       "      <td>0</td>\n",
       "      <td>0</td>\n",
       "      <td>1.722914e-17</td>\n",
       "      <td>1.696195e-17</td>\n",
       "      <td>6.664530e-18</td>\n",
       "    </tr>\n",
       "    <tr>\n",
       "      <th>4</th>\n",
       "      <td>2MASSJ014936.48+143914.6</td>\n",
       "      <td>1.362903e-15</td>\n",
       "      <td>6.128916e-15</td>\n",
       "      <td>8.904704e-15</td>\n",
       "      <td>1.551968e-14</td>\n",
       "      <td>9.845081e-15</td>\n",
       "      <td>0</td>\n",
       "      <td>0</td>\n",
       "      <td>0</td>\n",
       "      <td>6.503215e-16</td>\n",
       "      <td>...</td>\n",
       "      <td>5.644940e-17</td>\n",
       "      <td>3.758416e-16</td>\n",
       "      <td>3.196270e-16</td>\n",
       "      <td>9.067655e-17</td>\n",
       "      <td>0</td>\n",
       "      <td>0</td>\n",
       "      <td>0</td>\n",
       "      <td>1.197937e-17</td>\n",
       "      <td>1.097279e-17</td>\n",
       "      <td>5.596660e-18</td>\n",
       "    </tr>\n",
       "  </tbody>\n",
       "</table>\n",
       "<p>2 rows × 23 columns</p>\n",
       "</div>"
      ],
      "text/plain": [
       "                         0             1             2             3   \\\n",
       "3  2MASSJ014825.88+132305.3  2.246586e-15  7.020231e-15  1.060766e-14   \n",
       "4  2MASSJ014936.48+143914.6  1.362903e-15  6.128916e-15  8.904704e-15   \n",
       "\n",
       "             4             5   6   7   8             9       ...       \\\n",
       "3  1.865876e-14  1.172787e-14   0   0   0  9.353148e-16      ...        \n",
       "4  1.551968e-14  9.845081e-15   0   0   0  6.503215e-16      ...        \n",
       "\n",
       "             13            14            15            16  17  18  19  \\\n",
       "3  6.465872e-17  8.900906e-16  1.002070e-15  3.240531e-16   0   0   0   \n",
       "4  5.644940e-17  3.758416e-16  3.196270e-16  9.067655e-17   0   0   0   \n",
       "\n",
       "             20            21            22  \n",
       "3  1.722914e-17  1.696195e-17  6.664530e-18  \n",
       "4  1.197937e-17  1.097279e-17  5.596660e-18  \n",
       "\n",
       "[2 rows x 23 columns]"
      ]
     },
     "execution_count": 62,
     "metadata": {},
     "output_type": "execute_result"
    }
   ],
   "source": [
    "ll.head(2)"
   ]
  },
  {
   "cell_type": "code",
   "execution_count": 63,
   "metadata": {
    "collapsed": true
   },
   "outputs": [],
   "source": [
    "ll.to_csv('obs_flux_new',header=None,index=False)"
   ]
  },
  {
   "cell_type": "code",
   "execution_count": null,
   "metadata": {
    "collapsed": false
   },
   "outputs": [],
   "source": [
    "obsf_2=ll.merge(obsf,left_on=ll[0],right_on=obsf[0],copy=False)"
   ]
  },
  {
   "cell_type": "code",
   "execution_count": null,
   "metadata": {
    "collapsed": false,
    "scrolled": true
   },
   "outputs": [],
   "source": [
    "obsf_2.drop(['0_y'],axis=1,inplace=True)"
   ]
  },
  {
   "cell_type": "code",
   "execution_count": null,
   "metadata": {
    "collapsed": false
   },
   "outputs": [],
   "source": [
    "obsf_2.head(2)"
   ]
  },
  {
   "cell_type": "code",
   "execution_count": null,
   "metadata": {
    "collapsed": false,
    "scrolled": true
   },
   "outputs": [],
   "source": [
    "model_flux.head(2)"
   ]
  },
  {
   "cell_type": "code",
   "execution_count": null,
   "metadata": {
    "collapsed": false
   },
   "outputs": [],
   "source": [
    "obsfl=obsf.loc[0:0]"
   ]
  },
  {
   "cell_type": "code",
   "execution_count": 64,
   "metadata": {
    "collapsed": true
   },
   "outputs": [],
   "source": [
    "model_flux=pd.read_csv('kurucz_fnubvugrjhk_fluxes.dat',header=None,sep=' ')"
   ]
  },
  {
   "cell_type": "code",
   "execution_count": 65,
   "metadata": {
    "collapsed": false
   },
   "outputs": [
    {
     "data": {
      "text/html": [
       "<div>\n",
       "<table border=\"1\" class=\"dataframe\">\n",
       "  <thead>\n",
       "    <tr style=\"text-align: right;\">\n",
       "      <th></th>\n",
       "      <th>0</th>\n",
       "      <th>1</th>\n",
       "      <th>2</th>\n",
       "      <th>3</th>\n",
       "      <th>4</th>\n",
       "      <th>5</th>\n",
       "      <th>6</th>\n",
       "      <th>7</th>\n",
       "      <th>8</th>\n",
       "      <th>9</th>\n",
       "      <th>10</th>\n",
       "      <th>11</th>\n",
       "      <th>12</th>\n",
       "      <th>13</th>\n",
       "    </tr>\n",
       "  </thead>\n",
       "  <tbody>\n",
       "    <tr>\n",
       "      <th>0</th>\n",
       "      <td>43000</td>\n",
       "      <td>5.0</td>\n",
       "      <td>0.5</td>\n",
       "      <td>1.510919e+10</td>\n",
       "      <td>4.600433e+09</td>\n",
       "      <td>9.904170e+08</td>\n",
       "      <td>4.568480e+08</td>\n",
       "      <td>1.978288e+08</td>\n",
       "      <td>9.578473e+08</td>\n",
       "      <td>3.672445e+08</td>\n",
       "      <td>1.273783e+08</td>\n",
       "      <td>8697317.544290</td>\n",
       "      <td>2806827.822220</td>\n",
       "      <td>952882.935404</td>\n",
       "    </tr>\n",
       "    <tr>\n",
       "      <th>1</th>\n",
       "      <td>6250</td>\n",
       "      <td>3.5</td>\n",
       "      <td>-2.0</td>\n",
       "      <td>2.178654e+04</td>\n",
       "      <td>1.153368e+06</td>\n",
       "      <td>2.490427e+06</td>\n",
       "      <td>3.363790e+06</td>\n",
       "      <td>2.751486e+06</td>\n",
       "      <td>2.498279e+06</td>\n",
       "      <td>3.230051e+06</td>\n",
       "      <td>2.355302e+06</td>\n",
       "      <td>576183.890719</td>\n",
       "      <td>276021.749061</td>\n",
       "      <td>105876.733459</td>\n",
       "    </tr>\n",
       "  </tbody>\n",
       "</table>\n",
       "</div>"
      ],
      "text/plain": [
       "      0    1    2             3             4             5             6   \\\n",
       "0  43000  5.0  0.5  1.510919e+10  4.600433e+09  9.904170e+08  4.568480e+08   \n",
       "1   6250  3.5 -2.0  2.178654e+04  1.153368e+06  2.490427e+06  3.363790e+06   \n",
       "\n",
       "             7             8             9             10              11  \\\n",
       "0  1.978288e+08  9.578473e+08  3.672445e+08  1.273783e+08  8697317.544290   \n",
       "1  2.751486e+06  2.498279e+06  3.230051e+06  2.355302e+06   576183.890719   \n",
       "\n",
       "               12             13  \n",
       "0  2806827.822220  952882.935404  \n",
       "1   276021.749061  105876.733459  "
      ]
     },
     "execution_count": 65,
     "metadata": {},
     "output_type": "execute_result"
    }
   ],
   "source": [
    "model_flux.head(2)"
   ]
  },
  {
   "cell_type": "code",
   "execution_count": 66,
   "metadata": {
    "collapsed": false
   },
   "outputs": [],
   "source": [
    "ob=ll.as_matrix()\n",
    "mods=model_flux.as_matrix()"
   ]
  },
  {
   "cell_type": "code",
   "execution_count": 67,
   "metadata": {
    "collapsed": false
   },
   "outputs": [
    {
     "data": {
      "text/plain": [
       "(array([  4.30000000e+04,   5.00000000e+00,   5.00000000e-01,\n",
       "          1.51091940e+10,   4.60043296e+09,   9.90417029e+08,\n",
       "          4.56847987e+08,   1.97828832e+08,   9.57847263e+08,\n",
       "          3.67244505e+08,   1.27378280e+08,   8.69731754e+06,\n",
       "          2.80682782e+06,   9.52882935e+05]),\n",
       " array(['2MASSJ014825.88+132305.3', 2.2465857935606997e-15,\n",
       "        7.0202312967151e-15, 1.0607658030924e-14, 1.8658760022616003e-14,\n",
       "        1.1727873949443998e-14, 0.0, 0.0, 0.0, 9.3531483172465e-16,\n",
       "        6.13873579409e-16, 2.4119738252357997e-16, 1.4484273883478e-16,\n",
       "        6.4658719732746e-17, 8.900906453841198e-16, 1.0020696706303e-15,\n",
       "        3.2405313274205e-16, 0.0, 0.0, 0.0, 1.7229135910283e-17,\n",
       "        1.6961953835160997e-17, 6.664529969615701e-18], dtype=object))"
      ]
     },
     "execution_count": 67,
     "metadata": {},
     "output_type": "execute_result"
    }
   ],
   "source": [
    "mods[0],ob[0]"
   ]
  },
  {
   "cell_type": "code",
   "execution_count": 68,
   "metadata": {
    "collapsed": true
   },
   "outputs": [],
   "source": [
    "from scipy.optimize import differential_evolution\n",
    "import math"
   ]
  },
  {
   "cell_type": "code",
   "execution_count": 69,
   "metadata": {
    "collapsed": false
   },
   "outputs": [
    {
     "data": {
      "text/plain": [
       "(3808, 112)"
      ]
     },
     "execution_count": 69,
     "metadata": {},
     "output_type": "execute_result"
    }
   ],
   "source": [
    "\n",
    "len(mods),len(ob)"
   ]
  },
  {
   "cell_type": "code",
   "execution_count": 7,
   "metadata": {
    "collapsed": false
   },
   "outputs": [],
   "source": [
    "# import pandas as pd\n",
    "# ll=pd.read_csv('obs_flux_new',header=None)\n",
    "# #ll\n",
    "# import numpy as np\n",
    "# ll.replace(0.,np.NAN,inplace=True)\n",
    "# model_flux.replace(0.,np.NAN,inplace=True)"
   ]
  },
  {
   "cell_type": "code",
   "execution_count": 6,
   "metadata": {
    "collapsed": false
   },
   "outputs": [
    {
     "ename": "NameError",
     "evalue": "name 'np' is not defined",
     "output_type": "error",
     "traceback": [
      "\u001b[0;31m---------------------------------------------------------------------------\u001b[0m",
      "\u001b[0;31mNameError\u001b[0m                                 Traceback (most recent call last)",
      "\u001b[0;32m<ipython-input-6-e06de3bbba14>\u001b[0m in \u001b[0;36m<module>\u001b[0;34m()\u001b[0m\n\u001b[0;32m----> 1\u001b[0;31m \u001b[0mll\u001b[0m\u001b[0;34m.\u001b[0m\u001b[0mreplace\u001b[0m\u001b[0;34m(\u001b[0m\u001b[0;36m0.\u001b[0m\u001b[0;34m,\u001b[0m\u001b[0mnp\u001b[0m\u001b[0;34m.\u001b[0m\u001b[0mNAN\u001b[0m\u001b[0;34m,\u001b[0m\u001b[0minplace\u001b[0m\u001b[0;34m=\u001b[0m\u001b[0;32mTrue\u001b[0m\u001b[0;34m)\u001b[0m\u001b[0;34m\u001b[0m\u001b[0m\n\u001b[0m",
      "\u001b[0;31mNameError\u001b[0m: name 'np' is not defined"
     ]
    }
   ],
   "source": [
    "ll.replace(0.,np.NAN,inplace=True)"
   ]
  },
  {
   "cell_type": "code",
   "execution_count": 71,
   "metadata": {
    "collapsed": true
   },
   "outputs": [],
   "source": [
    "model_flux.replace(0.,np.NAN,inplace=True)"
   ]
  },
  {
   "cell_type": "code",
   "execution_count": null,
   "metadata": {
    "collapsed": true
   },
   "outputs": [],
   "source": [
    "import itertools"
   ]
  },
  {
   "cell_type": "code",
   "execution_count": 73,
   "metadata": {
    "collapsed": false
   },
   "outputs": [],
   "source": [
    "def chisq(x):\n",
    "    diff=x[0]*y-m\n",
    "    weight=diff/e\n",
    "    X=sum(weight **2.)\n",
    "    return X"
   ]
  },
  {
   "cell_type": "code",
   "execution_count": 74,
   "metadata": {
    "collapsed": false
   },
   "outputs": [
    {
     "ename": "TypeError",
     "evalue": "unsupported operand type(s) for -: 'builtin_function_or_method' and 'int'",
     "output_type": "error",
     "traceback": [
      "\u001b[0;31m---------------------------------------------------------------------------\u001b[0m",
      "\u001b[0;31mTypeError\u001b[0m                                 Traceback (most recent call last)",
      "\u001b[0;32m<ipython-input-74-90d10f8b3bc8>\u001b[0m in \u001b[0;36m<module>\u001b[0;34m()\u001b[0m\n\u001b[0;32m----> 1\u001b[0;31m \u001b[0mnp\u001b[0m\u001b[0;34m.\u001b[0m\u001b[0marange\u001b[0m\u001b[0;34m(\u001b[0m\u001b[0mlen\u001b[0m\u001b[0;34m)\u001b[0m\u001b[0;34m\u001b[0m\u001b[0m\n\u001b[0m",
      "\u001b[0;31mTypeError\u001b[0m: unsupported operand type(s) for -: 'builtin_function_or_method' and 'int'"
     ]
    }
   ],
   "source": [
    "np.arange(len)"
   ]
  },
  {
   "cell_type": "code",
   "execution_count": 75,
   "metadata": {
    "collapsed": true
   },
   "outputs": [],
   "source": [
    "def ModelChiSquared(vals,data):\n",
    "    # calculate model values.\n",
    "    mod = model(data[0],*vals) # The ’*’ means fill the rest of the\n",
    "    # function’s arguments with the\n",
    "    # values in array ’vals’\n",
    "    # calculate chi squared for these model values and the data\n",
    "    X = chisq(data[1],data[2]) #\n",
    "    return X"
   ]
  },
  {
   "cell_type": "code",
   "execution_count": 88,
   "metadata": {
    "collapsed": false,
    "scrolled": false
   },
   "outputs": [
    {
     "ename": "ZeroDivisionError",
     "evalue": "float division by zero",
     "output_type": "error",
     "traceback": [
      "\u001b[0;31m---------------------------------------------------------------------------\u001b[0m",
      "\u001b[0;31mZeroDivisionError\u001b[0m                         Traceback (most recent call last)",
      "\u001b[0;32m<ipython-input-88-a2241da9a644>\u001b[0m in \u001b[0;36m<module>\u001b[0;34m()\u001b[0m\n\u001b[1;32m     13\u001b[0m         \u001b[0mfs\u001b[0m\u001b[0;34m.\u001b[0m\u001b[0mappend\u001b[0m\u001b[0;34m(\u001b[0m\u001b[0mrow1\u001b[0m\u001b[0;34m[\u001b[0m\u001b[0;36m2\u001b[0m\u001b[0;34m]\u001b[0m\u001b[0;34m)\u001b[0m\u001b[0;34m\u001b[0m\u001b[0m\n\u001b[1;32m     14\u001b[0m         \u001b[0mprob\u001b[0m\u001b[0;34m.\u001b[0m\u001b[0mappend\u001b[0m\u001b[0;34m(\u001b[0m\u001b[0mmath\u001b[0m\u001b[0;34m.\u001b[0m\u001b[0mexp\u001b[0m\u001b[0;34m(\u001b[0m\u001b[0;34m-\u001b[0m\u001b[0mff\u001b[0m\u001b[0;34m.\u001b[0m\u001b[0mfun\u001b[0m\u001b[0;34m/\u001b[0m\u001b[0;36m2\u001b[0m\u001b[0;34m)\u001b[0m\u001b[0;34m)\u001b[0m\u001b[0;34m\u001b[0m\u001b[0m\n\u001b[0;32m---> 15\u001b[0;31m     \u001b[0mpaka\u001b[0m\u001b[0;34m=\u001b[0m\u001b[0;34m[\u001b[0m\u001b[0mi\u001b[0m\u001b[0;34m/\u001b[0m\u001b[0msum\u001b[0m\u001b[0;34m(\u001b[0m\u001b[0mprob\u001b[0m\u001b[0;34m)\u001b[0m \u001b[0;32mfor\u001b[0m \u001b[0mi\u001b[0m \u001b[0;32min\u001b[0m \u001b[0mprob\u001b[0m\u001b[0;34m]\u001b[0m\u001b[0;34m\u001b[0m\u001b[0m\n\u001b[0m\u001b[1;32m     16\u001b[0m     \u001b[0;31m#print ('saving the shit ...'+str(len(ll)-i)+'to go !' )\u001b[0m\u001b[0;34m\u001b[0m\u001b[0;34m\u001b[0m\u001b[0m\n\u001b[1;32m     17\u001b[0m     \u001b[0mnp\u001b[0m\u001b[0;34m.\u001b[0m\u001b[0msavetxt\u001b[0m\u001b[0;34m(\u001b[0m\u001b[0;34m'./probs_photo_new2/'\u001b[0m\u001b[0;34m+\u001b[0m\u001b[0mrow\u001b[0m\u001b[0;34m[\u001b[0m\u001b[0;36m0\u001b[0m\u001b[0;34m]\u001b[0m\u001b[0;34m,\u001b[0m\u001b[0mnp\u001b[0m\u001b[0;34m.\u001b[0m\u001b[0mc_\u001b[0m\u001b[0;34m[\u001b[0m\u001b[0mts\u001b[0m\u001b[0;34m,\u001b[0m\u001b[0mgs\u001b[0m\u001b[0;34m,\u001b[0m\u001b[0mfs\u001b[0m\u001b[0;34m,\u001b[0m\u001b[0mpaka\u001b[0m\u001b[0;34m]\u001b[0m\u001b[0;34m,\u001b[0m\u001b[0mfmt\u001b[0m\u001b[0;34m=\u001b[0m\u001b[0;34m'%s'\u001b[0m\u001b[0;34m)\u001b[0m\u001b[0;34m\u001b[0m\u001b[0m\n",
      "\u001b[0;32m<ipython-input-88-a2241da9a644>\u001b[0m in \u001b[0;36m<listcomp>\u001b[0;34m(.0)\u001b[0m\n\u001b[1;32m     13\u001b[0m         \u001b[0mfs\u001b[0m\u001b[0;34m.\u001b[0m\u001b[0mappend\u001b[0m\u001b[0;34m(\u001b[0m\u001b[0mrow1\u001b[0m\u001b[0;34m[\u001b[0m\u001b[0;36m2\u001b[0m\u001b[0;34m]\u001b[0m\u001b[0;34m)\u001b[0m\u001b[0;34m\u001b[0m\u001b[0m\n\u001b[1;32m     14\u001b[0m         \u001b[0mprob\u001b[0m\u001b[0;34m.\u001b[0m\u001b[0mappend\u001b[0m\u001b[0;34m(\u001b[0m\u001b[0mmath\u001b[0m\u001b[0;34m.\u001b[0m\u001b[0mexp\u001b[0m\u001b[0;34m(\u001b[0m\u001b[0;34m-\u001b[0m\u001b[0mff\u001b[0m\u001b[0;34m.\u001b[0m\u001b[0mfun\u001b[0m\u001b[0;34m/\u001b[0m\u001b[0;36m2\u001b[0m\u001b[0;34m)\u001b[0m\u001b[0;34m)\u001b[0m\u001b[0;34m\u001b[0m\u001b[0m\n\u001b[0;32m---> 15\u001b[0;31m     \u001b[0mpaka\u001b[0m\u001b[0;34m=\u001b[0m\u001b[0;34m[\u001b[0m\u001b[0mi\u001b[0m\u001b[0;34m/\u001b[0m\u001b[0msum\u001b[0m\u001b[0;34m(\u001b[0m\u001b[0mprob\u001b[0m\u001b[0;34m)\u001b[0m \u001b[0;32mfor\u001b[0m \u001b[0mi\u001b[0m \u001b[0;32min\u001b[0m \u001b[0mprob\u001b[0m\u001b[0;34m]\u001b[0m\u001b[0;34m\u001b[0m\u001b[0m\n\u001b[0m\u001b[1;32m     16\u001b[0m     \u001b[0;31m#print ('saving the shit ...'+str(len(ll)-i)+'to go !' )\u001b[0m\u001b[0;34m\u001b[0m\u001b[0;34m\u001b[0m\u001b[0m\n\u001b[1;32m     17\u001b[0m     \u001b[0mnp\u001b[0m\u001b[0;34m.\u001b[0m\u001b[0msavetxt\u001b[0m\u001b[0;34m(\u001b[0m\u001b[0;34m'./probs_photo_new2/'\u001b[0m\u001b[0;34m+\u001b[0m\u001b[0mrow\u001b[0m\u001b[0;34m[\u001b[0m\u001b[0;36m0\u001b[0m\u001b[0;34m]\u001b[0m\u001b[0;34m,\u001b[0m\u001b[0mnp\u001b[0m\u001b[0;34m.\u001b[0m\u001b[0mc_\u001b[0m\u001b[0;34m[\u001b[0m\u001b[0mts\u001b[0m\u001b[0;34m,\u001b[0m\u001b[0mgs\u001b[0m\u001b[0;34m,\u001b[0m\u001b[0mfs\u001b[0m\u001b[0;34m,\u001b[0m\u001b[0mpaka\u001b[0m\u001b[0;34m]\u001b[0m\u001b[0;34m,\u001b[0m\u001b[0mfmt\u001b[0m\u001b[0;34m=\u001b[0m\u001b[0;34m'%s'\u001b[0m\u001b[0;34m)\u001b[0m\u001b[0;34m\u001b[0m\u001b[0m\n",
      "\u001b[0;31mZeroDivisionError\u001b[0m: float division by zero"
     ]
    }
   ],
   "source": [
    "for index, row in ll.iterrows():\n",
    "    chit,chig,chif,prob,ts,gs,fs,chi,paka=[],[],[],[],[],[],[],[1000,0,0],[]\n",
    "    for index1, row1 in model_flux.iterrows():\n",
    "        y=np.asarray([row1[i+2] for i in range(1,12) if not math.isnan(row[i])])\n",
    "        e=np.asarray([row[i+11] for i in range(1,12) if not math.isnan(row[i])])\n",
    "        m=np.asarray([row[i] for i in range(1,12) if not math.isnan(row[i])])\n",
    "        #print (len(m))\n",
    "        #print (chisq(y,e,m))\n",
    "        ff=differential_evolution(chisq,bounds=[(1e-23,1e-20)])\n",
    "        #print (ff.fun)\n",
    "        ts.append(row1[0])\n",
    "        gs.append(row1[1])\n",
    "        fs.append(row1[2])\n",
    "        prob.append(math.exp(-ff.fun/2))\n",
    "    paka=[i/sum(prob) for i in prob]    \n",
    "    #print ('saving the shit ...'+str(len(ll)-i)+'to go !' )\n",
    "    np.savetxt('./probs_photo_new2/'+row[0],np.c_[ts,gs,fs,paka],fmt='%s')\n",
    "#     if ff.fun < chi[0]:\n",
    "#         chi[0]=ff.x[0]\n",
    "#         chi[1]=m\n",
    "#         chi[2]=y\n",
    "#     print (chi,chi[0]*chi[2])\n",
    "#     xs=np.arange(len(chi[1]))\n",
    "#     plt.plot(xs,chi[0]*chi[2])\n",
    "#     plt.scatter(xs,chi[1],c='r')\n",
    "#     plt.show()"
   ]
  },
  {
   "cell_type": "code",
   "execution_count": 81,
   "metadata": {
    "collapsed": false
   },
   "outputs": [
    {
     "name": "stdout",
     "output_type": "stream",
     "text": [
      "minimizing the SHIIT  >>> V1172Aql\n",
      "2MASSJ014825.88+132305.3\n"
     ]
    },
    {
     "ename": "KeyboardInterrupt",
     "evalue": "",
     "output_type": "error",
     "traceback": [
      "\u001b[0;31m---------------------------------------------------------------------------\u001b[0m",
      "\u001b[0;31mKeyboardInterrupt\u001b[0m                         Traceback (most recent call last)",
      "\u001b[0;32m<ipython-input-81-67ac642a11cf>\u001b[0m in \u001b[0;36m<module>\u001b[0;34m()\u001b[0m\n\u001b[1;32m     14\u001b[0m                     \u001b[0mchi\u001b[0m\u001b[0;34m.\u001b[0m\u001b[0mappend\u001b[0m\u001b[0;34m(\u001b[0m\u001b[0mc\u001b[0m\u001b[0;34m)\u001b[0m\u001b[0;34m\u001b[0m\u001b[0m\n\u001b[1;32m     15\u001b[0m             \u001b[0;32mreturn\u001b[0m \u001b[0msum\u001b[0m\u001b[0;34m(\u001b[0m\u001b[0mchi\u001b[0m\u001b[0;34m)\u001b[0m\u001b[0;34m/\u001b[0m\u001b[0;36m9\u001b[0m\u001b[0;34m\u001b[0m\u001b[0m\n\u001b[0;32m---> 16\u001b[0;31m         \u001b[0mff\u001b[0m\u001b[0;34m=\u001b[0m\u001b[0mdifferential_evolution\u001b[0m\u001b[0;34m(\u001b[0m\u001b[0mf\u001b[0m\u001b[0;34m,\u001b[0m\u001b[0mbounds\u001b[0m\u001b[0;34m=\u001b[0m\u001b[0;34m[\u001b[0m\u001b[0;34m(\u001b[0m\u001b[0;36m0.\u001b[0m\u001b[0;34m,\u001b[0m\u001b[0;36m1e-20\u001b[0m\u001b[0;34m)\u001b[0m\u001b[0;34m]\u001b[0m\u001b[0;34m)\u001b[0m\u001b[0;34m\u001b[0m\u001b[0m\n\u001b[0m\u001b[1;32m     17\u001b[0m         \u001b[0;31m#print (ff.fun)\u001b[0m\u001b[0;34m\u001b[0m\u001b[0;34m\u001b[0m\u001b[0m\n\u001b[1;32m     18\u001b[0m         \u001b[0mchit\u001b[0m\u001b[0;34m.\u001b[0m\u001b[0mappend\u001b[0m\u001b[0;34m(\u001b[0m\u001b[0;34m(\u001b[0m\u001b[0mmath\u001b[0m\u001b[0;34m.\u001b[0m\u001b[0mexp\u001b[0m\u001b[0;34m(\u001b[0m\u001b[0;34m-\u001b[0m\u001b[0mff\u001b[0m\u001b[0;34m.\u001b[0m\u001b[0mfun\u001b[0m\u001b[0;34m/\u001b[0m\u001b[0;36m2\u001b[0m\u001b[0;34m)\u001b[0m\u001b[0;34m)\u001b[0m\u001b[0;34m*\u001b[0m\u001b[0mrow1\u001b[0m\u001b[0;34m[\u001b[0m\u001b[0;36m0\u001b[0m\u001b[0;34m]\u001b[0m\u001b[0;34m)\u001b[0m\u001b[0;34m\u001b[0m\u001b[0m\n",
      "\u001b[0;32m/Library/Frameworks/Python.framework/Versions/3.5/lib/python3.5/site-packages/scipy/optimize/_differentialevolution.py\u001b[0m in \u001b[0;36mdifferential_evolution\u001b[0;34m(func, bounds, args, strategy, maxiter, popsize, tol, mutation, recombination, seed, callback, disp, polish, init)\u001b[0m\n\u001b[1;32m    204\u001b[0m                                          \u001b[0mdisp\u001b[0m\u001b[0;34m=\u001b[0m\u001b[0mdisp\u001b[0m\u001b[0;34m,\u001b[0m\u001b[0;34m\u001b[0m\u001b[0m\n\u001b[1;32m    205\u001b[0m                                          init=init)\n\u001b[0;32m--> 206\u001b[0;31m     \u001b[0;32mreturn\u001b[0m \u001b[0msolver\u001b[0m\u001b[0;34m.\u001b[0m\u001b[0msolve\u001b[0m\u001b[0;34m(\u001b[0m\u001b[0;34m)\u001b[0m\u001b[0;34m\u001b[0m\u001b[0m\n\u001b[0m\u001b[1;32m    207\u001b[0m \u001b[0;34m\u001b[0m\u001b[0m\n\u001b[1;32m    208\u001b[0m \u001b[0;34m\u001b[0m\u001b[0m\n",
      "\u001b[0;32m/Library/Frameworks/Python.framework/Versions/3.5/lib/python3.5/site-packages/scipy/optimize/_differentialevolution.py\u001b[0m in \u001b[0;36msolve\u001b[0;34m(self)\u001b[0m\n\u001b[1;32m    509\u001b[0m \u001b[0;34m\u001b[0m\u001b[0m\n\u001b[1;32m    510\u001b[0m                 \u001b[0;31m# create a trial solution\u001b[0m\u001b[0;34m\u001b[0m\u001b[0;34m\u001b[0m\u001b[0m\n\u001b[0;32m--> 511\u001b[0;31m                 \u001b[0mtrial\u001b[0m \u001b[0;34m=\u001b[0m \u001b[0mself\u001b[0m\u001b[0;34m.\u001b[0m\u001b[0m_mutate\u001b[0m\u001b[0;34m(\u001b[0m\u001b[0mcandidate\u001b[0m\u001b[0;34m)\u001b[0m\u001b[0;34m\u001b[0m\u001b[0m\n\u001b[0m\u001b[1;32m    512\u001b[0m \u001b[0;34m\u001b[0m\u001b[0m\n\u001b[1;32m    513\u001b[0m                 \u001b[0;31m# ensuring that it's in the range [0, 1)\u001b[0m\u001b[0;34m\u001b[0m\u001b[0;34m\u001b[0m\u001b[0m\n",
      "\u001b[0;32m/Library/Frameworks/Python.framework/Versions/3.5/lib/python3.5/site-packages/scipy/optimize/_differentialevolution.py\u001b[0m in \u001b[0;36m_mutate\u001b[0;34m(self, candidate)\u001b[0m\n\u001b[1;32m    612\u001b[0m         \u001b[0mcreate\u001b[0m \u001b[0ma\u001b[0m \u001b[0mtrial\u001b[0m \u001b[0mvector\u001b[0m \u001b[0mbased\u001b[0m \u001b[0mon\u001b[0m \u001b[0ma\u001b[0m \u001b[0mmutation\u001b[0m \u001b[0mstrategy\u001b[0m\u001b[0;34m\u001b[0m\u001b[0m\n\u001b[1;32m    613\u001b[0m         \"\"\"\n\u001b[0;32m--> 614\u001b[0;31m         \u001b[0mtrial\u001b[0m \u001b[0;34m=\u001b[0m \u001b[0mnp\u001b[0m\u001b[0;34m.\u001b[0m\u001b[0mcopy\u001b[0m\u001b[0;34m(\u001b[0m\u001b[0mself\u001b[0m\u001b[0;34m.\u001b[0m\u001b[0mpopulation\u001b[0m\u001b[0;34m[\u001b[0m\u001b[0mcandidate\u001b[0m\u001b[0;34m]\u001b[0m\u001b[0;34m)\u001b[0m\u001b[0;34m\u001b[0m\u001b[0m\n\u001b[0m\u001b[1;32m    615\u001b[0m \u001b[0;34m\u001b[0m\u001b[0m\n\u001b[1;32m    616\u001b[0m         \u001b[0mrng\u001b[0m \u001b[0;34m=\u001b[0m \u001b[0mself\u001b[0m\u001b[0;34m.\u001b[0m\u001b[0mrandom_number_generator\u001b[0m\u001b[0;34m\u001b[0m\u001b[0m\n",
      "\u001b[0;31mKeyboardInterrupt\u001b[0m: "
     ]
    }
   ],
   "source": [
    "paras=[]\n",
    "\n",
    "for index, row in ll.iterrows():\n",
    "    chit,chig,chif,prob,ts,gs,fs,paka=[],[],[],[],[],[],[],[]\n",
    "    #clear_output(wait=True)    \n",
    "    print ('minimizing the SHIIT  >>> '+str(i))\n",
    "    print (row[0])\n",
    "    for index1, row1 in model_flux.iterrows():\n",
    "        def f(x):\n",
    "            chi=[]\n",
    "            for i in range(1,12):\n",
    "                if not math.isnan(row[i]):\n",
    "                    c=(row[i] - (x[0]* row1[i+2] ))**2/(row[i+11])**2\n",
    "                    chi.append(c)\n",
    "            return sum(chi)/9\n",
    "        ff=differential_evolution(f,bounds=[(0.,1e-20)])\n",
    "        #print (ff.fun)\n",
    "        chit.append((math.exp(-ff.fun/2))*row1[0])\n",
    "        chig.append((math.exp(-ff.fun/2))*row1[1])\n",
    "        chif.append((math.exp(-ff.fun/2))*row1[2])\n",
    "        prob.append(math.exp(-ff.fun/2))\n",
    "        ts.append(row1[0])\n",
    "        gs.append(row1[1])\n",
    "        fs.append(row1[2])\n",
    "    paka=[i/sum(prob) for i in prob]    \n",
    "    print ('saving the shit ...'+str(len(obsf)-i)+'to go !' )\n",
    "    np.savetxt('./probs_photo_new2/'+row[0],np.c_[ts,gs,fs,paka],fmt='%s')\n",
    "    teff=sum(chit)/sum(prob)\n",
    "    logg=sum(chig)/sum(prob)\n",
    "    feh=sum(chif)/sum(prob)\n",
    "    ert=math.sqrt(sum([a*b for a,b in zip([(i-teff)**2 for i in ts],prob)])/sum(prob))\n",
    "    erg=math.sqrt(sum([a*b for a,b in zip([(i-logg)**2 for i in gs],prob)])/sum(prob))\n",
    "    erf=math.sqrt(sum([a*b for a,b in zip([(i-feh)**2 for i in fs],prob)])/sum(prob))\n",
    "    print (row[0],teff,ert,logg,erg,feh,erf)\n",
    "    paras.append((row[0],teff,ert,logg,erg,feh,erf))\n",
    "\n",
    "np.savetxt('hvc_paras_new_photo.dat',paras,fmt='%s')"
   ]
  },
  {
   "cell_type": "code",
   "execution_count": 79,
   "metadata": {
    "collapsed": true
   },
   "outputs": [],
   "source": [
    "from IPython.display import clear_output"
   ]
  },
  {
   "cell_type": "code",
   "execution_count": null,
   "metadata": {
    "collapsed": true
   },
   "outputs": [],
   "source": [
    "from sklearn.preprocessing import normalize"
   ]
  },
  {
   "cell_type": "code",
   "execution_count": null,
   "metadata": {
    "collapsed": true
   },
   "outputs": [],
   "source": [
    "from sklearn.preprocessing import Normalizer"
   ]
  },
  {
   "cell_type": "code",
   "execution_count": 83,
   "metadata": {
    "collapsed": true
   },
   "outputs": [],
   "source": [
    "import time\n",
    "#start_time = time.time()\n",
    "#main()\n",
    "#print(\"--- %s seconds ---\" % (time.time() - start_time))"
   ]
  },
  {
   "cell_type": "code",
   "execution_count": 85,
   "metadata": {
    "collapsed": false
   },
   "outputs": [
    {
     "name": "stdout",
     "output_type": "stream",
     "text": [
      "minimizing the SHIIT  >>> 0\n"
     ]
    },
    {
     "ename": "KeyboardInterrupt",
     "evalue": "",
     "output_type": "error",
     "traceback": [
      "\u001b[0;31m---------------------------------------------------------------------------\u001b[0m",
      "\u001b[0;31mKeyboardInterrupt\u001b[0m                         Traceback (most recent call last)",
      "\u001b[0;32m<ipython-input-85-ec59dce2fe7b>\u001b[0m in \u001b[0;36m<module>\u001b[0;34m()\u001b[0m\n\u001b[1;32m     53\u001b[0m \u001b[0;34m\u001b[0m\u001b[0m\n\u001b[1;32m     54\u001b[0m             \u001b[0;32mreturn\u001b[0m \u001b[0;34m(\u001b[0m\u001b[0mc1\u001b[0m\u001b[0;34m+\u001b[0m\u001b[0mc2\u001b[0m\u001b[0;34m+\u001b[0m\u001b[0mc3\u001b[0m\u001b[0;34m+\u001b[0m\u001b[0mc4\u001b[0m\u001b[0;34m+\u001b[0m\u001b[0mc5\u001b[0m\u001b[0;34m+\u001b[0m\u001b[0mc6\u001b[0m\u001b[0;34m+\u001b[0m\u001b[0mc7\u001b[0m\u001b[0;34m+\u001b[0m\u001b[0mc8\u001b[0m\u001b[0;34m+\u001b[0m\u001b[0mc9\u001b[0m\u001b[0;34m+\u001b[0m\u001b[0mc10\u001b[0m\u001b[0;34m+\u001b[0m\u001b[0mc11\u001b[0m\u001b[0;34m)\u001b[0m\u001b[0;34m/\u001b[0m\u001b[0;36m9\u001b[0m\u001b[0;34m\u001b[0m\u001b[0m\n\u001b[0;32m---> 55\u001b[0;31m         \u001b[0mff\u001b[0m\u001b[0;34m=\u001b[0m\u001b[0mdifferential_evolution\u001b[0m\u001b[0;34m(\u001b[0m\u001b[0mf\u001b[0m\u001b[0;34m,\u001b[0m\u001b[0mbounds\u001b[0m\u001b[0;34m=\u001b[0m\u001b[0;34m[\u001b[0m\u001b[0;34m(\u001b[0m\u001b[0;36m0.\u001b[0m\u001b[0;34m,\u001b[0m\u001b[0;36m1e-20\u001b[0m\u001b[0;34m)\u001b[0m\u001b[0;34m]\u001b[0m\u001b[0;34m)\u001b[0m\u001b[0;34m\u001b[0m\u001b[0m\n\u001b[0m\u001b[1;32m     56\u001b[0m         \u001b[0;31m#print (math.exp(ff.x[0]))\u001b[0m\u001b[0;34m\u001b[0m\u001b[0;34m\u001b[0m\u001b[0m\n\u001b[1;32m     57\u001b[0m         \u001b[0;31m#chit.append((math.exp(-ff.fun/2))*mods[j][0])\u001b[0m\u001b[0;34m\u001b[0m\u001b[0;34m\u001b[0m\u001b[0m\n",
      "\u001b[0;32m/Library/Frameworks/Python.framework/Versions/3.5/lib/python3.5/site-packages/scipy/optimize/_differentialevolution.py\u001b[0m in \u001b[0;36mdifferential_evolution\u001b[0;34m(func, bounds, args, strategy, maxiter, popsize, tol, mutation, recombination, seed, callback, disp, polish, init)\u001b[0m\n\u001b[1;32m    204\u001b[0m                                          \u001b[0mdisp\u001b[0m\u001b[0;34m=\u001b[0m\u001b[0mdisp\u001b[0m\u001b[0;34m,\u001b[0m\u001b[0;34m\u001b[0m\u001b[0m\n\u001b[1;32m    205\u001b[0m                                          init=init)\n\u001b[0;32m--> 206\u001b[0;31m     \u001b[0;32mreturn\u001b[0m \u001b[0msolver\u001b[0m\u001b[0;34m.\u001b[0m\u001b[0msolve\u001b[0m\u001b[0;34m(\u001b[0m\u001b[0;34m)\u001b[0m\u001b[0;34m\u001b[0m\u001b[0m\n\u001b[0m\u001b[1;32m    207\u001b[0m \u001b[0;34m\u001b[0m\u001b[0m\n\u001b[1;32m    208\u001b[0m \u001b[0;34m\u001b[0m\u001b[0m\n",
      "\u001b[0;32m/Library/Frameworks/Python.framework/Versions/3.5/lib/python3.5/site-packages/scipy/optimize/_differentialevolution.py\u001b[0m in \u001b[0;36msolve\u001b[0;34m(self)\u001b[0m\n\u001b[1;32m    509\u001b[0m \u001b[0;34m\u001b[0m\u001b[0m\n\u001b[1;32m    510\u001b[0m                 \u001b[0;31m# create a trial solution\u001b[0m\u001b[0;34m\u001b[0m\u001b[0;34m\u001b[0m\u001b[0m\n\u001b[0;32m--> 511\u001b[0;31m                 \u001b[0mtrial\u001b[0m \u001b[0;34m=\u001b[0m \u001b[0mself\u001b[0m\u001b[0;34m.\u001b[0m\u001b[0m_mutate\u001b[0m\u001b[0;34m(\u001b[0m\u001b[0mcandidate\u001b[0m\u001b[0;34m)\u001b[0m\u001b[0;34m\u001b[0m\u001b[0m\n\u001b[0m\u001b[1;32m    512\u001b[0m \u001b[0;34m\u001b[0m\u001b[0m\n\u001b[1;32m    513\u001b[0m                 \u001b[0;31m# ensuring that it's in the range [0, 1)\u001b[0m\u001b[0;34m\u001b[0m\u001b[0;34m\u001b[0m\u001b[0m\n",
      "\u001b[0;32m/Library/Frameworks/Python.framework/Versions/3.5/lib/python3.5/site-packages/scipy/optimize/_differentialevolution.py\u001b[0m in \u001b[0;36m_mutate\u001b[0;34m(self, candidate)\u001b[0m\n\u001b[1;32m    612\u001b[0m         \u001b[0mcreate\u001b[0m \u001b[0ma\u001b[0m \u001b[0mtrial\u001b[0m \u001b[0mvector\u001b[0m \u001b[0mbased\u001b[0m \u001b[0mon\u001b[0m \u001b[0ma\u001b[0m \u001b[0mmutation\u001b[0m \u001b[0mstrategy\u001b[0m\u001b[0;34m\u001b[0m\u001b[0m\n\u001b[1;32m    613\u001b[0m         \"\"\"\n\u001b[0;32m--> 614\u001b[0;31m         \u001b[0mtrial\u001b[0m \u001b[0;34m=\u001b[0m \u001b[0mnp\u001b[0m\u001b[0;34m.\u001b[0m\u001b[0mcopy\u001b[0m\u001b[0;34m(\u001b[0m\u001b[0mself\u001b[0m\u001b[0;34m.\u001b[0m\u001b[0mpopulation\u001b[0m\u001b[0;34m[\u001b[0m\u001b[0mcandidate\u001b[0m\u001b[0;34m]\u001b[0m\u001b[0;34m)\u001b[0m\u001b[0;34m\u001b[0m\u001b[0m\n\u001b[0m\u001b[1;32m    615\u001b[0m \u001b[0;34m\u001b[0m\u001b[0m\n\u001b[1;32m    616\u001b[0m         \u001b[0mrng\u001b[0m \u001b[0;34m=\u001b[0m \u001b[0mself\u001b[0m\u001b[0;34m.\u001b[0m\u001b[0mrandom_number_generator\u001b[0m\u001b[0;34m\u001b[0m\u001b[0m\n",
      "\u001b[0;32m/Library/Frameworks/Python.framework/Versions/3.5/lib/python3.5/site-packages/numpy/lib/function_base.py\u001b[0m in \u001b[0;36mcopy\u001b[0;34m(a, order)\u001b[0m\n\u001b[1;32m    936\u001b[0m \u001b[0;34m\u001b[0m\u001b[0m\n\u001b[1;32m    937\u001b[0m     \"\"\"\n\u001b[0;32m--> 938\u001b[0;31m     \u001b[0;32mreturn\u001b[0m \u001b[0marray\u001b[0m\u001b[0;34m(\u001b[0m\u001b[0ma\u001b[0m\u001b[0;34m,\u001b[0m \u001b[0morder\u001b[0m\u001b[0;34m=\u001b[0m\u001b[0morder\u001b[0m\u001b[0;34m,\u001b[0m \u001b[0mcopy\u001b[0m\u001b[0;34m=\u001b[0m\u001b[0;32mTrue\u001b[0m\u001b[0;34m)\u001b[0m\u001b[0;34m\u001b[0m\u001b[0m\n\u001b[0m\u001b[1;32m    939\u001b[0m \u001b[0;34m\u001b[0m\u001b[0m\n\u001b[1;32m    940\u001b[0m \u001b[0;31m# Basic operations\u001b[0m\u001b[0;34m\u001b[0m\u001b[0;34m\u001b[0m\u001b[0m\n",
      "\u001b[0;31mKeyboardInterrupt\u001b[0m: "
     ]
    }
   ],
   "source": [
    "start_time = time.time()\n",
    "paras=[]\n",
    "for i in range(len(ob)):\n",
    "    #clear_output(wait=True)    \n",
    "    chit,chig,chif,prob,ts,gs,fs=[],[],[],[],[],[],[]\n",
    "    print ('minimizing the SHIIT  >>> '+str(i))       \n",
    "    for j in range(len(mods)):\n",
    "        def f(x):\n",
    "            if ob[i][1] >0.:\n",
    "                c1=(ob[i][1] - (x[0]* mods[j][3] ))**2/(ob[i][12])**2\n",
    "            if ob[i][1] == 0.:\n",
    "                c1=0\n",
    "            if ob[i][2] >0.:\n",
    "                c2=(ob[i][2] - (x[0]* mods[j][4] ))**2/(ob[i][13])**2\n",
    "            if ob[i][2] == 0.:\n",
    "                c2=0\n",
    "            if ob[i][3] >0.:\n",
    "                c3=(ob[i][3] - (x[0]* mods[j][5] ))**2/(ob[i][14])**2\n",
    "            if ob[i][3] == 0.:\n",
    "                c3=0\n",
    "            if ob[i][4] >0.:\n",
    "                c4=(ob[i][4] - (x[0]* mods[j][6] ))**2/(ob[i][15])**2\n",
    "            if ob[i][4] == 0.:\n",
    "                c4=0\n",
    "            if ob[i][5] >0.:\n",
    "                c5=(ob[i][5] - (x[0]* mods[j][7] ))**2/(ob[i][16])**2\n",
    "            if ob[i][5] == 0.:\n",
    "                c5=0\n",
    "            if ob[i][6] >0.:\n",
    "                c6=(ob[i][6] - (x[0]* mods[j][8] ))**2/(ob[i][17])**2\n",
    "            if ob[i][6] == 0.:\n",
    "                c6=0\n",
    "            if ob[i][7] >0.:\n",
    "                c7=(ob[i][7] - (x[0]* mods[j][9] ))**2/(ob[i][18])**2\n",
    "            if ob[i][7] == 0.:\n",
    "                c7=0\n",
    "            if ob[i][8] >0.:\n",
    "                c8=(ob[i][8] - (x[0]* mods[j][10] ))**2/(ob[i][19])**2\n",
    "            if ob[i][8] == 0.:\n",
    "                c8=0\n",
    "            if ob[i][9] >0.:\n",
    "                c9=(ob[i][9] - (x[0]* mods[j][11] ))**2/(ob[i][20])**2\n",
    "            if ob[i][9] == 0.:\n",
    "                c9=0\n",
    "            if ob[i][10] >0.:\n",
    "                c10=(ob[i][10] - (x[0]* mods[j][12] ))**2/(ob[i][21])**2\n",
    "            if ob[i][10] == 0.:\n",
    "                c10=0\n",
    "            if ob[i][11] >0.:\n",
    "                c11=(ob[i][11] - (x[0]* mods[j][13] ))**2/(ob[i][22])**2\n",
    "            if ob[i][11] == 0.:\n",
    "                c11=0\n",
    "\n",
    "            return (c1+c2+c3+c4+c5+c6+c7+c8+c9+c10+c11)/9\n",
    "        ff=differential_evolution(f,bounds=[(0.,1e-20)])\n",
    "        #print (math.exp(ff.x[0]))\n",
    "        #chit.append((math.exp(-ff.fun/2))*mods[j][0])\n",
    "        #chig.append((math.exp(-ff.fun/2))*mods[j][1])\n",
    "        #chif.append((math.exp(-ff.fun/2))*mods[j][2])\n",
    "        prob.append(np.exp(-ff.fun/2))\n",
    "        ts.append(mods[j][0])\n",
    "        gs.append(mods[j][1])\n",
    "        fs.append(mods[j][2])\n",
    "    paka=[i/sum(prob) for i in prob]    \n",
    "    print ('saving the shit ...'+str(len(obsf)-i)+'to go !' )\n",
    "    #np.savetxt('./probs_photo_new2/'+ob[i][0]+'.dat',np.c_[ts,gs,fs,paka],fmt='%s')\n",
    "print(\"--- %s seconds ---\" % (time.time() - start_time))\n",
    "#     teff=sum(chit)/sum(prob)\n",
    "    #     logg=sum(chig)/sum(prob)\n",
    "    #     feh=sum(chif)/sum(prob)\n",
    "    #     ert=math.sqrt(sum([a*b for a,b in zip([(i-teff)**2 for i in ts],prob)])/sum(prob))\n",
    "    #     erg=math.sqrt(sum([a*b for a,b in zip([(i-logg)**2 for i in gs],prob)])/sum(prob))\n",
    "    #     erf=math.sqrt(sum([a*b for a,b in zip([(i-feh)**2 for i in fs],prob)])/sum(prob))\n",
    "    #paras.append((ob[i][0],teff,ert,logg,erg,feh,erf))\n",
    "    #print (paras)\n",
    "#np.savetxt('hvc_paras.dat',paras,fmt='%s')\n"
   ]
  },
  {
   "cell_type": "code",
   "execution_count": null,
   "metadata": {
    "collapsed": false
   },
   "outputs": [],
   "source": [
    "sum([i/sum(prob) for i in prob])"
   ]
  },
  {
   "cell_type": "code",
   "execution_count": null,
   "metadata": {
    "collapsed": false
   },
   "outputs": [],
   "source": [
    "pd.read_csv('probs_photo/2MASSJ014248.77+143016.4.dat',header=None,sep=' ')[3].sum()"
   ]
  },
  {
   "cell_type": "code",
   "execution_count": null,
   "metadata": {
    "collapsed": false
   },
   "outputs": [],
   "source": [
    "max(norm_p.norm)"
   ]
  },
  {
   "cell_type": "code",
   "execution_count": null,
   "metadata": {
    "collapsed": false
   },
   "outputs": [],
   "source": [
    "np.savetxt('hvc_paras.dat',paras,fmt='%s')"
   ]
  },
  {
   "cell_type": "code",
   "execution_count": null,
   "metadata": {
    "collapsed": true
   },
   "outputs": [],
   "source": [
    "modls=model_flux.loc[1:300]"
   ]
  },
  {
   "cell_type": "code",
   "execution_count": null,
   "metadata": {
    "collapsed": false
   },
   "outputs": [],
   "source": [
    "model_flux.head(2)"
   ]
  },
  {
   "cell_type": "code",
   "execution_count": null,
   "metadata": {
    "collapsed": false
   },
   "outputs": [],
   "source": [
    "obsf.head(2)"
   ]
  },
  {
   "cell_type": "code",
   "execution_count": null,
   "metadata": {
    "collapsed": false,
    "scrolled": true
   },
   "outputs": [],
   "source": [
    "obsfl"
   ]
  },
  {
   "cell_type": "code",
   "execution_count": null,
   "metadata": {
    "collapsed": false
   },
   "outputs": [],
   "source": [
    "obsfl.replace(0.,np.NAN,inplace=True)"
   ]
  },
  {
   "cell_type": "code",
   "execution_count": null,
   "metadata": {
    "collapsed": false
   },
   "outputs": [],
   "source": [
    "for i in range(1,12,1):\n",
    "    print (i)"
   ]
  },
  {
   "cell_type": "code",
   "execution_count": null,
   "metadata": {
    "collapsed": false
   },
   "outputs": [],
   "source": [
    "paras=[]\n",
    "\n",
    "for index, row in obsfl.iterrows():\n",
    "    chit,chig,chif,prob,ts,gs,fs=[],[],[],[],[],[],[]\n",
    "    for index1, row1 in modls.iterrows():\n",
    "        def f(x):\n",
    "            chi=[]\n",
    "            for i in range(1,12):\n",
    "                if math.isnan(row[i])==False:\n",
    "                    c=(row[i] - (x[0]* row1[i+2] ))**2/(row[i+11])**2\n",
    "                    chi.append(c)\n",
    "            return sum(chi)/9\n",
    "        ff=differential_evolution(f,bounds=[(0.,1e-20)])\n",
    "        #print (ff.fun)\n",
    "        chit.append((math.exp(-ff.fun/2))*row1[0])\n",
    "        chig.append((math.exp(-ff.fun/2))*row1[1])\n",
    "        chif.append((math.exp(-ff.fun/2))*row1[2])\n",
    "        prob.append(math.exp(-ff.fun/2))\n",
    "        ts.append(row1[0])\n",
    "        gs.append(row1[1])\n",
    "        fs.append(row1[2])\n",
    "\n",
    "    teff=sum(chit)/sum(prob)\n",
    "    logg=sum(chig)/sum(prob)\n",
    "    feh=sum(chif)/sum(prob)\n",
    "    ert=math.sqrt(sum([a*b for a,b in zip([(i-teff)**2 for i in ts],prob)])/sum(prob))\n",
    "    erg=math.sqrt(sum([a*b for a,b in zip([(i-logg)**2 for i in gs],prob)])/sum(prob))\n",
    "    erf=math.sqrt(sum([a*b for a,b in zip([(i-feh)**2 for i in fs],prob)])/sum(prob))\n",
    "    print (row[0],teff,ert,logg,erg,feh,erf)\n",
    "    paras.append((row[0],teff,ert,logg,erg,feh,erf))\n",
    "\n",
    "np.savetxt('hvc_paras.dat',paras,fmt='%s')"
   ]
  },
  {
   "cell_type": "code",
   "execution_count": null,
   "metadata": {
    "collapsed": false
   },
   "outputs": [],
   "source": [
    "row1[i+2],i,row1[13]"
   ]
  },
  {
   "cell_type": "code",
   "execution_count": null,
   "metadata": {
    "collapsed": false,
    "scrolled": true
   },
   "outputs": [],
   "source": [
    "for index, row in obsfl.iterrows():\n",
    "    chit,chig,chif,prob,ts,gs,fs=[],[],[],[],[],[],[]\n",
    "    for index1, row1 in model_flux.iterrows():\n",
    "        print (row[1],row1[1])"
   ]
  },
  {
   "cell_type": "code",
   "execution_count": null,
   "metadata": {
    "collapsed": true
   },
   "outputs": [],
   "source": [
    "for index, row in obsfl.iterrows():\n",
    "    for index1, row1 in model_flux.iterrows():\n",
    "        for i in range(1,12):\n",
    "            chi=[]\n",
    "            if math.isnan(row[1])==False:\n",
    "                c=(row[i] - (1* row1[i+2] ))**2/(row[i+11])**2\n",
    "                chi.append(c)\n",
    "            print (sum(chi))"
   ]
  },
  {
   "cell_type": "code",
   "execution_count": null,
   "metadata": {
    "collapsed": false
   },
   "outputs": [],
   "source": [
    "modls"
   ]
  },
  {
   "cell_type": "code",
   "execution_count": null,
   "metadata": {
    "collapsed": true
   },
   "outputs": [],
   "source": []
  }
 ],
 "metadata": {
  "kernelspec": {
   "display_name": "Python 3",
   "language": "python",
   "name": "python3"
  },
  "language_info": {
   "codemirror_mode": {
    "name": "ipython",
    "version": 3
   },
   "file_extension": ".py",
   "mimetype": "text/x-python",
   "name": "python",
   "nbconvert_exporter": "python",
   "pygments_lexer": "ipython3",
   "version": "3.5.1"
  }
 },
 "nbformat": 4,
 "nbformat_minor": 0
}
